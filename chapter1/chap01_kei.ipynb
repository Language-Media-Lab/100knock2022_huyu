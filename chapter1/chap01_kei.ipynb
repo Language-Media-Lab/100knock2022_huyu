{
  "cells": [
    {
      "cell_type": "markdown",
      "metadata": {
        "id": "t4aGSkLHKrPB"
      },
      "source": [
        "#### Chapter 1: Python"
      ]
    },
    {
      "cell_type": "markdown",
      "metadata": {
        "id": "TPI75iLNKrPG"
      },
      "source": [
        "00"
      ]
    },
    {
      "cell_type": "code",
      "execution_count": null,
      "metadata": {
        "id": "lqtIbnHQKrPL",
        "outputId": "c2bb7001-9880-4afd-80fa-6a2b50987295"
      },
      "outputs": [
        {
          "data": {
            "text/plain": [
              "'desserts'"
            ]
          },
          "execution_count": 16,
          "metadata": {},
          "output_type": "execute_result"
        }
      ],
      "source": [
        "s = \"stressed\"\n",
        "buf = \"\"\n",
        "slen = len(s)\n",
        "for i in range(slen):\n",
        "    buf += s[slen-1-i]\n",
        "buf"
      ]
    },
    {
      "cell_type": "code",
      "execution_count": null,
      "metadata": {
        "id": "z6GcgtAJKrPP",
        "outputId": "7907e1f8-7942-4f0b-f4ee-2d9cbb0994e6"
      },
      "outputs": [
        {
          "data": {
            "text/plain": [
              "'desserts'"
            ]
          },
          "execution_count": 15,
          "metadata": {},
          "output_type": "execute_result"
        }
      ],
      "source": [
        "#smarter way\n",
        "\"stressed\"[::-1]"
      ]
    },
    {
      "cell_type": "markdown",
      "metadata": {
        "id": "InbySc9_KrPS"
      },
      "source": [
        "01"
      ]
    },
    {
      "cell_type": "code",
      "execution_count": null,
      "metadata": {
        "id": "19mHR3VLKrPU",
        "outputId": "ebde8e31-e82c-4b58-ce9f-a2a28ca356be"
      },
      "outputs": [
        {
          "data": {
            "text/plain": [
              "'パトカー'"
            ]
          },
          "execution_count": 17,
          "metadata": {},
          "output_type": "execute_result"
        }
      ],
      "source": [
        "st = \"パタトクカシーー\"\n",
        "invst = \"\"\n",
        "n = 0\n",
        "for i in range(4):\n",
        "    invst += st[n]\n",
        "    n = n+2\n",
        "\n",
        "invst"
      ]
    },
    {
      "cell_type": "code",
      "execution_count": null,
      "metadata": {
        "id": "-PFKWNogKrPW",
        "outputId": "9fa7eeb3-6598-4efe-fc63-269c86d58b66"
      },
      "outputs": [
        {
          "data": {
            "text/plain": [
              "'パトカー'"
            ]
          },
          "execution_count": 18,
          "metadata": {},
          "output_type": "execute_result"
        }
      ],
      "source": [
        "#smarter way\n",
        "\"パタトクカシーー\"[::2]"
      ]
    },
    {
      "cell_type": "markdown",
      "metadata": {
        "id": "0AyzZSqVKrPY"
      },
      "source": [
        "02"
      ]
    },
    {
      "cell_type": "code",
      "execution_count": null,
      "metadata": {
        "id": "5Q0T-96GKrPb",
        "outputId": "23b2dfe8-b23a-4ea8-e48c-ed26efb4eaa5"
      },
      "outputs": [
        {
          "data": {
            "text/plain": [
              "'パタトクカシーー'"
            ]
          },
          "execution_count": 20,
          "metadata": {},
          "output_type": "execute_result"
        }
      ],
      "source": [
        "a=\"パトカー\"\n",
        "b=\"タクシー\"\n",
        "c=\"\"\n",
        "for i in range(4):\n",
        "    c += a[i]\n",
        "    c += b[i]\n",
        "\n",
        "c"
      ]
    },
    {
      "cell_type": "code",
      "execution_count": 4,
      "metadata": {
        "id": "KEfS64BhKrPe",
        "outputId": "83263ff3-2fc4-4ab5-bbce-30fb923e3857",
        "colab": {
          "base_uri": "https://localhost:8080/",
          "height": 35
        }
      },
      "outputs": [
        {
          "output_type": "execute_result",
          "data": {
            "text/plain": [
              "'パタトクカシ'"
            ],
            "application/vnd.google.colaboratory.intrinsic+json": {
              "type": "string"
            }
          },
          "metadata": {},
          "execution_count": 4
        }
      ],
      "source": [
        "a = \"パトカー\"\n",
        "b = \"タクシ\"\n",
        "c = \"\"\n",
        "for i, j in zip(a, b):\n",
        "    c += \"\".join([i,j])\n",
        "\n",
        "c"
      ]
    },
    {
      "cell_type": "markdown",
      "metadata": {
        "id": "wMl28QyGKrPg"
      },
      "source": [
        "03 "
      ]
    },
    {
      "cell_type": "code",
      "execution_count": null,
      "metadata": {
        "id": "lzO0tNcyKrPi",
        "outputId": "5a224ac0-d2dc-4a46-8693-6b39dd7c0808"
      },
      "outputs": [
        {
          "name": "stdout",
          "output_type": "stream",
          "text": [
            "range(0, 94)\n"
          ]
        },
        {
          "data": {
            "text/plain": [
              "[3, 1, 4, 1, 5, 9, 2, 6, 5, 3, 5, 8, 9, 7, 9]"
            ]
          },
          "execution_count": 32,
          "metadata": {},
          "output_type": "execute_result"
        }
      ],
      "source": [
        "sen = \"Now I need a drink, alcoholic of course, after the heavy lectures involving quantum mechanics.\"\n",
        "n = []                  #list to add word length\n",
        "words = sen.split(\" \")   #split sentence into words\n",
        "for word in words:\n",
        "    i = i.rstrip(\",\")   #remove ,\n",
        "    i = i.strip(\".\")    #remove .\n",
        "    n.append(len(i))    #add word length to list\n",
        "\n",
        "n"
      ]
    },
    {
      "cell_type": "markdown",
      "metadata": {
        "id": "u7kSJiLwKrPk"
      },
      "source": [
        "04"
      ]
    },
    {
      "cell_type": "code",
      "execution_count": null,
      "metadata": {
        "id": "GyxmrsylKrPl",
        "outputId": "f6e1e82f-52eb-4d6a-a7c9-7cc096a1acc4"
      },
      "outputs": [
        {
          "data": {
            "text/plain": [
              "{'H': 1,\n",
              " 'He': 2,\n",
              " 'Li': 3,\n",
              " 'Be': 4,\n",
              " 'B': 5,\n",
              " 'C': 6,\n",
              " 'N': 7,\n",
              " 'O': 8,\n",
              " 'F': 9,\n",
              " 'Ne': 10,\n",
              " 'Na': 11,\n",
              " 'Mi': 12,\n",
              " 'Al': 13,\n",
              " 'Si': 14,\n",
              " 'P': 15,\n",
              " 'S': 16,\n",
              " 'Cl': 17,\n",
              " 'Ar': 18,\n",
              " 'K': 19,\n",
              " 'Ca': 20}"
            ]
          },
          "execution_count": 33,
          "metadata": {},
          "output_type": "execute_result"
        }
      ],
      "source": [
        "sen = \"Hi He Lied Because Boron Could Not Oxidize Fluorine. New Nations Might Also Sign Peace Security Clause. Arthur King Can.\"\n",
        "\n",
        "word = sen.split(\" \")\n",
        "lis = [1,5,6,7,8,9,15,16,19]    #indexes to extract first letter(1:Hi, 5:Boron)\n",
        "dic={}\n",
        "\n",
        "for i in range(len(word)):\n",
        "    word[i] = word[i].strip(\".\")\n",
        "    if i+1 in lis:\n",
        "        dic[word[i][:1]] = i+1\n",
        "    else:\n",
        "        dic[word[i][:2]] = i+1\n",
        "\n",
        "dic"
      ]
    },
    {
      "cell_type": "code",
      "execution_count": null,
      "metadata": {
        "id": "Wae7PO2EKrPn",
        "outputId": "e254d662-2201-445d-877f-2589dd8a8b67"
      },
      "outputs": [
        {
          "data": {
            "text/plain": [
              "{'H': 1,\n",
              " 'He': 2,\n",
              " 'Li': 3,\n",
              " 'Be': 4,\n",
              " 'B': 5,\n",
              " 'C': 6,\n",
              " 'N': 7,\n",
              " 'O': 8,\n",
              " 'F': 9,\n",
              " 'Ne': 10,\n",
              " 'Na': 11,\n",
              " 'Mi': 12,\n",
              " 'Al': 13,\n",
              " 'Si': 14,\n",
              " 'P': 15,\n",
              " 'S': 16,\n",
              " 'Cl': 17,\n",
              " 'Ar': 18,\n",
              " 'K': 19,\n",
              " 'Ca': 20}"
            ]
          },
          "execution_count": 35,
          "metadata": {},
          "output_type": "execute_result"
        }
      ],
      "source": [
        "sen = \"Hi He Lied Because Boron Could Not Oxidize Fluorine. New Nations Might Also Sign Peace Security Clause. Arthur King Can.\"\n",
        "\n",
        "words = sen.split(\" \")\n",
        "lis = [1,5,6,7,8,9,15,16,19]    #indexes to extract first letter(1:Hi, 5:Boron)\n",
        "dic={}\n",
        "\n",
        "for i, word in enumerate(words):\n",
        "    word = word.strip(\".\")\n",
        "    if i+1 in lis:\n",
        "        dic[word[:1]] = i + 1\n",
        "    else:\n",
        "        dic[word[:2]] = i + 1\n",
        "\n",
        "dic"
      ]
    },
    {
      "cell_type": "markdown",
      "metadata": {
        "id": "NV36uyNnKrPq"
      },
      "source": [
        "05"
      ]
    },
    {
      "cell_type": "code",
      "execution_count": null,
      "metadata": {
        "colab": {
          "base_uri": "https://localhost:8080/"
        },
        "id": "8BZKwAQHKrPr",
        "outputId": "6ee81c85-a485-4b7e-ae25-6ccba9ae3d36"
      },
      "outputs": [
        {
          "output_type": "execute_result",
          "data": {
            "text/plain": [
              "[('I', ' '),\n",
              " (' ', 'a'),\n",
              " ('a', 'm'),\n",
              " ('m', ' '),\n",
              " (' ', 'a'),\n",
              " ('a', 'n'),\n",
              " ('n', ' '),\n",
              " (' ', 'N'),\n",
              " ('N', 'L'),\n",
              " ('L', 'P'),\n",
              " ('P', 'e'),\n",
              " ('e', 'r')]"
            ]
          },
          "metadata": {},
          "execution_count": 24
        }
      ],
      "source": [
        "def n_gram(sequence, n,):\n",
        "    gram = []\n",
        "    for i, word in enumerate(sequence):\n",
        "        if i+n-1 < len(sequence):\n",
        "            ls = []\n",
        "            for j in range(n):\n",
        "                ls.append(sequence[i+j])\n",
        "            gram.append(tuple(ls))  \n",
        "    return gram    \n",
        "\n",
        "s = \"I am an NLPer\"\n",
        "words = s.split(\" \")\n",
        "n_gram(words,2)\n",
        "n_gram(s,2)"
      ]
    },
    {
      "cell_type": "markdown",
      "metadata": {
        "id": "uXvWaZNqKrPv"
      },
      "source": [
        "06"
      ]
    },
    {
      "cell_type": "code",
      "execution_count": null,
      "metadata": {
        "colab": {
          "base_uri": "https://localhost:8080/"
        },
        "id": "kLGaqoJIKrPw",
        "outputId": "f7196361-c05d-48a3-a505-9c1bf283b130"
      },
      "outputs": [
        {
          "output_type": "execute_result",
          "data": {
            "text/plain": [
              "{('a', 'd'), ('d', 'i'), ('i', 's'), ('s', 'e')}"
            ]
          },
          "metadata": {},
          "execution_count": 29
        }
      ],
      "source": [
        "s1 = \"paraparaparadise\"\n",
        "s2 = \"paragraph\"\n",
        "\n",
        "X = set(n_gram(s1, 2))\n",
        "Y = set(n_gram(s2, 2))\n",
        "\n",
        "X|Y   #union\n",
        "X&Y   #intersection\n",
        "X-Y   #difference"
      ]
    },
    {
      "cell_type": "markdown",
      "metadata": {
        "id": "9N5VavdoKrPx"
      },
      "source": [
        "07"
      ]
    },
    {
      "cell_type": "code",
      "execution_count": null,
      "metadata": {
        "colab": {
          "base_uri": "https://localhost:8080/",
          "height": 35
        },
        "id": "rJum06D6KrPx",
        "outputId": "0a2f1479-32cb-43b7-f2e6-d45caeb53c6f"
      },
      "outputs": [
        {
          "output_type": "execute_result",
          "data": {
            "application/vnd.google.colaboratory.intrinsic+json": {
              "type": "string"
            },
            "text/plain": [
              "'12時の気温は22.4'"
            ]
          },
          "metadata": {},
          "execution_count": 34
        }
      ],
      "source": [
        "def func(x, y, z):\n",
        "  return \"{}時の{}は{}\".format(x, y, z)\n",
        "\n",
        "func(12, \"気温\", 22.4)"
      ]
    },
    {
      "cell_type": "markdown",
      "metadata": {
        "id": "O7C9NgBvKrPy"
      },
      "source": [
        "08"
      ]
    },
    {
      "cell_type": "code",
      "execution_count": null,
      "metadata": {
        "colab": {
          "base_uri": "https://localhost:8080/",
          "height": 35
        },
        "id": "ZVB6jrDoKrPz",
        "outputId": "aedfcb47-5156-4f06-f448-08e68917d62b"
      },
      "outputs": [
        {
          "output_type": "execute_result",
          "data": {
            "application/vnd.google.colaboratory.intrinsic+json": {
              "type": "string"
            },
            "text/plain": [
              "'Hvool nb mznv rh Kvr.'"
            ]
          },
          "metadata": {},
          "execution_count": 35
        }
      ],
      "source": [
        "def cipher(s):\n",
        "  ciphered=\"\"\n",
        "  for letter in s:\n",
        "    if (96 < ord(letter) < 123):\n",
        "      ciphered += chr(219 - ord(letter))\n",
        "    else:\n",
        "      ciphered += letter\n",
        "  return ciphered\n",
        "\n",
        "st = \"Hello my name is Kei.\"\n",
        "\n",
        "cipher(st)"
      ]
    },
    {
      "cell_type": "markdown",
      "metadata": {
        "id": "1ceg1IpFKrPz"
      },
      "source": [
        "09"
      ]
    },
    {
      "cell_type": "code",
      "execution_count": null,
      "metadata": {
        "id": "7gsdY9GIKrP0",
        "colab": {
          "base_uri": "https://localhost:8080/",
          "height": 54
        },
        "outputId": "cba942a2-d10e-4c88-9068-934abdbc18e7"
      },
      "outputs": [
        {
          "output_type": "execute_result",
          "data": {
            "application/vnd.google.colaboratory.intrinsic+json": {
              "type": "string"
            },
            "text/plain": [
              "'I cnulod’t beviele that I could aalulcty udasnrtend what I was rdanieg : the peanonemhl peowr of the human mind .'"
            ]
          },
          "metadata": {},
          "execution_count": 67
        }
      ],
      "source": [
        "import random\n",
        "\n",
        "s = \"I couldn’t believe that I could actually understand what I was reading : the phenomenal power of the human mind .\" #sample word sequence\n",
        "\n",
        "def func1(seq):\n",
        "  ls = []\n",
        "  words = seq.split(\" \")\n",
        "  for word in words:\n",
        "    if (len(word)>4):\n",
        "      f = word[0]\n",
        "      e = word[-1]\n",
        "      w = word[1:-1]\n",
        "      shufw = random.sample(w, len(w))\n",
        "      buf = \"\"\n",
        "      for i in shufw:\n",
        "        buf += i\n",
        "      ls.append(f + buf + e)\n",
        "    else:\n",
        "      ls.append(word)\n",
        "  return \" \".join(i for i in ls)  #convert list to string\n",
        "\n",
        "func1(s)"
      ]
    }
  ],
  "metadata": {
    "interpreter": {
      "hash": "0b6f490b4b993502effc489ef5a0c793bfd1dcd25fe550396bd758c73c63fb02"
    },
    "kernelspec": {
      "display_name": "Python 3.8.5 64-bit ('base': conda)",
      "language": "python",
      "name": "python3"
    },
    "language_info": {
      "codemirror_mode": {
        "name": "ipython",
        "version": 3
      },
      "file_extension": ".py",
      "mimetype": "text/x-python",
      "name": "python",
      "nbconvert_exporter": "python",
      "pygments_lexer": "ipython3",
      "version": "3.8.5"
    },
    "orig_nbformat": 4,
    "colab": {
      "provenance": []
    }
  },
  "nbformat": 4,
  "nbformat_minor": 0
}