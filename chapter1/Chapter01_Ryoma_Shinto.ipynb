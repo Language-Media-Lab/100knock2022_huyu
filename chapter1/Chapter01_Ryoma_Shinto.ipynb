{
  "nbformat": 4,
  "nbformat_minor": 0,
  "metadata": {
    "colab": {
      "provenance": []
    },
    "kernelspec": {
      "name": "python3",
      "display_name": "Python 3"
    },
    "language_info": {
      "name": "python"
    }
  },
  "cells": [
    {
      "cell_type": "code",
      "execution_count": null,
      "metadata": {
        "colab": {
          "base_uri": "https://localhost:8080/"
        },
        "id": "PbDOtJYD6-t3",
        "outputId": "5542101b-d94a-432c-f3de-6a195dc7f037"
      },
      "outputs": [
        {
          "output_type": "stream",
          "name": "stdout",
          "text": [
            "desserts\n"
          ]
        }
      ],
      "source": [
        "#00\n",
        "str = 'stressed'\n",
        "\n",
        "#スライス [開始位置:終了位置:移動幅]\n",
        "ans = str[::-1] \n",
        "print(ans)"
      ]
    },
    {
      "cell_type": "code",
      "source": [
        "#01\n",
        "str = 'パタトクカシー'\n",
        "ans = str[::2]\n",
        "ans"
      ],
      "metadata": {
        "colab": {
          "base_uri": "https://localhost:8080/",
          "height": 35
        },
        "id": "BHBgSIuJ8gyq",
        "outputId": "b0bd6165-b071-4b89-ef93-f4f94b1c58af"
      },
      "execution_count": null,
      "outputs": [
        {
          "output_type": "execute_result",
          "data": {
            "text/plain": [
              "'パトカー'"
            ],
            "application/vnd.google.colaboratory.intrinsic+json": {
              "type": "string"
            }
          },
          "metadata": {},
          "execution_count": 2
        }
      ]
    },
    {
      "cell_type": "code",
      "source": [
        "#02\n",
        "str1 = 'パトカー'\n",
        "str2 = 'タクシー'\n",
        "ans = ''.join([i + j for i, j in zip(str1, str2)]) #zipでstr1とstr2を１つづつ取り出す\n",
        "ans"
      ],
      "metadata": {
        "colab": {
          "base_uri": "https://localhost:8080/",
          "height": 35
        },
        "id": "TWd2ioOr-N3v",
        "outputId": "a861f46d-6896-46c6-aa63-1157c769037e"
      },
      "execution_count": null,
      "outputs": [
        {
          "output_type": "execute_result",
          "data": {
            "text/plain": [
              "'パタトクカシーー'"
            ],
            "application/vnd.google.colaboratory.intrinsic+json": {
              "type": "string"
            }
          },
          "metadata": {},
          "execution_count": 4
        }
      ]
    },
    {
      "cell_type": "code",
      "source": [
        "#03\n",
        "import re #モジュールreの関数で正規表現操作を行いたい\n",
        "\n",
        "str = 'Now I need a drink, alcoholic of course, after the heavy lectures involving quantum mechanics'\n",
        "str = re.sub('[,\\.]', '', str) #,と.を空白スペースで置換する\n",
        "#別の書き方 text=text.replace(\",\",\"\").replace(\".\",\"\")\n",
        "#なぜtext=とするのか？textは変わらない！\n",
        "splits = str.split() #スペースでstrを分けてリストにする\n",
        "ans = [len(i) for i in splits]\n",
        "ans"
      ],
      "metadata": {
        "colab": {
          "base_uri": "https://localhost:8080/"
        },
        "id": "LPpr5JKLcE9T",
        "outputId": "a208a3c4-13cf-46ac-b4a7-f2cc636a036f"
      },
      "execution_count": null,
      "outputs": [
        {
          "output_type": "execute_result",
          "data": {
            "text/plain": [
              "[3, 1, 4, 1, 5, 9, 2, 6, 5, 3, 5, 8, 9, 7, 9]"
            ]
          },
          "metadata": {},
          "execution_count": 4
        }
      ]
    },
    {
      "cell_type": "code",
      "source": [
        "#04\n",
        "str = 'Hi He Lied Because Boron Could Not Oxidize Fluorine. New Nations Might Also Sign Peace Security Clause. Arthur King Can.'\n",
        "splits = str.split()\n",
        "\n",
        "one_ch = [1, 5, 6, 7, 8, 9, 15, 16, 19]\n",
        "ans ={} #からの辞書を生成\n",
        "\n",
        "for i, word in enumerate(splits): # enumerate 要素のインデックスと要素を同時に取り出すことができる\n",
        "  if i + 1 in one_ch: #リストの先頭は0なので+1している\n",
        "    ans[word[:1]] = i + 1 #word[:]でスライスしつつansの要素のキーにしている\n",
        "  else:\n",
        "    ans[word[:2]] = i+ 1\n",
        "ans\n"
      ],
      "metadata": {
        "colab": {
          "base_uri": "https://localhost:8080/"
        },
        "id": "tz4GM_gSfMuY",
        "outputId": "c5ddb3d5-eda9-48c9-9ca0-c60773199714"
      },
      "execution_count": null,
      "outputs": [
        {
          "output_type": "execute_result",
          "data": {
            "text/plain": [
              "{'H': 1,\n",
              " 'He': 2,\n",
              " 'Li': 3,\n",
              " 'Be': 4,\n",
              " 'B': 5,\n",
              " 'C': 6,\n",
              " 'N': 7,\n",
              " 'O': 8,\n",
              " 'F': 9,\n",
              " 'Ne': 10,\n",
              " 'Na': 11,\n",
              " 'Mi': 12,\n",
              " 'Al': 13,\n",
              " 'Si': 14,\n",
              " 'P': 15,\n",
              " 'S': 16,\n",
              " 'Cl': 17,\n",
              " 'Ar': 18,\n",
              " 'K': 19,\n",
              " 'Ca': 20}"
            ]
          },
          "metadata": {},
          "execution_count": 6
        }
      ]
    },
    {
      "cell_type": "code",
      "source": [
        "#05\n",
        "def ngram(n, lst): #lstが受け取る型はstr.split()の時list型、strの時str型だね。(引数の型は異なってていい！)\n",
        "  # ex.\n",
        "  \"\"\"\n",
        "  [lst[i:] for i in range(n)]で1要素目,2要素目,...,n要素目から始まる要素列のリストを作成\n",
        "  今回はbi-gramなので、1要素目スタートと2要素目スタートの要素列リストを作る。\n",
        "  すなわち、1文字ずれた各要素の先頭から1文字（または1単語）ずつ同時に抜き出すことでbi-gramを実現。\n",
        "  \"\"\"\n",
        "  #↓単語の場合\n",
        "  # [lst[i:] for i in range(2)] -> [['I', 'am', 'an', 'NLPer'],['am', 'an', 'NLPer']]\n",
        "  #↓文章の場合(スペースも文字と認識している。つまりこの場合、2要素目はスペースから始まっている。)\n",
        "  # [str[i:] for i in range(2)] -> ['I am an NLPer', ' am an NLPer']\n",
        "\n",
        "  #*を付けるとリストの各要素を1つづつ関数の引数として渡せる\n",
        "  # zip(*[str[i:] for i in range(2)]) -> zip('I am an NLPer', ' am an NLPer')\n",
        "  return list(zip(*[lst[i:] for i in range(n)]))\n",
        "\n",
        "#アドバイス\n",
        "#変数名をstrやlistにはしないほうがいい。デフォルトの関数名と被る\n",
        "str = 'I am an NLPer'\n",
        "words_bi_gram = ngram(2, str.split()) #.split()で単語に分けてリストとする\n",
        "chars_bi_gram = ngram(2, str) #文字列のまま関数ngramに渡す\n",
        "\n",
        "print('単語bi-gram:', words_bi_gram)\n",
        "print('文字bi-gram:', chars_bi_gram)"
      ],
      "metadata": {
        "colab": {
          "base_uri": "https://localhost:8080/"
        },
        "id": "VCHVXOAUhCdj",
        "outputId": "89642fb0-15fe-4ab8-be8b-e3cdf6442436"
      },
      "execution_count": null,
      "outputs": [
        {
          "output_type": "stream",
          "name": "stdout",
          "text": [
            "単語bi-gram: [('I', 'am'), ('am', 'an'), ('an', 'NLPer')]\n",
            "文字bi-gram: [('I', ' '), (' ', 'a'), ('a', 'm'), ('m', ' '), (' ', 'a'), ('a', 'n'), ('n', ' '), (' ', 'N'), ('N', 'L'), ('L', 'P'), ('P', 'e'), ('e', 'r')]\n"
          ]
        }
      ]
    },
    {
      "cell_type": "code",
      "source": [
        "#06\n",
        "str1 = 'paraparaparadise'\n",
        "str2 = 'paragraph'\n",
        "#setにすることで被ったものを重複して表示しない\n",
        "X = set(ngram(2, str1))\n",
        "Y = set(ngram(2, str2))\n",
        "union = X | Y\n",
        "intersection = X & Y\n",
        "difference = X - Y\n",
        "\n",
        "print('X:', X)\n",
        "print('Y:', Y)\n",
        "print('和集合:', union)\n",
        "print('積集合:', intersection)\n",
        "print('差集合:', difference)\n",
        "#集合でも辞書でも{}で作るが、キーとバリューかバリューのみかの違い\n",
        "print('Xに\"se\"が含まれるか:', {('s', 'e')} <= X) #setに変換することで集合演算（比較）が可能\n",
        "print('Yに\"se\"が含まれるか:', {('s', 'e')} <= Y)"
      ],
      "metadata": {
        "colab": {
          "base_uri": "https://localhost:8080/"
        },
        "id": "OuuPaocEl2Ql",
        "outputId": "c9a3b3b4-52dd-4758-c01d-690450acc72f"
      },
      "execution_count": null,
      "outputs": [
        {
          "output_type": "stream",
          "name": "stdout",
          "text": [
            "X: {('s', 'e'), ('i', 's'), ('a', 'p'), ('r', 'a'), ('a', 'd'), ('p', 'a'), ('a', 'r'), ('d', 'i')}\n",
            "Y: {('a', 'p'), ('r', 'a'), ('g', 'r'), ('p', 'h'), ('p', 'a'), ('a', 'r'), ('a', 'g')}\n",
            "和集合: {('s', 'e'), ('i', 's'), ('a', 'p'), ('r', 'a'), ('a', 'd'), ('g', 'r'), ('p', 'h'), ('p', 'a'), ('a', 'r'), ('a', 'g'), ('d', 'i')}\n",
            "積集合: {('a', 'p'), ('r', 'a'), ('a', 'r'), ('p', 'a')}\n",
            "差集合: {('i', 's'), ('s', 'e'), ('a', 'd'), ('d', 'i')}\n",
            "Xに\"se\"が含まれるか: True\n",
            "Yに\"se\"が含まれるか: False\n"
          ]
        }
      ]
    },
    {
      "cell_type": "code",
      "source": [
        "#07\n",
        "def generate_sentence(x, y, z):\n",
        "  #文字列を返す関数なので↓printよりreturnの方が厳密だね\n",
        "  print(\"{}時の{}は{}\".format(x, y, z))\n",
        "  #print(f'{x}字の{y}は{z}')とも書ける\n",
        "\n",
        "generate_sentence(12, \"気温\", 22.4)"
      ],
      "metadata": {
        "colab": {
          "base_uri": "https://localhost:8080/"
        },
        "id": "FsJ3gz13oM2g",
        "outputId": "71a8387f-d398-4a02-cf90-40e2dd5aceb8"
      },
      "execution_count": null,
      "outputs": [
        {
          "output_type": "stream",
          "name": "stdout",
          "text": [
            "12時の気温は22.4\n"
          ]
        }
      ]
    },
    {
      "cell_type": "code",
      "source": [
        "#08\n",
        "def cipher(str):\n",
        "  #小文字ならchr(219 - ord(x))を実行。違うなら何もしない。\n",
        "  #islowerで英語の小文字か判定\n",
        "  rep = [chr(219 - ord(x)) if x.islower() else x for x in str] #関数ordでUnicodeに変換する\n",
        "\n",
        "  return ''.join(rep) #joinは文字列のメソッド。リストを連結して文字列にしてくれる\n",
        "\n",
        "message = 'the quick brown fox jumps over the lazy dog'\n",
        "message = cipher(message)\n",
        "print('暗号化:', message)\n",
        "message = cipher(message)\n",
        "print('復号化:', message)"
      ],
      "metadata": {
        "id": "Lq5E2CTmpBwb",
        "colab": {
          "base_uri": "https://localhost:8080/"
        },
        "outputId": "99f23ef1-9162-4f4e-c8ce-275405a87583"
      },
      "execution_count": 1,
      "outputs": [
        {
          "output_type": "stream",
          "name": "stdout",
          "text": [
            "暗号化: gsv jfrxp yildm ulc qfnkh levi gsv ozab wlt\n",
            "復号化: the quick brown fox jumps over the lazy dog\n"
          ]
        }
      ]
    },
    {
      "cell_type": "code",
      "source": [
        "#09\n",
        "import random\n",
        "\n",
        "def shuffle(words):\n",
        "  result =[] #空のリストを用意\n",
        "  for word in words.split(): #入力文を単語に分割したリストを走査\n",
        "    if len(word) > 4:\n",
        "      #スライスで最初と最後を残しつつ、それ以外をランダム関数に投げる\n",
        "      word = word[:1] + ''.join(random.sample(word[1:-1], len(word)-2)) + word[-1:] #random.sample\n",
        "    result.append(word) #並べ替えた単語をリストに追加\n",
        "  \n",
        "  return ' '.join(result) #リストの要素を結合して文字列化\n",
        "\n",
        "words = \"I couldn't believe that I could actually understand what I was reading : the phenomenal power of the human mind .\"\n",
        "ans = shuffle(words)\n",
        "ans"
      ],
      "metadata": {
        "id": "x1uMKzsetXcP",
        "colab": {
          "base_uri": "https://localhost:8080/",
          "height": 36
        },
        "outputId": "f813309d-b452-4108-c69d-f3ba399c3b71"
      },
      "execution_count": 5,
      "outputs": [
        {
          "output_type": "execute_result",
          "data": {
            "text/plain": [
              "\"I c'ulondt beilvee that I colud aucltlay usanntderd what I was rniaedg : the pmhnnaeeol pwoer of the hamun mind .\""
            ],
            "application/vnd.google.colaboratory.intrinsic+json": {
              "type": "string"
            }
          },
          "metadata": {},
          "execution_count": 5
        }
      ]
    }
  ]
}