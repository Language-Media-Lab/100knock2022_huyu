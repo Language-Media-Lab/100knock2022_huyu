{
  "nbformat": 4,
  "nbformat_minor": 0,
  "metadata": {
    "colab": {
      "provenance": []
    },
    "kernelspec": {
      "name": "python3",
      "display_name": "Python 3"
    },
    "language_info": {
      "name": "python"
    }
  },
  "cells": [
    {
      "cell_type": "code",
      "execution_count": 3,
      "metadata": {
        "colab": {
          "base_uri": "https://localhost:8080/"
        },
        "id": "OeLfC-Jgj6k0",
        "outputId": "f0f099e0-08fa-4738-8941-f951849ab0b7"
      },
      "outputs": [
        {
          "output_type": "stream",
          "name": "stdout",
          "text": [
            "stressed\n",
            "desserts\n"
          ]
        }
      ],
      "source": [
        "# 1-0\n",
        "# 文字列”stressed”の文字を逆に（末尾から先頭に向かって）並べた文字列を得よ．\n",
        "\n",
        "\n",
        "str = \"stressed\"\n",
        "rev_str = str[::-1] # スライス str[start:stop:step]と書くことで、\n",
        "                    # 配列の範囲を指定したり要素の一部を抽出したりできる\n",
        "                    # str[::-1]とすると配列の逆順を取り出せる\n",
        "print(str)\n",
        "print(rev_str)"
      ]
    },
    {
      "cell_type": "code",
      "source": [
        "# 1-1\n",
        "# 「パタトクカシーー」という文字列の1,3,5,7文字目を取り出して連結した文字列を得よ．\n",
        "\n",
        "\n",
        "str = \"パタトクカシーー\"\n",
        "str1 = str[::2]\n",
        "print(str1)"
      ],
      "metadata": {
        "colab": {
          "base_uri": "https://localhost:8080/"
        },
        "id": "bLz7RAbjpMU1",
        "outputId": "61ac2645-d9e2-4e83-bba7-0c08fd7af32d"
      },
      "execution_count": 6,
      "outputs": [
        {
          "output_type": "stream",
          "name": "stdout",
          "text": [
            "パトカー\n"
          ]
        }
      ]
    },
    {
      "cell_type": "code",
      "source": [
        "# 1-2\n",
        "# 「パトカー」＋「タクシー」の文字を先頭から交互に連結して文字列「パタトクカシーー」を得よ．\n",
        "\n",
        "\n",
        "str1 = \"パトカー\"\n",
        "str2 = \"タクシー\"\n",
        "str3 = []\n",
        "# str3 = str1.split()\n",
        "# print(str3)\n",
        "for i, j in zip(str1, str2): # このi,jにはstr1とstr2の要素が入ってる?\n",
        "  str3.append(i)\n",
        "  str3.append(j)\n",
        "str3 = \"\".join(str3) # \"\".join(str3)で配列str3の要素をくっつけられる\n",
        "print(str3)"
      ],
      "metadata": {
        "colab": {
          "base_uri": "https://localhost:8080/"
        },
        "id": "VQgnXJZG8F1C",
        "outputId": "793c6be3-e78b-4ae9-9fd2-46305335b780"
      },
      "execution_count": 17,
      "outputs": [
        {
          "output_type": "stream",
          "name": "stdout",
          "text": [
            "パタトクカシーー\n"
          ]
        }
      ]
    },
    {
      "cell_type": "code",
      "source": [
        "# 1-3\n",
        "# “Now I need a drink, alcoholic of course, after the heavy lectures involving quantum mechanics.”という文を単語に分解し，\n",
        "# 各単語の（アルファベットの）文字数を先頭から出現順に並べたリストを作成せよ．\n",
        "\n",
        "\n",
        "str = \"Now I need a drink, alcoholic of course, after the heavy lectures involving quantum mechanics.\"\n",
        "str = str.replace(',','').replace('.','') # replaceで第一引数の文字を第二引数の文字に変えられる\n",
        "str1 = str.split() # split()で配列の文字列をスペースで区切って並べたchar型の配列にできる\n",
        "ans = [len(p) for p in str1] #リスト内包表記\n",
        "print(ans)"
      ],
      "metadata": {
        "colab": {
          "base_uri": "https://localhost:8080/"
        },
        "id": "kz74dSXFGge6",
        "outputId": "2a6c098f-df5e-4886-9092-9fece1ff4fba"
      },
      "execution_count": 24,
      "outputs": [
        {
          "output_type": "stream",
          "name": "stdout",
          "text": [
            "[3, 1, 4, 1, 5, 9, 2, 6, 5, 3, 5, 8, 9, 7, 9]\n"
          ]
        }
      ]
    },
    {
      "cell_type": "code",
      "source": [
        "# 1-4\n",
        "# “Hi He Lied Because Boron Could Not Oxidize Fluorine. New Nations Might Also Sign Peace Security Clause. Arthur King Can.”という文を単語に分解し，\n",
        "# 1, 5, 6, 7, 8, 9, 15, 16, 19番目の単語は先頭の1文字，それ以外の単語は先頭の2文字を取り出し，\n",
        "# 取り出した文字列から単語の位置（先頭から何番目の単語か）への連想配列（辞書型もしくはマップ型）を作成せよ．\n",
        "\n",
        "\n",
        "str = \"Hi He Lied Because Boron Could Not Oxidize Fluorine. New Nations Might Also Sign Peace Security Clause. Arthur King Can.\"\n",
        "str = str.replace('.', \"\") #replaceで'.'除去\n",
        "str1 = str.split() #splitで文字列をスペースで区切る\n",
        "# print(str1)\n",
        "num = [1, 5, 6, 7, 8, 9, 15, 16, 19] # 先頭1文字を抜き出す単語の番号\n",
        "dic = {}\n",
        "for i, s in enumerate(str1):\n",
        "  if i + 1 in num:\n",
        "    dic[i + 1] = s[0]\n",
        "  else:\n",
        "    dic[i + 1] = s[:2]\n",
        "print(dic)"
      ],
      "metadata": {
        "colab": {
          "base_uri": "https://localhost:8080/"
        },
        "id": "0PzXucxGM2rj",
        "outputId": "39517ca4-561f-45cc-e872-df53a348185b"
      },
      "execution_count": 28,
      "outputs": [
        {
          "output_type": "stream",
          "name": "stdout",
          "text": [
            "{1: 'H', 2: 'He', 3: 'Li', 4: 'Be', 5: 'B', 6: 'C', 7: 'N', 8: 'O', 9: 'F', 10: 'Ne', 11: 'Na', 12: 'Mi', 13: 'Al', 14: 'Si', 15: 'P', 16: 'S', 17: 'Cl', 18: 'Ar', 19: 'K', 20: 'Ca'}\n"
          ]
        }
      ]
    },
    {
      "cell_type": "code",
      "source": [
        "# 1-5\n",
        "# 与えられたシーケンス（文字列やリストなど）からn-gramを作る関数を作成せよ．この関数を用い，”I am an NLPer”という文から単語bi-gram，文字bi-gramを得よ．\n",
        "\n",
        "\n",
        "str = \"I am an NLPer\"\n",
        "\n",
        "def ngram(n, s):\n",
        "  list = []\n",
        "  for i in range(len(s) - n + 1):\n",
        "    list.append(s[i: i + n])\n",
        "  return list\n",
        "\n",
        "print(ngram(2, str.split()))\n",
        "print(ngram(2, str))"
      ],
      "metadata": {
        "colab": {
          "base_uri": "https://localhost:8080/"
        },
        "id": "sr5ghCIBURTx",
        "outputId": "503b22af-1fcc-485e-ee61-b008ff79ad45"
      },
      "execution_count": 1,
      "outputs": [
        {
          "output_type": "stream",
          "name": "stdout",
          "text": [
            "[['I', 'am'], ['am', 'an'], ['an', 'NLPer']]\n",
            "['I ', ' a', 'am', 'm ', ' a', 'an', 'n ', ' N', 'NL', 'LP', 'Pe', 'er']\n"
          ]
        }
      ]
    },
    {
      "cell_type": "code",
      "source": [
        "# 1-6\n",
        "# “paraparaparadise”と”paragraph”に含まれる文字bi-gramの集合を，それぞれ, XとYとして求め，XとYの和集合，積集合，差集合を求めよ．\n",
        "#　さらに，’se’というbi-gramがXおよびYに含まれるかどうかを調べよ．\n",
        "\n",
        "\n",
        "str1 = \"paraparaparadise\"\n",
        "str2 = \"paragraph\"\n",
        "\n",
        "X = set(ngram(2, str1))\n",
        "Y = set(ngram(2, str2))\n",
        "\n",
        "print(X | Y)\n",
        "print(X & Y)\n",
        "print(X - Y)\n",
        "\n",
        "if \"se\" in X:\n",
        "  print(\"seはXに含まれます\")\n",
        "else:\n",
        "  print(\"seはXに含まれません\")\n",
        "\n",
        "if \"se\" in Y:\n",
        "  print(\"seはYに含まれます\")\n",
        "else:\n",
        "  print(\"seはYに含まれません\")"
      ],
      "metadata": {
        "colab": {
          "base_uri": "https://localhost:8080/"
        },
        "id": "VfCe1p2609q7",
        "outputId": "845a7802-e76d-43e0-eea1-80f61d23f20d"
      },
      "execution_count": 5,
      "outputs": [
        {
          "output_type": "stream",
          "name": "stdout",
          "text": [
            "{'ag', 'gr', 'ph', 'is', 'di', 'ap', 'se', 'ra', 'pa', 'ar', 'ad'}\n",
            "{'pa', 'ar', 'ap', 'ra'}\n",
            "{'di', 'se', 'ad', 'is'}\n",
            "seはXに含まれます\n",
            "seはYに含まれません\n"
          ]
        }
      ]
    },
    {
      "cell_type": "code",
      "source": [
        "# 1-7\n",
        "# 引数x, y, zを受け取り「x時のyはz」という文字列を返す関数を実装せよ．さらに，x=12, y=”気温”, z=22.4として，実行結果を確認せよ．\n",
        "\n",
        "\n",
        "def make_sentence(x, y, z):\n",
        "  print(f'{x}時の{y}は{z}') # fstring  \n",
        "\n",
        "make_sentence(12, \"気温\", 22.4)\n",
        "\n",
        "# 文字列を返す関数を実装だからmake_sentence関数はprintじゃなくてreturnの方がいい"
      ],
      "metadata": {
        "colab": {
          "base_uri": "https://localhost:8080/"
        },
        "id": "YqitHVCx7myu",
        "outputId": "8d84dda8-16bd-4554-d23a-3bee781f5c64"
      },
      "execution_count": 6,
      "outputs": [
        {
          "output_type": "stream",
          "name": "stdout",
          "text": [
            "12時の気温は22.4\n"
          ]
        }
      ]
    },
    {
      "cell_type": "code",
      "source": [
        "# 1-8\n",
        "# 与えられた文字列の各文字を，以下の仕様で変換する関数cipherを実装せよ．\n",
        "\n",
        "# 英小文字ならば(219 - 文字コード)の文字に置換\n",
        "# その他の文字はそのまま出力\n",
        "# この関数を用い，英語のメッセージを暗号化・復号化せよ\n",
        "\n",
        "\n",
        "def cipher(str):\n",
        "  a = []\n",
        "  for i in str:\n",
        "    if i.islower(): # 英小文字判定\n",
        "      i = chr(219 - ord(i)) # ordでUnicodeの値に変換、chrで文字列に変換\n",
        "    a.append(i)\n",
        "  return \"\".join(a)\n",
        "\n",
        "word = \"Ryuta Aoyagi\"\n",
        "ans = cipher(word)\n",
        "print(f\"暗号化: {ans}\")\n",
        "print(f\"復号化: {cipher(ans)}\")"
      ],
      "metadata": {
        "colab": {
          "base_uri": "https://localhost:8080/"
        },
        "id": "iDw4Eacr8j1Z",
        "outputId": "1635a71f-9233-4cf1-ec5f-7a2c8fcb7a31"
      },
      "execution_count": 1,
      "outputs": [
        {
          "output_type": "stream",
          "name": "stdout",
          "text": [
            "暗号化: Rbfgz Albztr\n",
            "復号化: Ryuta Aoyagi\n"
          ]
        }
      ]
    },
    {
      "cell_type": "code",
      "source": [
        "# 1-9\n",
        "# スペースで区切られた単語列に対して，各単語の先頭と末尾の文字は残し，それ以外の文字の順序をランダムに並び替えるプログラムを作成せよ．\n",
        "# ただし，長さが４以下の単語は並び替えないこととする．\n",
        "# 適当な英語の文（例えば”I couldn’t believe that I could actually understand what I was reading : the phenomenal power of the human mind .”）を与え，その実行結果を確認せよ．\n",
        "\n",
        "\n",
        "import random # randomモジュールインポート\n",
        "\n",
        "str = \"I couldn’t believe that I could actually understand what I was reading : the phenomenal power of the human mind .\"\n",
        "a = []\n",
        "for i in str.split():\n",
        "  if len(i) > 4: # 長さ4以下は並び替えない\n",
        "    i = i[:1] + \"\".join(random.sample(i[1:-1], len(i) - 2)) + i[-1:] \n",
        "  a.append(i)\n",
        "ans = \" \".join(a)\n",
        "print(ans)\n",
        "    # リスト[x:]のxを負の数にすることで末尾から指定した文字数抜き出せる\n",
        "    # random.sampleで指定した文字列をシャッフルして新しいリストを作成"
      ],
      "metadata": {
        "colab": {
          "base_uri": "https://localhost:8080/"
        },
        "id": "7gX4LotASH7y",
        "outputId": "5740a13f-93c9-44e8-873c-9269d315cdc6"
      },
      "execution_count": 2,
      "outputs": [
        {
          "output_type": "stream",
          "name": "stdout",
          "text": [
            "I c’lnuodt bilevee that I cluod acaltuly udrensnatd what I was radenig : the peneonamhl pewor of the haumn mind .\n"
          ]
        }
      ]
    }
  ]
}