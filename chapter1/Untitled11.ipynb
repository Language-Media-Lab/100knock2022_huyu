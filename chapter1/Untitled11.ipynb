{
  "nbformat": 4,
  "nbformat_minor": 0,
  "metadata": {
    "colab": {
      "provenance": []
    },
    "kernelspec": {
      "name": "python3",
      "display_name": "Python 3"
    },
    "language_info": {
      "name": "python"
    }
  },
  "cells": [
    {
      "cell_type": "code",
      "execution_count": null,
      "metadata": {
        "id": "wfCLKRH1hDVs"
      },
      "outputs": [],
      "source": [
        "s=1"
      ]
    },
    {
      "cell_type": "code",
      "source": [],
      "metadata": {
        "id": "sBB3v6XYhE2Q"
      },
      "execution_count": null,
      "outputs": []
    }
  ]
}