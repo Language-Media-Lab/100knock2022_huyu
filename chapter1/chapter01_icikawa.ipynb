{
  "nbformat": 4,
  "nbformat_minor": 0,
  "metadata": {
    "colab": {
      "provenance": []
    },
    "kernelspec": {
      "name": "python3",
      "display_name": "Python 3"
    },
    "language_info": {
      "name": "python"
    }
  },
  "cells": [
    {
      "cell_type": "markdown",
      "source": [
        "**第1章: 準備運動** "
      ],
      "metadata": {
        "id": "0GOczFtoqrKr"
      }
    },
    {
      "cell_type": "markdown",
      "source": [
        "**00.文字列の逆順**\\\n",
        "文字列”stressed”の文字を逆に（末尾から先頭に向かって）並べた文字列を得よ．"
      ],
      "metadata": {
        "id": "vyEeNbcVsUTZ"
      }
    },
    {
      "cell_type": "markdown",
      "source": [
        "スライス操作[start:stop:step]"
      ],
      "metadata": {
        "id": "fflvx3ZONIp9"
      }
    },
    {
      "cell_type": "code",
      "execution_count": 9,
      "metadata": {
        "colab": {
          "base_uri": "https://localhost:8080/"
        },
        "id": "nRJOK1wvUFNm",
        "outputId": "6dd62de6-a184-4274-f226-678976935301"
      },
      "outputs": [
        {
          "output_type": "stream",
          "name": "stdout",
          "text": [
            "desserts\n"
          ]
        }
      ],
      "source": [
        "a=\"stressed\"\n",
        "print(a[::-1])\n"
      ]
    },
    {
      "cell_type": "markdown",
      "source": [
        "**01.「パタトクカシーー」**\\\n",
        "「パタトクカシーー」という文字列の1,3,5,7文字目を取り出して連結した文字列を得よ．"
      ],
      "metadata": {
        "id": "59JsIJEItlld"
      }
    },
    {
      "cell_type": "markdown",
      "source": [],
      "metadata": {
        "id": "ApKoYdQ9NGtf"
      }
    },
    {
      "cell_type": "code",
      "source": [
        "a=\"パタトクカシーー\"\n",
        "print(a[0::2])\n"
      ],
      "metadata": {
        "colab": {
          "base_uri": "https://localhost:8080/"
        },
        "id": "FgSXxMxBXw5d",
        "outputId": "6620392f-4beb-434c-daeb-14280a2bba6f"
      },
      "execution_count": 2,
      "outputs": [
        {
          "output_type": "stream",
          "name": "stdout",
          "text": [
            "タクシー\n"
          ]
        }
      ]
    },
    {
      "cell_type": "markdown",
      "source": [
        "**02.「パトカー」＋「タクシー」＝「パタトクカシーー」**\\\n",
        "「パトカー」＋「タクシー」の文字を先頭から交互に連結して文字列「パタトクカシーー」を得よ．"
      ],
      "metadata": {
        "id": "-kFOVGJMqpBW"
      }
    },
    {
      "cell_type": "code",
      "source": [
        "a=\"パトカー\"\n",
        "b=\"タクシー\"\n",
        "print(\"\".join([i + j for i, j in zip(a, b)]))"
      ],
      "metadata": {
        "colab": {
          "base_uri": "https://localhost:8080/"
        },
        "id": "xbZJJi3RZUfl",
        "outputId": "59a74895-bf6a-427f-d755-60b935f99832"
      },
      "execution_count": 8,
      "outputs": [
        {
          "output_type": "stream",
          "name": "stdout",
          "text": [
            "パタトクカシーー\n"
          ]
        }
      ]
    },
    {
      "cell_type": "markdown",
      "source": [
        "**03.円周率**\\\n",
        "“Now I need a drink, alcoholic of course, after the heavy lectures involving quantum mechanics.”という文を単語に分解し，各単語の（アルファベットの）文字数を先頭から出現順に並べたリストを作成せよ．"
      ],
      "metadata": {
        "id": "Met2eHwFJHMH"
      }
    },
    {
      "cell_type": "code",
      "source": [
        "text=\"Now I need a drink, alcoholic of course, after the heavy lectures involving quantum mechanics.\"\n",
        "text=text.replace(\",\",\"\").replace(\".\",\"\")\n",
        "print([len(w) for w in  text.split()])"
      ],
      "metadata": {
        "colab": {
          "base_uri": "https://localhost:8080/"
        },
        "id": "XpW6LJ-elyqn",
        "outputId": "f5c88f56-0a52-4bc1-b68b-b2c9f49c54dd"
      },
      "execution_count": null,
      "outputs": [
        {
          "output_type": "stream",
          "name": "stdout",
          "text": [
            "[3, 1, 4, 1, 5, 9, 2, 6, 5, 3, 5, 8, 9, 7, 9]\n"
          ]
        }
      ]
    },
    {
      "cell_type": "markdown",
      "source": [
        "**04.元素記号**\\\n",
        "“Hi He Lied Because Boron Could Not Oxidize Fluorine. New Nations Might Also Sign Peace Security Clause. Arthur King Can.”という文を単語に分解し，1, 5, 6, 7, 8, 9, 15, 16, 19番目の単語は先頭の1文字，それ以外の単語は先頭の2文字を取り出し，取り出した文字列から単語の位置（先頭から何番目の単語か）への連想配列（辞書型もしくはマップ型）を作成せよ．"
      ],
      "metadata": {
        "id": "HIZvhX98JWF-"
      }
    },
    {
      "cell_type": "code",
      "source": [
        "text=\"Hi He Lied Because Boron Could Not Oxidize Fluorine. New Nations Might Also Sign Peace Security Clause. Arthur King Can.\"\n",
        "text=text.replace(\".\",\"\")\n",
        "\n",
        "num=[1,5,6,7,8,9,15,16,19]\n",
        "\n",
        "dic={}\n",
        "\n",
        "for i, w in enumerate(text.split()):\n",
        "  if i + 1 in num:\n",
        "    dic[w[0]] = i + 1;\n",
        "  else:\n",
        "    dic[w[:2]] = i + 1;\n",
        "\n",
        "print(dic)\n",
        "\n"
      ],
      "metadata": {
        "colab": {
          "base_uri": "https://localhost:8080/"
        },
        "id": "VrmWLS9KzQAi",
        "outputId": "e413662a-0abf-4f43-de61-b2664c37cdb4"
      },
      "execution_count": null,
      "outputs": [
        {
          "output_type": "stream",
          "name": "stdout",
          "text": [
            "{'H': 1, 'He': 2, 'Li': 3, 'Be': 4, 'B': 5, 'C': 6, 'N': 7, 'O': 8, 'F': 9, 'Ne': 10, 'Na': 11, 'Mi': 12, 'Al': 13, 'Si': 14, 'P': 15, 'S': 16, 'Cl': 17, 'Ar': 18, 'K': 19, 'Ca': 20}\n"
          ]
        }
      ]
    },
    {
      "cell_type": "markdown",
      "source": [
        "**05.n-gram**\\\n",
        "与えられたシーケンス（文字列やリストなど）からn-gramを作る関数を作成せよ．この関数を用い，”I am an NLPer”という文から単語bi-gram，文字bi-gramを得よ．"
      ],
      "metadata": {
        "id": "t3aP8p5PJhqf"
      }
    },
    {
      "cell_type": "code",
      "source": [
        "def ngram(n,word,st=False):\n",
        "  if st:\n",
        "    lis=[]\n",
        "    for i in range(len(word)-n+1):\n",
        "      lis.append(word[i:i+n])\n",
        "    return(lis)\n",
        "  else:\n",
        "    word = word.split()\n",
        "    lis=[]\n",
        "    for i in range(len(word)-n+1):\n",
        "      lis.append(word[i:i+n])\n",
        "    return(lis)\n",
        "  # lis=[]\n",
        "  # for i in range(len(word)-n+1):\n",
        "  #   lis.append(word[i:i+n])\n",
        "  # return(lis)\n",
        "\n",
        "\n",
        "text=\"I am an NLPer\"\n",
        "print(ngram(2,text))\n",
        "print(ngram(2,text,st=True))"
      ],
      "metadata": {
        "colab": {
          "base_uri": "https://localhost:8080/"
        },
        "id": "iHX2f8hD-jTC",
        "outputId": "0116ee5a-9372-461e-f3a9-ff29d3fda839"
      },
      "execution_count": 3,
      "outputs": [
        {
          "output_type": "stream",
          "name": "stdout",
          "text": [
            "[['I', 'am'], ['am', 'an'], ['an', 'NLPer']]\n",
            "['I ', ' a', 'am', 'm ', ' a', 'an', 'n ', ' N', 'NL', 'LP', 'Pe', 'er']\n"
          ]
        }
      ]
    },
    {
      "cell_type": "markdown",
      "source": [
        "**06.集合**\\\n",
        "“paraparaparadise”と”paragraph”に含まれる文字bi-gramの集合を，それぞれ, XとYとして求め，XとYの和集合，積集合，差集合を求めよ．さらに，’se’というbi-gramがXおよびYに含まれるかどうかを調べよ．"
      ],
      "metadata": {
        "id": "ccdCsSbyJp6x"
      }
    },
    {
      "cell_type": "code",
      "source": [
        "text1=\"paraparaparadise\"\n",
        "text2=\"paragraph\"\n",
        "\n",
        "X=set(ngram(2,text1))\n",
        "Y=set(ngram(2,text2))\n",
        "\n",
        "print(\"X:\",X)\n",
        "print(\"Y:\",Y)\n",
        "print(\"和集合:\",X | Y)\n",
        "print(\"積集合:\",X & Y)\n",
        "print(\"差集合:\",X - Y)\n",
        "print(\"Xに含まれるかどうか：\",\"se\"in X)\n",
        "print(\"Yに含まれるかどうか：\",\"se\"in Y)\n"
      ],
      "metadata": {
        "colab": {
          "base_uri": "https://localhost:8080/"
        },
        "id": "Bu-t-F1tDRMg",
        "outputId": "035bf16b-68f7-4aa9-a57f-f9335360d6bf"
      },
      "execution_count": null,
      "outputs": [
        {
          "output_type": "stream",
          "name": "stdout",
          "text": [
            "X: {'di', 'se', 'ap', 'ar', 'ra', 'pa', 'is', 'ad'}\n",
            "Y: {'ap', 'ar', 'ra', 'ag', 'pa', 'ph', 'gr'}\n",
            "和集合: {'di', 'se', 'ap', 'ar', 'ra', 'ag', 'pa', 'ph', 'is', 'ad', 'gr'}\n",
            "積集合: {'pa', 'ar', 'ap', 'ra'}\n",
            "差集合: {'di', 'se', 'ad', 'is'}\n",
            "Xに含まれるかどうか： True\n",
            "Yに含まれるかどうか： False\n"
          ]
        }
      ]
    },
    {
      "cell_type": "markdown",
      "source": [
        "**07.テンプレートによる文生成**\\\n",
        "引数x, y, zを受け取り「x時のyはz」という文字列を返す関数を実装せよ．さらに，x=12, y=”気温”, z=22.4として，実行結果を確認せよ．"
      ],
      "metadata": {
        "id": "1ps8vff-J1Ad"
      }
    },
    {
      "cell_type": "code",
      "source": [
        "def temperature(x,y,z):\n",
        "  return(f\"{x}時の{y}は{z}\")\n",
        "\n",
        "print(temperature(12,\"気温\",22.4))\n"
      ],
      "metadata": {
        "colab": {
          "base_uri": "https://localhost:8080/"
        },
        "id": "6uGTwwozKByv",
        "outputId": "646bdc24-1af5-4833-f775-013062dc63bb"
      },
      "execution_count": 4,
      "outputs": [
        {
          "output_type": "stream",
          "name": "stdout",
          "text": [
            "12時の気温は22.4\n"
          ]
        }
      ]
    },
    {
      "cell_type": "markdown",
      "source": [
        "**08.暗号文**\\\n",
        "与えられた文字列の各文字を，以下の仕様で変換する関数cipherを実装せよ．\n",
        "\n",
        "英小文字ならば(219 - 文字コード)の文字に置換\n",
        "その他の文字はそのまま出力\n",
        "この関数を用い，英語のメッセージを暗号化・復号化せよ．"
      ],
      "metadata": {
        "id": "l8F2gPXSJ-6P"
      }
    },
    {
      "cell_type": "code",
      "source": [
        "def cipher(word):\n",
        "  lis=[]\n",
        "  for i in word:\n",
        "      if i.islower():\n",
        "        i=chr(219-ord(i))\n",
        "      lis.append(i)\n",
        "  return(\"\".join(lis))\n",
        "\n",
        "text1=\"Hello, World.\"\n",
        "text2=cipher(text1)\n",
        "print(\"暗号化: \",text2)\n",
        "text3=cipher(text2)\n",
        "print(\"復号化: \",text3)"
      ],
      "metadata": {
        "colab": {
          "base_uri": "https://localhost:8080/"
        },
        "id": "I2At_qkXM7QW",
        "outputId": "de1e20bc-e405-43ec-d124-e0912c50a7fc"
      },
      "execution_count": 5,
      "outputs": [
        {
          "output_type": "stream",
          "name": "stdout",
          "text": [
            "暗号化:  Hvool, Wliow.\n",
            "復号化:  Hello, World.\n"
          ]
        }
      ]
    },
    {
      "cell_type": "markdown",
      "source": [
        "**09.Typoglycemia**\\\n",
        "スペースで区切られた単語列に対して，各単語の先頭と末尾の文字は残し，それ以外の文字の順序をランダムに並び替えるプログラムを作成せよ．ただし，長さが４以下の単語は並び替えないこととする．適当な英語の文（例えば”I couldn’t believe that I could actually understand what I was reading : the phenomenal power of the human mind .”）を与え，その実行結果を確認せよ．"
      ],
      "metadata": {
        "id": "x5tLYn6SKNlg"
      }
    },
    {
      "cell_type": "code",
      "source": [
        "import random\n",
        "\n",
        "text=\"I couldn't believe that I could actually understand what I was reading : the phenomenal power of the human mind .\"\n",
        "lis=[]\n",
        "for w in text.split():\n",
        "  if len(w) > 4:\n",
        "    w=w[0]+\"\".join(random.sample((w[1:-1]),len(w)-2))+w[-1]\n",
        "  lis.append(w)\n",
        "print(\" \".join(lis))"
      ],
      "metadata": {
        "colab": {
          "base_uri": "https://localhost:8080/"
        },
        "id": "LuDUiOjtT9wH",
        "outputId": "0efd9238-a3a2-458b-fd6c-435c4890fa4d"
      },
      "execution_count": 6,
      "outputs": [
        {
          "output_type": "stream",
          "name": "stdout",
          "text": [
            "I clun'odt beielve that I cluod atucllay usrtnednad what I was rdinaeg : the paoneemhnl power of the huamn mind .\n"
          ]
        }
      ]
    }
  ]
}