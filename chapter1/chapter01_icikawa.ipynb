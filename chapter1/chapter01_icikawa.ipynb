{
  "nbformat": 4,
  "nbformat_minor": 0,
  "metadata": {
    "colab": {
      "provenance": []
    },
    "kernelspec": {
      "name": "python3",
      "display_name": "Python 3"
    },
    "language_info": {
      "name": "python"
    }
  },
  "cells": [
    {
      "cell_type": "code",
      "execution_count": 1,
      "metadata": {
        "colab": {
          "base_uri": "https://localhost:8080/"
        },
        "id": "nRJOK1wvUFNm",
        "outputId": "9b29c990-276f-4557-df40-faf0035ecb57"
      },
      "outputs": [
        {
          "output_type": "stream",
          "name": "stdout",
          "text": [
            "dset\n"
          ]
        }
      ],
      "source": [
        "a=\"stressed\"\n",
        "print(a[::-2])\n"
      ]
    },
    {
      "cell_type": "code",
      "source": [
        "a=\"パタトクカシーー\"\n",
        "print(a[1::2])\n"
      ],
      "metadata": {
        "colab": {
          "base_uri": "https://localhost:8080/"
        },
        "id": "FgSXxMxBXw5d",
        "outputId": "6620392f-4beb-434c-daeb-14280a2bba6f"
      },
      "execution_count": 2,
      "outputs": [
        {
          "output_type": "stream",
          "name": "stdout",
          "text": [
            "タクシー\n"
          ]
        }
      ]
    },
    {
      "cell_type": "code",
      "source": [
        "a=\"パトカー\"\n",
        "b=\"タクシー\"\n",
        "print(([i  for i in zip(a, b)]))"
      ],
      "metadata": {
        "colab": {
          "base_uri": "https://localhost:8080/"
        },
        "id": "xbZJJi3RZUfl",
        "outputId": "a4c9bb1e-1360-4fc4-84f5-f2bcec2f6cfc"
      },
      "execution_count": 4,
      "outputs": [
        {
          "output_type": "stream",
          "name": "stdout",
          "text": [
            "[('パ', 'タ'), ('ト', 'ク'), ('カ', 'シ'), ('ー', 'ー')]\n"
          ]
        }
      ]
    },
    {
      "cell_type": "code",
      "source": [
        "text=\"Now I need a drink, alcoholic of course, after the heavy lectures involving quantum mechanics.\"\n",
        "text=text.replace(\",\",\"\").replace(\".\",\"\")\n",
        "print([len(w) for w in  text.split()])"
      ],
      "metadata": {
        "colab": {
          "base_uri": "https://localhost:8080/"
        },
        "id": "XpW6LJ-elyqn",
        "outputId": "f5c88f56-0a52-4bc1-b68b-b2c9f49c54dd"
      },
      "execution_count": null,
      "outputs": [
        {
          "output_type": "stream",
          "name": "stdout",
          "text": [
            "[3, 1, 4, 1, 5, 9, 2, 6, 5, 3, 5, 8, 9, 7, 9]\n"
          ]
        }
      ]
    },
    {
      "cell_type": "code",
      "source": [
        "lis = [1,2]\n",
        "lis1 = lis.append(3)\n",
        "lis,lis1"
      ],
      "metadata": {
        "colab": {
          "base_uri": "https://localhost:8080/"
        },
        "id": "ObrFNuRHW6gA",
        "outputId": "cbd93440-1a71-4478-e6a4-99ba74971f21"
      },
      "execution_count": 7,
      "outputs": [
        {
          "output_type": "execute_result",
          "data": {
            "text/plain": [
              "([1, 2, 3], None)"
            ]
          },
          "metadata": {},
          "execution_count": 7
        }
      ]
    },
    {
      "cell_type": "code",
      "source": [
        "text=\"Hi He Lied Because Boron Could Not Oxidize Fluorine. New Nations Might Also Sign Peace Security Clause. Arthur King Can.\"\n",
        "text=text.replace(\".\",\"\")\n",
        "\n",
        "num=[1,5,6,7,8,9,15,16,19]\n",
        "\n",
        "dict={}\n",
        "\n",
        "for i, w in enumerate(text.split()):\n",
        "  if i + 1 in num:\n",
        "    dict[w[0]] = i + 1;\n",
        "  else:\n",
        "    dict[w[:2]] = i + 1;\n",
        "\n",
        "print(dict)\n",
        "\n"
      ],
      "metadata": {
        "colab": {
          "base_uri": "https://localhost:8080/"
        },
        "id": "VrmWLS9KzQAi",
        "outputId": "e413662a-0abf-4f43-de61-b2664c37cdb4"
      },
      "execution_count": null,
      "outputs": [
        {
          "output_type": "stream",
          "name": "stdout",
          "text": [
            "{'H': 1, 'He': 2, 'Li': 3, 'Be': 4, 'B': 5, 'C': 6, 'N': 7, 'O': 8, 'F': 9, 'Ne': 10, 'Na': 11, 'Mi': 12, 'Al': 13, 'Si': 14, 'P': 15, 'S': 16, 'Cl': 17, 'Ar': 18, 'K': 19, 'Ca': 20}\n"
          ]
        }
      ]
    },
    {
      "cell_type": "code",
      "source": [
        "def ngram(n,word,st=False):\n",
        "  if st:\n",
        "    list=[]\n",
        "    for i in range(len(word)-n+1):\n",
        "      list.append(word[i:i+n])\n",
        "    return(list)\n",
        "  else:\n",
        "    word = word.split()\n",
        "    list=[]\n",
        "    for i in range(len(word)-n+1):\n",
        "      list.append(word[i:i+n])\n",
        "    return(list)\n",
        "  # list=[]\n",
        "  # for i in range(len(word)-n+1):\n",
        "  #   list.append(word[i:i+n])\n",
        "  # return(list)\n",
        "\n",
        "str\n",
        "text=\"I am an NLPer\"\n",
        "print(ngram(2,text.split()))\n",
        "print(ngram(2,text,st=True))"
      ],
      "metadata": {
        "colab": {
          "base_uri": "https://localhost:8080/"
        },
        "id": "iHX2f8hD-jTC",
        "outputId": "63c262c0-9ef7-4ba8-876d-a0bede183bdd"
      },
      "execution_count": null,
      "outputs": [
        {
          "output_type": "stream",
          "name": "stdout",
          "text": [
            "[['I', 'am'], ['am', 'an'], ['an', 'NLPer']]\n",
            "['I ', ' a', 'am', 'm ', ' a', 'an', 'n ', ' N', 'NL', 'LP', 'Pe', 'er']\n"
          ]
        }
      ]
    },
    {
      "cell_type": "code",
      "source": [
        "text1=\"paraparaparadise\"\n",
        "text2=\"paragraph\"\n",
        "\n",
        "X=set(ngram(2,text1))\n",
        "Y=set(ngram(2,text2))\n",
        "\n",
        "print(\"X:\",X)\n",
        "print(\"Y:\",Y)\n",
        "print(\"和集合:\",X | Y)\n",
        "print(\"積集合:\",X & Y)\n",
        "print(\"差集合:\",X - Y)\n",
        "print(\"Xに含まれるかどうか：\",\"se\"in X)\n",
        "print(\"Yに含まれるかどうか：\",\"se\"in Y)\n"
      ],
      "metadata": {
        "colab": {
          "base_uri": "https://localhost:8080/"
        },
        "id": "Bu-t-F1tDRMg",
        "outputId": "035bf16b-68f7-4aa9-a57f-f9335360d6bf"
      },
      "execution_count": null,
      "outputs": [
        {
          "output_type": "stream",
          "name": "stdout",
          "text": [
            "X: {'di', 'se', 'ap', 'ar', 'ra', 'pa', 'is', 'ad'}\n",
            "Y: {'ap', 'ar', 'ra', 'ag', 'pa', 'ph', 'gr'}\n",
            "和集合: {'di', 'se', 'ap', 'ar', 'ra', 'ag', 'pa', 'ph', 'is', 'ad', 'gr'}\n",
            "積集合: {'pa', 'ar', 'ap', 'ra'}\n",
            "差集合: {'di', 'se', 'ad', 'is'}\n",
            "Xに含まれるかどうか： True\n",
            "Yに含まれるかどうか： False\n"
          ]
        }
      ]
    },
    {
      "cell_type": "code",
      "source": [
        "def temperature(x,y,z):\n",
        "  print(f\"{x}時の{y}は{z}\")\n",
        "\n",
        "temperature(12,\"気温\",22.4)\n"
      ],
      "metadata": {
        "colab": {
          "base_uri": "https://localhost:8080/"
        },
        "id": "6uGTwwozKByv",
        "outputId": "2c904b2d-9188-4b0e-a6b9-d1398f08b0f6"
      },
      "execution_count": null,
      "outputs": [
        {
          "output_type": "stream",
          "name": "stdout",
          "text": [
            "12時の気温は22.4\n"
          ]
        }
      ]
    },
    {
      "cell_type": "code",
      "source": [
        "def cipher(word):\n",
        "  list=[]\n",
        "  for i in word:\n",
        "      if i.islower():\n",
        "        i=chr(219-ord(i))\n",
        "      list.append(i)\n",
        "  return(\"\".join(list))\n",
        "\n",
        "text1=\"Hello, World.\"\n",
        "text2=cipher(text1)\n",
        "print(\"暗号化: \",text2)\n",
        "text3=cipher(text2)\n",
        "print(\"復号化: \",text3)"
      ],
      "metadata": {
        "colab": {
          "base_uri": "https://localhost:8080/"
        },
        "id": "I2At_qkXM7QW",
        "outputId": "b314c596-f0d2-4cb6-9558-87f965205cb8"
      },
      "execution_count": null,
      "outputs": [
        {
          "output_type": "stream",
          "name": "stdout",
          "text": [
            "暗号化:  Hvool, Wliow.\n",
            "復号化:  Hello, World.\n"
          ]
        }
      ]
    },
    {
      "cell_type": "code",
      "source": [
        "import random\n",
        "\n",
        "text=\"I couldn't believe that I could actually understand what I was reading : the phenomenal power of the human mind .\"\n",
        "list=[]\n",
        "for w in text.split():\n",
        "  if len(w) > 4:\n",
        "    w=w[0]+\"\".join(random.sample((w[1:-1]),len(w)-2))+w[-1]\n",
        "  list.append(w)\n",
        "print(\" \".join(list))"
      ],
      "metadata": {
        "colab": {
          "base_uri": "https://localhost:8080/"
        },
        "id": "LuDUiOjtT9wH",
        "outputId": "d3a5dbba-5219-4376-9c38-10ab22fcfaea"
      },
      "execution_count": null,
      "outputs": [
        {
          "output_type": "stream",
          "name": "stdout",
          "text": [
            "I cnl'dout beielve that I cuold alutalcy ueradnsntd what I was raednig : the paheomennl poewr of the haumn mind .\n"
          ]
        }
      ]
    }
  ]
}