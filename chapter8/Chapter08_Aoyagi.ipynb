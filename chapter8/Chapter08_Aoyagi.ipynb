{
  "nbformat": 4,
  "nbformat_minor": 0,
  "metadata": {
    "colab": {
      "provenance": []
    },
    "kernelspec": {
      "name": "python3",
      "display_name": "Python 3"
    },
    "language_info": {
      "name": "python"
    },
    "accelerator": "GPU",
    "gpuClass": "standard"
  },
  "cells": [
    {
      "cell_type": "markdown",
      "source": [
        "# **第8章: ニューラルネット**"
      ],
      "metadata": {
        "id": "a0r2tFAFE2pb"
      }
    },
    {
      "cell_type": "markdown",
      "source": [
        "第6章で取り組んだニュース記事のカテゴリ分類を題材として，ニューラルネットワークでカテゴリ分類モデルを実装する．なお，この章ではPyTorch, TensorFlow, Chainerなどの機械学習プラットフォームを活用せよ．"
      ],
      "metadata": {
        "id": "vcv33_CZE6ye"
      }
    },
    {
      "cell_type": "markdown",
      "source": [
        "### **70. 単語ベクトルの和による特徴量**"
      ],
      "metadata": {
        "id": "ixl_u6NmE9IT"
      }
    },
    {
      "cell_type": "code",
      "execution_count": 3,
      "metadata": {
        "colab": {
          "base_uri": "https://localhost:8080/"
        },
        "id": "k2br96wJR0e8",
        "outputId": "57e7d117-598a-457a-f518-dfd7986895a9"
      },
      "outputs": [
        {
          "output_type": "stream",
          "name": "stdout",
          "text": [
            "--2023-01-20 06:53:13--  https://archive.ics.uci.edu/ml/machine-learning-databases/00359/NewsAggregatorDataset.zip\n",
            "Resolving archive.ics.uci.edu (archive.ics.uci.edu)... 128.195.10.252\n",
            "Connecting to archive.ics.uci.edu (archive.ics.uci.edu)|128.195.10.252|:443... connected.\n",
            "HTTP request sent, awaiting response... 200 OK\n",
            "Length: 29224203 (28M) [application/x-httpd-php]\n",
            "Saving to: ‘NewsAggregatorDataset.zip’\n",
            "\n",
            "NewsAggregatorDatas 100%[===================>]  27.87M  7.31MB/s    in 4.0s    \n",
            "\n",
            "2023-01-20 06:53:18 (7.00 MB/s) - ‘NewsAggregatorDataset.zip’ saved [29224203/29224203]\n",
            "\n",
            "Archive:  NewsAggregatorDataset.zip\n",
            "  inflating: 2pageSessions.csv       \n",
            "   creating: __MACOSX/\n",
            "  inflating: __MACOSX/._2pageSessions.csv  \n",
            "  inflating: newsCorpora.csv         \n",
            "  inflating: __MACOSX/._newsCorpora.csv  \n",
            "  inflating: readme.txt              \n",
            "  inflating: __MACOSX/._readme.txt   \n"
          ]
        }
      ],
      "source": [
        "!wget https://archive.ics.uci.edu/ml/machine-learning-databases/00359/NewsAggregatorDataset.zip\n",
        "!unzip NewsAggregatorDataset.zip"
      ]
    },
    {
      "cell_type": "code",
      "source": [
        "!sed -e 's/\"/'\\''/g' ./newsCorpora.csv > ./newsCorpora_re.csv"
      ],
      "metadata": {
        "id": "DrImJJgPHV_2"
      },
      "execution_count": 4,
      "outputs": []
    },
    {
      "cell_type": "code",
      "source": [
        "import pandas as pd\n",
        "from sklearn.model_selection import train_test_split\n",
        "\n",
        "# データの読込\n",
        "df = pd.read_csv('./newsCorpora_re.csv', header=None, sep='\\t', names=['ID', 'TITLE', 'URL', 'PUBLISHER', 'CATEGORY', 'STORY', 'HOSTNAME', 'TIMESTAMP'])\n",
        "\n",
        "# データの抽出\n",
        "df = df.loc[df['PUBLISHER'].isin(['Reuters', 'Huffington Post', 'Businessweek', 'Contactmusic.com', 'Daily Mail']), ['TITLE', 'CATEGORY']]\n",
        "\n",
        "# データの分割\n",
        "train, valid_test = train_test_split(df, test_size=0.2, shuffle=True, random_state=123, stratify=df['CATEGORY'])\n",
        "valid, test = train_test_split(valid_test, test_size=0.5, shuffle=True, random_state=123, stratify=valid_test['CATEGORY'])\n",
        "\n",
        "# 事例数の確認\n",
        "print('【学習データ】')\n",
        "print(train['CATEGORY'].value_counts())\n",
        "print('【検証データ】')\n",
        "print(valid['CATEGORY'].value_counts())\n",
        "print('【評価データ】')\n",
        "print(test['CATEGORY'].value_counts())"
      ],
      "metadata": {
        "colab": {
          "base_uri": "https://localhost:8080/"
        },
        "id": "fLZWAH0tHXJg",
        "outputId": "416fad20-e921-4c23-d1f9-f4c55250ae2e"
      },
      "execution_count": 5,
      "outputs": [
        {
          "output_type": "stream",
          "name": "stdout",
          "text": [
            "【学習データ】\n",
            "b    4501\n",
            "e    4235\n",
            "t    1220\n",
            "m     728\n",
            "Name: CATEGORY, dtype: int64\n",
            "【検証データ】\n",
            "b    563\n",
            "e    529\n",
            "t    153\n",
            "m     91\n",
            "Name: CATEGORY, dtype: int64\n",
            "【評価データ】\n",
            "b    563\n",
            "e    530\n",
            "t    152\n",
            "m     91\n",
            "Name: CATEGORY, dtype: int64\n"
          ]
        }
      ]
    },
    {
      "cell_type": "code",
      "source": [
        "import gdown\n",
        "\n",
        "url = 'https://drive.google.com/uc?export=download&confirm=pbef&id=0B7XkCwpI5KDYNlNUTTlSS21pQmM'\n",
        "output = 'GoogleNews-vectors-negative300.bin.gz'\n",
        "gdown.download(url, output, quiet=False)\n",
        "\n",
        "from gensim.models import KeyedVectors\n",
        "\n",
        "model = KeyedVectors.load_word2vec_format('./GoogleNews-vectors-negative300.bin.gz', binary=True)"
      ],
      "metadata": {
        "colab": {
          "base_uri": "https://localhost:8080/"
        },
        "id": "QJth3KIiHcp6",
        "outputId": "1b807ad9-fbae-4d1a-df8b-dfa33a4eaca2"
      },
      "execution_count": 6,
      "outputs": [
        {
          "output_type": "stream",
          "name": "stderr",
          "text": [
            "Downloading...\n",
            "From: https://drive.google.com/uc?export=download&confirm=pbef&id=0B7XkCwpI5KDYNlNUTTlSS21pQmM\n",
            "To: /content/GoogleNews-vectors-negative300.bin.gz\n",
            "100%|██████████| 1.65G/1.65G [00:20<00:00, 79.3MB/s]\n"
          ]
        }
      ]
    },
    {
      "cell_type": "code",
      "source": [
        "import string\n",
        "import torch\n",
        "\n",
        "def transform_w2v(text):\n",
        "  table = str.maketrans(string.punctuation, ' '*len(string.punctuation))\n",
        "  words = text.translate(table).split()  # 記号をスペースに置換後、スペースで分割してリスト化\n",
        "  vec = [model[word] for word in words if word in model]  # 1語ずつベクトル化\n",
        "\n",
        "  return torch.tensor(sum(vec) / len(vec))  # 平均ベクトルをTensor型に変換して出力"
      ],
      "metadata": {
        "id": "DD-VOgPuMd_o"
      },
      "execution_count": 7,
      "outputs": []
    },
    {
      "cell_type": "code",
      "source": [
        "# 特徴ベクトルの作成\n",
        "X_train = torch.stack([transform_w2v(text) for text in train['TITLE']])\n",
        "X_valid = torch.stack([transform_w2v(text) for text in valid['TITLE']])\n",
        "X_test = torch.stack([transform_w2v(text) for text in test['TITLE']])\n",
        "\n",
        "print(X_train.size())\n",
        "print(X_train)"
      ],
      "metadata": {
        "id": "KgxcA--yMg0H",
        "colab": {
          "base_uri": "https://localhost:8080/"
        },
        "outputId": "58206526-fa9b-468b-e8cb-ca1e246314c2"
      },
      "execution_count": 8,
      "outputs": [
        {
          "output_type": "stream",
          "name": "stdout",
          "text": [
            "torch.Size([10684, 300])\n",
            "tensor([[ 0.0837,  0.0056,  0.0068,  ...,  0.0751,  0.0433, -0.0868],\n",
            "        [ 0.0272,  0.0266, -0.0947,  ..., -0.1046, -0.0489, -0.0092],\n",
            "        [ 0.0577, -0.0159, -0.0780,  ..., -0.0421,  0.1229,  0.0876],\n",
            "        ...,\n",
            "        [ 0.0392, -0.0052,  0.0686,  ..., -0.0175,  0.0061, -0.0224],\n",
            "        [ 0.0798,  0.1017,  0.1066,  ..., -0.0752,  0.0623,  0.1138],\n",
            "        [ 0.1664,  0.0451,  0.0508,  ..., -0.0531, -0.0183, -0.0039]])\n"
          ]
        }
      ]
    },
    {
      "cell_type": "code",
      "source": [
        "# ラベルベクトルの作成\n",
        "category_dict = {'b': 0, 't': 1, 'e':2, 'm':3}\n",
        "y_train = torch.tensor(train['CATEGORY'].map(lambda x: category_dict[x]).values)\n",
        "y_valid = torch.tensor(valid['CATEGORY'].map(lambda x: category_dict[x]).values)\n",
        "y_test = torch.tensor(test['CATEGORY'].map(lambda x: category_dict[x]).values)\n",
        "\n",
        "print(y_train.size())\n",
        "print(y_train)"
      ],
      "metadata": {
        "id": "otHkB0JIMkS3",
        "colab": {
          "base_uri": "https://localhost:8080/"
        },
        "outputId": "f3b1088e-6027-430b-aa27-17fa89f8cd51"
      },
      "execution_count": 9,
      "outputs": [
        {
          "output_type": "stream",
          "name": "stdout",
          "text": [
            "torch.Size([10684])\n",
            "tensor([0, 1, 3,  ..., 0, 3, 2])\n"
          ]
        }
      ]
    },
    {
      "cell_type": "code",
      "source": [
        "# 保存\n",
        "torch.save(X_train, 'X_train.pt')\n",
        "torch.save(X_valid, 'X_valid.pt')\n",
        "torch.save(X_test, 'X_test.pt')\n",
        "torch.save(y_train, 'y_train.pt')\n",
        "torch.save(y_valid, 'y_valid.pt')\n",
        "torch.save(y_test, 'y_test.pt')"
      ],
      "metadata": {
        "id": "WsdYS1beMl2D"
      },
      "execution_count": 10,
      "outputs": []
    },
    {
      "cell_type": "markdown",
      "source": [
        "### **71. 単層ニューラルネットワークによる予測**"
      ],
      "metadata": {
        "id": "JBSfzRysFWBy"
      }
    },
    {
      "cell_type": "code",
      "source": [
        "from torch import nn\n",
        "\n",
        "class SLPNet(nn.Module):\n",
        "  def __init__(self, input_size, output_size):\n",
        "    super().__init__()\n",
        "    self.fc = nn.Linear(input_size, output_size, bias=False)\n",
        "    nn.init.normal_(self.fc.weight, 0.0, 1.0)  # 正規乱数で重みを初期化\n",
        "\n",
        "  def forward(self, x):\n",
        "    x = self.fc(x)\n",
        "    return x"
      ],
      "metadata": {
        "id": "OIlpX5DTMoaK"
      },
      "execution_count": 11,
      "outputs": []
    },
    {
      "cell_type": "code",
      "source": [
        "model = SLPNet(300, 4)  # 単層ニューラルネットワークの初期化\n",
        "y_hat_1 = torch.softmax(model(X_train[:1]), dim=-1)\n",
        "print(y_hat_1)"
      ],
      "metadata": {
        "id": "qzXBQYcDMrao",
        "colab": {
          "base_uri": "https://localhost:8080/"
        },
        "outputId": "79971995-3d67-4cf6-ca7c-c4acc3e901ec"
      },
      "execution_count": 12,
      "outputs": [
        {
          "output_type": "stream",
          "name": "stdout",
          "text": [
            "tensor([[0.7064, 0.0551, 0.1618, 0.0767]], grad_fn=<SoftmaxBackward0>)\n"
          ]
        }
      ]
    },
    {
      "cell_type": "code",
      "source": [
        "Y_hat = torch.softmax(model.forward(X_train[:4]), dim=-1)\n",
        "print(Y_hat)"
      ],
      "metadata": {
        "id": "q8HSzI4nMsZv",
        "colab": {
          "base_uri": "https://localhost:8080/"
        },
        "outputId": "dfaf438d-fb61-4013-90c0-2d5f4eecaa0c"
      },
      "execution_count": 13,
      "outputs": [
        {
          "output_type": "stream",
          "name": "stdout",
          "text": [
            "tensor([[0.7064, 0.0551, 0.1618, 0.0767],\n",
            "        [0.1968, 0.4333, 0.2015, 0.1684],\n",
            "        [0.3047, 0.3078, 0.1483, 0.2392],\n",
            "        [0.1086, 0.4489, 0.0225, 0.4200]], grad_fn=<SoftmaxBackward0>)\n"
          ]
        }
      ]
    },
    {
      "cell_type": "markdown",
      "source": [
        "### **72. 損失と勾配の計算**"
      ],
      "metadata": {
        "id": "hFbjbBN6FZ7B"
      }
    },
    {
      "cell_type": "code",
      "source": [
        "criterion = nn.CrossEntropyLoss()"
      ],
      "metadata": {
        "id": "TAht1Wa8MvKO"
      },
      "execution_count": 14,
      "outputs": []
    },
    {
      "cell_type": "code",
      "source": [
        "l_1 = criterion(model(X_train[:1]), y_train[:1])  # 入力ベクトルはsoftmax前の値\n",
        "model.zero_grad()  # 勾配をゼロで初期化\n",
        "l_1.backward()  # 勾配を計算\n",
        "print(f'損失: {l_1:.4f}')\n",
        "print(f'勾配:\\n{model.fc.weight.grad}')"
      ],
      "metadata": {
        "id": "6iIcaWvSMw5s",
        "colab": {
          "base_uri": "https://localhost:8080/"
        },
        "outputId": "434c9e4c-1d1c-4c3a-c701-9a6c69586a65"
      },
      "execution_count": 15,
      "outputs": [
        {
          "output_type": "stream",
          "name": "stdout",
          "text": [
            "損失: 0.3476\n",
            "勾配:\n",
            "tensor([[-0.0246, -0.0017, -0.0020,  ..., -0.0221, -0.0127,  0.0255],\n",
            "        [ 0.0046,  0.0003,  0.0004,  ...,  0.0041,  0.0024, -0.0048],\n",
            "        [ 0.0135,  0.0009,  0.0011,  ...,  0.0122,  0.0070, -0.0140],\n",
            "        [ 0.0064,  0.0004,  0.0005,  ...,  0.0058,  0.0033, -0.0067]])\n"
          ]
        }
      ]
    },
    {
      "cell_type": "code",
      "source": [
        "l = criterion(model(X_train[:4]), y_train[:4])\n",
        "model.zero_grad()\n",
        "l.backward()\n",
        "print(f'損失: {l:.4f}')\n",
        "print(f'勾配:\\n{model.fc.weight.grad}')"
      ],
      "metadata": {
        "id": "ywNTGx1IM1hE",
        "colab": {
          "base_uri": "https://localhost:8080/"
        },
        "outputId": "90bf5bd7-4043-4354-a24f-b83228b8b6b3"
      },
      "execution_count": 16,
      "outputs": [
        {
          "output_type": "stream",
          "name": "stdout",
          "text": [
            "損失: 1.6022\n",
            "勾配:\n",
            "tensor([[-0.0019,  0.0010, -0.0094,  ..., -0.0142,  0.0048,  0.0120],\n",
            "        [-0.0045,  0.0007,  0.0145,  ...,  0.0111,  0.0214,  0.0045],\n",
            "        [ 0.0205, -0.0111, -0.0225,  ..., -0.0005, -0.0057,  0.0043],\n",
            "        [-0.0141,  0.0095,  0.0175,  ...,  0.0036, -0.0205, -0.0209]])\n"
          ]
        }
      ]
    },
    {
      "cell_type": "markdown",
      "source": [
        "### **73. 確率的勾配降下法による学習**"
      ],
      "metadata": {
        "id": "0IjrigyZFdjr"
      }
    },
    {
      "cell_type": "code",
      "source": [
        "from torch.utils.data import Dataset\n",
        "\n",
        "class NewsDataset(Dataset):\n",
        "  def __init__(self, X, y):  # datasetの構成要素を指定\n",
        "    self.X = X\n",
        "    self.y = y\n",
        "\n",
        "  def __len__(self):  # len(dataset)で返す値を指定\n",
        "    return len(self.y)\n",
        "\n",
        "  def __getitem__(self, idx):  # dataset[idx]で返す値を指定\n",
        "    return [self.X[idx], self.y[idx]]"
      ],
      "metadata": {
        "id": "1rKZ02_uM4yP"
      },
      "execution_count": 17,
      "outputs": []
    },
    {
      "cell_type": "code",
      "source": [
        "from torch.utils.data import DataLoader\n",
        "\n",
        "# Datasetの作成\n",
        "dataset_train = NewsDataset(X_train, y_train)\n",
        "dataset_valid = NewsDataset(X_valid, y_valid)\n",
        "dataset_test = NewsDataset(X_test, y_test)\n",
        "\n",
        "# Dataloaderの作成\n",
        "dataloader_train = DataLoader(dataset_train, batch_size=1, shuffle=True)\n",
        "dataloader_valid = DataLoader(dataset_valid, batch_size=len(dataset_valid), shuffle=False)\n",
        "dataloader_test = DataLoader(dataset_test, batch_size=len(dataset_test), shuffle=False)"
      ],
      "metadata": {
        "id": "cTq5oZPUNCD6"
      },
      "execution_count": 18,
      "outputs": []
    },
    {
      "cell_type": "code",
      "source": [
        "# モデルの定義\n",
        "model = SLPNet(300, 4)\n",
        "\n",
        "# 損失関数の定義\n",
        "criterion = nn.CrossEntropyLoss()\n",
        "\n",
        "# オプティマイザの定義\n",
        "optimizer = torch.optim.SGD(model.parameters(), lr=1e-1)\n",
        "\n",
        "# 学習\n",
        "num_epochs = 10\n",
        "for epoch in range(num_epochs):\n",
        "  # 訓練モードに設定\n",
        "  model.train()\n",
        "  loss_train = 0.0\n",
        "  for i, (inputs, labels) in enumerate(dataloader_train):\n",
        "    # 勾配をゼロで初期化\n",
        "    optimizer.zero_grad()\n",
        "\n",
        "    # 順伝播 + 誤差逆伝播 + 重み更新\n",
        "    outputs = model(inputs)\n",
        "    loss = criterion(outputs, labels)\n",
        "    loss.backward()\n",
        "    optimizer.step()\n",
        "\n",
        "    # 損失を記録\n",
        "    loss_train += loss.item()\n",
        " \n",
        "  # バッチ単位の平均損失計算\n",
        "  loss_train = loss_train / i\n",
        "\n",
        "  # 検証データの損失計算\n",
        "  model.eval() \n",
        "  with torch.no_grad():\n",
        "    inputs, labels = next(iter(dataloader_valid))\n",
        "    outputs = model(inputs)\n",
        "    loss_valid = criterion(outputs, labels)\n",
        "\n",
        "  # ログを出力\n",
        "  print(f'epoch: {epoch + 1}, loss_train: {loss_train:.4f}, loss_valid: {loss_valid:.4f}')"
      ],
      "metadata": {
        "id": "3uSgqyMvNDe0",
        "colab": {
          "base_uri": "https://localhost:8080/"
        },
        "outputId": "e91cc448-5c82-4afa-d298-32ae8afcd1b3"
      },
      "execution_count": 19,
      "outputs": [
        {
          "output_type": "stream",
          "name": "stdout",
          "text": [
            "epoch: 1, loss_train: 0.4693, loss_valid: 0.3669\n",
            "epoch: 2, loss_train: 0.3111, loss_valid: 0.3367\n",
            "epoch: 3, loss_train: 0.2822, loss_valid: 0.3288\n",
            "epoch: 4, loss_train: 0.2666, loss_valid: 0.3147\n",
            "epoch: 5, loss_train: 0.2562, loss_valid: 0.3106\n",
            "epoch: 6, loss_train: 0.2488, loss_valid: 0.3076\n",
            "epoch: 7, loss_train: 0.2433, loss_valid: 0.3091\n",
            "epoch: 8, loss_train: 0.2395, loss_valid: 0.3112\n",
            "epoch: 9, loss_train: 0.2361, loss_valid: 0.3098\n",
            "epoch: 10, loss_train: 0.2330, loss_valid: 0.3084\n"
          ]
        }
      ]
    },
    {
      "cell_type": "markdown",
      "source": [
        "### **74. 正解率の計測**"
      ],
      "metadata": {
        "id": "OxlipYi2FkoJ"
      }
    },
    {
      "cell_type": "code",
      "source": [
        "def calculate_accuracy(model, loader):\n",
        "  model.eval()\n",
        "  total = 0\n",
        "  correct = 0\n",
        "  with torch.no_grad():\n",
        "    for inputs, labels in loader:\n",
        "      outputs = model(inputs)\n",
        "      pred = torch.argmax(outputs, dim=-1)\n",
        "      total += len(inputs)\n",
        "      correct += (pred == labels).sum().item()\n",
        "      \n",
        "  return correct / total"
      ],
      "metadata": {
        "id": "4bMxGGkANAcs"
      },
      "execution_count": 20,
      "outputs": []
    },
    {
      "cell_type": "code",
      "source": [
        "acc_train = calculate_accuracy(model, dataloader_train)\n",
        "acc_test = calculate_accuracy(model, dataloader_test)\n",
        "print(f'正解率（学習データ）：{acc_train:.3f}')\n",
        "print(f'正解率（評価データ）：{acc_test:.3f}')"
      ],
      "metadata": {
        "id": "71cqkgEONcA6",
        "colab": {
          "base_uri": "https://localhost:8080/"
        },
        "outputId": "f7153839-95cd-4225-d597-24dea6fa0993"
      },
      "execution_count": 21,
      "outputs": [
        {
          "output_type": "stream",
          "name": "stdout",
          "text": [
            "正解率（学習データ）：0.925\n",
            "正解率（評価データ）：0.899\n"
          ]
        }
      ]
    },
    {
      "cell_type": "markdown",
      "source": [
        "### **75. 損失と正解率のプロット**"
      ],
      "metadata": {
        "id": "8YyjkDoBFnay"
      }
    },
    {
      "cell_type": "code",
      "source": [
        "def calculate_loss_and_accuracy(model, criterion, loader):\n",
        "  model.eval()\n",
        "  loss = 0.0\n",
        "  total = 0\n",
        "  correct = 0\n",
        "  with torch.no_grad():\n",
        "    for inputs, labels in loader:\n",
        "      outputs = model(inputs)\n",
        "      loss += criterion(outputs, labels).item()\n",
        "      pred = torch.argmax(outputs, dim=-1)\n",
        "      total += len(inputs)\n",
        "      correct += (pred == labels).sum().item()\n",
        "      \n",
        "  return loss / len(loader), correct / total"
      ],
      "metadata": {
        "id": "km-YAATFNen4"
      },
      "execution_count": 22,
      "outputs": []
    },
    {
      "cell_type": "code",
      "source": [
        "# モデルの定義\n",
        "model = SLPNet(300, 4)\n",
        "\n",
        "# 損失関数の定義\n",
        "criterion = nn.CrossEntropyLoss()\n",
        "\n",
        "# オプティマイザの定義\n",
        "optimizer = torch.optim.SGD(model.parameters(), lr=1e-1)\n",
        "\n",
        "# 学習\n",
        "num_epochs = 30\n",
        "log_train = []\n",
        "log_valid = []\n",
        "for epoch in range(num_epochs):\n",
        "  # 訓練モードに設定\n",
        "  model.train()\n",
        "  for inputs, labels in dataloader_train:\n",
        "    # 勾配をゼロで初期化\n",
        "    optimizer.zero_grad()\n",
        "\n",
        "    # 順伝播 + 誤差逆伝播 + 重み更新\n",
        "    outputs = model(inputs)\n",
        "    loss = criterion(outputs, labels)\n",
        "    loss.backward()\n",
        "    optimizer.step()\n",
        " \n",
        "  # 損失と正解率の算出\n",
        "  loss_train, acc_train = calculate_loss_and_accuracy(model, criterion, dataloader_train)\n",
        "  loss_valid, acc_valid = calculate_loss_and_accuracy(model, criterion, dataloader_valid)\n",
        "  log_train.append([loss_train, acc_train])\n",
        "  log_valid.append([loss_valid, acc_valid])\n",
        "\n",
        "  # ログを出力\n",
        "  print(f'epoch: {epoch + 1}, loss_train: {loss_train:.4f}, accuracy_train: {acc_train:.4f}, loss_valid: {loss_valid:.4f}, accuracy_valid: {acc_valid:.4f}')  "
      ],
      "metadata": {
        "id": "8LGQhD4wNjif",
        "colab": {
          "base_uri": "https://localhost:8080/"
        },
        "outputId": "e23ccaeb-c42c-4441-9777-b0422fd713a7"
      },
      "execution_count": 23,
      "outputs": [
        {
          "output_type": "stream",
          "name": "stdout",
          "text": [
            "epoch: 1, loss_train: 0.3415, accuracy_train: 0.8816, loss_valid: 0.3660, accuracy_valid: 0.8720\n",
            "epoch: 2, loss_train: 0.2889, accuracy_train: 0.9016, loss_valid: 0.3203, accuracy_valid: 0.8975\n",
            "epoch: 3, loss_train: 0.2698, accuracy_train: 0.9083, loss_valid: 0.3115, accuracy_valid: 0.9004\n",
            "epoch: 4, loss_train: 0.2571, accuracy_train: 0.9124, loss_valid: 0.3078, accuracy_valid: 0.8982\n",
            "epoch: 5, loss_train: 0.2463, accuracy_train: 0.9164, loss_valid: 0.3024, accuracy_valid: 0.9034\n",
            "epoch: 6, loss_train: 0.2387, accuracy_train: 0.9202, loss_valid: 0.3019, accuracy_valid: 0.8990\n",
            "epoch: 7, loss_train: 0.2379, accuracy_train: 0.9213, loss_valid: 0.3048, accuracy_valid: 0.8982\n",
            "epoch: 8, loss_train: 0.2324, accuracy_train: 0.9212, loss_valid: 0.3049, accuracy_valid: 0.8945\n",
            "epoch: 9, loss_train: 0.2282, accuracy_train: 0.9236, loss_valid: 0.3030, accuracy_valid: 0.8975\n",
            "epoch: 10, loss_train: 0.2259, accuracy_train: 0.9243, loss_valid: 0.3029, accuracy_valid: 0.8967\n",
            "epoch: 11, loss_train: 0.2231, accuracy_train: 0.9258, loss_valid: 0.3043, accuracy_valid: 0.8967\n",
            "epoch: 12, loss_train: 0.2202, accuracy_train: 0.9263, loss_valid: 0.3039, accuracy_valid: 0.8982\n",
            "epoch: 13, loss_train: 0.2189, accuracy_train: 0.9259, loss_valid: 0.3075, accuracy_valid: 0.8945\n",
            "epoch: 14, loss_train: 0.2178, accuracy_train: 0.9264, loss_valid: 0.3064, accuracy_valid: 0.8945\n",
            "epoch: 15, loss_train: 0.2190, accuracy_train: 0.9262, loss_valid: 0.3120, accuracy_valid: 0.8952\n",
            "epoch: 16, loss_train: 0.2159, accuracy_train: 0.9275, loss_valid: 0.3096, accuracy_valid: 0.8945\n",
            "epoch: 17, loss_train: 0.2184, accuracy_train: 0.9276, loss_valid: 0.3151, accuracy_valid: 0.8952\n",
            "epoch: 18, loss_train: 0.2163, accuracy_train: 0.9275, loss_valid: 0.3142, accuracy_valid: 0.8982\n",
            "epoch: 19, loss_train: 0.2164, accuracy_train: 0.9252, loss_valid: 0.3189, accuracy_valid: 0.8967\n",
            "epoch: 20, loss_train: 0.2121, accuracy_train: 0.9285, loss_valid: 0.3151, accuracy_valid: 0.8967\n",
            "epoch: 21, loss_train: 0.2104, accuracy_train: 0.9303, loss_valid: 0.3148, accuracy_valid: 0.8937\n",
            "epoch: 22, loss_train: 0.2102, accuracy_train: 0.9294, loss_valid: 0.3160, accuracy_valid: 0.8945\n",
            "epoch: 23, loss_train: 0.2096, accuracy_train: 0.9295, loss_valid: 0.3165, accuracy_valid: 0.8945\n",
            "epoch: 24, loss_train: 0.2090, accuracy_train: 0.9311, loss_valid: 0.3173, accuracy_valid: 0.8952\n",
            "epoch: 25, loss_train: 0.2170, accuracy_train: 0.9262, loss_valid: 0.3268, accuracy_valid: 0.8922\n",
            "epoch: 26, loss_train: 0.2079, accuracy_train: 0.9310, loss_valid: 0.3193, accuracy_valid: 0.8922\n",
            "epoch: 27, loss_train: 0.2108, accuracy_train: 0.9279, loss_valid: 0.3230, accuracy_valid: 0.8922\n",
            "epoch: 28, loss_train: 0.2080, accuracy_train: 0.9302, loss_valid: 0.3213, accuracy_valid: 0.8945\n",
            "epoch: 29, loss_train: 0.2104, accuracy_train: 0.9292, loss_valid: 0.3291, accuracy_valid: 0.8937\n",
            "epoch: 30, loss_train: 0.2072, accuracy_train: 0.9311, loss_valid: 0.3229, accuracy_valid: 0.8915\n"
          ]
        }
      ]
    },
    {
      "cell_type": "code",
      "source": [
        "from matplotlib import pyplot as plt\n",
        "import numpy as np\n",
        "\n",
        "\n",
        "# 視覚化\n",
        "fig, ax = plt.subplots(1, 2, figsize=(15, 5))\n",
        "ax[0].plot(np.array(log_train).T[0], label='train')\n",
        "ax[0].plot(np.array(log_valid).T[0], label='valid')\n",
        "ax[0].set_xlabel('epoch')\n",
        "ax[0].set_ylabel('loss')\n",
        "ax[0].legend()\n",
        "ax[1].plot(np.array(log_train).T[1], label='train')\n",
        "ax[1].plot(np.array(log_valid).T[1], label='valid')\n",
        "ax[1].set_xlabel('epoch')\n",
        "ax[1].set_ylabel('accuracy')\n",
        "ax[1].legend()\n",
        "plt.show()"
      ],
      "metadata": {
        "id": "6BTqsx63Nt4i",
        "colab": {
          "base_uri": "https://localhost:8080/",
          "height": 334
        },
        "outputId": "86ff4106-d941-4728-e8fc-48f126e16ec6"
      },
      "execution_count": 24,
      "outputs": [
        {
          "output_type": "display_data",
          "data": {
            "text/plain": [
              "<Figure size 1080x360 with 2 Axes>"
            ],
            "image/png": "[encoded data removed]"
          },
          "metadata": {
            "needs_background": "light"
          }
        }
      ]
    },
    {
      "cell_type": "markdown",
      "source": [
        "### **76. チェックポイント**"
      ],
      "metadata": {
        "id": "x5qZL1QXFqdb"
      }
    },
    {
      "cell_type": "code",
      "source": [
        "# モデルの定義\n",
        "model = SLPNet(300, 4)\n",
        "\n",
        "# 損失関数の定義\n",
        "criterion = nn.CrossEntropyLoss()\n",
        "\n",
        "# オプティマイザの定義\n",
        "optimizer = torch.optim.SGD(model.parameters(), lr=1e-1)\n",
        "\n",
        "# 学習\n",
        "num_epochs = 10\n",
        "log_train = []\n",
        "log_valid = []\n",
        "for epoch in range(num_epochs):\n",
        "  # 訓練モードに設定\n",
        "  model.train()\n",
        "  for inputs, labels in dataloader_train:\n",
        "    # 勾配をゼロで初期化\n",
        "    optimizer.zero_grad()\n",
        "\n",
        "    # 順伝播 + 誤差逆伝播 + 重み更新\n",
        "    outputs = model(inputs)\n",
        "    loss = criterion(outputs, labels)\n",
        "    loss.backward()\n",
        "    optimizer.step()\n",
        " \n",
        "  # 損失と正解率の算出\n",
        "  loss_train, acc_train = calculate_loss_and_accuracy(model, criterion, dataloader_train)\n",
        "  loss_valid, acc_valid = calculate_loss_and_accuracy(model, criterion, dataloader_valid)\n",
        "  log_train.append([loss_train, acc_train])\n",
        "  log_valid.append([loss_valid, acc_valid])\n",
        "\n",
        "  # チェックポイントの保存\n",
        "  torch.save({'epoch': epoch, 'model_state_dict': model.state_dict(), 'optimizer_state_dict': optimizer.state_dict()}, f'checkpoint{epoch + 1}.pt')\n",
        "\n",
        "  # ログを出力\n",
        "  print(f'epoch: {epoch + 1}, loss_train: {loss_train:.4f}, accuracy_train: {acc_train:.4f}, loss_valid: {loss_valid:.4f}, accuracy_valid: {acc_valid:.4f}')  "
      ],
      "metadata": {
        "id": "NHYBLGxGNxpS",
        "colab": {
          "base_uri": "https://localhost:8080/"
        },
        "outputId": "ddcc111b-dc33-419a-8903-2b6c71d34435"
      },
      "execution_count": 25,
      "outputs": [
        {
          "output_type": "stream",
          "name": "stdout",
          "text": [
            "epoch: 1, loss_train: 0.3307, accuracy_train: 0.8873, loss_valid: 0.3626, accuracy_valid: 0.8728\n",
            "epoch: 2, loss_train: 0.2853, accuracy_train: 0.9046, loss_valid: 0.3297, accuracy_valid: 0.8907\n",
            "epoch: 3, loss_train: 0.2771, accuracy_train: 0.9073, loss_valid: 0.3300, accuracy_valid: 0.8937\n",
            "epoch: 4, loss_train: 0.2534, accuracy_train: 0.9155, loss_valid: 0.3106, accuracy_valid: 0.8997\n",
            "epoch: 5, loss_train: 0.2470, accuracy_train: 0.9192, loss_valid: 0.3092, accuracy_valid: 0.8982\n",
            "epoch: 6, loss_train: 0.2415, accuracy_train: 0.9174, loss_valid: 0.3081, accuracy_valid: 0.8952\n",
            "epoch: 7, loss_train: 0.2339, accuracy_train: 0.9218, loss_valid: 0.3053, accuracy_valid: 0.9004\n",
            "epoch: 8, loss_train: 0.2312, accuracy_train: 0.9221, loss_valid: 0.3092, accuracy_valid: 0.8937\n",
            "epoch: 9, loss_train: 0.2274, accuracy_train: 0.9246, loss_valid: 0.3047, accuracy_valid: 0.8960\n",
            "epoch: 10, loss_train: 0.2249, accuracy_train: 0.9257, loss_valid: 0.3065, accuracy_valid: 0.8967\n"
          ]
        }
      ]
    },
    {
      "cell_type": "markdown",
      "source": [
        "### **77. ミニバッチ化**"
      ],
      "metadata": {
        "id": "zmIvdeQpFu19"
      }
    },
    {
      "cell_type": "code",
      "source": [
        "import time\n",
        "\n",
        "def train_model(dataset_train, dataset_valid, batch_size, model, criterion, optimizer, num_epochs):\n",
        "  # dataloaderの作成\n",
        "  dataloader_train = DataLoader(dataset_train, batch_size=batch_size, shuffle=True)\n",
        "  dataloader_valid = DataLoader(dataset_valid, batch_size=len(dataset_valid), shuffle=False)\n",
        "\n",
        "  # 学習\n",
        "  log_train = []\n",
        "  log_valid = []\n",
        "  for epoch in range(num_epochs):\n",
        "    # 開始時刻の記録\n",
        "    s_time = time.time()\n",
        "\n",
        "    # 訓練モードに設定\n",
        "    model.train()\n",
        "    for inputs, labels in dataloader_train:\n",
        "      # 勾配をゼロで初期化\n",
        "      optimizer.zero_grad()\n",
        "\n",
        "      # 順伝播 + 誤差逆伝播 + 重み更新\n",
        "      outputs = model(inputs)\n",
        "      loss = criterion(outputs, labels)\n",
        "      loss.backward()\n",
        "      optimizer.step()\n",
        "  \n",
        "    # 損失と正解率の算出\n",
        "    loss_train, acc_train = calculate_loss_and_accuracy(model, criterion, dataloader_train)\n",
        "    loss_valid, acc_valid = calculate_loss_and_accuracy(model, criterion, dataloader_valid)\n",
        "    log_train.append([loss_train, acc_train])\n",
        "    log_valid.append([loss_valid, acc_valid])\n",
        "\n",
        "    # チェックポイントの保存\n",
        "    torch.save({'epoch': epoch, 'model_state_dict': model.state_dict(), 'optimizer_state_dict': optimizer.state_dict()}, f'checkpoint{epoch + 1}.pt')\n",
        "\n",
        "    # 終了時刻の記録\n",
        "    e_time = time.time()\n",
        "\n",
        "    # ログを出力\n",
        "    print(f'epoch: {epoch + 1}, loss_train: {loss_train:.4f}, accuracy_train: {acc_train:.4f}, loss_valid: {loss_valid:.4f}, accuracy_valid: {acc_valid:.4f}, {(e_time - s_time):.4f}sec') \n",
        "\n",
        "  return {'train': log_train, 'valid': log_valid}"
      ],
      "metadata": {
        "id": "zlFvnDrYN1-m"
      },
      "execution_count": 26,
      "outputs": []
    },
    {
      "cell_type": "code",
      "source": [
        "# datasetの作成\n",
        "dataset_train = NewsDataset(X_train, y_train)\n",
        "dataset_valid = NewsDataset(X_valid, y_valid)\n",
        "\n",
        "# モデルの定義\n",
        "model = SLPNet(300, 4)\n",
        "\n",
        "# 損失関数の定義\n",
        "criterion = nn.CrossEntropyLoss()\n",
        "\n",
        "# オプティマイザの定義\n",
        "optimizer = torch.optim.SGD(model.parameters(), lr=1e-1)\n",
        "\n",
        "# モデルの学習\n",
        "for batch_size in [2 ** i for i in range(11)]:\n",
        "  print(f'バッチサイズ: {batch_size}')\n",
        "  log = train_model(dataset_train, dataset_valid, batch_size, model, criterion, optimizer, 1)"
      ],
      "metadata": {
        "id": "OTiKeTmgN3ny",
        "colab": {
          "base_uri": "https://localhost:8080/"
        },
        "outputId": "7ffc78fe-fb8b-40be-b259-bd7742057eda"
      },
      "execution_count": 27,
      "outputs": [
        {
          "output_type": "stream",
          "name": "stdout",
          "text": [
            "バッチサイズ: 1\n",
            "epoch: 1, loss_train: 0.3308, accuracy_train: 0.8848, loss_valid: 0.3571, accuracy_valid: 0.8743, 4.2507sec\n",
            "バッチサイズ: 2\n",
            "epoch: 1, loss_train: 0.3028, accuracy_train: 0.8949, loss_valid: 0.3349, accuracy_valid: 0.8892, 2.3061sec\n",
            "バッチサイズ: 4\n",
            "epoch: 1, loss_train: 0.2944, accuracy_train: 0.8987, loss_valid: 0.3281, accuracy_valid: 0.8960, 1.2378sec\n",
            "バッチサイズ: 8\n",
            "epoch: 1, loss_train: 0.2900, accuracy_train: 0.9018, loss_valid: 0.3257, accuracy_valid: 0.8930, 0.7113sec\n",
            "バッチサイズ: 16\n",
            "epoch: 1, loss_train: 0.2877, accuracy_train: 0.9019, loss_valid: 0.3244, accuracy_valid: 0.8982, 0.4220sec\n",
            "バッチサイズ: 32\n",
            "epoch: 1, loss_train: 0.2868, accuracy_train: 0.9021, loss_valid: 0.3238, accuracy_valid: 0.8967, 0.2681sec\n",
            "バッチサイズ: 64\n",
            "epoch: 1, loss_train: 0.2864, accuracy_train: 0.9024, loss_valid: 0.3236, accuracy_valid: 0.8960, 0.1935sec\n",
            "バッチサイズ: 128\n",
            "epoch: 1, loss_train: 0.2853, accuracy_train: 0.9028, loss_valid: 0.3235, accuracy_valid: 0.8952, 0.1648sec\n",
            "バッチサイズ: 256\n",
            "epoch: 1, loss_train: 0.2857, accuracy_train: 0.9028, loss_valid: 0.3234, accuracy_valid: 0.8952, 0.2375sec\n",
            "バッチサイズ: 512\n",
            "epoch: 1, loss_train: 0.2862, accuracy_train: 0.9028, loss_valid: 0.3234, accuracy_valid: 0.8952, 0.1183sec\n",
            "バッチサイズ: 1024\n",
            "epoch: 1, loss_train: 0.2836, accuracy_train: 0.9028, loss_valid: 0.3234, accuracy_valid: 0.8952, 0.1108sec\n"
          ]
        }
      ]
    },
    {
      "cell_type": "markdown",
      "source": [
        "### **78. GPU上での学習**"
      ],
      "metadata": {
        "id": "l31Kib0QFwHb"
      }
    },
    {
      "cell_type": "code",
      "source": [
        "def calculate_loss_and_accuracy(model, criterion, loader, device):\n",
        "  model.eval()\n",
        "  loss = 0.0\n",
        "  total = 0\n",
        "  correct = 0\n",
        "  with torch.no_grad():\n",
        "    for inputs, labels in loader:\n",
        "      inputs = inputs.to(device)\n",
        "      labels = labels.to(device)\n",
        "      outputs = model(inputs)\n",
        "      loss += criterion(outputs, labels).item()\n",
        "      pred = torch.argmax(outputs, dim=-1)\n",
        "      total += len(inputs)\n",
        "      correct += (pred == labels).sum().item()\n",
        "      \n",
        "  return loss / len(loader), correct / total\n",
        "  \n",
        "\n",
        "def train_model(dataset_train, dataset_valid, batch_size, model, criterion, optimizer, num_epochs, device=None):\n",
        "  # GPUに送る\n",
        "  model.to(device)\n",
        "\n",
        "  # dataloaderの作成\n",
        "  dataloader_train = DataLoader(dataset_train, batch_size=batch_size, shuffle=True)\n",
        "  dataloader_valid = DataLoader(dataset_valid, batch_size=len(dataset_valid), shuffle=False)\n",
        "\n",
        "  # 学習\n",
        "  log_train = []\n",
        "  log_valid = []\n",
        "  for epoch in range(num_epochs):\n",
        "    # 開始時刻の記録\n",
        "    s_time = time.time()\n",
        "\n",
        "    # 訓練モードに設定\n",
        "    model.train()\n",
        "    for inputs, labels in dataloader_train:\n",
        "      # 勾配をゼロで初期化\n",
        "      optimizer.zero_grad()\n",
        "\n",
        "      # 順伝播 + 誤差逆伝播 + 重み更新\n",
        "      inputs = inputs.to(device)\n",
        "      labels = labels.to(device)\n",
        "      outputs = model.forward(inputs)\n",
        "      loss = criterion(outputs, labels)\n",
        "      loss.backward()\n",
        "      optimizer.step()\n",
        "    \n",
        "    # 損失と正解率の算出\n",
        "    loss_train, acc_train = calculate_loss_and_accuracy(model, criterion, dataloader_train, device)\n",
        "    loss_valid, acc_valid = calculate_loss_and_accuracy(model, criterion, dataloader_valid, device)\n",
        "    log_train.append([loss_train, acc_train])\n",
        "    log_valid.append([loss_valid, acc_valid])\n",
        "\n",
        "    # チェックポイントの保存\n",
        "    torch.save({'epoch': epoch, 'model_state_dict': model.state_dict(), 'optimizer_state_dict': optimizer.state_dict()}, f'checkpoint{epoch + 1}.pt')\n",
        "\n",
        "    # 終了時刻の記録\n",
        "    e_time = time.time()\n",
        "\n",
        "    # ログを出力\n",
        "    print(f'epoch: {epoch + 1}, loss_train: {loss_train:.4f}, accuracy_train: {acc_train:.4f}, loss_valid: {loss_valid:.4f}, accuracy_valid: {acc_valid:.4f}, {(e_time - s_time):.4f}sec') \n",
        "\n",
        "  return {'train': log_train, 'valid': log_valid}"
      ],
      "metadata": {
        "id": "VKnK0R-JN7Wn"
      },
      "execution_count": 28,
      "outputs": []
    },
    {
      "cell_type": "code",
      "source": [
        "# datasetの作成\n",
        "dataset_train = NewsDataset(X_train, y_train)\n",
        "dataset_valid = NewsDataset(X_valid, y_valid)\n",
        "\n",
        "# モデルの定義\n",
        "model = SLPNet(300, 4)\n",
        "\n",
        "# 損失関数の定義\n",
        "criterion = nn.CrossEntropyLoss()\n",
        "\n",
        "# オプティマイザの定義\n",
        "optimizer = torch.optim.SGD(model.parameters(), lr=1e-1)\n",
        "\n",
        "# デバイスの指定\n",
        "device = torch.device('cuda')\n",
        "\n",
        "# モデルの学習\n",
        "for batch_size in [2 ** i for i in range(11)]:\n",
        "  print(f'バッチサイズ: {batch_size}')\n",
        "  log = train_model(dataset_train, dataset_valid, batch_size, model, criterion, optimizer, 1, device=device)"
      ],
      "metadata": {
        "id": "OFz4Q4B5N-y-",
        "colab": {
          "base_uri": "https://localhost:8080/"
        },
        "outputId": "183f9db3-6579-4780-b99a-93c62f30c70e"
      },
      "execution_count": 29,
      "outputs": [
        {
          "output_type": "stream",
          "name": "stdout",
          "text": [
            "バッチサイズ: 1\n",
            "epoch: 1, loss_train: 0.3280, accuracy_train: 0.8879, loss_valid: 0.3493, accuracy_valid: 0.8802, 12.4485sec\n",
            "バッチサイズ: 2\n",
            "epoch: 1, loss_train: 0.2998, accuracy_train: 0.8972, loss_valid: 0.3292, accuracy_valid: 0.8877, 4.8436sec\n",
            "バッチサイズ: 4\n",
            "epoch: 1, loss_train: 0.2910, accuracy_train: 0.9002, loss_valid: 0.3246, accuracy_valid: 0.8870, 2.4840sec\n",
            "バッチサイズ: 8\n",
            "epoch: 1, loss_train: 0.2872, accuracy_train: 0.9006, loss_valid: 0.3222, accuracy_valid: 0.8892, 1.3395sec\n",
            "バッチサイズ: 16\n",
            "epoch: 1, loss_train: 0.2852, accuracy_train: 0.9010, loss_valid: 0.3204, accuracy_valid: 0.8885, 0.7063sec\n",
            "バッチサイズ: 32\n",
            "epoch: 1, loss_train: 0.2843, accuracy_train: 0.9013, loss_valid: 0.3198, accuracy_valid: 0.8892, 0.4202sec\n",
            "バッチサイズ: 64\n",
            "epoch: 1, loss_train: 0.2840, accuracy_train: 0.9018, loss_valid: 0.3196, accuracy_valid: 0.8892, 0.2545sec\n",
            "バッチサイズ: 128\n",
            "epoch: 1, loss_train: 0.2839, accuracy_train: 0.9019, loss_valid: 0.3195, accuracy_valid: 0.8892, 0.1789sec\n",
            "バッチサイズ: 256\n",
            "epoch: 1, loss_train: 0.2831, accuracy_train: 0.9020, loss_valid: 0.3194, accuracy_valid: 0.8900, 0.1467sec\n",
            "バッチサイズ: 512\n",
            "epoch: 1, loss_train: 0.2835, accuracy_train: 0.9021, loss_valid: 0.3194, accuracy_valid: 0.8900, 0.1196sec\n",
            "バッチサイズ: 1024\n",
            "epoch: 1, loss_train: 0.2830, accuracy_train: 0.9021, loss_valid: 0.3194, accuracy_valid: 0.8900, 0.2161sec\n"
          ]
        }
      ]
    },
    {
      "cell_type": "markdown",
      "source": [
        "### **79. 多層ニューラルネットワーク**"
      ],
      "metadata": {
        "id": "oIQ9ftwyFyVN"
      }
    },
    {
      "cell_type": "code",
      "source": [
        "from torch.nn import functional as F\n",
        "\n",
        "class MLPNet(nn.Module):\n",
        "  def __init__(self, input_size, mid_size, output_size, mid_layers):\n",
        "    super().__init__()\n",
        "    self.mid_layers = mid_layers\n",
        "    self.fc = nn.Linear(input_size, mid_size)\n",
        "    self.fc_mid = nn.Linear(mid_size, mid_size)\n",
        "    self.fc_out = nn.Linear(mid_size, output_size) \n",
        "    self.bn = nn.BatchNorm1d(mid_size)\n",
        "\n",
        "  def forward(self, x):\n",
        "    x = F.relu(self.fc(x))\n",
        "    for _ in range(self.mid_layers):\n",
        "      x = F.relu(self.bn(self.fc_mid(x)))\n",
        "    x = F.relu(self.fc_out(x))\n",
        " \n",
        "    return x"
      ],
      "metadata": {
        "id": "3jzki00RODj8"
      },
      "execution_count": 30,
      "outputs": []
    },
    {
      "cell_type": "code",
      "source": [
        "from torch import optim\n",
        "\n",
        "def calculate_loss_and_accuracy(model, criterion, loader, device):\n",
        "  model.eval()\n",
        "  loss = 0.0\n",
        "  total = 0\n",
        "  correct = 0\n",
        "  with torch.no_grad():\n",
        "    for inputs, labels in loader:\n",
        "      inputs = inputs.to(device)\n",
        "      labels = labels.to(device)\n",
        "      outputs = model(inputs)\n",
        "      loss += criterion(outputs, labels).item()\n",
        "      pred = torch.argmax(outputs, dim=-1)\n",
        "      total += len(inputs)\n",
        "      correct += (pred == labels).sum().item()\n",
        "      \n",
        "  return loss / len(loader), correct / total\n",
        "  \n",
        "\n",
        "def train_model(dataset_train, dataset_valid, batch_size, model, criterion, optimizer, num_epochs, device=None):\n",
        "  # GPUに送る\n",
        "  model.to(device)\n",
        "\n",
        "  # dataloaderの作成\n",
        "  dataloader_train = DataLoader(dataset_train, batch_size=batch_size, shuffle=True)\n",
        "  dataloader_valid = DataLoader(dataset_valid, batch_size=len(dataset_valid), shuffle=False)\n",
        "\n",
        "  # スケジューラの設定\n",
        "  scheduler = optim.lr_scheduler.CosineAnnealingLR(optimizer, num_epochs, eta_min=1e-5, last_epoch=-1)\n",
        "\n",
        "  # 学習\n",
        "  log_train = []\n",
        "  log_valid = []\n",
        "  for epoch in range(num_epochs):\n",
        "    # 開始時刻の記録\n",
        "    s_time = time.time()\n",
        "\n",
        "    # 訓練モードに設定\n",
        "    model.train()\n",
        "    for inputs, labels in dataloader_train:\n",
        "      # 勾配をゼロで初期化\n",
        "      optimizer.zero_grad()\n",
        "\n",
        "      # 順伝播 + 誤差逆伝播 + 重み更新\n",
        "      inputs = inputs.to(device)\n",
        "      labels = labels.to(device)\n",
        "      outputs = model.forward(inputs)\n",
        "      loss = criterion(outputs, labels)\n",
        "      loss.backward()\n",
        "      optimizer.step()\n",
        "    \n",
        "    # 損失と正解率の算出\n",
        "    loss_train, acc_train = calculate_loss_and_accuracy(model, criterion, dataloader_train, device)\n",
        "    loss_valid, acc_valid = calculate_loss_and_accuracy(model, criterion, dataloader_valid, device)\n",
        "    log_train.append([loss_train, acc_train])\n",
        "    log_valid.append([loss_valid, acc_valid])\n",
        "\n",
        "    # チェックポイントの保存\n",
        "    torch.save({'epoch': epoch, 'model_state_dict': model.state_dict(), 'optimizer_state_dict': optimizer.state_dict()}, f'checkpoint{epoch + 1}.pt')\n",
        "\n",
        "    # 終了時刻の記録\n",
        "    e_time = time.time()\n",
        "\n",
        "    # ログを出力\n",
        "    print(f'epoch: {epoch + 1}, loss_train: {loss_train:.4f}, accuracy_train: {acc_train:.4f}, loss_valid: {loss_valid:.4f}, accuracy_valid: {acc_valid:.4f}, {(e_time - s_time):.4f}sec') \n",
        "\n",
        "    # 検証データの損失が3エポック連続で低下しなかった場合は学習終了\n",
        "    if epoch > 2 and log_valid[epoch - 3][0] <= log_valid[epoch - 2][0] <= log_valid[epoch - 1][0] <= log_valid[epoch][0]:\n",
        "      break\n",
        "\n",
        "    # スケジューラを1ステップ進める\n",
        "    scheduler.step()\n",
        "\n",
        "  return {'train': log_train, 'valid': log_valid}"
      ],
      "metadata": {
        "id": "PlaFDVXzOJLo"
      },
      "execution_count": 31,
      "outputs": []
    },
    {
      "cell_type": "code",
      "source": [
        "# datasetの作成\n",
        "dataset_train = NewsDataset(X_train, y_train)\n",
        "dataset_valid = NewsDataset(X_valid, y_valid)\n",
        "\n",
        "# モデルの定義\n",
        "model = MLPNet(300, 200, 4, 1)\n",
        "\n",
        "# 損失関数の定義\n",
        "criterion = nn.CrossEntropyLoss()\n",
        "\n",
        "# オプティマイザの定義\n",
        "optimizer = torch.optim.SGD(model.parameters(), lr=1e-3)\n",
        "\n",
        "# デバイスの指定\n",
        "device = torch.device('cuda')\n",
        "\n",
        "# モデルの学習\n",
        "log = train_model(dataset_train, dataset_valid, 64, model, criterion, optimizer, 1000, device)"
      ],
      "metadata": {
        "id": "GfiPahZKOLUa",
        "colab": {
          "base_uri": "https://localhost:8080/"
        },
        "outputId": "7e3ef569-2de5-4f73-94bd-26cf972ea760"
      },
      "execution_count": 32,
      "outputs": [
        {
          "output_type": "stream",
          "name": "stdout",
          "text": [
            "epoch: 1, loss_train: 1.3083, accuracy_train: 0.5401, loss_valid: 1.3039, accuracy_valid: 0.5359, 0.4927sec\n",
            "epoch: 2, loss_train: 1.0685, accuracy_train: 0.6615, loss_valid: 1.0651, accuracy_valid: 0.6594, 0.4761sec\n",
            "epoch: 3, loss_train: 0.8065, accuracy_train: 0.7480, loss_valid: 0.8064, accuracy_valid: 0.7418, 0.4646sec\n",
            "epoch: 4, loss_train: 0.6733, accuracy_train: 0.7798, loss_valid: 0.6775, accuracy_valid: 0.7814, 0.4825sec\n",
            "epoch: 5, loss_train: 0.6168, accuracy_train: 0.7854, loss_valid: 0.6242, accuracy_valid: 0.7919, 0.4660sec\n",
            "epoch: 6, loss_train: 0.5771, accuracy_train: 0.7997, loss_valid: 0.5886, accuracy_valid: 0.8001, 0.4821sec\n",
            "epoch: 7, loss_train: 0.5412, accuracy_train: 0.8123, loss_valid: 0.5569, accuracy_valid: 0.8099, 0.4588sec\n",
            "epoch: 8, loss_train: 0.5091, accuracy_train: 0.8249, loss_valid: 0.5277, accuracy_valid: 0.8204, 0.4679sec\n",
            "epoch: 9, loss_train: 0.4815, accuracy_train: 0.8374, loss_valid: 0.5024, accuracy_valid: 0.8331, 0.4837sec\n",
            "epoch: 10, loss_train: 0.4579, accuracy_train: 0.8497, loss_valid: 0.4800, accuracy_valid: 0.8496, 0.5009sec\n",
            "epoch: 11, loss_train: 0.4337, accuracy_train: 0.8565, loss_valid: 0.4578, accuracy_valid: 0.8548, 0.4596sec\n",
            "epoch: 12, loss_train: 0.4153, accuracy_train: 0.8654, loss_valid: 0.4412, accuracy_valid: 0.8630, 0.4723sec\n",
            "epoch: 13, loss_train: 0.3991, accuracy_train: 0.8725, loss_valid: 0.4266, accuracy_valid: 0.8615, 0.4591sec\n",
            "epoch: 14, loss_train: 0.3853, accuracy_train: 0.8762, loss_valid: 0.4142, accuracy_valid: 0.8668, 0.4821sec\n",
            "epoch: 15, loss_train: 0.3720, accuracy_train: 0.8798, loss_valid: 0.4026, accuracy_valid: 0.8735, 0.4614sec\n",
            "epoch: 16, loss_train: 0.3602, accuracy_train: 0.8844, loss_valid: 0.3924, accuracy_valid: 0.8735, 0.4916sec\n",
            "epoch: 17, loss_train: 0.3505, accuracy_train: 0.8875, loss_valid: 0.3841, accuracy_valid: 0.8772, 0.5074sec\n",
            "epoch: 18, loss_train: 0.3410, accuracy_train: 0.8883, loss_valid: 0.3770, accuracy_valid: 0.8720, 0.4668sec\n",
            "epoch: 19, loss_train: 0.3328, accuracy_train: 0.8921, loss_valid: 0.3696, accuracy_valid: 0.8840, 0.4746sec\n",
            "epoch: 20, loss_train: 0.3252, accuracy_train: 0.8925, loss_valid: 0.3643, accuracy_valid: 0.8780, 0.4783sec\n",
            "epoch: 21, loss_train: 0.3184, accuracy_train: 0.8957, loss_valid: 0.3583, accuracy_valid: 0.8862, 0.4710sec\n",
            "epoch: 22, loss_train: 0.3120, accuracy_train: 0.8974, loss_valid: 0.3534, accuracy_valid: 0.8885, 0.4677sec\n",
            "epoch: 23, loss_train: 0.3055, accuracy_train: 0.8989, loss_valid: 0.3485, accuracy_valid: 0.8885, 0.4814sec\n",
            "epoch: 24, loss_train: 0.3020, accuracy_train: 0.9011, loss_valid: 0.3458, accuracy_valid: 0.8892, 0.4780sec\n",
            "epoch: 25, loss_train: 0.2957, accuracy_train: 0.9029, loss_valid: 0.3412, accuracy_valid: 0.8900, 0.4804sec\n",
            "epoch: 26, loss_train: 0.2915, accuracy_train: 0.9036, loss_valid: 0.3387, accuracy_valid: 0.8922, 0.4782sec\n",
            "epoch: 27, loss_train: 0.2867, accuracy_train: 0.9071, loss_valid: 0.3357, accuracy_valid: 0.8877, 0.4773sec\n",
            "epoch: 28, loss_train: 0.2824, accuracy_train: 0.9068, loss_valid: 0.3323, accuracy_valid: 0.8967, 0.4639sec\n",
            "epoch: 29, loss_train: 0.2790, accuracy_train: 0.9083, loss_valid: 0.3300, accuracy_valid: 0.8937, 0.4659sec\n",
            "epoch: 30, loss_train: 0.2737, accuracy_train: 0.9095, loss_valid: 0.3266, accuracy_valid: 0.8930, 0.4831sec\n",
            "epoch: 31, loss_train: 0.2734, accuracy_train: 0.9100, loss_valid: 0.3267, accuracy_valid: 0.8967, 0.4880sec\n",
            "epoch: 32, loss_train: 0.2694, accuracy_train: 0.9120, loss_valid: 0.3245, accuracy_valid: 0.8937, 0.4791sec\n",
            "epoch: 33, loss_train: 0.2651, accuracy_train: 0.9124, loss_valid: 0.3220, accuracy_valid: 0.8922, 0.4798sec\n",
            "epoch: 34, loss_train: 0.2639, accuracy_train: 0.9155, loss_valid: 0.3209, accuracy_valid: 0.8945, 0.4865sec\n",
            "epoch: 35, loss_train: 0.2618, accuracy_train: 0.9137, loss_valid: 0.3212, accuracy_valid: 0.8990, 0.5769sec\n",
            "epoch: 36, loss_train: 0.2572, accuracy_train: 0.9159, loss_valid: 0.3174, accuracy_valid: 0.8997, 0.4720sec\n",
            "epoch: 37, loss_train: 0.2537, accuracy_train: 0.9164, loss_valid: 0.3155, accuracy_valid: 0.8952, 0.4771sec\n",
            "epoch: 38, loss_train: 0.2532, accuracy_train: 0.9164, loss_valid: 0.3167, accuracy_valid: 0.8967, 0.4738sec\n",
            "epoch: 39, loss_train: 0.2514, accuracy_train: 0.9189, loss_valid: 0.3150, accuracy_valid: 0.8982, 0.4758sec\n",
            "epoch: 40, loss_train: 0.2476, accuracy_train: 0.9194, loss_valid: 0.3126, accuracy_valid: 0.8975, 0.4706sec\n",
            "epoch: 41, loss_train: 0.2450, accuracy_train: 0.9215, loss_valid: 0.3121, accuracy_valid: 0.8967, 0.4779sec\n",
            "epoch: 42, loss_train: 0.2423, accuracy_train: 0.9211, loss_valid: 0.3106, accuracy_valid: 0.8997, 0.4846sec\n",
            "epoch: 43, loss_train: 0.2399, accuracy_train: 0.9209, loss_valid: 0.3104, accuracy_valid: 0.8967, 0.4743sec\n",
            "epoch: 44, loss_train: 0.2379, accuracy_train: 0.9209, loss_valid: 0.3089, accuracy_valid: 0.8990, 0.4860sec\n",
            "epoch: 45, loss_train: 0.2361, accuracy_train: 0.9247, loss_valid: 0.3078, accuracy_valid: 0.8997, 0.4743sec\n",
            "epoch: 46, loss_train: 0.2336, accuracy_train: 0.9248, loss_valid: 0.3070, accuracy_valid: 0.8990, 0.4874sec\n",
            "epoch: 47, loss_train: 0.2319, accuracy_train: 0.9251, loss_valid: 0.3061, accuracy_valid: 0.8990, 0.6276sec\n",
            "epoch: 48, loss_train: 0.2293, accuracy_train: 0.9257, loss_valid: 0.3057, accuracy_valid: 0.9004, 0.6636sec\n",
            "epoch: 49, loss_train: 0.2295, accuracy_train: 0.9251, loss_valid: 0.3065, accuracy_valid: 0.9004, 0.6472sec\n",
            "epoch: 50, loss_train: 0.2272, accuracy_train: 0.9271, loss_valid: 0.3052, accuracy_valid: 0.9004, 0.6744sec\n",
            "epoch: 51, loss_train: 0.2275, accuracy_train: 0.9262, loss_valid: 0.3068, accuracy_valid: 0.8982, 0.6783sec\n",
            "epoch: 52, loss_train: 0.2228, accuracy_train: 0.9289, loss_valid: 0.3035, accuracy_valid: 0.9004, 0.7872sec\n",
            "epoch: 53, loss_train: 0.2204, accuracy_train: 0.9290, loss_valid: 0.3029, accuracy_valid: 0.9027, 0.6726sec\n",
            "epoch: 54, loss_train: 0.2184, accuracy_train: 0.9299, loss_valid: 0.3022, accuracy_valid: 0.8997, 0.4941sec\n",
            "epoch: 55, loss_train: 0.2166, accuracy_train: 0.9306, loss_valid: 0.3023, accuracy_valid: 0.9019, 0.4774sec\n",
            "epoch: 56, loss_train: 0.2163, accuracy_train: 0.9306, loss_valid: 0.3023, accuracy_valid: 0.8982, 0.4790sec\n",
            "epoch: 57, loss_train: 0.2143, accuracy_train: 0.9315, loss_valid: 0.3019, accuracy_valid: 0.9012, 0.4709sec\n",
            "epoch: 58, loss_train: 0.2123, accuracy_train: 0.9316, loss_valid: 0.3018, accuracy_valid: 0.9012, 0.4711sec\n",
            "epoch: 59, loss_train: 0.2117, accuracy_train: 0.9327, loss_valid: 0.3017, accuracy_valid: 0.9034, 0.4834sec\n",
            "epoch: 60, loss_train: 0.2102, accuracy_train: 0.9322, loss_valid: 0.3018, accuracy_valid: 0.8982, 0.4807sec\n",
            "epoch: 61, loss_train: 0.2073, accuracy_train: 0.9338, loss_valid: 0.3004, accuracy_valid: 0.9012, 0.4898sec\n",
            "epoch: 62, loss_train: 0.2095, accuracy_train: 0.9326, loss_valid: 0.3025, accuracy_valid: 0.9012, 0.4715sec\n",
            "epoch: 63, loss_train: 0.2045, accuracy_train: 0.9351, loss_valid: 0.2996, accuracy_valid: 0.9034, 0.4874sec\n",
            "epoch: 64, loss_train: 0.2035, accuracy_train: 0.9351, loss_valid: 0.3006, accuracy_valid: 0.9027, 0.4713sec\n",
            "epoch: 65, loss_train: 0.2024, accuracy_train: 0.9358, loss_valid: 0.2999, accuracy_valid: 0.9027, 0.4952sec\n",
            "epoch: 66, loss_train: 0.2011, accuracy_train: 0.9351, loss_valid: 0.3005, accuracy_valid: 0.9027, 0.4704sec\n",
            "epoch: 67, loss_train: 0.1996, accuracy_train: 0.9359, loss_valid: 0.3000, accuracy_valid: 0.9042, 0.4635sec\n",
            "epoch: 68, loss_train: 0.1989, accuracy_train: 0.9375, loss_valid: 0.2990, accuracy_valid: 0.9019, 0.4598sec\n",
            "epoch: 69, loss_train: 0.1965, accuracy_train: 0.9375, loss_valid: 0.2989, accuracy_valid: 0.9019, 0.4823sec\n",
            "epoch: 70, loss_train: 0.1963, accuracy_train: 0.9382, loss_valid: 0.2986, accuracy_valid: 0.9042, 0.4774sec\n",
            "epoch: 71, loss_train: 0.1935, accuracy_train: 0.9393, loss_valid: 0.2981, accuracy_valid: 0.9027, 0.4813sec\n",
            "epoch: 72, loss_train: 0.1933, accuracy_train: 0.9394, loss_valid: 0.2979, accuracy_valid: 0.9057, 0.4696sec\n",
            "epoch: 73, loss_train: 0.1920, accuracy_train: 0.9390, loss_valid: 0.2998, accuracy_valid: 0.9019, 0.4558sec\n",
            "epoch: 74, loss_train: 0.1906, accuracy_train: 0.9410, loss_valid: 0.2976, accuracy_valid: 0.9034, 0.4884sec\n",
            "epoch: 75, loss_train: 0.1886, accuracy_train: 0.9407, loss_valid: 0.2980, accuracy_valid: 0.9019, 0.4808sec\n",
            "epoch: 76, loss_train: 0.1879, accuracy_train: 0.9408, loss_valid: 0.2986, accuracy_valid: 0.9034, 0.5024sec\n",
            "epoch: 77, loss_train: 0.1863, accuracy_train: 0.9428, loss_valid: 0.2976, accuracy_valid: 0.9034, 0.4829sec\n",
            "epoch: 78, loss_train: 0.1859, accuracy_train: 0.9425, loss_valid: 0.2970, accuracy_valid: 0.9034, 0.5944sec\n",
            "epoch: 79, loss_train: 0.1851, accuracy_train: 0.9430, loss_valid: 0.2975, accuracy_valid: 0.9064, 0.4688sec\n",
            "epoch: 80, loss_train: 0.1821, accuracy_train: 0.9433, loss_valid: 0.2974, accuracy_valid: 0.9057, 0.4725sec\n",
            "epoch: 81, loss_train: 0.1819, accuracy_train: 0.9427, loss_valid: 0.2980, accuracy_valid: 0.9049, 0.4694sec\n",
            "epoch: 82, loss_train: 0.1799, accuracy_train: 0.9443, loss_valid: 0.2967, accuracy_valid: 0.9049, 0.4714sec\n",
            "epoch: 83, loss_train: 0.1794, accuracy_train: 0.9440, loss_valid: 0.2970, accuracy_valid: 0.9034, 0.4615sec\n",
            "epoch: 84, loss_train: 0.1785, accuracy_train: 0.9454, loss_valid: 0.2972, accuracy_valid: 0.9034, 0.4662sec\n",
            "epoch: 85, loss_train: 0.1766, accuracy_train: 0.9461, loss_valid: 0.2969, accuracy_valid: 0.9012, 0.4674sec\n",
            "epoch: 86, loss_train: 0.1748, accuracy_train: 0.9475, loss_valid: 0.2964, accuracy_valid: 0.9064, 0.4893sec\n",
            "epoch: 87, loss_train: 0.1744, accuracy_train: 0.9460, loss_valid: 0.2962, accuracy_valid: 0.9049, 0.4597sec\n",
            "epoch: 88, loss_train: 0.1738, accuracy_train: 0.9471, loss_valid: 0.2962, accuracy_valid: 0.9042, 0.4737sec\n",
            "epoch: 89, loss_train: 0.1715, accuracy_train: 0.9474, loss_valid: 0.2961, accuracy_valid: 0.9057, 0.4701sec\n",
            "epoch: 90, loss_train: 0.1716, accuracy_train: 0.9471, loss_valid: 0.2967, accuracy_valid: 0.9034, 0.4819sec\n",
            "epoch: 91, loss_train: 0.1692, accuracy_train: 0.9485, loss_valid: 0.2960, accuracy_valid: 0.9064, 0.4734sec\n",
            "epoch: 92, loss_train: 0.1696, accuracy_train: 0.9495, loss_valid: 0.2956, accuracy_valid: 0.9049, 0.4540sec\n",
            "epoch: 93, loss_train: 0.1679, accuracy_train: 0.9492, loss_valid: 0.2968, accuracy_valid: 0.9064, 0.4757sec\n",
            "epoch: 94, loss_train: 0.1668, accuracy_train: 0.9498, loss_valid: 0.2966, accuracy_valid: 0.9019, 0.4690sec\n",
            "epoch: 95, loss_train: 0.1657, accuracy_train: 0.9484, loss_valid: 0.2972, accuracy_valid: 0.9042, 0.4890sec\n",
            "epoch: 96, loss_train: 0.1653, accuracy_train: 0.9510, loss_valid: 0.2963, accuracy_valid: 0.9019, 0.4662sec\n",
            "epoch: 97, loss_train: 0.1636, accuracy_train: 0.9509, loss_valid: 0.2954, accuracy_valid: 0.9042, 0.4940sec\n",
            "epoch: 98, loss_train: 0.1631, accuracy_train: 0.9486, loss_valid: 0.2969, accuracy_valid: 0.9034, 0.4517sec\n",
            "epoch: 99, loss_train: 0.1610, accuracy_train: 0.9507, loss_valid: 0.2963, accuracy_valid: 0.9034, 0.4774sec\n",
            "epoch: 100, loss_train: 0.1609, accuracy_train: 0.9503, loss_valid: 0.2969, accuracy_valid: 0.9057, 0.4626sec\n",
            "epoch: 101, loss_train: 0.1596, accuracy_train: 0.9529, loss_valid: 0.2966, accuracy_valid: 0.9057, 0.4820sec\n",
            "epoch: 102, loss_train: 0.1599, accuracy_train: 0.9504, loss_valid: 0.2973, accuracy_valid: 0.9049, 0.4633sec\n",
            "epoch: 103, loss_train: 0.1571, accuracy_train: 0.9525, loss_valid: 0.2962, accuracy_valid: 0.9034, 0.4664sec\n",
            "epoch: 104, loss_train: 0.1581, accuracy_train: 0.9526, loss_valid: 0.2977, accuracy_valid: 0.9027, 0.4879sec\n",
            "epoch: 105, loss_train: 0.1555, accuracy_train: 0.9538, loss_valid: 0.2958, accuracy_valid: 0.9027, 0.4664sec\n",
            "epoch: 106, loss_train: 0.1555, accuracy_train: 0.9546, loss_valid: 0.2973, accuracy_valid: 0.9027, 0.4778sec\n",
            "epoch: 107, loss_train: 0.1537, accuracy_train: 0.9546, loss_valid: 0.2955, accuracy_valid: 0.9057, 0.4624sec\n",
            "epoch: 108, loss_train: 0.1528, accuracy_train: 0.9534, loss_valid: 0.2966, accuracy_valid: 0.9049, 0.4791sec\n",
            "epoch: 109, loss_train: 0.1506, accuracy_train: 0.9546, loss_valid: 0.2959, accuracy_valid: 0.9042, 0.4659sec\n",
            "epoch: 110, loss_train: 0.1506, accuracy_train: 0.9536, loss_valid: 0.2968, accuracy_valid: 0.9049, 0.4777sec\n",
            "epoch: 111, loss_train: 0.1493, accuracy_train: 0.9554, loss_valid: 0.2959, accuracy_valid: 0.9034, 0.4614sec\n",
            "epoch: 112, loss_train: 0.1488, accuracy_train: 0.9547, loss_valid: 0.2958, accuracy_valid: 0.9027, 0.4926sec\n",
            "epoch: 113, loss_train: 0.1460, accuracy_train: 0.9563, loss_valid: 0.2964, accuracy_valid: 0.9042, 0.4637sec\n",
            "epoch: 114, loss_train: 0.1483, accuracy_train: 0.9555, loss_valid: 0.2988, accuracy_valid: 0.9019, 0.4878sec\n",
            "epoch: 115, loss_train: 0.1461, accuracy_train: 0.9564, loss_valid: 0.2971, accuracy_valid: 0.9049, 0.4677sec\n",
            "epoch: 116, loss_train: 0.1439, accuracy_train: 0.9564, loss_valid: 0.2965, accuracy_valid: 0.9042, 0.4958sec\n",
            "epoch: 117, loss_train: 0.1438, accuracy_train: 0.9586, loss_valid: 0.2967, accuracy_valid: 0.9012, 0.4750sec\n",
            "epoch: 118, loss_train: 0.1437, accuracy_train: 0.9578, loss_valid: 0.2992, accuracy_valid: 0.9027, 0.4728sec\n",
            "epoch: 119, loss_train: 0.1425, accuracy_train: 0.9576, loss_valid: 0.2992, accuracy_valid: 0.9019, 0.4824sec\n",
            "epoch: 120, loss_train: 0.1412, accuracy_train: 0.9579, loss_valid: 0.2966, accuracy_valid: 0.9034, 0.4677sec\n",
            "epoch: 121, loss_train: 0.1392, accuracy_train: 0.9598, loss_valid: 0.2972, accuracy_valid: 0.9049, 0.5807sec\n",
            "epoch: 122, loss_train: 0.1384, accuracy_train: 0.9594, loss_valid: 0.2960, accuracy_valid: 0.9064, 0.4673sec\n",
            "epoch: 123, loss_train: 0.1383, accuracy_train: 0.9598, loss_valid: 0.2969, accuracy_valid: 0.9042, 0.4810sec\n",
            "epoch: 124, loss_train: 0.1368, accuracy_train: 0.9594, loss_valid: 0.2968, accuracy_valid: 0.9049, 0.4723sec\n",
            "epoch: 125, loss_train: 0.1356, accuracy_train: 0.9588, loss_valid: 0.2979, accuracy_valid: 0.9079, 0.4771sec\n",
            "epoch: 126, loss_train: 0.1348, accuracy_train: 0.9610, loss_valid: 0.2970, accuracy_valid: 0.9064, 0.4671sec\n",
            "epoch: 127, loss_train: 0.1329, accuracy_train: 0.9610, loss_valid: 0.2980, accuracy_valid: 0.9049, 0.4695sec\n",
            "epoch: 128, loss_train: 0.1319, accuracy_train: 0.9625, loss_valid: 0.2979, accuracy_valid: 0.9072, 0.4680sec\n",
            "epoch: 129, loss_train: 0.1323, accuracy_train: 0.9609, loss_valid: 0.2982, accuracy_valid: 0.9064, 0.4797sec\n",
            "epoch: 130, loss_train: 0.1308, accuracy_train: 0.9610, loss_valid: 0.2979, accuracy_valid: 0.9087, 0.4643sec\n",
            "epoch: 131, loss_train: 0.1301, accuracy_train: 0.9638, loss_valid: 0.2979, accuracy_valid: 0.9042, 0.4763sec\n",
            "epoch: 132, loss_train: 0.1297, accuracy_train: 0.9630, loss_valid: 0.2974, accuracy_valid: 0.9072, 0.4754sec\n",
            "epoch: 133, loss_train: 0.1286, accuracy_train: 0.9631, loss_valid: 0.2991, accuracy_valid: 0.9064, 0.4965sec\n",
            "epoch: 134, loss_train: 0.1276, accuracy_train: 0.9642, loss_valid: 0.2985, accuracy_valid: 0.9072, 0.4722sec\n",
            "epoch: 135, loss_train: 0.1270, accuracy_train: 0.9639, loss_valid: 0.2990, accuracy_valid: 0.9049, 0.4733sec\n",
            "epoch: 136, loss_train: 0.1264, accuracy_train: 0.9649, loss_valid: 0.2977, accuracy_valid: 0.9057, 0.4570sec\n",
            "epoch: 137, loss_train: 0.1245, accuracy_train: 0.9656, loss_valid: 0.2992, accuracy_valid: 0.9064, 0.4829sec\n",
            "epoch: 138, loss_train: 0.1248, accuracy_train: 0.9648, loss_valid: 0.2994, accuracy_valid: 0.9057, 0.4841sec\n",
            "epoch: 139, loss_train: 0.1229, accuracy_train: 0.9647, loss_valid: 0.3005, accuracy_valid: 0.9042, 0.4610sec\n"
          ]
        }
      ]
    },
    {
      "cell_type": "code",
      "source": [
        "fig, ax = plt.subplots(1, 2, figsize=(15, 5))\n",
        "ax[0].plot(np.array(log['train']).T[0], label='train')\n",
        "ax[0].plot(np.array(log['valid']).T[0], label='valid')\n",
        "ax[0].set_xlabel('epoch')\n",
        "ax[0].set_ylabel('loss')\n",
        "ax[0].legend()\n",
        "ax[1].plot(np.array(log['train']).T[1], label='train')\n",
        "ax[1].plot(np.array(log['valid']).T[1], label='valid')\n",
        "ax[1].set_xlabel('epoch')\n",
        "ax[1].set_ylabel('accuracy')\n",
        "ax[1].legend()\n",
        "plt.show()"
      ],
      "metadata": {
        "id": "by_v4_AWOPoN",
        "colab": {
          "base_uri": "https://localhost:8080/",
          "height": 334
        },
        "outputId": "a52edb1e-295c-46e6-e341-ce4363858ff2"
      },
      "execution_count": 33,
      "outputs": [
        {
          "output_type": "display_data",
          "data": {
            "text/plain": [
              "<Figure size 1080x360 with 2 Axes>"
            ],
            "image/png": "[encoded data removed]"
          },
          "metadata": {
            "needs_background": "light"
          }
        }
      ]
    },
    {
      "cell_type": "code",
      "source": [
        "def calculate_accuracy(model, loader, device):\n",
        "  model.eval()\n",
        "  total = 0\n",
        "  correct = 0\n",
        "  with torch.no_grad():\n",
        "    for inputs, labels in loader:\n",
        "      inputs = inputs.to(device)\n",
        "      labels = labels.to(device)\n",
        "      outputs = model(inputs)\n",
        "      pred = torch.argmax(outputs, dim=-1)\n",
        "      total += len(inputs)\n",
        "      correct += (pred == labels).sum().item()\n",
        "      \n",
        "  return correct / total"
      ],
      "metadata": {
        "id": "dh7Z1Uq9ORq7"
      },
      "execution_count": 34,
      "outputs": []
    },
    {
      "cell_type": "code",
      "source": [
        "# 正解率の確認\n",
        "acc_train = calculate_accuracy(model, dataloader_train, device)\n",
        "acc_test = calculate_accuracy(model, dataloader_test, device)\n",
        "print(f'正解率（学習データ）：{acc_train:.3f}')\n",
        "print(f'正解率（評価データ）：{acc_test:.3f}')"
      ],
      "metadata": {
        "id": "4iBJQ0LXOT8o",
        "colab": {
          "base_uri": "https://localhost:8080/"
        },
        "outputId": "2380a339-39d0-4531-b129-c6de347db180"
      },
      "execution_count": 35,
      "outputs": [
        {
          "output_type": "stream",
          "name": "stdout",
          "text": [
            "正解率（学習データ）：0.965\n",
            "正解率（評価データ）：0.912\n"
          ]
        }
      ]
    }
  ]
}