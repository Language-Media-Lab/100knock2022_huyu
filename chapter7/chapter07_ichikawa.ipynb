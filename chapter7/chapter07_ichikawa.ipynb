{
  "nbformat": 4,
  "nbformat_minor": 0,
  "metadata": {
    "colab": {
      "provenance": []
    },
    "kernelspec": {
      "name": "python3",
      "display_name": "Python 3"
    },
    "language_info": {
      "name": "python"
    },
    "gpuClass": "standard"
  },
  "cells": [
    {
      "cell_type": "markdown",
      "source": [
        "# **第7章: 単語ベクトル**\n",
        "単語の意味を実ベクトルで表現する単語ベクトル（単語埋め込み）に関して，以下の処理を行うプログラムを作成せよ．"
      ],
      "metadata": {
        "id": "3vj-VLaEl9Cb"
      }
    },
    {
      "cell_type": "markdown",
      "source": [
        "# 60. 単語ベクトルの読み込みと表示\n",
        "Google Newsデータセット（約1,000億単語）での学習済み単語ベクトル（300万単語・フレーズ，300次元）をダウンロードし，”United States”の単語ベクトルを表示せよ．ただし，”United States”は内部的には”United_States”と表現されていることに注意せよ．"
      ],
      "metadata": {
        "id": "Lj7hhPpTnEsK"
      }
    },
    {
      "cell_type": "code",
      "source": [
        "import gdown\n",
        "\n",
        "url = 'https://drive.google.com/uc?export=download&confirm=pbef&id=0B7XkCwpI5KDYNlNUTTlSS21pQmM'\n",
        "output = 'GoogleNews-vectors-negative300.bin.gz'\n",
        "gdown.download(url, output, quiet=False)"
      ],
      "metadata": {
        "colab": {
          "base_uri": "https://localhost:8080/",
          "height": 108
        },
        "id": "p9mY5wosU16K",
        "outputId": "02abcff8-973a-4914-e99c-5baaada14dd3"
      },
      "execution_count": 1,
      "outputs": [
        {
          "output_type": "stream",
          "name": "stderr",
          "text": [
            "Downloading...\n",
            "From: https://drive.google.com/uc?export=download&confirm=pbef&id=0B7XkCwpI5KDYNlNUTTlSS21pQmM\n",
            "To: /content/GoogleNews-vectors-negative300.bin.gz\n",
            "100%|██████████| 1.65G/1.65G [00:10<00:00, 158MB/s]\n"
          ]
        },
        {
          "output_type": "execute_result",
          "data": {
            "text/plain": [
              "'GoogleNews-vectors-negative300.bin.gz'"
            ],
            "application/vnd.google.colaboratory.intrinsic+json": {
              "type": "string"
            }
          },
          "metadata": {},
          "execution_count": 1
        }
      ]
    },
    {
      "cell_type": "code",
      "source": [
        "from gensim.models import KeyedVectors\n",
        "\n",
        "model = KeyedVectors.load_word2vec_format('./GoogleNews-vectors-negative300.bin.gz', binary=True)"
      ],
      "metadata": {
        "id": "wNL_Nbxv7ego"
      },
      "execution_count": null,
      "outputs": []
    },
    {
      "cell_type": "code",
      "source": [
        "model['United_States']"
      ],
      "metadata": {
        "colab": {
          "base_uri": "https://localhost:8080/"
        },
        "id": "dLOeZ7MJZUF0",
        "outputId": "b7293d20-b6fb-4fa6-891a-79c9aa0858ef"
      },
      "execution_count": null,
      "outputs": [
        {
          "output_type": "execute_result",
          "data": {
            "text/plain": [
              "array([-3.61328125e-02, -4.83398438e-02,  2.35351562e-01,  1.74804688e-01,\n",
              "       -1.46484375e-01, -7.42187500e-02, -1.01562500e-01, -7.71484375e-02,\n",
              "        1.09375000e-01, -5.71289062e-02, -1.48437500e-01, -6.00585938e-02,\n",
              "        1.74804688e-01, -7.71484375e-02,  2.58789062e-02, -7.66601562e-02,\n",
              "       -3.80859375e-02,  1.35742188e-01,  3.75976562e-02, -4.19921875e-02,\n",
              "       -3.56445312e-02,  5.34667969e-02,  3.68118286e-04, -1.66992188e-01,\n",
              "       -1.17187500e-01,  1.41601562e-01, -1.69921875e-01, -6.49414062e-02,\n",
              "       -1.66992188e-01,  1.00585938e-01,  1.15722656e-01, -2.18750000e-01,\n",
              "       -9.86328125e-02, -2.56347656e-02,  1.23046875e-01, -3.54003906e-02,\n",
              "       -1.58203125e-01, -1.60156250e-01,  2.94189453e-02,  8.15429688e-02,\n",
              "        6.88476562e-02,  1.87500000e-01,  6.49414062e-02,  1.15234375e-01,\n",
              "       -2.27050781e-02,  3.32031250e-01, -3.27148438e-02,  1.77734375e-01,\n",
              "       -2.08007812e-01,  4.54101562e-02, -1.23901367e-02,  1.19628906e-01,\n",
              "        7.44628906e-03, -9.03320312e-03,  1.14257812e-01,  1.69921875e-01,\n",
              "       -2.38281250e-01, -2.79541016e-02, -1.21093750e-01,  2.47802734e-02,\n",
              "        7.71484375e-02, -2.81982422e-02, -4.71191406e-02,  1.78222656e-02,\n",
              "       -1.23046875e-01, -5.32226562e-02,  2.68554688e-02, -3.11279297e-02,\n",
              "       -5.59082031e-02, -5.00488281e-02, -3.73535156e-02,  1.25976562e-01,\n",
              "        5.61523438e-02,  1.51367188e-01,  4.29687500e-02, -2.08007812e-01,\n",
              "       -4.78515625e-02,  2.78320312e-02,  1.81640625e-01,  2.20703125e-01,\n",
              "       -3.61328125e-02, -8.39843750e-02, -3.69548798e-05, -9.52148438e-02,\n",
              "       -1.25000000e-01, -1.95312500e-01, -1.50390625e-01, -4.15039062e-02,\n",
              "        1.31835938e-01,  1.17675781e-01,  1.91650391e-02,  5.51757812e-02,\n",
              "       -9.42382812e-02, -1.08886719e-01,  7.32421875e-02, -1.15234375e-01,\n",
              "        8.93554688e-02, -1.40625000e-01,  1.45507812e-01,  4.49218750e-02,\n",
              "       -1.10473633e-02, -1.62353516e-02,  4.05883789e-03,  3.75976562e-02,\n",
              "       -6.98242188e-02, -5.46875000e-02,  2.17285156e-02, -9.47265625e-02,\n",
              "        4.24804688e-02,  1.81884766e-02, -1.73339844e-02,  4.63867188e-02,\n",
              "       -1.42578125e-01,  1.99218750e-01,  1.10839844e-01,  2.58789062e-02,\n",
              "       -7.08007812e-02, -5.54199219e-02,  3.45703125e-01,  1.61132812e-01,\n",
              "       -2.44140625e-01, -2.59765625e-01, -9.71679688e-02,  8.00781250e-02,\n",
              "       -8.78906250e-02, -7.22656250e-02,  1.42578125e-01, -8.54492188e-02,\n",
              "       -3.18359375e-01,  8.30078125e-02,  6.34765625e-02,  1.64062500e-01,\n",
              "       -1.92382812e-01, -1.17675781e-01, -5.41992188e-02, -1.56250000e-01,\n",
              "       -1.21582031e-01, -4.95605469e-02,  1.20117188e-01, -3.83300781e-02,\n",
              "        5.51757812e-02, -8.97216797e-03,  4.32128906e-02,  6.93359375e-02,\n",
              "        8.93554688e-02,  2.53906250e-01,  1.65039062e-01,  1.64062500e-01,\n",
              "       -1.41601562e-01,  4.58984375e-02,  1.97265625e-01, -8.98437500e-02,\n",
              "        3.90625000e-02, -1.51367188e-01, -8.60595703e-03, -1.17675781e-01,\n",
              "       -1.97265625e-01, -1.12792969e-01,  1.29882812e-01,  1.96289062e-01,\n",
              "        1.56402588e-03,  3.93066406e-02,  2.17773438e-01, -1.43554688e-01,\n",
              "        6.03027344e-02, -1.35742188e-01,  1.16210938e-01, -1.59912109e-02,\n",
              "        2.79296875e-01,  1.46484375e-01, -1.19628906e-01,  1.76757812e-01,\n",
              "        1.28906250e-01, -1.49414062e-01,  6.93359375e-02, -1.72851562e-01,\n",
              "        9.22851562e-02,  1.33056641e-02, -2.00195312e-01, -9.76562500e-02,\n",
              "       -1.65039062e-01, -2.46093750e-01, -2.35595703e-02, -2.11914062e-01,\n",
              "        1.84570312e-01, -1.85546875e-02,  2.16796875e-01,  5.05371094e-02,\n",
              "        2.02636719e-02,  4.25781250e-01,  1.28906250e-01, -2.77099609e-02,\n",
              "        1.29882812e-01, -1.15722656e-01, -2.05078125e-02,  1.49414062e-01,\n",
              "        7.81250000e-03, -2.05078125e-01, -8.05664062e-02, -2.67578125e-01,\n",
              "       -2.29492188e-02, -8.20312500e-02,  8.64257812e-02,  7.61718750e-02,\n",
              "       -3.66210938e-02,  5.22460938e-02, -1.22070312e-01, -1.44042969e-02,\n",
              "       -2.69531250e-01,  8.44726562e-02, -2.52685547e-02, -2.96630859e-02,\n",
              "       -1.68945312e-01,  1.93359375e-01, -1.08398438e-01,  1.94091797e-02,\n",
              "       -1.80664062e-01,  1.93359375e-01, -7.08007812e-02,  5.85937500e-02,\n",
              "       -1.01562500e-01, -1.31835938e-01,  7.51953125e-02, -7.66601562e-02,\n",
              "        3.37219238e-03, -8.59375000e-02,  1.25000000e-01,  2.92968750e-02,\n",
              "        1.70898438e-01, -9.37500000e-02, -1.09375000e-01, -2.50244141e-02,\n",
              "        2.11914062e-01, -4.44335938e-02,  6.12792969e-02,  2.62451172e-02,\n",
              "       -1.77734375e-01,  1.23046875e-01, -7.42187500e-02, -1.67968750e-01,\n",
              "       -1.08886719e-01, -9.04083252e-04, -7.37304688e-02,  5.49316406e-02,\n",
              "        6.03027344e-02,  8.39843750e-02,  9.17968750e-02, -1.32812500e-01,\n",
              "        1.22070312e-01, -8.78906250e-03,  1.19140625e-01, -1.94335938e-01,\n",
              "       -6.64062500e-02, -2.07031250e-01,  7.37304688e-02,  8.93554688e-02,\n",
              "        1.81884766e-02, -1.20605469e-01, -2.61230469e-02,  2.67333984e-02,\n",
              "        7.76367188e-02, -8.30078125e-02,  6.78710938e-02, -3.54003906e-02,\n",
              "        3.10546875e-01, -2.42919922e-02, -1.41601562e-01, -2.08007812e-01,\n",
              "       -4.57763672e-03, -6.54296875e-02, -4.95605469e-02,  2.22656250e-01,\n",
              "        1.53320312e-01, -1.38671875e-01, -5.24902344e-02,  4.24804688e-02,\n",
              "       -2.38281250e-01,  1.56250000e-01,  5.83648682e-04, -1.20605469e-01,\n",
              "       -9.22851562e-02, -4.44335938e-02,  3.61328125e-02, -1.86767578e-02,\n",
              "       -8.25195312e-02, -8.25195312e-02, -4.05273438e-02,  1.19018555e-02,\n",
              "        1.69921875e-01, -2.80761719e-02,  3.03649902e-03,  9.32617188e-02,\n",
              "       -8.49609375e-02,  1.57470703e-02,  7.03125000e-02,  1.62353516e-02,\n",
              "       -2.27050781e-02,  3.51562500e-02,  2.47070312e-01, -2.67333984e-02],\n",
              "      dtype=float32)"
            ]
          },
          "metadata": {},
          "execution_count": 3
        }
      ]
    },
    {
      "cell_type": "markdown",
      "source": [
        "# 61. 単語の類似度\n",
        "“United States”と”U.S.”のコサイン類似度を計算せよ．"
      ],
      "metadata": {
        "id": "15c8WEsxnI1Q"
      }
    },
    {
      "cell_type": "markdown",
      "source": [
        "model.similarity()メソッドで2つの単語間のコサイン類似度を求められる．"
      ],
      "metadata": {
        "id": "-ayNn6Tff-eg"
      }
    },
    {
      "cell_type": "code",
      "source": [
        "model.similarity('United_States', 'U.S.')"
      ],
      "metadata": {
        "colab": {
          "base_uri": "https://localhost:8080/"
        },
        "id": "cxgjOXiVZjK-",
        "outputId": "9c1d89b9-23a7-4a41-a00e-ca16ecc9db58"
      },
      "execution_count": null,
      "outputs": [
        {
          "output_type": "execute_result",
          "data": {
            "text/plain": [
              "0.73107743"
            ]
          },
          "metadata": {},
          "execution_count": 4
        }
      ]
    },
    {
      "cell_type": "markdown",
      "source": [
        "# 62. 類似度の高い単語10件\n",
        "“United States”とコサイン類似度が高い10語と，その類似度を出力せよ．"
      ],
      "metadata": {
        "id": "B590M8vGolpT"
      }
    },
    {
      "cell_type": "markdown",
      "source": [
        ".most_similar()メソッドで指定した単語に最も類似した単語を求められる．topnまでの類似度上位単語とその類似度を得られる．"
      ],
      "metadata": {
        "id": "yHezo8onhk62"
      }
    },
    {
      "cell_type": "code",
      "source": [
        "model.most_similar('United_States', topn = 10)"
      ],
      "metadata": {
        "colab": {
          "base_uri": "https://localhost:8080/"
        },
        "id": "ouVijEkBrNWJ",
        "outputId": "536eb7f5-ecf2-4ad5-c0a0-2af58fb91db6"
      },
      "execution_count": null,
      "outputs": [
        {
          "output_type": "execute_result",
          "data": {
            "text/plain": [
              "[('Unites_States', 0.7877248525619507),\n",
              " ('Untied_States', 0.7541370391845703),\n",
              " ('United_Sates', 0.74007248878479),\n",
              " ('U.S.', 0.7310774326324463),\n",
              " ('theUnited_States', 0.6404393911361694),\n",
              " ('America', 0.6178410053253174),\n",
              " ('UnitedStates', 0.6167312264442444),\n",
              " ('Europe', 0.6132988929748535),\n",
              " ('countries', 0.6044804453849792),\n",
              " ('Canada', 0.6019070148468018)]"
            ]
          },
          "metadata": {},
          "execution_count": 5
        }
      ]
    },
    {
      "cell_type": "markdown",
      "source": [
        "# 63. 加法構成性によるアナロジー\n",
        "“Spain”の単語ベクトルから”Madrid”のベクトルを引き，”Athens”のベクトルを足したベクトルを計算し，そのベクトルと類似度の高い10語とその類似度を出力せよ．"
      ],
      "metadata": {
        "id": "6VagH6rpo70e"
      }
    },
    {
      "cell_type": "markdown",
      "source": [
        ".most_similarメソッドでは足すベクトルと引くベクトルをそれぞれ指定し，計算後のベクトルと類似度が高い単語とその類似度を得られる．"
      ],
      "metadata": {
        "id": "X3yQKN64iNt9"
      }
    },
    {
      "cell_type": "code",
      "source": [
        "model.most_similar(positive=['Spain','Athens'], negative=['Madrid'],topn=10)"
      ],
      "metadata": {
        "colab": {
          "base_uri": "https://localhost:8080/"
        },
        "id": "va1rAVf5tC0V",
        "outputId": "fa6458a0-f21b-445e-ac70-ec8d61ac8f5d"
      },
      "execution_count": null,
      "outputs": [
        {
          "output_type": "execute_result",
          "data": {
            "text/plain": [
              "[('Greece', 0.6898481249809265),\n",
              " ('Aristeidis_Grigoriadis', 0.5606848001480103),\n",
              " ('Ioannis_Drymonakos', 0.5552908778190613),\n",
              " ('Greeks', 0.545068621635437),\n",
              " ('Ioannis_Christou', 0.5400862693786621),\n",
              " ('Hrysopiyi_Devetzi', 0.5248444676399231),\n",
              " ('Heraklio', 0.5207759737968445),\n",
              " ('Athens_Greece', 0.516880989074707),\n",
              " ('Lithuania', 0.5166866183280945),\n",
              " ('Iraklion', 0.5146791934967041)]"
            ]
          },
          "metadata": {},
          "execution_count": 6
        }
      ]
    },
    {
      "cell_type": "markdown",
      "source": [
        "# 64. アナロジーデータでの実験\n",
        "単語アナロジーの評価データをダウンロードし，vec(2列目の単語) - vec(1列目の単語) + vec(3列目の単語)を計算し，そのベクトルと類似度が最も高い単語と，その類似度を求めよ．求めた単語と類似度は，各事例の末尾に追記せよ．"
      ],
      "metadata": {
        "id": "L7L_myb0pBi7"
      }
    },
    {
      "cell_type": "code",
      "source": [
        "!wget http://download.tensorflow.org/data/questions-words.txt"
      ],
      "metadata": {
        "colab": {
          "base_uri": "https://localhost:8080/"
        },
        "id": "vFS4gu3RuOf7",
        "outputId": "a06b8cc3-f6c9-4545-f9ad-d76c687c87be"
      },
      "execution_count": null,
      "outputs": [
        {
          "output_type": "stream",
          "name": "stdout",
          "text": [
            "--2023-01-05 17:16:13--  http://download.tensorflow.org/data/questions-words.txt\n",
            "Resolving download.tensorflow.org (download.tensorflow.org)... 173.194.217.128, 2607:f8b0:400c:c13::80\n",
            "Connecting to download.tensorflow.org (download.tensorflow.org)|173.194.217.128|:80... connected.\n",
            "HTTP request sent, awaiting response... 200 OK\n",
            "Length: 603955 (590K) [text/plain]\n",
            "Saving to: ‘questions-words.txt’\n",
            "\n",
            "questions-words.txt 100%[===================>] 589.80K  --.-KB/s    in 0.002s  \n",
            "\n",
            "2023-01-05 17:16:13 (261 MB/s) - ‘questions-words.txt’ saved [603955/603955]\n",
            "\n"
          ]
        }
      ]
    },
    {
      "cell_type": "code",
      "source": [
        "!head -10 questions-words.txt"
      ],
      "metadata": {
        "colab": {
          "base_uri": "https://localhost:8080/"
        },
        "id": "K6qXWRp1uXOq",
        "outputId": "bc8661c9-50a0-446e-f4b5-b562ab559164"
      },
      "execution_count": null,
      "outputs": [
        {
          "output_type": "stream",
          "name": "stdout",
          "text": [
            ": capital-common-countries\n",
            "Athens Greece Baghdad Iraq\n",
            "Athens Greece Bangkok Thailand\n",
            "Athens Greece Beijing China\n",
            "Athens Greece Berlin Germany\n",
            "Athens Greece Bern Switzerland\n",
            "Athens Greece Cairo Egypt\n",
            "Athens Greece Canberra Australia\n",
            "Athens Greece Hanoi Vietnam\n",
            "Athens Greece Havana Cuba\n"
          ]
        }
      ]
    },
    {
      "cell_type": "code",
      "source": [
        "with open('questions-words.txt','r') as f1, open('questions-words-add.txt', 'w') as f2:\n",
        "    for line in f1:\n",
        "        line = line.split()\n",
        "        if line[0] == ':':\n",
        "            category = line[1]      #カテゴリを取得\n",
        "        else:\n",
        "            word, cos = model.most_similar(positive = [line[1],line[2]], negative = [line[0]], topn = 1)[0]\n",
        "            f2.write(' '.join([category]+line+[word, str(cos) + '\\n']))"
      ],
      "metadata": {
        "colab": {
          "base_uri": "https://localhost:8080/",
          "height": 1000
        },
        "id": "DI_pS9s6vZF6",
        "outputId": "afa58e38-0306-4a1d-ab9a-76c62978b998"
      },
      "execution_count": null,
      "outputs": [
        {
          "output_type": "stream",
          "name": "stdout",
          "text": [
            "[('Iraqi', 0.6351870894432068)]\n",
            "[('Thailand', 0.7137669324874878)]\n",
            "[('China', 0.7235777974128723)]\n",
            "[('Germany', 0.6734622120857239)]\n",
            "[('Switzerland', 0.4919748306274414)]\n",
            "[('Egypt', 0.7527809739112854)]\n",
            "[('Australia', 0.583732545375824)]\n",
            "[('Viet_Nam', 0.6276341676712036)]\n",
            "[('Cuba', 0.6460992097854614)]\n",
            "[('Finland', 0.6899983882904053)]\n",
            "[('Pakistan', 0.7233326435089111)]\n",
            "[('Afghan', 0.6160915493965149)]\n",
            "[('Britain', 0.5646188259124756)]\n",
            "[('Spain', 0.703661322593689)]\n",
            "[('Russia', 0.7382972240447998)]\n",
            "[('Norway', 0.6470743417739868)]\n",
            "[('Canada', 0.5912168025970459)]\n",
            "[('France', 0.6724624633789062)]\n",
            "[('Italy', 0.682619035243988)]\n",
            "[('Sweden', 0.6757243871688843)]\n",
            "[('Iran', 0.7671369910240173)]\n",
            "[('Japan', 0.7256094217300415)]\n",
            "[('Thailand', 0.6745353937149048)]\n",
            "[('China', 0.6915649175643921)]\n",
            "[('Germany', 0.6057408452033997)]\n",
            "[('coach_Bobby_Curlings', 0.4347156882286072)]\n",
            "[('Egypt', 0.6848488450050354)]\n",
            "[('Mr_Rudd', 0.6186108589172363)]\n",
            "[('Vietnam', 0.7493551969528198)]\n",
            "[('Cuba', 0.713325560092926)]\n",
            "[('Finland', 0.5972561240196228)]\n",
            "[('Pakistan', 0.7466936707496643)]\n",
            "[('Afghanistan', 0.8359360098838806)]\n",
            "[('Britain', 0.5853632092475891)]\n",
            "[('Spain', 0.6144676804542542)]\n",
            "[('Russia', 0.723621129989624)]\n",
            "[('Norway', 0.5987579822540283)]\n",
            "[('Prime_Minister_Jean_Chrétien', 0.5704855918884277)]\n",
            "[('France', 0.6203721165657043)]\n",
            "[('Italy', 0.5362657904624939)]\n",
            "[('Sweden', 0.5907803177833557)]\n",
            "[('Iran', 0.8114987015724182)]\n",
            "[('Japan', 0.7056295871734619)]\n",
            "[('Greece', 0.5793530344963074)]\n",
            "[('China', 0.8263983726501465)]\n",
            "[('Germany', 0.7295198440551758)]\n",
            "[('Switzerland', 0.5047770142555237)]\n",
            "[('Egypt', 0.811871349811554)]\n",
            "[('Australia', 0.7154912352561951)]\n",
            "[('Viet_Nam', 0.7700591087341309)]\n",
            "[('Cuba', 0.800740659236908)]\n",
            "[('Finland', 0.7515273094177246)]\n",
            "[('Pakistan', 0.797675371170044)]\n",
            "[('Afghanistan', 0.6666889786720276)]\n",
            "[('Britain', 0.6576253175735474)]\n",
            "[('Spain', 0.765529990196228)]\n",
            "[('Russia', 0.8613656759262085)]\n",
            "[('Norway', 0.7142738103866577)]\n",
            "[('Canada', 0.6684818267822266)]\n",
            "[('France', 0.7388159036636353)]\n",
            "[('Italy', 0.6863130331039429)]\n",
            "[('Sweden', 0.7587180137634277)]\n",
            "[('Iran', 0.8363437652587891)]\n",
            "[('Japan', 0.8282635807991028)]\n",
            "[('Greece', 0.6765021681785583)]\n",
            "[('Iraqi', 0.6885136365890503)]\n",
            "[('Germany', 0.7232258319854736)]\n",
            "[('Bern_NC', 0.4655816853046417)]\n",
            "[('Egypt', 0.7653076648712158)]\n",
            "[('Australia', 0.7234394550323486)]\n",
            "[('Viet_Nam', 0.7793146371841431)]\n",
            "[('Cuba', 0.7189656496047974)]\n",
            "[('Finland', 0.7141392827033997)]\n",
            "[('Pakistan', 0.8062407374382019)]\n",
            "[('Afghan', 0.6770889759063721)]\n",
            "[('UK', 0.630479633808136)]\n",
            "[('Spain', 0.7320305109024048)]\n",
            "[('Russia', 0.8579801321029663)]\n",
            "[('Norway', 0.6628975868225098)]\n",
            "[('Canada', 0.6537172794342041)]\n",
            "[('France', 0.7109121084213257)]\n",
            "[('Italy', 0.6637486219406128)]\n",
            "[('Sweden', 0.7026647329330444)]\n",
            "[('Iran', 0.8262746334075928)]\n",
            "[('Japan', 0.8236700892448425)]\n",
            "[('Greece', 0.6515148282051086)]\n",
            "[('Mosul', 0.7041885256767273)]\n",
            "[('Thailand', 0.8047245144844055)]\n",
            "[('Switzerland', 0.6095317602157593)]\n",
            "[('Egypt', 0.6912307143211365)]\n",
            "[('Australia', 0.7485095858573914)]\n",
            "[('Viet_Nam', 0.6875089406967163)]\n",
            "[('Cuba', 0.6961179971694946)]\n",
            "[('Finland', 0.7654494047164917)]\n",
            "[('Pakistan', 0.7597626447677612)]\n",
            "[('Afghan', 0.6450541019439697)]\n",
            "[('UK', 0.6597434282302856)]\n",
            "[('Spain', 0.7768210172653198)]\n",
            "[('Russia', 0.8107381463050842)]\n",
            "[('Norway', 0.7291736602783203)]\n",
            "[('Canada', 0.6773226857185364)]\n",
            "[('France', 0.7884093523025513)]\n",
            "[('Italy', 0.7509608268737793)]\n",
            "[('Sweden', 0.8022658824920654)]\n",
            "[('Iran', 0.7747756838798523)]\n",
            "[('Japan', 0.7969788312911987)]\n",
            "[('Greece', 0.6390470266342163)]\n",
            "[('Mosul', 0.686406135559082)]\n",
            "[('Thailand', 0.7680834531784058)]\n",
            "[('China', 0.7755854725837708)]\n",
            "[('Egypt', 0.5989274382591248)]\n",
            "[('Australia', 0.6860506534576416)]\n",
            "[('Viet_Nam', 0.5609370470046997)]\n",
            "[('Cuba', 0.6295959949493408)]\n",
            "[('Finland', 0.6637657880783081)]\n",
            "[('Pakistan', 0.6708024740219116)]\n",
            "[('Afghanistan', 0.5338184833526611)]\n",
            "[('EURASIAN_NATURAL_RESOURCES_CORP.', 0.5463826656341553)]\n",
            "[('Spain', 0.6423718333244324)]\n",
            "[('Russia', 0.6487588882446289)]\n",
            "[('Norway', 0.6448378562927246)]\n",
            "[('Canada', 0.6468112468719482)]\n",
            "[('France', 0.6129553318023682)]\n",
            "[('Italy', 0.6486326456069946)]\n",
            "[('Sweden', 0.6849665641784668)]\n",
            "[('Iran', 0.6813835501670837)]\n",
            "[('Japan', 0.6434275507926941)]\n",
            "[('Greece', 0.5800099968910217)]\n",
            "[('Iraqi', 0.5730241537094116)]\n",
            "[('Thailand', 0.6617314219474792)]\n",
            "[('China', 0.6225298643112183)]\n",
            "[('Germany', 0.7138351202011108)]\n",
            "[('Australia', 0.6811554431915283)]\n",
            "[('Viet_Nam', 0.7589391469955444)]\n",
            "[('Cuba', 0.7639015913009644)]\n",
            "[('Finland', 0.7256742715835571)]\n",
            "[('Pakistan', 0.8155919909477234)]\n",
            "[('Afghan', 0.6829640865325928)]\n",
            "[('Britain', 0.6454267501831055)]\n",
            "[('Spain', 0.7469133138656616)]\n",
            "[('Russia', 0.842657208442688)]\n",
            "[('Norway', 0.6975642442703247)]\n",
            "[('Canada', 0.6659149527549744)]\n",
            "[('France', 0.7114197611808777)]\n",
            "[('Italy', 0.6812829375267029)]\n",
            "[('Sweden', 0.7365162372589111)]\n",
            "[('Iran', 0.8531845808029175)]\n",
            "[('Japan', 0.7753520011901855)]\n",
            "[('Greece', 0.7355355620384216)]\n"
          ]
        },
        {
          "output_type": "error",
          "ename": "KeyboardInterrupt",
          "evalue": "ignored",
          "traceback": [
            "\u001b[0;31m---------------------------------------------------------------------------\u001b[0m",
            "\u001b[0;31mKeyboardInterrupt\u001b[0m                         Traceback (most recent call last)",
            "\u001b[0;32m<ipython-input-38-21e7b6fa356a>\u001b[0m in \u001b[0;36m<module>\u001b[0;34m\u001b[0m\n\u001b[1;32m      5\u001b[0m             \u001b[0mcategory\u001b[0m \u001b[0;34m=\u001b[0m \u001b[0mline\u001b[0m\u001b[0;34m[\u001b[0m\u001b[0;36m1\u001b[0m\u001b[0;34m]\u001b[0m      \u001b[0;31m#カテゴリを取得\u001b[0m\u001b[0;34m\u001b[0m\u001b[0;34m\u001b[0m\u001b[0m\n\u001b[1;32m      6\u001b[0m         \u001b[0;32melse\u001b[0m\u001b[0;34m:\u001b[0m\u001b[0;34m\u001b[0m\u001b[0;34m\u001b[0m\u001b[0m\n\u001b[0;32m----> 7\u001b[0;31m             \u001b[0mprint\u001b[0m\u001b[0;34m(\u001b[0m\u001b[0mmodel\u001b[0m\u001b[0;34m.\u001b[0m\u001b[0mmost_similar\u001b[0m\u001b[0;34m(\u001b[0m\u001b[0mpositive\u001b[0m \u001b[0;34m=\u001b[0m \u001b[0;34m[\u001b[0m\u001b[0mline\u001b[0m\u001b[0;34m[\u001b[0m\u001b[0;36m1\u001b[0m\u001b[0;34m]\u001b[0m\u001b[0;34m,\u001b[0m\u001b[0mline\u001b[0m\u001b[0;34m[\u001b[0m\u001b[0;36m2\u001b[0m\u001b[0;34m]\u001b[0m\u001b[0;34m]\u001b[0m\u001b[0;34m,\u001b[0m \u001b[0mnegative\u001b[0m \u001b[0;34m=\u001b[0m \u001b[0;34m[\u001b[0m\u001b[0mline\u001b[0m\u001b[0;34m[\u001b[0m\u001b[0;36m0\u001b[0m\u001b[0;34m]\u001b[0m\u001b[0;34m]\u001b[0m\u001b[0;34m,\u001b[0m \u001b[0mtopn\u001b[0m \u001b[0;34m=\u001b[0m \u001b[0;36m1\u001b[0m\u001b[0;34m)\u001b[0m\u001b[0;34m)\u001b[0m\u001b[0;34m\u001b[0m\u001b[0;34m\u001b[0m\u001b[0m\n\u001b[0m\u001b[1;32m      8\u001b[0m             \u001b[0;31m#f2.write(' '.join([category]+line+[word, str(cos) + '\\n']))\u001b[0m\u001b[0;34m\u001b[0m\u001b[0;34m\u001b[0m\u001b[0;34m\u001b[0m\u001b[0m\n",
            "\u001b[0;32m/usr/local/lib/python3.8/dist-packages/gensim/models/keyedvectors.py\u001b[0m in \u001b[0;36mmost_similar\u001b[0;34m(self, positive, negative, topn, restrict_vocab, indexer)\u001b[0m\n\u001b[1;32m    540\u001b[0m \u001b[0;34m\u001b[0m\u001b[0m\n\u001b[1;32m    541\u001b[0m         \u001b[0mlimited\u001b[0m \u001b[0;34m=\u001b[0m \u001b[0mself\u001b[0m\u001b[0;34m.\u001b[0m\u001b[0mvectors_norm\u001b[0m \u001b[0;32mif\u001b[0m \u001b[0mrestrict_vocab\u001b[0m \u001b[0;32mis\u001b[0m \u001b[0;32mNone\u001b[0m \u001b[0;32melse\u001b[0m \u001b[0mself\u001b[0m\u001b[0;34m.\u001b[0m\u001b[0mvectors_norm\u001b[0m\u001b[0;34m[\u001b[0m\u001b[0;34m:\u001b[0m\u001b[0mrestrict_vocab\u001b[0m\u001b[0;34m]\u001b[0m\u001b[0;34m\u001b[0m\u001b[0;34m\u001b[0m\u001b[0m\n\u001b[0;32m--> 542\u001b[0;31m         \u001b[0mdists\u001b[0m \u001b[0;34m=\u001b[0m \u001b[0mdot\u001b[0m\u001b[0;34m(\u001b[0m\u001b[0mlimited\u001b[0m\u001b[0;34m,\u001b[0m \u001b[0mmean\u001b[0m\u001b[0;34m)\u001b[0m\u001b[0;34m\u001b[0m\u001b[0;34m\u001b[0m\u001b[0m\n\u001b[0m\u001b[1;32m    543\u001b[0m         \u001b[0;32mif\u001b[0m \u001b[0;32mnot\u001b[0m \u001b[0mtopn\u001b[0m\u001b[0;34m:\u001b[0m\u001b[0;34m\u001b[0m\u001b[0;34m\u001b[0m\u001b[0m\n\u001b[1;32m    544\u001b[0m             \u001b[0;32mreturn\u001b[0m \u001b[0mdists\u001b[0m\u001b[0;34m\u001b[0m\u001b[0;34m\u001b[0m\u001b[0m\n",
            "\u001b[0;32m<__array_function__ internals>\u001b[0m in \u001b[0;36mdot\u001b[0;34m(*args, **kwargs)\u001b[0m\n",
            "\u001b[0;31mKeyboardInterrupt\u001b[0m: "
          ]
        }
      ]
    },
    {
      "cell_type": "markdown",
      "source": [
        "# 65. アナロジータスクでの正解率\n",
        "64の実行結果を用い，意味的アナロジー（semantic analogy）と文法的アナロジー（syntactic analogy）の正解率を測定せよ．"
      ],
      "metadata": {
        "id": "QOsi7AvCpGDz"
      }
    },
    {
      "cell_type": "code",
      "source": [
        "with open('questions-words-add.txt', 'r') as f:\n",
        "    sem_cnt = 0     #意味的アナロジー（semantic analogy）の全体数\n",
        "    sem_cor = 0     #意味的アナロジー（semantic analogy）の正解数\n",
        "    syn_cnt = 0     #文法的アナロジー（syntactic analogy）の全体数\n",
        "    syn_cor = 0     #文法的アナロジー（syntactic analogy）の正解数\n",
        "    for line in f:\n",
        "        line = line.split()\n",
        "        if not line[0].startswith('gram'):      #カテゴリがgramで始まるかで意味的か文法的か判断\n",
        "            sem_cnt += 1\n",
        "            if line[4] == line[5]:      #正解\n",
        "                sem_cor += 1\n",
        "        else:\n",
        "            syn_cnt += 1\n",
        "            if line[4] == line[5]:\n",
        "                syn_cor += 1\n",
        "\n",
        "print(f'意味的アナロジー正解率：{sem_cor/sem_cnt:.3f}')\n",
        "print(f'意味的アナロジー正解率：{syn_cor/syn_cnt:.3f}')"
      ],
      "metadata": {
        "colab": {
          "base_uri": "https://localhost:8080/"
        },
        "id": "MmW_GBmo5ZXl",
        "outputId": "9097520c-cdd5-4f6f-eb20-c2e5bc197b5b"
      },
      "execution_count": null,
      "outputs": [
        {
          "output_type": "stream",
          "name": "stdout",
          "text": [
            "意味的アナロジー正解率：0.731\n",
            "意味的アナロジー正解率：0.740\n"
          ]
        }
      ]
    },
    {
      "cell_type": "markdown",
      "source": [
        "# 66. WordSimilarity-353での評価\n",
        "The WordSimilarity-353 Test Collectionの評価データをダウンロードし，単語ベクトルにより計算される類似度のランキングと，人間の類似度判定のランキングの間のスピアマン相関係数を計算せよ．"
      ],
      "metadata": {
        "id": "O5NQEB-ypMC4"
      }
    },
    {
      "cell_type": "markdown",
      "source": [
        "スピアマン相関係数\n",
        "\n",
        "順位データから求められる相関の指標．2つの変数の分布について何も仮定せずに，変数の間の関係が任意の単調関数によってどの程度忠実に表現できるかを，評価するものである．\n",
        "\n",
        "下式で定義される．\n",
        "\n",
        "![image.png](data:image/png;base64,iVBORw0KGgoAAAANSUhEUgAAAJsAAAA5CAYAAAAhtVlpAAAHIUlEQVR4nO2dzXIbRRCAvzXckfICsc09kUwVxYnIfgEccw9xuHABknCm8nOH2OHChUKmiuJEYb8AlnPkEMsvENs3TrHgARCH3q6ZXc/O/nhl7drzVW1ZWs9odzW93T29PS0IBAKBq8Y78z6BQOvoAF8AHwF/A5OiHRdmdUaBCxNZW/q9a7sMesAWMI7fj4H1op0v6yQD2fSAF/HrCJhSbVxOgPt1nVQGQ+A94K71/hOgW6TzuzM6qYCgQjP1tDlCLMzHwAhYIyl0tvB1EOGcxq8HwGeIANwBXgKvC5xXP+5vn2f6HE+A49S+SXx8u00n3gqb00C9LCF3/TEyIEOSg+tqP0EG/FnJY0XA87jvdsE+m4hg6zHHcd9hvH8c7/8Dv9YaItcXmBN94Ax4hGisLiJ0j3P6bSADPAVWKxx3Exn4oiY4wgjbDcf/B/H/D3HfKItx38I+W6BeusgA7Vj7HiODMirQfztue0xBPyjFDsUHfwWj1bLYjNs8T+3vINczax8x4EHN2ZK1r4OYxp6zR5IuxoTtVjh+J3VsH3oTvPS06cdtDkhqzCHmegb4XYTADFAnWx36qmGJPsa85Znei7ATH2PD02Y5bnOGuY4tRND0/XBWJxjIxjZLnyNm5gA4xT+gLlTrnCHCVzcR4t9l+WvKatxGfcEtzA01tf4XuGTWMAJi+zgqOHddnTzsxf0Oqea/+VjC3Bg+zfuIpL/ZRwTQ3mZxMwRyeIa5221toeY1HbPKo4vRPkVDGkUp4q+BEfj0BCEwZ3QA02bF9uWKOu+KmrEpxSYYRVEh8pn3rnXs5RqPHagBNaPpEIctbFXiZ0P84Ymy5MXXFJ1ZB63WQFQTjEj6QbawlfVvVpBJRp0+m05kjsj215YQ33Nc87EDNTLi/IN0FbYy0X2QQT6lfgdcnf4sP3AFmZQcEQSt0aiP9cjap4NbJvzRRQa8itn1EWFuiE8xKWbLyGxZn2DsEAStFWwiPtELxN+aAA9KfsZe/Dll8T1BSMfH0tsYmeSEyUDL6CIThjX8TriLbZLPVsswxK9B5518GWgQm4hWq8IDRIsGwamJVWCfq/mFrlFt9tcFnmJ8rcbShkzdNeAr4DaSQwXuzNI20wd+R7STHby1s3UheZMNgJtIWrZmXVTVioGYVUTgljAzqau0UKeDzDzzHPi8rfEmtA2abT/+2+gv8gJMgA/i1/pI6ybZ1ztF4m/px2IqdK0kQrRKUwbZjhFdJc12bXANWoRMvzWoeIY4oIHAhUib0Q6SjnyKcVTHiPP6Cvgz43MWqZaxeQA8qdCvtebiOpMWNs2VtxP93sZ/B2QL2wnVsgPeVOgDV282ei2whW0ZCTG8REynoqb2Zs5nZQniPFkHHpbsc5/8VOdfgQ8rndH14zvgR0gKmy4BO0g1HsR/T2d8UrNgBPxbsk+RnPrfOP89Bdz8pS/smeYIWcK/QNJEHQG3gPfJNnuLVHtwfAL8XLBthIRB7iDVl/6rcLzAHFHNFiGD+IqkoK0hgraN3786odqdXjYvP3AF0JTmCSZLQXOqxjRjEWqEWcDbJWQrtBbNN/8FUwhlTPkiJ7PAXrWU3kJ+fAs5wETmI2RS0CStcV1ysDpIAP0JZmJ2pdCYVZHCJwE/ehPoTVukvaIP5Bfj1yfICvQmUPS6chWB+mtNMJltRtca6HbG+dy0Hm53AESTTTEabUQy3jkv7LWrvnWkrus6t9ZVF9fWvbjiOqLPlX2FYSIkyXFMcuVUBwko62RsTLVKRrNC5SQrSTNCbrgJngSOHuWj7AE3ERKX1AnXMe4vfZvsRTA94GuaEwVQ9oBvMFrbtbbiMfklHQI1cQPxtRYwdTrSC1BUILNWMT1FfLVd6i25cBF0Ff0CZjLp0tp7lK/YFKjIBsbEqHbbT7VRgcybQGwhGqQJ2m0FM4F8gFtr2wLpJCQh1ssdzJMUnUkOSGqxAUY72Kwj5lOZYKqDz5sB8nQJ5PHiKTJrtrOD+ojGzszGCcJWLwOMBniLBMkhmbNnC6TNQ9yhjiaUfNey+ZCcIHxptbmN+yYKzACXedQiLhoG8flr68iA9hFtdkwz4mxqHu3rcpXT2kPCaN4PCtTDBqK1bFOoz3NvIaVPd5EfxdDKj2mWMBW49ykeaF+kfO23Q4ppzRXge84/0dgB7gE/INc8QYQwMxunDaur2oLLPGq1oJ+Ab4F/8JuaY6qlyXcoHyc9LNjO9tdsVNjuIVpNkyQCM0bNoyv2ZBffG1G+yMy88ZlHFbAjwhOoS2MZfzhDwyBtKxnq8tdsNAwyJcdfC9RDhAQ4d/FXcqxSEHCeRIgw+SqK21o7RDZmzFOSpRN8P7GzQ8MLv1g8xJjIKXKNWdf1jPOlXZ205S5rKj3ET7NLm77GPcvTojht+JGKHiZjRa/rDe5z15+AbMN1BQKBQCAQCARy+B8u59wqf41GDwAAAABJRU5ErkJggg==)"
      ],
      "metadata": {
        "id": "_FyhdHHlmlaf"
      }
    },
    {
      "cell_type": "code",
      "source": [
        "!wget https://gabrilovich.com/resources/data/wordsim353/wordsim353.zip\n",
        "!unzip wordsim353.zip"
      ],
      "metadata": {
        "colab": {
          "base_uri": "https://localhost:8080/"
        },
        "id": "VyLO4Zyu-EoY",
        "outputId": "0a79b16c-6052-4aa4-b11d-131bb5310704"
      },
      "execution_count": null,
      "outputs": [
        {
          "output_type": "stream",
          "name": "stdout",
          "text": [
            "--2023-01-05 19:27:36--  https://gabrilovich.com/resources/data/wordsim353/wordsim353.zip\n",
            "Resolving gabrilovich.com (gabrilovich.com)... 208.97.177.37\n",
            "Connecting to gabrilovich.com (gabrilovich.com)|208.97.177.37|:443... connected.\n",
            "HTTP request sent, awaiting response... 200 OK\n",
            "Length: 23257 (23K) [application/zip]\n",
            "Saving to: ‘wordsim353.zip’\n",
            "\n",
            "wordsim353.zip      100%[===================>]  22.71K  --.-KB/s    in 0.02s   \n",
            "\n",
            "2023-01-05 19:27:37 (944 KB/s) - ‘wordsim353.zip’ saved [23257/23257]\n",
            "\n",
            "Archive:  wordsim353.zip\n",
            "  inflating: combined.csv            \n",
            "  inflating: set1.csv                \n",
            "  inflating: set2.csv                \n",
            "  inflating: combined.tab            \n",
            "  inflating: set1.tab                \n",
            "  inflating: set2.tab                \n",
            "  inflating: instructions.txt        \n"
          ]
        }
      ]
    },
    {
      "cell_type": "code",
      "source": [
        "!head -10 './combined.csv'"
      ],
      "metadata": {
        "colab": {
          "base_uri": "https://localhost:8080/"
        },
        "id": "Tk9PQ7QvBwR7",
        "outputId": "3e701720-b58a-44cd-8eab-ddb6e619c722"
      },
      "execution_count": null,
      "outputs": [
        {
          "output_type": "stream",
          "name": "stdout",
          "text": [
            "Word 1,Word 2,Human (mean)\r\n",
            "love,sex,6.77\r\n",
            "tiger,cat,7.35\r\n",
            "tiger,tiger,10.00\r\n",
            "book,paper,7.46\r\n",
            "computer,keyboard,7.62\r\n",
            "computer,internet,7.58\r\n",
            "plane,car,5.77\r\n",
            "train,car,6.31\r\n",
            "telephone,communication,7.50\r\n"
          ]
        }
      ]
    },
    {
      "cell_type": "code",
      "source": [
        "ws353 = []\n",
        "with open ('./combined.csv','r') as f:\n",
        "    next(f)\n",
        "    for line in f:\n",
        "        line = [s.strip() for s in line.split(',')]\n",
        "        line.append(model.similarity(line[0], line[1]))\n",
        "        ws353.append(line)\n",
        "\n",
        "for i in range(5):\n",
        "    print(ws353[i])"
      ],
      "metadata": {
        "colab": {
          "base_uri": "https://localhost:8080/"
        },
        "id": "K1RUEW-cCLEL",
        "outputId": "830a52d8-dfff-4d23-ecce-700b4100f2a2"
      },
      "execution_count": null,
      "outputs": [
        {
          "output_type": "stream",
          "name": "stdout",
          "text": [
            "['love', 'sex', '6.77', 0.2639377]\n",
            "['tiger', 'cat', '7.35', 0.5172962]\n",
            "['tiger', 'tiger', '10.00', 0.99999994]\n",
            "['book', 'paper', '7.46', 0.3634626]\n",
            "['computer', 'keyboard', '7.62', 0.39639163]\n"
          ]
        }
      ]
    },
    {
      "cell_type": "code",
      "source": [
        "import numpy as np\n",
        "from scipy.stats import spearmanr\n",
        "\n",
        "human = np.array(ws353).T[2]\n",
        "w2v = np.array(ws353).T[3]\n",
        "correlation, pvalue = spearmanr(human, w2v)\n",
        "\n",
        "print(f'スピアマン相関係数:{correlation:.3f}')"
      ],
      "metadata": {
        "colab": {
          "base_uri": "https://localhost:8080/"
        },
        "id": "KkfONRcFFLqH",
        "outputId": "b4c977f8-5603-41a2-d9eb-edd298a767a1"
      },
      "execution_count": null,
      "outputs": [
        {
          "output_type": "stream",
          "name": "stdout",
          "text": [
            "スピアマン相関係数:0.685\n"
          ]
        }
      ]
    },
    {
      "cell_type": "markdown",
      "source": [
        "# 67. k-meansクラスタリング\n",
        "国名に関する単語ベクトルを抽出し，k-meansクラスタリングをクラスタ数k=5として実行せよ．"
      ],
      "metadata": {
        "id": "bZepLI9tpR42"
      }
    },
    {
      "cell_type": "code",
      "source": [
        "#国名の取得\n",
        "countries = set()\n",
        "with open('./questions-words-add.txt', 'r') as f:\n",
        "    for line in f:\n",
        "        line = line.split()\n",
        "        if line[0] in ['capital-common-countries', 'capital-world']:\n",
        "            countries.add(line[2])\n",
        "        elif line[0] in ['currency', 'gram6-nationality-adjective']:\n",
        "            countries.add(line[1])\n",
        "countries = list(countries)\n",
        "\n",
        "#国名に関する単語ベクトルを抽出\n",
        "countries_vec = [model[country] for country in countries]"
      ],
      "metadata": {
        "id": "Y7ofICufKA4j"
      },
      "execution_count": null,
      "outputs": []
    },
    {
      "cell_type": "code",
      "source": [
        "from sklearn.cluster import KMeans\n",
        "\n",
        "kmeans = KMeans(n_clusters=5)\n",
        "kmeans.fit(countries_vec)\n",
        "for i in range(5):\n",
        "    cluster = np.where(kmeans.labels_ == i)[0]\n",
        "    print('cluster', i)\n",
        "    print(', '.join([countries[k] for k in cluster]))"
      ],
      "metadata": {
        "colab": {
          "base_uri": "https://localhost:8080/"
        },
        "id": "1uBF4FyOQ39P",
        "outputId": "6a2c3679-4113-46d6-ee2d-9c0352fb3311"
      },
      "execution_count": null,
      "outputs": [
        {
          "output_type": "stream",
          "name": "stdout",
          "text": [
            "cluster 0\n",
            "Bhutan, Bangladesh, China, Morocco, Laos, Syria, Nepal, Lebanon, Pakistan, Iran, Iraq, Jordan, Bahrain, Korea, Libya, Vietnam, Philippines, Indonesia, Taiwan, Japan, India, Cambodia, Malaysia, Fiji, Qatar, Israel, Australia, Egypt, Afghanistan, Oman, Thailand\n",
            "cluster 1\n",
            "Sudan, Eritrea, Gabon, Rwanda, Somalia, Botswana, Namibia, Tunisia, Zambia, Senegal, Kenya, Zimbabwe, Liberia, Angola, Gambia, Nigeria, Mozambique, Uganda, Niger, Ghana, Burundi, Guinea, Mali, Madagascar, Mauritania, Algeria, Malawi\n",
            "cluster 2\n",
            "Malta, Spain, England, France, Sweden, Austria, Liechtenstein, Italy, USA, Switzerland, Netherlands, Norway, Denmark, Ireland, Finland, Belgium, Germany, Tuvalu, Iceland, Canada, Portugal, Greenland, Europe\n",
            "cluster 3\n",
            "Kyrgyzstan, Kazakhstan, Macedonia, Bulgaria, Croatia, Tajikistan, Uzbekistan, Montenegro, Turkey, Estonia, Georgia, Serbia, Albania, Romania, Moldova, Slovakia, Turkmenistan, Russia, Armenia, Azerbaijan, Hungary, Poland, Belarus, Ukraine, Greece, Slovenia, Cyprus, Lithuania, Latvia\n",
            "cluster 4\n",
            "Dominica, Peru, Suriname, Nicaragua, Brazil, Guyana, Uruguay, Ecuador, Colombia, Jamaica, Belize, Bahamas, Mexico, Chile, Argentina, Cuba, Samoa, Venezuela, Honduras\n"
          ]
        }
      ]
    },
    {
      "cell_type": "markdown",
      "source": [
        "# 68. Ward法によるクラスタリング\n",
        "国名に関する単語ベクトルに対し，Ward法による階層型クラスタリングを実行せよ．さらに，クラスタリング結果をデンドログラムとして可視化せよ．"
      ],
      "metadata": {
        "id": "WhLRuS6FpYoG"
      }
    },
    {
      "cell_type": "code",
      "source": [
        "from matplotlib import pyplot as plt\n",
        "from scipy.cluster.hierarchy import dendrogram, linkage\n",
        "\n",
        "plt.figure(figsize=(15, 5))\n",
        "Z = linkage(countries_vec, method='ward')\n",
        "dendrogram(Z, labels=countries)\n",
        "plt.show()"
      ],
      "metadata": {
        "colab": {
          "base_uri": "https://localhost:8080/",
          "height": 342
        },
        "id": "bTXrNt4pWMo8",
        "outputId": "aa70a8f9-799f-4614-95c5-039ca2557ccf"
      },
      "execution_count": null,
      "outputs": [
        {
          "output_type": "display_data",
          "data": {
            "text/plain": [
              "<Figure size 1080x360 with 1 Axes>"
            ],
            "image/png": "[encoded data removed]"
          },
          "metadata": {
            "needs_background": "light"
          }
        }
      ]
    },
    {
      "cell_type": "markdown",
      "source": [
        "# 69. t-SNEによる可視化\n",
        "ベクトル空間上の国名に関する単語ベクトルをt-SNEで可視化せよ．"
      ],
      "metadata": {
        "id": "oH-Ns-qWpdAL"
      }
    },
    {
      "cell_type": "code",
      "source": [
        "!pip install bhtsne"
      ],
      "metadata": {
        "colab": {
          "base_uri": "https://localhost:8080/"
        },
        "id": "JihU7eLdbe3O",
        "outputId": "acf0a85b-90ce-4dfe-f404-77348c04d8a0"
      },
      "execution_count": null,
      "outputs": [
        {
          "output_type": "stream",
          "name": "stdout",
          "text": [
            "Looking in indexes: https://pypi.org/simple, https://us-python.pkg.dev/colab-wheels/public/simple/\n",
            "Collecting bhtsne\n",
            "  Downloading bhtsne-0.1.9.tar.gz (86 kB)\n",
            "\u001b[2K     \u001b[90m━━━━━━━━━━━━━━━━━━━━━━━━━━━━━━━━━━━━━━━━\u001b[0m \u001b[32m86.2/86.2 KB\u001b[0m \u001b[31m3.8 MB/s\u001b[0m eta \u001b[36m0:00:00\u001b[0m\n",
            "\u001b[?25h  Preparing metadata (setup.py) ... \u001b[?25l\u001b[?25hdone\n",
            "Requirement already satisfied: numpy in /usr/local/lib/python3.8/dist-packages (from bhtsne) (1.21.6)\n",
            "Requirement already satisfied: cython in /usr/local/lib/python3.8/dist-packages (from bhtsne) (0.29.32)\n",
            "Building wheels for collected packages: bhtsne\n",
            "  Building wheel for bhtsne (setup.py) ... \u001b[?25l\u001b[?25hdone\n",
            "  Created wheel for bhtsne: filename=bhtsne-0.1.9-cp38-cp38-linux_x86_64.whl size=221017 sha256=8a09ac51c1f8919da5ed22b257b6f6fb2d8cc1c5d565fc422f7c53d23b0e9a7e\n",
            "  Stored in directory: /root/.cache/pip/wheels/aa/c7/a8/6d827fea433c4238dad92d6012d1f5249e8af6e7cf020cabe1\n",
            "Successfully built bhtsne\n",
            "Installing collected packages: bhtsne\n",
            "Successfully installed bhtsne-0.1.9\n"
          ]
        }
      ]
    },
    {
      "cell_type": "code",
      "source": [
        "import bhtsne\n",
        "\n",
        "embedded = bhtsne.tsne(np.array(countries_vec).astype(np.float64), dimensions=2, rand_seed=123)\n",
        "plt.figure(figsize=(10, 10))\n",
        "plt.scatter(np.array(embedded).T[0], np.array(embedded).T[1])\n",
        "for (x, y), name in zip(embedded, countries):\n",
        "    plt.annotate(name, (x, y))\n",
        "plt.show()"
      ],
      "metadata": {
        "colab": {
          "base_uri": "https://localhost:8080/",
          "height": 592
        },
        "id": "4UwE8A4YbzuX",
        "outputId": "274dadc2-73f9-46cb-8843-4439d83049eb"
      },
      "execution_count": null,
      "outputs": [
        {
          "output_type": "display_data",
          "data": {
            "text/plain": [
              "<Figure size 720x720 with 1 Axes>"
            ],
            "image/png": "[encoded data removed]"
          },
          "metadata": {
            "needs_background": "light"
          }
        }
      ]
    }
  ]
}