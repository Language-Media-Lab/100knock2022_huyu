{
  "nbformat": 4,
  "nbformat_minor": 0,
  "metadata": {
    "colab": {
      "provenance": []
    },
    "kernelspec": {
      "name": "python3",
      "display_name": "Python 3"
    },
    "language_info": {
      "name": "python"
    },
    "gpuClass": "standard",
    "accelerator": "GPU"
  },
  "cells": [
    {
      "cell_type": "markdown",
      "source": [
        "# **第7章: 単語ベクトル**"
      ],
      "metadata": {
        "id": "HsJzHbrALejN"
      }
    },
    {
      "cell_type": "markdown",
      "source": [
        "※GPU使わないと時間かかる"
      ],
      "metadata": {
        "id": "7l0_5cCpxoK9"
      }
    },
    {
      "cell_type": "markdown",
      "source": [
        "### **60. 単語ベクトルの読み込みと表示**"
      ],
      "metadata": {
        "id": "WikKNAEvLyyc"
      }
    },
    {
      "cell_type": "markdown",
      "source": [
        "Google Newsデータセット（約1,000億単語）での[学習済み単語ベクトル](https://drive.google.com/file/d/0B7XkCwpI5KDYNlNUTTlSS21pQmM/edit?usp=sharing)（300万単語・フレーズ，300次元）をダウンロードし，”United States”の単語ベクトルを表示せよ．ただし，”United States”は内部的には”United_States”と表現されていることに注意せよ．"
      ],
      "metadata": {
        "id": "Fm8h50IgL3CD"
      }
    },
    {
      "cell_type": "code",
      "source": [
        "import gdown\n",
        "\n",
        "url = 'https://drive.google.com/uc?export=download&confirm=pbef&id=0B7XkCwpI5KDYNlNUTTlSS21pQmM'\n",
        "output = 'GoogleNews-vectors-negative300.bin.gz'\n",
        "gdown.download(url, output, quiet=False)"
      ],
      "metadata": {
        "colab": {
          "base_uri": "https://localhost:8080/",
          "height": 127
        },
        "id": "xbrN8EgmBALY",
        "outputId": "58fea3d4-90d5-4f70-9ccf-9837f9085cb2"
      },
      "execution_count": null,
      "outputs": [
        {
          "output_type": "stream",
          "name": "stderr",
          "text": [
            "Downloading...\n",
            "From: https://drive.google.com/uc?export=download&confirm=pbef&id=0B7XkCwpI5KDYNlNUTTlSS21pQmM\n",
            "To: /content/GoogleNews-vectors-negative300.bin.gz\n",
            "100%|██████████| 1.65G/1.65G [00:09<00:00, 182MB/s]\n"
          ]
        },
        {
          "output_type": "execute_result",
          "data": {
            "text/plain": [
              "'GoogleNews-vectors-negative300.bin.gz'"
            ],
            "application/vnd.google.colaboratory.intrinsic+json": {
              "type": "string"
            }
          },
          "metadata": {},
          "execution_count": 1
        }
      ]
    },
    {
      "cell_type": "code",
      "source": [
        "from gensim.models import KeyedVectors\n",
        "\n",
        "model = KeyedVectors.load_word2vec_format('./GoogleNews-vectors-negative300.bin.gz', binary=True)"
      ],
      "metadata": {
        "id": "fnaLvlb5BDWt"
      },
      "execution_count": null,
      "outputs": []
    },
    {
      "cell_type": "code",
      "source": [
        "model['United_States']"
      ],
      "metadata": {
        "colab": {
          "base_uri": "https://localhost:8080/"
        },
        "id": "nD9UwuYNCDUS",
        "outputId": "8793ec27-9538-4226-d568-7b54f9e3a0e6"
      },
      "execution_count": null,
      "outputs": [
        {
          "output_type": "execute_result",
          "data": {
            "text/plain": [
              "array([-3.61328125e-02, -4.83398438e-02,  2.35351562e-01,  1.74804688e-01,\n",
              "       -1.46484375e-01, -7.42187500e-02, -1.01562500e-01, -7.71484375e-02,\n",
              "        1.09375000e-01, -5.71289062e-02, -1.48437500e-01, -6.00585938e-02,\n",
              "        1.74804688e-01, -7.71484375e-02,  2.58789062e-02, -7.66601562e-02,\n",
              "       -3.80859375e-02,  1.35742188e-01,  3.75976562e-02, -4.19921875e-02,\n",
              "       -3.56445312e-02,  5.34667969e-02,  3.68118286e-04, -1.66992188e-01,\n",
              "       -1.17187500e-01,  1.41601562e-01, -1.69921875e-01, -6.49414062e-02,\n",
              "       -1.66992188e-01,  1.00585938e-01,  1.15722656e-01, -2.18750000e-01,\n",
              "       -9.86328125e-02, -2.56347656e-02,  1.23046875e-01, -3.54003906e-02,\n",
              "       -1.58203125e-01, -1.60156250e-01,  2.94189453e-02,  8.15429688e-02,\n",
              "        6.88476562e-02,  1.87500000e-01,  6.49414062e-02,  1.15234375e-01,\n",
              "       -2.27050781e-02,  3.32031250e-01, -3.27148438e-02,  1.77734375e-01,\n",
              "       -2.08007812e-01,  4.54101562e-02, -1.23901367e-02,  1.19628906e-01,\n",
              "        7.44628906e-03, -9.03320312e-03,  1.14257812e-01,  1.69921875e-01,\n",
              "       -2.38281250e-01, -2.79541016e-02, -1.21093750e-01,  2.47802734e-02,\n",
              "        7.71484375e-02, -2.81982422e-02, -4.71191406e-02,  1.78222656e-02,\n",
              "       -1.23046875e-01, -5.32226562e-02,  2.68554688e-02, -3.11279297e-02,\n",
              "       -5.59082031e-02, -5.00488281e-02, -3.73535156e-02,  1.25976562e-01,\n",
              "        5.61523438e-02,  1.51367188e-01,  4.29687500e-02, -2.08007812e-01,\n",
              "       -4.78515625e-02,  2.78320312e-02,  1.81640625e-01,  2.20703125e-01,\n",
              "       -3.61328125e-02, -8.39843750e-02, -3.69548798e-05, -9.52148438e-02,\n",
              "       -1.25000000e-01, -1.95312500e-01, -1.50390625e-01, -4.15039062e-02,\n",
              "        1.31835938e-01,  1.17675781e-01,  1.91650391e-02,  5.51757812e-02,\n",
              "       -9.42382812e-02, -1.08886719e-01,  7.32421875e-02, -1.15234375e-01,\n",
              "        8.93554688e-02, -1.40625000e-01,  1.45507812e-01,  4.49218750e-02,\n",
              "       -1.10473633e-02, -1.62353516e-02,  4.05883789e-03,  3.75976562e-02,\n",
              "       -6.98242188e-02, -5.46875000e-02,  2.17285156e-02, -9.47265625e-02,\n",
              "        4.24804688e-02,  1.81884766e-02, -1.73339844e-02,  4.63867188e-02,\n",
              "       -1.42578125e-01,  1.99218750e-01,  1.10839844e-01,  2.58789062e-02,\n",
              "       -7.08007812e-02, -5.54199219e-02,  3.45703125e-01,  1.61132812e-01,\n",
              "       -2.44140625e-01, -2.59765625e-01, -9.71679688e-02,  8.00781250e-02,\n",
              "       -8.78906250e-02, -7.22656250e-02,  1.42578125e-01, -8.54492188e-02,\n",
              "       -3.18359375e-01,  8.30078125e-02,  6.34765625e-02,  1.64062500e-01,\n",
              "       -1.92382812e-01, -1.17675781e-01, -5.41992188e-02, -1.56250000e-01,\n",
              "       -1.21582031e-01, -4.95605469e-02,  1.20117188e-01, -3.83300781e-02,\n",
              "        5.51757812e-02, -8.97216797e-03,  4.32128906e-02,  6.93359375e-02,\n",
              "        8.93554688e-02,  2.53906250e-01,  1.65039062e-01,  1.64062500e-01,\n",
              "       -1.41601562e-01,  4.58984375e-02,  1.97265625e-01, -8.98437500e-02,\n",
              "        3.90625000e-02, -1.51367188e-01, -8.60595703e-03, -1.17675781e-01,\n",
              "       -1.97265625e-01, -1.12792969e-01,  1.29882812e-01,  1.96289062e-01,\n",
              "        1.56402588e-03,  3.93066406e-02,  2.17773438e-01, -1.43554688e-01,\n",
              "        6.03027344e-02, -1.35742188e-01,  1.16210938e-01, -1.59912109e-02,\n",
              "        2.79296875e-01,  1.46484375e-01, -1.19628906e-01,  1.76757812e-01,\n",
              "        1.28906250e-01, -1.49414062e-01,  6.93359375e-02, -1.72851562e-01,\n",
              "        9.22851562e-02,  1.33056641e-02, -2.00195312e-01, -9.76562500e-02,\n",
              "       -1.65039062e-01, -2.46093750e-01, -2.35595703e-02, -2.11914062e-01,\n",
              "        1.84570312e-01, -1.85546875e-02,  2.16796875e-01,  5.05371094e-02,\n",
              "        2.02636719e-02,  4.25781250e-01,  1.28906250e-01, -2.77099609e-02,\n",
              "        1.29882812e-01, -1.15722656e-01, -2.05078125e-02,  1.49414062e-01,\n",
              "        7.81250000e-03, -2.05078125e-01, -8.05664062e-02, -2.67578125e-01,\n",
              "       -2.29492188e-02, -8.20312500e-02,  8.64257812e-02,  7.61718750e-02,\n",
              "       -3.66210938e-02,  5.22460938e-02, -1.22070312e-01, -1.44042969e-02,\n",
              "       -2.69531250e-01,  8.44726562e-02, -2.52685547e-02, -2.96630859e-02,\n",
              "       -1.68945312e-01,  1.93359375e-01, -1.08398438e-01,  1.94091797e-02,\n",
              "       -1.80664062e-01,  1.93359375e-01, -7.08007812e-02,  5.85937500e-02,\n",
              "       -1.01562500e-01, -1.31835938e-01,  7.51953125e-02, -7.66601562e-02,\n",
              "        3.37219238e-03, -8.59375000e-02,  1.25000000e-01,  2.92968750e-02,\n",
              "        1.70898438e-01, -9.37500000e-02, -1.09375000e-01, -2.50244141e-02,\n",
              "        2.11914062e-01, -4.44335938e-02,  6.12792969e-02,  2.62451172e-02,\n",
              "       -1.77734375e-01,  1.23046875e-01, -7.42187500e-02, -1.67968750e-01,\n",
              "       -1.08886719e-01, -9.04083252e-04, -7.37304688e-02,  5.49316406e-02,\n",
              "        6.03027344e-02,  8.39843750e-02,  9.17968750e-02, -1.32812500e-01,\n",
              "        1.22070312e-01, -8.78906250e-03,  1.19140625e-01, -1.94335938e-01,\n",
              "       -6.64062500e-02, -2.07031250e-01,  7.37304688e-02,  8.93554688e-02,\n",
              "        1.81884766e-02, -1.20605469e-01, -2.61230469e-02,  2.67333984e-02,\n",
              "        7.76367188e-02, -8.30078125e-02,  6.78710938e-02, -3.54003906e-02,\n",
              "        3.10546875e-01, -2.42919922e-02, -1.41601562e-01, -2.08007812e-01,\n",
              "       -4.57763672e-03, -6.54296875e-02, -4.95605469e-02,  2.22656250e-01,\n",
              "        1.53320312e-01, -1.38671875e-01, -5.24902344e-02,  4.24804688e-02,\n",
              "       -2.38281250e-01,  1.56250000e-01,  5.83648682e-04, -1.20605469e-01,\n",
              "       -9.22851562e-02, -4.44335938e-02,  3.61328125e-02, -1.86767578e-02,\n",
              "       -8.25195312e-02, -8.25195312e-02, -4.05273438e-02,  1.19018555e-02,\n",
              "        1.69921875e-01, -2.80761719e-02,  3.03649902e-03,  9.32617188e-02,\n",
              "       -8.49609375e-02,  1.57470703e-02,  7.03125000e-02,  1.62353516e-02,\n",
              "       -2.27050781e-02,  3.51562500e-02,  2.47070312e-01, -2.67333984e-02],\n",
              "      dtype=float32)"
            ]
          },
          "metadata": {},
          "execution_count": 3
        }
      ]
    },
    {
      "cell_type": "markdown",
      "source": [
        "### **61. 単語の類似度**"
      ],
      "metadata": {
        "id": "YY8EdRbLL_BD"
      }
    },
    {
      "cell_type": "markdown",
      "source": [
        "“United States”と”U.S.”のコサイン類似度を計算せよ．"
      ],
      "metadata": {
        "id": "M_FbZj3cMCMS"
      }
    },
    {
      "cell_type": "code",
      "source": [
        "model.similarity('United_States', 'U.S.')"
      ],
      "metadata": {
        "colab": {
          "base_uri": "https://localhost:8080/"
        },
        "id": "Jl5dXBXGCvlW",
        "outputId": "00d6ac31-4846-432b-cf35-0c6c1874aa62"
      },
      "execution_count": null,
      "outputs": [
        {
          "output_type": "execute_result",
          "data": {
            "text/plain": [
              "0.73107743"
            ]
          },
          "metadata": {},
          "execution_count": 4
        }
      ]
    },
    {
      "cell_type": "markdown",
      "source": [
        "### **62. 類似度の高い単語10件**"
      ],
      "metadata": {
        "id": "_S2bxg5AMEir"
      }
    },
    {
      "cell_type": "markdown",
      "source": [
        "“United States”とコサイン類似度が高い10語と，その類似度を出力せよ．"
      ],
      "metadata": {
        "id": "B1zO7mpJMIR5"
      }
    },
    {
      "cell_type": "code",
      "source": [
        "model.most_similar('United_States', topn=10)"
      ],
      "metadata": {
        "colab": {
          "base_uri": "https://localhost:8080/"
        },
        "id": "S_U6cAsyC3N-",
        "outputId": "31b1e6a4-6b4c-4fd8-9922-0e947c4efb85"
      },
      "execution_count": null,
      "outputs": [
        {
          "output_type": "execute_result",
          "data": {
            "text/plain": [
              "[('Unites_States', 0.7877248525619507),\n",
              " ('Untied_States', 0.7541370391845703),\n",
              " ('United_Sates', 0.74007248878479),\n",
              " ('U.S.', 0.7310774326324463),\n",
              " ('theUnited_States', 0.6404393911361694),\n",
              " ('America', 0.6178410053253174),\n",
              " ('UnitedStates', 0.6167312264442444),\n",
              " ('Europe', 0.6132988929748535),\n",
              " ('countries', 0.6044804453849792),\n",
              " ('Canada', 0.6019070148468018)]"
            ]
          },
          "metadata": {},
          "execution_count": 5
        }
      ]
    },
    {
      "cell_type": "markdown",
      "source": [
        "### **63. 加法構成性によるアナロジー**"
      ],
      "metadata": {
        "id": "Lo94CWehMMTU"
      }
    },
    {
      "cell_type": "markdown",
      "source": [
        "“Spain”の単語ベクトルから”Madrid”のベクトルを引き，”Athens”のベクトルを足したベクトルを計算し，そのベクトルと類似度の高い10語とその類似度を出力せよ．"
      ],
      "metadata": {
        "id": "JoPDHtrtMPEj"
      }
    },
    {
      "cell_type": "code",
      "source": [
        "vec = model['Spain'] - model['madrid'] + model['Athens'] \n",
        "model.most_similar(positive=['Spain', 'Athens'], negative=['Madrid'], topn=10)"
      ],
      "metadata": {
        "colab": {
          "base_uri": "https://localhost:8080/"
        },
        "id": "DDhZyxdiDLkR",
        "outputId": "f3ac1d1a-7b9e-49d4-a5f4-66f812da2d60"
      },
      "execution_count": null,
      "outputs": [
        {
          "output_type": "execute_result",
          "data": {
            "text/plain": [
              "[('Greece', 0.6898481249809265),\n",
              " ('Aristeidis_Grigoriadis', 0.5606848001480103),\n",
              " ('Ioannis_Drymonakos', 0.5552908778190613),\n",
              " ('Greeks', 0.545068621635437),\n",
              " ('Ioannis_Christou', 0.5400862693786621),\n",
              " ('Hrysopiyi_Devetzi', 0.5248444676399231),\n",
              " ('Heraklio', 0.5207759737968445),\n",
              " ('Athens_Greece', 0.516880989074707),\n",
              " ('Lithuania', 0.5166866183280945),\n",
              " ('Iraklion', 0.5146791934967041)]"
            ]
          },
          "metadata": {},
          "execution_count": 6
        }
      ]
    },
    {
      "cell_type": "markdown",
      "source": [
        "### **64. アナロジーデータでの実験**"
      ],
      "metadata": {
        "id": "XDA9Y3JlMTVA"
      }
    },
    {
      "cell_type": "markdown",
      "source": [
        "[単語アナロジーの評価データ](http://download.tensorflow.org/data/questions-words.txt)をダウンロードし，vec(2列目の単語) - vec(1列目の単語) + vec(3列目の単語)を計算し，そのベクトルと類似度が最も高い単語と，その類似度を求めよ．求めた単語と類似度は，各事例の末尾に追記せよ．"
      ],
      "metadata": {
        "id": "VxqAgbOvMaKD"
      }
    },
    {
      "cell_type": "code",
      "source": [
        "!wget http://download.tensorflow.org/data/questions-words.txt\n"
      ],
      "metadata": {
        "colab": {
          "base_uri": "https://localhost:8080/"
        },
        "id": "twFkOWTxDsLZ",
        "outputId": "40d4bffb-d38b-4785-8ade-fe308de3b6e2"
      },
      "execution_count": null,
      "outputs": [
        {
          "output_type": "stream",
          "name": "stdout",
          "text": [
            "--2023-01-10 06:43:32--  http://download.tensorflow.org/data/questions-words.txt\n",
            "Resolving download.tensorflow.org (download.tensorflow.org)... 74.125.24.128, 2404:6800:4003:c03::80\n",
            "Connecting to download.tensorflow.org (download.tensorflow.org)|74.125.24.128|:80... connected.\n",
            "HTTP request sent, awaiting response... 200 OK\n",
            "Length: 603955 (590K) [text/plain]\n",
            "Saving to: ‘questions-words.txt’\n",
            "\n",
            "questions-words.txt 100%[===================>] 589.80K  --.-KB/s    in 0.002s  \n",
            "\n",
            "2023-01-10 06:43:33 (287 MB/s) - ‘questions-words.txt’ saved [603955/603955]\n",
            "\n"
          ]
        }
      ]
    },
    {
      "cell_type": "code",
      "source": [
        "!head -10 questions-words.txt\n"
      ],
      "metadata": {
        "colab": {
          "base_uri": "https://localhost:8080/"
        },
        "id": "eTjpfG6ADwUM",
        "outputId": "c214f869-d668-49e6-8699-00cf37d354da"
      },
      "execution_count": null,
      "outputs": [
        {
          "output_type": "stream",
          "name": "stdout",
          "text": [
            ": capital-common-countries\n",
            "Athens Greece Baghdad Iraq\n",
            "Athens Greece Bangkok Thailand\n",
            "Athens Greece Beijing China\n",
            "Athens Greece Berlin Germany\n",
            "Athens Greece Bern Switzerland\n",
            "Athens Greece Cairo Egypt\n",
            "Athens Greece Canberra Australia\n",
            "Athens Greece Hanoi Vietnam\n",
            "Athens Greece Havana Cuba\n"
          ]
        }
      ]
    },
    {
      "cell_type": "code",
      "source": [
        "with open('./questions-words.txt', 'r') as f1, open('./questions-words-add.txt', 'w') as f2:\n",
        "  for line in f1:  # f1から1行ずつ読込み、求めた単語と類似度を追加してf2に書込む\n",
        "    line = line.split()\n",
        "    if line[0] == ':':\n",
        "      category = line[1]\n",
        "    else:\n",
        "      word, cos = model.most_similar(positive=[line[1], line[2]], negative=[line[0]], topn=1)[0]\n",
        "      f2.write(' '.join([category] + line + [word, str(cos) + '\\n']))\n",
        "!head -10 questions-words-add.txt"
      ],
      "metadata": {
        "colab": {
          "base_uri": "https://localhost:8080/"
        },
        "id": "oK4ydVfSEIpy",
        "outputId": "b963aa6c-7610-4af5-d4c1-e2775c4e7970"
      },
      "execution_count": null,
      "outputs": [
        {
          "output_type": "stream",
          "name": "stdout",
          "text": [
            "capital-common-countries Athens Greece Baghdad Iraq Iraqi 0.6351870894432068\n",
            "capital-common-countries Athens Greece Bangkok Thailand Thailand 0.7137669324874878\n",
            "capital-common-countries Athens Greece Beijing China China 0.7235777974128723\n",
            "capital-common-countries Athens Greece Berlin Germany Germany 0.6734622120857239\n",
            "capital-common-countries Athens Greece Bern Switzerland Switzerland 0.4919748306274414\n",
            "capital-common-countries Athens Greece Cairo Egypt Egypt 0.7527809739112854\n",
            "capital-common-countries Athens Greece Canberra Australia Australia 0.583732545375824\n",
            "capital-common-countries Athens Greece Hanoi Vietnam Viet_Nam 0.6276341676712036\n",
            "capital-common-countries Athens Greece Havana Cuba Cuba 0.6460992097854614\n",
            "capital-common-countries Athens Greece Helsinki Finland Finland 0.6899983882904053\n"
          ]
        }
      ]
    },
    {
      "cell_type": "markdown",
      "source": [
        "### **65. アナロジータスクでの正解率**"
      ],
      "metadata": {
        "id": "4tPcewDLMiiv"
      }
    },
    {
      "cell_type": "markdown",
      "source": [
        "64の実行結果を用い，意味的アナロジー（semantic analogy）と文法的アナロジー（syntactic analogy）の正解率を測定せよ．"
      ],
      "metadata": {
        "id": "FSOkSCghMmfA"
      }
    },
    {
      "cell_type": "code",
      "source": [
        "with open('./questions-words-add.txt', 'r') as f:\n",
        "  sem_cnt = 0\n",
        "  sem_cor = 0\n",
        "  syn_cnt = 0\n",
        "  syn_cor = 0\n",
        "  for line in f:\n",
        "    line = line.split()\n",
        "    if not line[0].startswith('gram'):\n",
        "      sem_cnt += 1\n",
        "      if line[4] == line[5]:\n",
        "        sem_cor += 1\n",
        "    else:\n",
        "      syn_cnt += 1\n",
        "      if line[4] == line[5]:\n",
        "        syn_cor += 1\n",
        "\n",
        "print(f'意味的アナロジー正解率: {sem_cor/sem_cnt:.3f}')\n",
        "print(f'文法的アナロジー正解率: {syn_cor/syn_cnt:.3f}') "
      ],
      "metadata": {
        "id": "c7rC9s5wFXVd"
      },
      "execution_count": null,
      "outputs": []
    },
    {
      "cell_type": "markdown",
      "source": [
        "### **66. WordSimilarity-353での評価**"
      ],
      "metadata": {
        "id": "ERfbbowzMobm"
      }
    },
    {
      "cell_type": "markdown",
      "source": [
        "[The WordSimilarity-353 Test Collection](http://www.gabrilovich.com/resources/data/wordsim353/wordsim353.html)の評価データをダウンロードし，単語ベクトルにより計算される類似度のランキングと，人間の類似度判定のランキングの間のスピアマン相関係数を計算せよ．"
      ],
      "metadata": {
        "id": "Kx1754W8MrEJ"
      }
    },
    {
      "cell_type": "code",
      "source": [
        "!wget http://www.gabrilovich.com/resources/data/wordsim353/wordsim353.zip\n",
        "!unzip wordsim353.zip"
      ],
      "metadata": {
        "id": "TBLIGK4DFd-d"
      },
      "execution_count": null,
      "outputs": []
    },
    {
      "cell_type": "code",
      "source": [
        "!head -10 './combined.csv'"
      ],
      "metadata": {
        "id": "SeXFHB8AFhVW"
      },
      "execution_count": null,
      "outputs": []
    },
    {
      "cell_type": "code",
      "source": [
        "ws353 = []\n",
        "with open('./combined.csv', 'r') as f:\n",
        "  next(f)\n",
        "  for line in f:  # 1行ずつ読込み、単語ベクトルと類似度を計算\n",
        "    line = [s.strip() for s in line.split(',')]\n",
        "    line.append(model.similarity(line[0], line[1]))\n",
        "    ws353.append(line)\n",
        "\n",
        "for i in range(5):\n",
        "  print(ws353[i])"
      ],
      "metadata": {
        "id": "idvikgCqFlG1"
      },
      "execution_count": null,
      "outputs": []
    },
    {
      "cell_type": "code",
      "source": [
        "import numpy as np\n",
        "from scipy.stats import spearmanr\n",
        "\n",
        "# スピアマン相関係数の計算\n",
        "human = np.array(ws353).T[2]\n",
        "w2v = np.array(ws353).T[3]\n",
        "correlation, pvalue = spearmanr(human, w2v)\n",
        "\n",
        "print(f'スピアマン相関係数: {correlation:.3f}')"
      ],
      "metadata": {
        "id": "_t3s6cZ6FoU-"
      },
      "execution_count": null,
      "outputs": []
    },
    {
      "cell_type": "markdown",
      "source": [
        "### **67. k-meansクラスタリング**"
      ],
      "metadata": {
        "id": "n_fisuTuMxi5"
      }
    },
    {
      "cell_type": "markdown",
      "source": [
        "国名に関する単語ベクトルを抽出し，k-meansクラスタリングをクラスタ数k=5として実行せよ．"
      ],
      "metadata": {
        "id": "RztnWfQ0Mz9n"
      }
    },
    {
      "cell_type": "markdown",
      "source": [
        "「k-means 可視化」で調べるとわかりやすい"
      ],
      "metadata": {
        "id": "zrLsRxGSzaL9"
      }
    },
    {
      "cell_type": "code",
      "source": [
        "# 国名の取得\n",
        "countries = set()\n",
        "with open('./questions-words-add.txt') as f:\n",
        "  for line in f:\n",
        "    line = line.split()\n",
        "    if line[0] in ['capital-common-countries', 'capital-world']:\n",
        "      countries.add(line[2])\n",
        "    elif line[0] in ['currency', 'gram6-nationality-adjective']:\n",
        "      countries.add(line[1])\n",
        "countries = list(countries)\n",
        "\n",
        "# 単語ベクトルの取得\n",
        "countries_vec = [model[country] for country in countries]"
      ],
      "metadata": {
        "id": "JedWZ0YPFuwA"
      },
      "execution_count": null,
      "outputs": []
    },
    {
      "cell_type": "code",
      "source": [
        "from sklearn.cluster import KMeans\n",
        "\n",
        "# k-meansクラスタリング\n",
        "kmeans = KMeans(n_clusters=5)\n",
        "kmeans.fit(countries_vec)\n",
        "for i in range(5):\n",
        "    cluster = np.where(kmeans.labels_ == i)[0]\n",
        "    print('cluster', i)\n",
        "    print(', '.join([countries[k] for k in cluster]))"
      ],
      "metadata": {
        "id": "omRWVRCkFyIh"
      },
      "execution_count": null,
      "outputs": []
    },
    {
      "cell_type": "markdown",
      "source": [
        "### **68. Ward法によるクラスタリング**"
      ],
      "metadata": {
        "id": "rrCBCpn8M2hj"
      }
    },
    {
      "cell_type": "markdown",
      "source": [
        "国名に関する単語ベクトルに対し，Ward法による階層型クラスタリングを実行せよ．さらに，クラスタリング結果をデンドログラムとして可視化せよ．"
      ],
      "metadata": {
        "id": "MBgnEXyWM6sG"
      }
    },
    {
      "cell_type": "code",
      "source": [
        "from matplotlib import pyplot as plt\n",
        "from scipy.cluster.hierarchy import dendrogram, linkage\n",
        "\n",
        "plt.figure(figsize=(15, 5))\n",
        "Z = linkage(countries_vec, method='ward')\n",
        "dendrogram(Z, labels=countries)\n",
        "plt.show()"
      ],
      "metadata": {
        "id": "WG1_FhxrF4DH"
      },
      "execution_count": null,
      "outputs": []
    },
    {
      "cell_type": "markdown",
      "source": [
        "### **69. t-SNEによる可視化**"
      ],
      "metadata": {
        "id": "T3D_k93SM9Fo"
      }
    },
    {
      "cell_type": "markdown",
      "source": [
        "ベクトル空間上の国名に関する単語ベクトルをt-SNEで可視化せよ．"
      ],
      "metadata": {
        "id": "g9nbtpUQNAat"
      }
    },
    {
      "cell_type": "markdown",
      "source": [
        "t-SNEは可視化の手段でしかない。200次元とか300次元のものを2次元にまとめている。"
      ],
      "metadata": {
        "id": "zTjai3O6yszN"
      }
    },
    {
      "cell_type": "code",
      "source": [
        "!pip install bhtsne"
      ],
      "metadata": {
        "id": "JrUQWCJeF_E7"
      },
      "execution_count": null,
      "outputs": []
    },
    {
      "cell_type": "code",
      "source": [
        "import bhtsne\n",
        "\n",
        "embedded = bhtsne.tsne(np.array(countries_vec).astype(np.float64), dimensions=2, rand_seed=123)\n",
        "plt.figure(figsize=(10, 10))\n",
        "plt.scatter(np.array(embedded).T[0], np.array(embedded).T[1])\n",
        "for (x, y), name in zip(embedded, countries):\n",
        "    plt.annotate(name, (x, y))\n",
        "plt.show()"
      ],
      "metadata": {
        "id": "26BfSEgVF_8H"
      },
      "execution_count": null,
      "outputs": []
    }
  ]
}