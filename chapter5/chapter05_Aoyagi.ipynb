{
  "nbformat": 4,
  "nbformat_minor": 0,
  "metadata": {
    "colab": {
      "provenance": []
    },
    "kernelspec": {
      "name": "python3",
      "display_name": "Python 3"
    },
    "language_info": {
      "name": "python"
    }
  },
  "cells": [
    {
      "cell_type": "markdown",
      "source": [
        "# **第5章: 係り受け解析**"
      ],
      "metadata": {
        "id": "nnQmIXrP3kpF"
      }
    },
    {
      "cell_type": "markdown",
      "source": [
        "[日本語Wikipedia](https://ja.wikipedia.org/)の「[人工知能](https://ja.wikipedia.org/wiki/%E4%BA%BA%E5%B7%A5%E7%9F%A5%E8%83%BD)」に関する記事からテキスト部分を抜き出したファイルが[ai.ja.zip](https://nlp100.github.io/data/ai.ja.zip)に収録されている． この文章を[CaboCha](https://taku910.github.io/cabocha/)や[KNP](http://nlp.ist.i.kyoto-u.ac.jp/index.php?KNP)等のツールを利用して係り受け解析を行い，その結果をai.ja.txt.parsedというファイルに保存せよ．このファイルを読み込み，以下の問に対応するプログラムを実装せよ．"
      ],
      "metadata": {
        "id": "u1qVi0NO3rB6"
      }
    },
    {
      "cell_type": "code",
      "source": [
        "#ai.ja.zipをインストールし、解凍する\n",
        "!wget https://nlp100.github.io/data/ai.ja.zip\n",
        "!unzip ai.ja.zip\n",
        "\n",
        "# MeCabをインストール（CaboChaの実行に必要）\n",
        "!apt install mecab libmecab-dev mecab-ipadic-utf8\n",
        "\n",
        "# CRF++をインストール（CaboChaの実行に必要）\n",
        "FILE_ID = \"0B4y35FiV1wh7QVR6VXJ5dWExSTQ\"\n",
        "FILE_NAME = \"crfpp.tar.gz\"\n",
        "!wget 'https://docs.google.com/uc?export=download&id=$FILE_ID' -O $FILE_NAME\n",
        "!tar xvf crfpp.tar.gz\n",
        "%cd CRF++-0.58\n",
        "!./configure && make && make install && ldconfig\n",
        "%cd ..\n",
        "\n",
        "# CaboChaをインストール\n",
        "FILE_ID = \"0B4y35FiV1wh7SDd1Q1dUQkZQaUU\"\n",
        "FILE_NAME = \"cabocha-0.69.tar.bz2\"\n",
        "!wget --load-cookies /tmp/cookies.txt \"https://docs.google.com/uc?export=download&confirm=$(wget --quiet --save-cookies /tmp/cookies.txt --keep-session-cookies --no-check-certificate 'https://docs.google.com/uc?export=download&id=$FILE_ID' -O- | sed -rn 's/.*confirm=([0-9A-Za-z_]+).*/\\1\\n/p')&id=$FILE_ID\" -O $FILE_NAME && rm -rf /tmp/cookies.txt\n",
        "!tar -xvf cabocha-0.69.tar.bz2\n",
        "%cd cabocha-0.69\n",
        "!./configure -with-charset=utf-8 && make && make check && make install && ldconfig\n",
        "%cd ..\n",
        "\n",
        "#係り受け解析結果をai.ja.txt.parsedに保存\n",
        "!cabocha -f1 -o ai.ja.txt.parsed ai.ja.txt "
      ],
      "metadata": {
        "id": "cYVCrKl6IoRn"
      },
      "execution_count": null,
      "outputs": []
    },
    {
      "cell_type": "markdown",
      "source": [
        "### **40. 係り受け解析結果の読み込み（形態素）**"
      ],
      "metadata": {
        "id": "zyF2dlb14PM2"
      }
    },
    {
      "cell_type": "markdown",
      "source": [
        "形態素を表すクラスMorphを実装せよ．このクラスは表層形（surface），基本形（base），品詞（pos），品詞細分類1（pos1）をメンバ変数に持つこととする．さらに，係り受け解析の結果（ai.ja.txt.parsed）を読み込み，各文をMorphオブジェクトのリストとして表現し，冒頭の説明文の形態素列を表示せよ．"
      ],
      "metadata": {
        "id": "cYymtahH4TEj"
      }
    },
    {
      "cell_type": "code",
      "source": [
        "class Morph:\n",
        "  def __init__(self, line):\n",
        "    surface, other = line.split(\"\\t\")\n",
        "    other = other.split(\",\")\n",
        "    self.surface = surface\n",
        "    self.base = other[-3]\n",
        "    self.pos = other[0]\n",
        "    self.pos1 = other[1]\n",
        " \n",
        "sentences = [] #文リスト\n",
        "morphs = [] #形態素リスト\n",
        " \n",
        "with open(\"./ai.ja.txt.parsed\") as f:\n",
        "  for line in f:\n",
        "    if line[0] == \"*\":\n",
        "      continue\n",
        "    elif line != \"EOS\\n\": \n",
        "      morphs.append(Morph(line))\n",
        "    else:  #EOS（文末）の場合\n",
        "      sentences.append(morphs)\n",
        "      morphs = []\n",
        " \n",
        "for i in sentences[0]:\n",
        "    print(vars(i))"
      ],
      "metadata": {
        "colab": {
          "base_uri": "https://localhost:8080/"
        },
        "id": "x9GwhorwHrw6",
        "outputId": "4c159ab2-a2e0-4037-fb92-a9bf51ab1c50"
      },
      "execution_count": 17,
      "outputs": [
        {
          "output_type": "stream",
          "name": "stdout",
          "text": [
            "{'surface': '人工', 'base': '人工', 'pos': '名詞', 'pos1': '一般'}\n",
            "{'surface': '知能', 'base': '知能', 'pos': '名詞', 'pos1': '一般'}\n"
          ]
        }
      ]
    },
    {
      "cell_type": "markdown",
      "source": [
        "### **41. 係り受け解析結果の読み込み（文節・係り受け）**"
      ],
      "metadata": {
        "id": "AcawaX4J4wv0"
      }
    },
    {
      "cell_type": "markdown",
      "source": [
        "40に加えて，文節を表すクラスChunkを実装せよ．このクラスは形態素（Morphオブジェクト）のリスト（morphs），係り先文節インデックス番号（dst），係り元文節インデックス番号のリスト（srcs）をメンバ変数に持つこととする．さらに，入力テキストの係り受け解析結果を読み込み，１文をChunkオブジェクトのリストとして表現し，冒頭の説明文の文節の文字列と係り先を表示せよ．本章の残りの問題では，ここで作ったプログラムを活用せよ．"
      ],
      "metadata": {
        "id": "lOydbHyC5Ybg"
      }
    },
    {
      "cell_type": "code",
      "source": [
        "class Sentence:\n",
        "  def __init__(self, chunks):\n",
        "    self.chunks = chunks\n",
        "    for i, chunk in enumerate(self.chunks):\n",
        "      if chunk.dst not in [None, -1]:\n",
        "        self.chunks[chunk.dst].srcs.append(i)\n",
        "\n",
        "class Chunk:\n",
        "  def __init__(self, morphs, dst, chunk_id):\n",
        "    self.morphs = morphs\n",
        "    self.dst = dst\n",
        "    self.srcs = []\n",
        "    self.chunk_id = chunk_id\n",
        "\n",
        "class Morph:\n",
        "  def __init__(self, line):\n",
        "    surface, other = line.split(\"\\t\")\n",
        "    other = other.split(\",\")\n",
        "    self.surface = surface\n",
        "    self.base = other[-3]\n",
        "    self.pos = other[0]\n",
        "    self.pos1 = other[1]\n",
        "\n",
        "sentences = [] #文リスト\n",
        "chunks = [] #節リスト\n",
        "morphs = [] #形態素リスト\n",
        "chunk_id = 0 #文節番号\n",
        "\n",
        "with open(\"./ai.ja.txt.parsed\") as f:\n",
        "  for line in f:\n",
        "    if line[0] == \"*\":\n",
        "      if morphs:\n",
        "        chunks.append(Chunk(morphs, dst, chunk_id))\n",
        "        chunk_id += 1\n",
        "        morphs = []\n",
        "      dst = int(line.split()[2].replace(\"D\", \"\"))\n",
        "    elif line != \"EOS\\n\":\n",
        "      morphs.append(Morph(line))\n",
        "    else:\n",
        "      chunks.append(Chunk(morphs, dst, chunk_id))\n",
        "      sentences.append(Sentence(chunks))\n",
        " \n",
        "      morphs = []\n",
        "      chunks = []\n",
        "      dst = None\n",
        "      chunk_id = 0\n",
        "\n",
        "for chunk in sentences[2].chunks:\n",
        "  chunk_str = \"\".join([morph.surface for morph in chunk.morphs])\n",
        "  print(f\"文節の文字列：{chunk_str}\\n係り先の文節番号：{chunk.dst}\\n\")"
      ],
      "metadata": {
        "colab": {
          "base_uri": "https://localhost:8080/"
        },
        "id": "_JgzDXjrJaz7",
        "outputId": "a54da09e-66b6-4098-c73f-b94842982482"
      },
      "execution_count": 18,
      "outputs": [
        {
          "output_type": "stream",
          "name": "stdout",
          "text": [
            "文節の文字列：人工知能\n",
            "係り先の文節番号：17\n",
            "\n",
            "文節の文字列：（じんこうちのう、、\n",
            "係り先の文節番号：17\n",
            "\n",
            "文節の文字列：AI\n",
            "係り先の文節番号：3\n",
            "\n",
            "文節の文字列：〈エーアイ〉）とは、\n",
            "係り先の文節番号：17\n",
            "\n",
            "文節の文字列：「『計算\n",
            "係り先の文節番号：5\n",
            "\n",
            "文節の文字列：（）』という\n",
            "係り先の文節番号：9\n",
            "\n",
            "文節の文字列：概念と\n",
            "係り先の文節番号：9\n",
            "\n",
            "文節の文字列：『コンピュータ\n",
            "係り先の文節番号：8\n",
            "\n",
            "文節の文字列：（）』という\n",
            "係り先の文節番号：9\n",
            "\n",
            "文節の文字列：道具を\n",
            "係り先の文節番号：10\n",
            "\n",
            "文節の文字列：用いて\n",
            "係り先の文節番号：12\n",
            "\n",
            "文節の文字列：『知能』を\n",
            "係り先の文節番号：12\n",
            "\n",
            "文節の文字列：研究する\n",
            "係り先の文節番号：13\n",
            "\n",
            "文節の文字列：計算機科学\n",
            "係り先の文節番号：14\n",
            "\n",
            "文節の文字列：（）の\n",
            "係り先の文節番号：15\n",
            "\n",
            "文節の文字列：一分野」を\n",
            "係り先の文節番号：16\n",
            "\n",
            "文節の文字列：指す\n",
            "係り先の文節番号：17\n",
            "\n",
            "文節の文字列：語。\n",
            "係り先の文節番号：34\n",
            "\n",
            "文節の文字列：「言語の\n",
            "係り先の文節番号：20\n",
            "\n",
            "文節の文字列：理解や\n",
            "係り先の文節番号：20\n",
            "\n",
            "文節の文字列：推論、\n",
            "係り先の文節番号：21\n",
            "\n",
            "文節の文字列：問題解決などの\n",
            "係り先の文節番号：22\n",
            "\n",
            "文節の文字列：知的行動を\n",
            "係り先の文節番号：24\n",
            "\n",
            "文節の文字列：人間に\n",
            "係り先の文節番号：24\n",
            "\n",
            "文節の文字列：代わって\n",
            "係り先の文節番号：26\n",
            "\n",
            "文節の文字列：コンピューターに\n",
            "係り先の文節番号：26\n",
            "\n",
            "文節の文字列：行わせる\n",
            "係り先の文節番号：27\n",
            "\n",
            "文節の文字列：技術」、または、\n",
            "係り先の文節番号：34\n",
            "\n",
            "文節の文字列：「計算機\n",
            "係り先の文節番号：29\n",
            "\n",
            "文節の文字列：（コンピュータ）による\n",
            "係り先の文節番号：31\n",
            "\n",
            "文節の文字列：知的な\n",
            "係り先の文節番号：31\n",
            "\n",
            "文節の文字列：情報処理システムの\n",
            "係り先の文節番号：33\n",
            "\n",
            "文節の文字列：設計や\n",
            "係り先の文節番号：33\n",
            "\n",
            "文節の文字列：実現に関する\n",
            "係り先の文節番号：34\n",
            "\n",
            "文節の文字列：研究分野」とも\n",
            "係り先の文節番号：35\n",
            "\n",
            "文節の文字列：される。\n",
            "係り先の文節番号：-1\n",
            "\n"
          ]
        }
      ]
    },
    {
      "cell_type": "markdown",
      "source": [
        "### **42. 係り元と係り先の文節の表示**"
      ],
      "metadata": {
        "id": "WKPMroLM59ZG"
      }
    },
    {
      "cell_type": "markdown",
      "source": [
        "係り元の文節と係り先の文節のテキストをタブ区切り形式ですべて抽出せよ．ただし，句読点などの記号は出力しないようにせよ．"
      ],
      "metadata": {
        "id": "RBXGOGoe6O8p"
      }
    },
    {
      "cell_type": "code",
      "source": [
        "for chunk in sentences[2].chunks:\n",
        "  if int(chunk.dst) == -1:\n",
        "    continue\n",
        "  else:\n",
        "    surf = \"\".join([morph.surface for morph in chunk.morphs if morph.pos != \"記号\"])\n",
        "    next_surf = \"\".join([morph.surface for morph in sentences[2].chunks[int(chunk.dst)].morphs if morph.pos != \"記号\"]) \n",
        "    print(f\"{surf}\\t{next_surf}\")"
      ],
      "metadata": {
        "colab": {
          "base_uri": "https://localhost:8080/"
        },
        "id": "Hq-HRQ2EJd3m",
        "outputId": "553b4332-23ba-4efd-aa90-433ddd81e32d"
      },
      "execution_count": 19,
      "outputs": [
        {
          "output_type": "stream",
          "name": "stdout",
          "text": [
            "人工知能\t語\n",
            "じんこうちのう\t語\n",
            "AI\tエーアイとは\n",
            "エーアイとは\t語\n",
            "計算\tという\n",
            "という\t道具を\n",
            "概念と\t道具を\n",
            "コンピュータ\tという\n",
            "という\t道具を\n",
            "道具を\t用いて\n",
            "用いて\t研究する\n",
            "知能を\t研究する\n",
            "研究する\t計算機科学\n",
            "計算機科学\tの\n",
            "の\t一分野を\n",
            "一分野を\t指す\n",
            "指す\t語\n",
            "語\t研究分野とも\n",
            "言語の\t推論\n",
            "理解や\t推論\n",
            "推論\t問題解決などの\n",
            "問題解決などの\t知的行動を\n",
            "知的行動を\t代わって\n",
            "人間に\t代わって\n",
            "代わって\t行わせる\n",
            "コンピューターに\t行わせる\n",
            "行わせる\t技術または\n",
            "技術または\t研究分野とも\n",
            "計算機\tコンピュータによる\n",
            "コンピュータによる\t情報処理システムの\n",
            "知的な\t情報処理システムの\n",
            "情報処理システムの\t実現に関する\n",
            "設計や\t実現に関する\n",
            "実現に関する\t研究分野とも\n",
            "研究分野とも\tされる\n"
          ]
        }
      ]
    },
    {
      "cell_type": "markdown",
      "source": [
        "### **43. 名詞を含む文節が動詞を含む文節に係るものを抽出**"
      ],
      "metadata": {
        "id": "Nd8b6yxl6RA_"
      }
    },
    {
      "cell_type": "markdown",
      "source": [
        "名詞を含む文節が，動詞を含む文節に係るとき，これらをタブ区切り形式で抽出せよ．ただし，句読点などの記号は出力しないようにせよ．"
      ],
      "metadata": {
        "id": "lP3jPEOv6Tm7"
      }
    },
    {
      "cell_type": "markdown",
      "source": [
        "名詞を含む文節が，動詞を含む文節に係るとき，これらをタブ区切り形式で抽出せよ．ただし，句読点などの記号は出力しないようにせよ．"
      ],
      "metadata": {
        "id": "yKUPMN6u6Vwh"
      }
    },
    {
      "cell_type": "code",
      "source": [
        "for chunk in sentences[2].chunks:\n",
        "  if int(chunk.dst) == -1:\n",
        "    continue\n",
        "  else:\n",
        "    surf = \"\".join([morph.surface for morph in chunk.morphs if morph.pos != \"記号\"])\n",
        "    next_surf = \"\".join([morph.surface for morph in sentences[2].chunks[int(chunk.dst)].morphs if morph.pos != \"記号\"]) \n",
        "    pos_noun = [morph.surface for morph in chunk.morphs if morph.pos == \"名詞\"]\n",
        "    pos_verb = [morph.surface for morph in sentences[2].chunks[int(chunk.dst)].morphs if morph.pos == \"動詞\"]\n",
        "    if pos_noun and pos_verb: \n",
        "      print(f\"{surf}\\t{next_surf}\")"
      ],
      "metadata": {
        "colab": {
          "base_uri": "https://localhost:8080/"
        },
        "id": "1OuJJDZkJmeB",
        "outputId": "e4d90622-7b98-4ca2-943c-1556e695f027"
      },
      "execution_count": 20,
      "outputs": [
        {
          "output_type": "stream",
          "name": "stdout",
          "text": [
            "道具を\t用いて\n",
            "知能を\t研究する\n",
            "一分野を\t指す\n",
            "知的行動を\t代わって\n",
            "人間に\t代わって\n",
            "コンピューターに\t行わせる\n",
            "研究分野とも\tされる\n"
          ]
        }
      ]
    },
    {
      "cell_type": "markdown",
      "source": [
        "### **44. 係り受け木の可視化Permalink**"
      ],
      "metadata": {
        "id": "7A1Ai6-m-E_P"
      }
    },
    {
      "cell_type": "markdown",
      "source": [
        "与えられた文の係り受け木を有向グラフとして可視化せよ．可視化には，[Graphviz](http://www.graphviz.org/)等を用いるとよい．"
      ],
      "metadata": {
        "id": "qFaRzjPB-H36"
      }
    },
    {
      "cell_type": "code",
      "source": [
        "#pydotをインストール\n",
        "!pip install pydot\n",
        "#日本語フォントをインストール\n",
        "!apt install fonts-ipafont-gothic\n",
        "\n",
        "import pydot_ng as pydot\n",
        "\n",
        "pair = []\n",
        "for chunk in sentences[2].chunks:\n",
        "  if int(chunk.dst) == -1:\n",
        "    continue\n",
        "  else:\n",
        "    surf = \"\".join([morph.surface for morph in chunk.morphs if morph.pos != \"記号\"])\n",
        "    next_surf = \"\".join([morph.surface for morph in sentences[2].chunks[int(chunk.dst)].morphs if morph.pos != \"記号\"]) #文節のリストに係り先番号をindexに指定。その文節の形態素リストを取得\n",
        "    pair.append((surf, next_surf))\n",
        "\n",
        "img = pydot.Dot()\n",
        "img.set_node_defaults(fontname=\"MS Mincho\")\n",
        "for s, t in pair:\n",
        "  img.add_edge(pydot.Edge(s, t))\n",
        "img.write_png(\"./result44.png\")"
      ],
      "metadata": {
        "colab": {
          "base_uri": "https://localhost:8080/"
        },
        "id": "VWhTCcZSJo5R",
        "outputId": "83f3663c-3d8c-4201-a2cf-919f038ea90a"
      },
      "execution_count": 21,
      "outputs": [
        {
          "output_type": "stream",
          "name": "stdout",
          "text": [
            "Looking in indexes: https://pypi.org/simple, https://us-python.pkg.dev/colab-wheels/public/simple/\n",
            "Requirement already satisfied: pydot in /usr/local/lib/python3.8/dist-packages (1.3.0)\n",
            "Requirement already satisfied: pyparsing>=2.1.4 in /usr/local/lib/python3.8/dist-packages (from pydot) (3.0.9)\n",
            "Reading package lists... Done\n",
            "Building dependency tree       \n",
            "Reading state information... Done\n",
            "The following package was automatically installed and is no longer required:\n",
            "  libnvidia-common-460\n",
            "Use 'apt autoremove' to remove it.\n",
            "The following additional packages will be installed:\n",
            "  fonts-ipafont-mincho\n",
            "The following NEW packages will be installed:\n",
            "  fonts-ipafont-gothic fonts-ipafont-mincho\n",
            "0 upgraded, 2 newly installed, 0 to remove and 20 not upgraded.\n",
            "Need to get 8,251 kB of archives.\n",
            "After this operation, 28.7 MB of additional disk space will be used.\n",
            "Get:1 http://archive.ubuntu.com/ubuntu bionic/universe amd64 fonts-ipafont-gothic all 00303-18ubuntu1 [3,526 kB]\n",
            "Get:2 http://archive.ubuntu.com/ubuntu bionic/universe amd64 fonts-ipafont-mincho all 00303-18ubuntu1 [4,725 kB]\n",
            "Fetched 8,251 kB in 3s (3,297 kB/s)\n",
            "Selecting previously unselected package fonts-ipafont-gothic.\n",
            "(Reading database ... 124194 files and directories currently installed.)\n",
            "Preparing to unpack .../fonts-ipafont-gothic_00303-18ubuntu1_all.deb ...\n",
            "Unpacking fonts-ipafont-gothic (00303-18ubuntu1) ...\n",
            "Selecting previously unselected package fonts-ipafont-mincho.\n",
            "Preparing to unpack .../fonts-ipafont-mincho_00303-18ubuntu1_all.deb ...\n",
            "Unpacking fonts-ipafont-mincho (00303-18ubuntu1) ...\n",
            "Setting up fonts-ipafont-gothic (00303-18ubuntu1) ...\n",
            "update-alternatives: using /usr/share/fonts/opentype/ipafont-gothic/ipag.ttf to provide /usr/share/fonts/truetype/fonts-japanese-gothic.ttf (fonts-japanese-gothic.ttf) in auto mode\n",
            "Setting up fonts-ipafont-mincho (00303-18ubuntu1) ...\n",
            "update-alternatives: using /usr/share/fonts/opentype/ipafont-mincho/ipam.ttf to provide /usr/share/fonts/truetype/fonts-japanese-mincho.ttf (fonts-japanese-mincho.ttf) in auto mode\n",
            "Processing triggers for fontconfig (2.12.6-0ubuntu2) ...\n"
          ]
        },
        {
          "output_type": "execute_result",
          "data": {
            "text/plain": [
              "True"
            ]
          },
          "metadata": {},
          "execution_count": 21
        }
      ]
    },
    {
      "cell_type": "markdown",
      "source": [
        "### **45. 動詞の格パターンの抽出**"
      ],
      "metadata": {
        "id": "xaY5LhPh-NNI"
      }
    },
    {
      "cell_type": "markdown",
      "source": [
        "今回用いている文章をコーパスと見なし，日本語の述語が取りうる格を調査したい． 動詞を述語，動詞に係っている文節の助詞を格と考え，述語と格をタブ区切り形式で出力せよ． ただし，出力は以下の仕様を満たすようにせよ．\n",
        "\n",
        "*   動詞を含む文節において，最左の動詞の基本形を述語とする\n",
        "*   述語に係る助詞を格とする\n",
        "*   述語に係る助詞（文節）が複数あるときは，すべての助詞をスペース区切りで辞書順に並べる\n",
        "\n",
        "「ジョン・マッカーシーはAIに関する最初の会議で人工知能という用語を作り出した。」という例文を考える． この文は「作り出す」という１つの動詞を含み，「作り出す」に係る文節は「ジョン・マッカーシーは」，「会議で」，「用語を」であると解析された場合は，次のような出力になるはずである．\n",
        "\n",
        "作り出す\tで は を\n",
        "\n",
        "このプログラムの出力をファイルに保存し，以下の事項をUNIXコマンドを用いて確認せよ．\n",
        "\n",
        "\n",
        "*   コーパス中で頻出する述語と格パターンの組み合わせ\n",
        "*   「行う」「なる」「与える」という動詞の格パターン（コーパス中で出現頻度の高い順に並べよ）\n",
        "\n"
      ],
      "metadata": {
        "id": "9o2DCM9O-Pxl"
      }
    },
    {
      "cell_type": "code",
      "source": [
        "with open(\"./result45.txt\", \"w\") as f:\n",
        "  for i in range(len(sentences)):\n",
        "    for chunk in sentences[i].chunks:\n",
        "      for morph in chunk.morphs:\n",
        "        if morph.pos == \"動詞\": \n",
        "          particles = []\n",
        "          for src in chunk.srcs:\n",
        "            particles += [morph.surface for morph in sentences[i].chunks[src].morphs if morph.pos == \"助詞\"]\n",
        "          if len(particles) > 1:\n",
        "            particles = set(particles)\n",
        "            particles = sorted(list(particles))\n",
        "            form = \" \".join(particles)\n",
        "            print(f\"{morph.base}\\t{form}\", file=f)"
      ],
      "metadata": {
        "id": "ogpTMOiEJwnJ"
      },
      "execution_count": 24,
      "outputs": []
    },
    {
      "cell_type": "code",
      "source": [
        "#コーパス中で頻出する述語と格パターンの組み合わせ\n",
        "!cat ./result45.txt | sort | uniq -c | sort -nr | head -n 5\n",
        "#「行う」「なる」「与える」という動詞の格パターン\n",
        "!cat ./result45.txt |grep \"行う\" | sort |uniq -c | sort -nr |head -n 5\n",
        "!cat ./result45.txt |grep \"なる\" | sort |uniq -c | sort -nr |head -n 5\n",
        "!cat ./result45.txt |grep \"与える\" | sort |uniq -c | sort -nr |head -n 5"
      ],
      "metadata": {
        "colab": {
          "base_uri": "https://localhost:8080/"
        },
        "id": "NJ4iHMlYKDtA",
        "outputId": "4aab8cbe-6d9a-4467-a621-976158267bb8"
      },
      "execution_count": 25,
      "outputs": [
        {
          "output_type": "stream",
          "name": "stdout",
          "text": [
            "    161 する\tて を\n",
            "     87 する\tて で は\n",
            "     39 いる\tで に の は\n",
            "      9 なる\tから で と\n",
            "      8 する\tから を\n",
            "      5 行う\tて に\n",
            "      4 行う\tて に を\n",
            "      1 行う\tまで を\n",
            "      1 行う\tに により を\n",
            "      1 行う\tに まで を\n",
            "     11 なる\tが と\n",
            "      7 なる\tが て と\n",
            "      1 異なる\tが で\n",
            "      1 なる\tから が て で と は\n",
            "      1 なる\tから が て で も\n",
            "      1 与える\tが など に\n",
            "      1 与える\tに は を\n",
            "      1 与える\tが に\n"
          ]
        }
      ]
    },
    {
      "cell_type": "markdown",
      "source": [
        "### **46. 動詞の格フレーム情報の抽出**"
      ],
      "metadata": {
        "id": "r_fI5_Cn_rQP"
      }
    },
    {
      "cell_type": "markdown",
      "source": [
        "45のプログラムを改変し，述語と格パターンに続けて項（述語に係っている文節そのもの）をタブ区切り形式で出力せよ．45の仕様に加えて，以下の仕様を満たすようにせよ．\n",
        "\n",
        "\n",
        "*   項は述語に係っている文節の単語列とする（末尾の助詞を取り除く必要はない）\n",
        "*   述語に係る文節が複数あるときは，助詞と同一の基準・順序でスペース区切りで並べる\n",
        "\n",
        "「ジョン・マッカーシーはAIに関する最初の会議で人工知能という用語を作り出した。」という例文を考える． この文は「作り出す」という１つの動詞を含み，「作り出す」に係る文節は「ジョン・マッカーシーは」，「会議で」，「用語を」であると解析された場合は，次のような出力になるはずである．\n",
        "\n",
        "作り出す\tで は を\t会議で ジョンマッカーシーは 用語を\n"
      ],
      "metadata": {
        "id": "hvm2b73J_vJQ"
      }
    },
    {
      "cell_type": "code",
      "source": [
        "with open(\"./result46.txt\", \"w\") as f:\n",
        "  for i in range(len(sentences)):\n",
        "    for chunk in sentences[i].chunks:\n",
        "      for morph in chunk.morphs:\n",
        "        if morph.pos == \"動詞\": \n",
        "          particles = []\n",
        "          items = []\n",
        "          for src in chunk.srcs:\n",
        "            particles += [morph.surface for morph in sentences[i].chunks[src].morphs if morph.pos == \"助詞\"]\n",
        "            items += [\"\".join([morph.surface for morph in sentences[i].chunks[src].morphs if morph.pos != \"記号\"])]\n",
        "          if len(particles) > 1:\n",
        "            if len(items) > 1:\n",
        "              particles = sorted(set(particles))\n",
        "              items = sorted(set(items))\n",
        "              particles_form = \" \".join(particles)\n",
        "              items_form = \" \".join(items)\n",
        "              print(f\"{morph.base}\\t{particles_form}\\t{items_form}\", file=f)"
      ],
      "metadata": {
        "id": "Co_WyHMJKIoh"
      },
      "execution_count": 26,
      "outputs": []
    },
    {
      "cell_type": "markdown",
      "source": [
        "### **47. 機能動詞構文のマイニング**"
      ],
      "metadata": {
        "id": "4nb5qoGxADHN"
      }
    },
    {
      "cell_type": "markdown",
      "source": [
        "動詞のヲ格にサ変接続名詞が入っている場合のみに着目したい．46のプログラムを以下の仕様を満たすように改変せよ．\n",
        "\n",
        "\n",
        "*   「サ変接続名詞+を（助詞）」で構成される文節が動詞に係る場合のみを対象とする\n",
        "\n",
        "*   述語は「サ変接続名詞+を+動詞の基本形」とし，文節中に複数の動詞があるときは，最左の動詞を用いる\n",
        "*   述語に係る助詞（文節）が複数あるときは，すべての助詞をスペース区切りで辞書順に並べる\n",
        "\n",
        "\n",
        "*   述語に係る文節が複数ある場合は，すべての項をスペース区切りで並べる（助詞の並び順と揃えよ）\n",
        "\n",
        "例えば「また、自らの経験を元に学習を行う強化学習という手法もある。」という文から，以下の出力が得られるはずである．\n",
        "\n",
        "学習を行う\tに を\t元に 経験を\n",
        "\n"
      ],
      "metadata": {
        "id": "9JnVyP3WAHWJ"
      }
    },
    {
      "cell_type": "code",
      "source": [
        "with open(\"./result47.txt\", \"w\") as f:\n",
        "  for sentence in sentences:\n",
        "    for chunk in sentence.chunks:\n",
        "      for morph in chunk.morphs:\n",
        "        if morph.pos == \"動詞\": \n",
        "          for src in chunk.srcs:\n",
        "            predicates = []\n",
        "            if len(sentence.chunks[src].morphs) == 2 and sentence.chunks[src].morphs[0].pos1 == \"サ変接続\" and sentence.chunks[src].morphs[1].surface == \"を\":\n",
        "              predicates = \"\".join([sentence.chunks[src].morphs[0].surface, sentence.chunks[src].morphs[1].surface, morph.base])\n",
        "              particles = []\n",
        "              items = []\n",
        "              for src in chunk.srcs:\n",
        "                particles += [morph.surface for morph in sentence.chunks[src].morphs if morph.pos == \"助詞\"]\n",
        "                item = \"\".join([morph.surface for morph in sentence.chunks[src].morphs if morph.pos != \"記号\"])\n",
        "                item = item.rstrip()\n",
        "                if item not in predicates:\n",
        "                  items.append(item)\n",
        "              if len(particles) > 1:\n",
        "                if len(items) > 1:\n",
        "                  particles = sorted(set(particles))\n",
        "                  items = sorted(set(items))\n",
        "                  particles_form = \" \".join(particles)\n",
        "                  items_form = \" \".join(items)\n",
        "                  predicate = \" \".join(predicates)\n",
        "                  print(f\"{predicates}\\t{particles_form}\\t{items_form}\", file=f)"
      ],
      "metadata": {
        "id": "mp62ANj-KLp3"
      },
      "execution_count": 27,
      "outputs": []
    },
    {
      "cell_type": "markdown",
      "source": [
        "### **48. 名詞から根へのパスの抽出**"
      ],
      "metadata": {
        "id": "WcGwHUdDAfrC"
      }
    },
    {
      "cell_type": "markdown",
      "source": [
        "文中のすべての名詞を含む文節に対し，その文節から構文木の根に至るパスを抽出せよ． ただし，構文木上のパスは以下の仕様を満たすものとする．\n",
        "\n",
        "\n",
        "*   各文節は（表層形の）形態素列で表現する\n",
        "*   パスの開始文節から終了文節に至るまで，各文節の表現を” -> “で連結する\n",
        "\n",
        "「ジョン・マッカーシーはAIに関する最初の会議で人工知能という用語を作り出した。」という例文を考える． CaboChaを係り受け解析に用いた場合，次のような出力が得られると思われる．\n",
        "\n",
        "\n",
        "\n",
        "ジョンマッカーシーは -> 作り出した\\\n",
        "AIに関する -> 最初の -> 会議で -> 作り出した\\\n",
        "最初の -> 会議で -> 作り出した\\\n",
        "会議で -> 作り出した\\\n",
        "人工知能という -> 用語を -> 作り出した\\\n",
        "用語を -> 作り出した\n",
        "\n",
        "KNPを係り受け解析に用いた場合，次のような出力が得られると思われる．\n",
        "\n",
        "ジョンマッカーシーは -> 作り出した\\\n",
        "ＡＩに -> 関する -> 会議で -> 作り出した\\\n",
        "会議で -> 作り出した\\\n",
        "人工知能と -> いう -> 用語を -> 作り出した\\\n",
        "用語を -> 作り出した"
      ],
      "metadata": {
        "id": "FQL4EqhXAjjh"
      }
    },
    {
      "cell_type": "code",
      "source": [
        "sentence = sentences[2]\n",
        "for chunk in sentence.chunks:\n",
        "  for morph in chunk.morphs:\n",
        "    if \"名詞\" in morph.pos:\n",
        "      path = [\"\".join(morph.surface for morph in chunk.morphs if morph.pos != \"記号\")]\n",
        "      while chunk.dst != -1:\n",
        "        path.append(\"\".join(morph.surface for morph in sentence.chunks[chunk.dst].morphs if morph.pos != \"記号\"))\n",
        "        chunk = sentence.chunks[chunk.dst]\n",
        "      print(\"->\".join(path))"
      ],
      "metadata": {
        "colab": {
          "base_uri": "https://localhost:8080/"
        },
        "id": "BjpQT_VuKOr4",
        "outputId": "03c3f690-efa4-4e9c-c2cd-30b98774a4a9"
      },
      "execution_count": 28,
      "outputs": [
        {
          "output_type": "stream",
          "name": "stdout",
          "text": [
            "人工知能->語->研究分野とも->される\n",
            "される\n",
            "じんこうちのう->語->研究分野とも->される\n",
            "される\n",
            "AI->エーアイとは->語->研究分野とも->される\n",
            "エーアイとは->語->研究分野とも->される\n",
            "計算->という->道具を->用いて->研究する->計算機科学->の->一分野を->指す->語->研究分野とも->される\n",
            "概念と->道具を->用いて->研究する->計算機科学->の->一分野を->指す->語->研究分野とも->される\n",
            "コンピュータ->という->道具を->用いて->研究する->計算機科学->の->一分野を->指す->語->研究分野とも->される\n",
            "道具を->用いて->研究する->計算機科学->の->一分野を->指す->語->研究分野とも->される\n",
            "知能を->研究する->計算機科学->の->一分野を->指す->語->研究分野とも->される\n",
            "研究する->計算機科学->の->一分野を->指す->語->研究分野とも->される\n",
            "計算機科学->の->一分野を->指す->語->研究分野とも->される\n",
            "される\n",
            "される\n",
            "一分野を->指す->語->研究分野とも->される\n",
            "される\n",
            "語->研究分野とも->される\n",
            "言語の->推論->問題解決などの->知的行動を->代わって->行わせる->技術または->研究分野とも->される\n",
            "理解や->推論->問題解決などの->知的行動を->代わって->行わせる->技術または->研究分野とも->される\n",
            "推論->問題解決などの->知的行動を->代わって->行わせる->技術または->研究分野とも->される\n",
            "問題解決などの->知的行動を->代わって->行わせる->技術または->研究分野とも->される\n",
            "される\n",
            "知的行動を->代わって->行わせる->技術または->研究分野とも->される\n",
            "される\n",
            "人間に->代わって->行わせる->技術または->研究分野とも->される\n",
            "コンピューターに->行わせる->技術または->研究分野とも->される\n",
            "技術または->研究分野とも->される\n",
            "計算機->コンピュータによる->情報処理システムの->実現に関する->研究分野とも->される\n",
            "される\n",
            "コンピュータによる->情報処理システムの->実現に関する->研究分野とも->される\n",
            "知的な->情報処理システムの->実現に関する->研究分野とも->される\n",
            "情報処理システムの->実現に関する->研究分野とも->される\n",
            "される\n",
            "設計や->実現に関する->研究分野とも->される\n",
            "実現に関する->研究分野とも->される\n",
            "研究分野とも->される\n",
            "される\n"
          ]
        }
      ]
    },
    {
      "cell_type": "markdown",
      "source": [
        "### **49. 名詞間の係り受けパスの抽出**"
      ],
      "metadata": {
        "id": "hOk93d_oB62T"
      }
    },
    {
      "cell_type": "markdown",
      "source": [
        "文中のすべての名詞句のペアを結ぶ最短係り受けパスを抽出せよ．ただし，名詞句ペアの文節番号がiとj（i<j）のとき，係り受けパスは以下の仕様を満たすものとする．\n",
        "\n",
        "\n",
        "*   問題48と同様に，パスは開始文節から終了文節に至るまでの各文節の表現（表層形の形態素列）を” -> “で連結して表現する\n",
        "\n",
        "*   文節iとjに含まれる名詞句はそれぞれ，XとYに置換する\n",
        "\n",
        "また，係り受けパスの形状は，以下の2通りが考えられる．\n",
        "\n",
        "*   文節iから構文木の根に至る経路上に文節jが存在する場合: 文節iから文節jのパスを表示\n",
        "*   上記以外で，文節iと文節jから構文木の根に至る経路上で共通の文節kで交わる場合: 文節iから文節kに至る直前のパスと文節jから文節kに至る直前までのパス，文節kの内容を” | “で連結して表示\n",
        "\n",
        "「ジョン・マッカーシーはAIに関する最初の会議で人工知能という用語を作り出した。」という例文を考える． CaboChaを係り受け解析に用いた場合，次のような出力が得られると思われる．\n",
        "\n",
        "Xは | Yに関する -> 最初の -> 会議で | 作り出した\\\n",
        "Xは | Yの -> 会議で | 作り出した\\\n",
        "Xは | Yで | 作り出した\\\n",
        "Xは | Yという -> 用語を | 作り出した\\\n",
        "Xは | Yを | 作り出した\\\n",
        "Xに関する -> Yの\\\n",
        "Xに関する -> 最初の -> Yで\\\n",
        "Xに関する -> 最初の -> 会議で | Yという -> 用語を | 作り出した\\\n",
        "Xに関する -> 最初の -> 会議で | Yを | 作り出した\\\n",
        "Xの -> Yで\\\n",
        "Xの -> 会議で | Yという -> 用語を | 作り出した\\\n",
        "Xの -> 会議で | Yを | 作り出した\\\n",
        "Xで | Yという -> 用語を | 作り出した\\\n",
        "Xで | Yを | 作り出した\\\n",
        "Xという -> Yを\n",
        "\n",
        "KNPを係り受け解析に用いた場合，次のような出力が得られると思われる．\n",
        "\n",
        "Xは | Yに -> 関する -> 会議で | 作り出した。\\\n",
        "Xは | Yで | 作り出した。\\\n",
        "Xは | Yと -> いう -> 用語を | 作り出した。\\\n",
        "Xは | Yを | 作り出した。\\\n",
        "Xに -> 関する -> Yで\\\n",
        "Xに -> 関する -> 会議で | Yと -> いう -> 用語を | 作り出した。\\\n",
        "Xに -> 関する -> 会議で | Yを | 作り出した。\\\n",
        "Xで | Yと -> いう -> 用語を | 作り出した。\\\n",
        "Xで | Yを | 作り出した。\\\n",
        "Xと -> いう -> Yを"
      ],
      "metadata": {
        "id": "Ca4-yrmpB-Rj"
      }
    },
    {
      "cell_type": "code",
      "source": [
        "from itertools import combinations\n",
        "import re\n",
        "\n",
        "sentence = sentences[2]\n",
        "nouns = []\n",
        "for i, chunk in enumerate(sentence.chunks):\n",
        "  if [morph for morph in chunk.morphs if morph.pos == \"名詞\"]:\n",
        "    nouns.append(i)\n",
        "for i, j in combinations(nouns, 2):\n",
        "  path_I = []\n",
        "  path_J = []\n",
        "  while i != j:\n",
        "    if i < j: #文節iの構文木経路上に文節jが存在する場合\n",
        "      path_I.append(i)\n",
        "      i = sentence.chunks[i].dst\n",
        "    else: #文節iの構文木経路上に文節jがない場合\n",
        "      path_J.append(j)\n",
        "      j = sentence.chunks[j].dst\n",
        "  \n",
        "  if len(path_J) == 0: # 文節Iの構文木上に文節Jが存在する場合\n",
        "    X = \"X\" + \"\".join([morph.surface for morph in sentence.chunks[path_I[0]].morphs if morph.pos != \"名詞\" and morph.pos != \"記号\"]) \n",
        "    Y = \"Y\" +  \"\".join([morph.surface for morph in sentence.chunks[i].morphs if morph.pos != \"名詞\" and morph.pos != \"記号\"])\n",
        "    chunk_X = re.sub(\"X+\", \"X\", X)\n",
        "    chunk_Y = re.sub(\"Y+\", \"Y\", Y)\n",
        "    path_ItoJ = [chunk_X] + [\"\".join(morph.surface for n in path_I[1:] for morph in sentence.chunks[n].morphs)] + [chunk_Y]\n",
        "    print(\" -> \".join(path_ItoJ))\n",
        "  else: # 文節Iの構文木上に文節Jが存在しない場合\n",
        "    X = \"X\" + \"\".join([morph.surface for morph in sentence.chunks[path_I[0]].morphs if morph.pos != \"名詞\" and morph.pos != \"記号\"]) \n",
        "    Y = \"Y\" + \"\".join([morph.surface for morph in sentence.chunks[path_J[0]].morphs if morph.pos != \"名詞\" and morph.pos != \"記号\"]) \n",
        "    chunk_X = re.sub(\"X+\", \"X\", X)\n",
        "    chunk_Y = re.sub(\"Y+\", \"Y\", Y)\n",
        "    chunk_k = \"\".join([morph.surface for morph in sentence.chunks[i].morphs if morph.pos != \"記号\"])\n",
        "    path_X = [chunk_X] + [\"\".join(morph.surface for n in path_I[1:] for morph in sentence.chunks[n].morphs if morph.pos != \"記号\")]\n",
        "    path_Y = [chunk_Y] + [\"\".join(morph.surface for n in path_J[1: ]for morph in sentence.chunks[n].morphs if morph.pos != \"記号\")]\n",
        "    print(\" | \".join([\"->\".join(path_X), \"->\".join(path_Y), chunk_k]))"
      ],
      "metadata": {
        "colab": {
          "base_uri": "https://localhost:8080/"
        },
        "id": "oNwYDmb2KUMu",
        "outputId": "e760b151-4198-4add-bcca-25cad24c5dc8"
      },
      "execution_count": 29,
      "outputs": [
        {
          "output_type": "stream",
          "name": "stdout",
          "text": [
            "X-> | Yのう-> | 語\n",
            "X-> | Y->エーアイとは | 語\n",
            "X-> | Yとは-> | 語\n",
            "X-> | Y->という道具を用いて研究する計算機科学の一分野を指す | 語\n",
            "X-> | Yと->道具を用いて研究する計算機科学の一分野を指す | 語\n",
            "X-> | Y->という道具を用いて研究する計算機科学の一分野を指す | 語\n",
            "X-> | Yを->用いて研究する計算機科学の一分野を指す | 語\n",
            "X-> | Yを->研究する計算機科学の一分野を指す | 語\n",
            "X-> | Yする->計算機科学の一分野を指す | 語\n",
            "X-> | Y->の一分野を指す | 語\n",
            "X-> | Yを->指す | 語\n",
            "X ->  -> Y\n",
            "X->語 | Yの->推論問題解決などの知的行動を代わって行わせる技術または | 研究分野とも\n",
            "X->語 | Yや->推論問題解決などの知的行動を代わって行わせる技術または | 研究分野とも\n",
            "X->語 | Y->問題解決などの知的行動を代わって行わせる技術または | 研究分野とも\n",
            "X->語 | Yなどの->知的行動を代わって行わせる技術または | 研究分野とも\n",
            "X->語 | Yを->代わって行わせる技術または | 研究分野とも\n",
            "X->語 | Yに->代わって行わせる技術または | 研究分野とも\n",
            "X->語 | Yに->行わせる技術または | 研究分野とも\n",
            "X->語 | Yまたは-> | 研究分野とも\n",
            "X->語 | Y->コンピュータによる情報処理システムの実現に関する | 研究分野とも\n",
            "X->語 | Yによる->情報処理システムの実現に関する | 研究分野とも\n",
            "X->語 | Yな->情報処理システムの実現に関する | 研究分野とも\n",
            "X->語 | Yの->実現に関する | 研究分野とも\n",
            "X->語 | Yや->実現に関する | 研究分野とも\n",
            "X->語 | Yに関する-> | 研究分野とも\n",
            "X -> 語。 -> Yとも\n",
            "Xのう-> | Y->エーアイとは | 語\n",
            "Xのう-> | Yとは-> | 語\n",
            "Xのう-> | Y->という道具を用いて研究する計算機科学の一分野を指す | 語\n",
            "Xのう-> | Yと->道具を用いて研究する計算機科学の一分野を指す | 語\n",
            "Xのう-> | Y->という道具を用いて研究する計算機科学の一分野を指す | 語\n",
            "Xのう-> | Yを->用いて研究する計算機科学の一分野を指す | 語\n",
            "Xのう-> | Yを->研究する計算機科学の一分野を指す | 語\n",
            "Xのう-> | Yする->計算機科学の一分野を指す | 語\n",
            "Xのう-> | Y->の一分野を指す | 語\n",
            "Xのう-> | Yを->指す | 語\n",
            "Xのう ->  -> Y\n",
            "Xのう->語 | Yの->推論問題解決などの知的行動を代わって行わせる技術または | 研究分野とも\n",
            "Xのう->語 | Yや->推論問題解決などの知的行動を代わって行わせる技術または | 研究分野とも\n",
            "Xのう->語 | Y->問題解決などの知的行動を代わって行わせる技術または | 研究分野とも\n",
            "Xのう->語 | Yなどの->知的行動を代わって行わせる技術または | 研究分野とも\n",
            "Xのう->語 | Yを->代わって行わせる技術または | 研究分野とも\n",
            "Xのう->語 | Yに->代わって行わせる技術または | 研究分野とも\n",
            "Xのう->語 | Yに->行わせる技術または | 研究分野とも\n",
            "Xのう->語 | Yまたは-> | 研究分野とも\n",
            "Xのう->語 | Y->コンピュータによる情報処理システムの実現に関する | 研究分野とも\n",
            "Xのう->語 | Yによる->情報処理システムの実現に関する | 研究分野とも\n",
            "Xのう->語 | Yな->情報処理システムの実現に関する | 研究分野とも\n",
            "Xのう->語 | Yの->実現に関する | 研究分野とも\n",
            "Xのう->語 | Yや->実現に関する | 研究分野とも\n",
            "Xのう->語 | Yに関する-> | 研究分野とも\n",
            "Xのう -> 語。 -> Yとも\n",
            "X ->  -> Yとは\n",
            "X->エーアイとは | Y->という道具を用いて研究する計算機科学の一分野を指す | 語\n",
            "X->エーアイとは | Yと->道具を用いて研究する計算機科学の一分野を指す | 語\n",
            "X->エーアイとは | Y->という道具を用いて研究する計算機科学の一分野を指す | 語\n",
            "X->エーアイとは | Yを->用いて研究する計算機科学の一分野を指す | 語\n",
            "X->エーアイとは | Yを->研究する計算機科学の一分野を指す | 語\n",
            "X->エーアイとは | Yする->計算機科学の一分野を指す | 語\n",
            "X->エーアイとは | Y->の一分野を指す | 語\n",
            "X->エーアイとは | Yを->指す | 語\n",
            "X -> 〈エーアイ〉）とは、 -> Y\n",
            "X->エーアイとは語 | Yの->推論問題解決などの知的行動を代わって行わせる技術または | 研究分野とも\n",
            "X->エーアイとは語 | Yや->推論問題解決などの知的行動を代わって行わせる技術または | 研究分野とも\n",
            "X->エーアイとは語 | Y->問題解決などの知的行動を代わって行わせる技術または | 研究分野とも\n",
            "X->エーアイとは語 | Yなどの->知的行動を代わって行わせる技術または | 研究分野とも\n",
            "X->エーアイとは語 | Yを->代わって行わせる技術または | 研究分野とも\n",
            "X->エーアイとは語 | Yに->代わって行わせる技術または | 研究分野とも\n",
            "X->エーアイとは語 | Yに->行わせる技術または | 研究分野とも\n",
            "X->エーアイとは語 | Yまたは-> | 研究分野とも\n",
            "X->エーアイとは語 | Y->コンピュータによる情報処理システムの実現に関する | 研究分野とも\n",
            "X->エーアイとは語 | Yによる->情報処理システムの実現に関する | 研究分野とも\n",
            "X->エーアイとは語 | Yな->情報処理システムの実現に関する | 研究分野とも\n",
            "X->エーアイとは語 | Yの->実現に関する | 研究分野とも\n",
            "X->エーアイとは語 | Yや->実現に関する | 研究分野とも\n",
            "X->エーアイとは語 | Yに関する-> | 研究分野とも\n",
            "X -> 〈エーアイ〉）とは、語。 -> Yとも\n",
            "Xとは-> | Y->という道具を用いて研究する計算機科学の一分野を指す | 語\n",
            "Xとは-> | Yと->道具を用いて研究する計算機科学の一分野を指す | 語\n",
            "Xとは-> | Y->という道具を用いて研究する計算機科学の一分野を指す | 語\n",
            "Xとは-> | Yを->用いて研究する計算機科学の一分野を指す | 語\n",
            "Xとは-> | Yを->研究する計算機科学の一分野を指す | 語\n",
            "Xとは-> | Yする->計算機科学の一分野を指す | 語\n",
            "Xとは-> | Y->の一分野を指す | 語\n",
            "Xとは-> | Yを->指す | 語\n",
            "Xとは ->  -> Y\n",
            "Xとは->語 | Yの->推論問題解決などの知的行動を代わって行わせる技術または | 研究分野とも\n",
            "Xとは->語 | Yや->推論問題解決などの知的行動を代わって行わせる技術または | 研究分野とも\n",
            "Xとは->語 | Y->問題解決などの知的行動を代わって行わせる技術または | 研究分野とも\n",
            "Xとは->語 | Yなどの->知的行動を代わって行わせる技術または | 研究分野とも\n",
            "Xとは->語 | Yを->代わって行わせる技術または | 研究分野とも\n",
            "Xとは->語 | Yに->代わって行わせる技術または | 研究分野とも\n",
            "Xとは->語 | Yに->行わせる技術または | 研究分野とも\n",
            "Xとは->語 | Yまたは-> | 研究分野とも\n",
            "Xとは->語 | Y->コンピュータによる情報処理システムの実現に関する | 研究分野とも\n",
            "Xとは->語 | Yによる->情報処理システムの実現に関する | 研究分野とも\n",
            "Xとは->語 | Yな->情報処理システムの実現に関する | 研究分野とも\n",
            "Xとは->語 | Yの->実現に関する | 研究分野とも\n",
            "Xとは->語 | Yや->実現に関する | 研究分野とも\n",
            "Xとは->語 | Yに関する-> | 研究分野とも\n",
            "Xとは -> 語。 -> Yとも\n",
            "X->という | Yと-> | 道具を\n",
            "X->という | Y->という | 道具を\n",
            "X -> （）』という -> Yを\n",
            "X->という道具を用いて | Yを-> | 研究する\n",
            "X -> （）』という道具を用いて -> Yする\n",
            "X -> （）』という道具を用いて研究する -> Y\n",
            "X -> （）』という道具を用いて研究する計算機科学（）の -> Yを\n",
            "X -> （）』という道具を用いて研究する計算機科学（）の一分野」を指す -> Y\n",
            "X->という道具を用いて研究する計算機科学の一分野を指す語 | Yの->推論問題解決などの知的行動を代わって行わせる技術または | 研究分野とも\n",
            "X->という道具を用いて研究する計算機科学の一分野を指す語 | Yや->推論問題解決などの知的行動を代わって行わせる技術または | 研究分野とも\n",
            "X->という道具を用いて研究する計算機科学の一分野を指す語 | Y->問題解決などの知的行動を代わって行わせる技術または | 研究分野とも\n",
            "X->という道具を用いて研究する計算機科学の一分野を指す語 | Yなどの->知的行動を代わって行わせる技術または | 研究分野とも\n",
            "X->という道具を用いて研究する計算機科学の一分野を指す語 | Yを->代わって行わせる技術または | 研究分野とも\n",
            "X->という道具を用いて研究する計算機科学の一分野を指す語 | Yに->代わって行わせる技術または | 研究分野とも\n",
            "X->という道具を用いて研究する計算機科学の一分野を指す語 | Yに->行わせる技術または | 研究分野とも\n",
            "X->という道具を用いて研究する計算機科学の一分野を指す語 | Yまたは-> | 研究分野とも\n",
            "X->という道具を用いて研究する計算機科学の一分野を指す語 | Y->コンピュータによる情報処理システムの実現に関する | 研究分野とも\n",
            "X->という道具を用いて研究する計算機科学の一分野を指す語 | Yによる->情報処理システムの実現に関する | 研究分野とも\n",
            "X->という道具を用いて研究する計算機科学の一分野を指す語 | Yな->情報処理システムの実現に関する | 研究分野とも\n",
            "X->という道具を用いて研究する計算機科学の一分野を指す語 | Yの->実現に関する | 研究分野とも\n",
            "X->という道具を用いて研究する計算機科学の一分野を指す語 | Yや->実現に関する | 研究分野とも\n",
            "X->という道具を用いて研究する計算機科学の一分野を指す語 | Yに関する-> | 研究分野とも\n",
            "X -> （）』という道具を用いて研究する計算機科学（）の一分野」を指す語。 -> Yとも\n",
            "Xと-> | Y->という | 道具を\n",
            "Xと ->  -> Yを\n",
            "Xと->道具を用いて | Yを-> | 研究する\n",
            "Xと -> 道具を用いて -> Yする\n",
            "Xと -> 道具を用いて研究する -> Y\n",
            "Xと -> 道具を用いて研究する計算機科学（）の -> Yを\n",
            "Xと -> 道具を用いて研究する計算機科学（）の一分野」を指す -> Y\n",
            "Xと->道具を用いて研究する計算機科学の一分野を指す語 | Yの->推論問題解決などの知的行動を代わって行わせる技術または | 研究分野とも\n",
            "Xと->道具を用いて研究する計算機科学の一分野を指す語 | Yや->推論問題解決などの知的行動を代わって行わせる技術または | 研究分野とも\n",
            "Xと->道具を用いて研究する計算機科学の一分野を指す語 | Y->問題解決などの知的行動を代わって行わせる技術または | 研究分野とも\n",
            "Xと->道具を用いて研究する計算機科学の一分野を指す語 | Yなどの->知的行動を代わって行わせる技術または | 研究分野とも\n",
            "Xと->道具を用いて研究する計算機科学の一分野を指す語 | Yを->代わって行わせる技術または | 研究分野とも\n",
            "Xと->道具を用いて研究する計算機科学の一分野を指す語 | Yに->代わって行わせる技術または | 研究分野とも\n",
            "Xと->道具を用いて研究する計算機科学の一分野を指す語 | Yに->行わせる技術または | 研究分野とも\n",
            "Xと->道具を用いて研究する計算機科学の一分野を指す語 | Yまたは-> | 研究分野とも\n",
            "Xと->道具を用いて研究する計算機科学の一分野を指す語 | Y->コンピュータによる情報処理システムの実現に関する | 研究分野とも\n",
            "Xと->道具を用いて研究する計算機科学の一分野を指す語 | Yによる->情報処理システムの実現に関する | 研究分野とも\n",
            "Xと->道具を用いて研究する計算機科学の一分野を指す語 | Yな->情報処理システムの実現に関する | 研究分野とも\n",
            "Xと->道具を用いて研究する計算機科学の一分野を指す語 | Yの->実現に関する | 研究分野とも\n",
            "Xと->道具を用いて研究する計算機科学の一分野を指す語 | Yや->実現に関する | 研究分野とも\n",
            "Xと->道具を用いて研究する計算機科学の一分野を指す語 | Yに関する-> | 研究分野とも\n",
            "Xと -> 道具を用いて研究する計算機科学（）の一分野」を指す語。 -> Yとも\n",
            "X -> （）』という -> Yを\n",
            "X->という道具を用いて | Yを-> | 研究する\n",
            "X -> （）』という道具を用いて -> Yする\n",
            "X -> （）』という道具を用いて研究する -> Y\n",
            "X -> （）』という道具を用いて研究する計算機科学（）の -> Yを\n",
            "X -> （）』という道具を用いて研究する計算機科学（）の一分野」を指す -> Y\n",
            "X->という道具を用いて研究する計算機科学の一分野を指す語 | Yの->推論問題解決などの知的行動を代わって行わせる技術または | 研究分野とも\n",
            "X->という道具を用いて研究する計算機科学の一分野を指す語 | Yや->推論問題解決などの知的行動を代わって行わせる技術または | 研究分野とも\n",
            "X->という道具を用いて研究する計算機科学の一分野を指す語 | Y->問題解決などの知的行動を代わって行わせる技術または | 研究分野とも\n",
            "X->という道具を用いて研究する計算機科学の一分野を指す語 | Yなどの->知的行動を代わって行わせる技術または | 研究分野とも\n",
            "X->という道具を用いて研究する計算機科学の一分野を指す語 | Yを->代わって行わせる技術または | 研究分野とも\n",
            "X->という道具を用いて研究する計算機科学の一分野を指す語 | Yに->代わって行わせる技術または | 研究分野とも\n",
            "X->という道具を用いて研究する計算機科学の一分野を指す語 | Yに->行わせる技術または | 研究分野とも\n",
            "X->という道具を用いて研究する計算機科学の一分野を指す語 | Yまたは-> | 研究分野とも\n",
            "X->という道具を用いて研究する計算機科学の一分野を指す語 | Y->コンピュータによる情報処理システムの実現に関する | 研究分野とも\n",
            "X->という道具を用いて研究する計算機科学の一分野を指す語 | Yによる->情報処理システムの実現に関する | 研究分野とも\n",
            "X->という道具を用いて研究する計算機科学の一分野を指す語 | Yな->情報処理システムの実現に関する | 研究分野とも\n",
            "X->という道具を用いて研究する計算機科学の一分野を指す語 | Yの->実現に関する | 研究分野とも\n",
            "X->という道具を用いて研究する計算機科学の一分野を指す語 | Yや->実現に関する | 研究分野とも\n",
            "X->という道具を用いて研究する計算機科学の一分野を指す語 | Yに関する-> | 研究分野とも\n",
            "X -> （）』という道具を用いて研究する計算機科学（）の一分野」を指す語。 -> Yとも\n",
            "Xを->用いて | Yを-> | 研究する\n",
            "Xを -> 用いて -> Yする\n",
            "Xを -> 用いて研究する -> Y\n",
            "Xを -> 用いて研究する計算機科学（）の -> Yを\n",
            "Xを -> 用いて研究する計算機科学（）の一分野」を指す -> Y\n",
            "Xを->用いて研究する計算機科学の一分野を指す語 | Yの->推論問題解決などの知的行動を代わって行わせる技術または | 研究分野とも\n",
            "Xを->用いて研究する計算機科学の一分野を指す語 | Yや->推論問題解決などの知的行動を代わって行わせる技術または | 研究分野とも\n",
            "Xを->用いて研究する計算機科学の一分野を指す語 | Y->問題解決などの知的行動を代わって行わせる技術または | 研究分野とも\n",
            "Xを->用いて研究する計算機科学の一分野を指す語 | Yなどの->知的行動を代わって行わせる技術または | 研究分野とも\n",
            "Xを->用いて研究する計算機科学の一分野を指す語 | Yを->代わって行わせる技術または | 研究分野とも\n",
            "Xを->用いて研究する計算機科学の一分野を指す語 | Yに->代わって行わせる技術または | 研究分野とも\n",
            "Xを->用いて研究する計算機科学の一分野を指す語 | Yに->行わせる技術または | 研究分野とも\n",
            "Xを->用いて研究する計算機科学の一分野を指す語 | Yまたは-> | 研究分野とも\n",
            "Xを->用いて研究する計算機科学の一分野を指す語 | Y->コンピュータによる情報処理システムの実現に関する | 研究分野とも\n",
            "Xを->用いて研究する計算機科学の一分野を指す語 | Yによる->情報処理システムの実現に関する | 研究分野とも\n",
            "Xを->用いて研究する計算機科学の一分野を指す語 | Yな->情報処理システムの実現に関する | 研究分野とも\n",
            "Xを->用いて研究する計算機科学の一分野を指す語 | Yの->実現に関する | 研究分野とも\n",
            "Xを->用いて研究する計算機科学の一分野を指す語 | Yや->実現に関する | 研究分野とも\n",
            "Xを->用いて研究する計算機科学の一分野を指す語 | Yに関する-> | 研究分野とも\n",
            "Xを -> 用いて研究する計算機科学（）の一分野」を指す語。 -> Yとも\n",
            "Xを ->  -> Yする\n",
            "Xを -> 研究する -> Y\n",
            "Xを -> 研究する計算機科学（）の -> Yを\n",
            "Xを -> 研究する計算機科学（）の一分野」を指す -> Y\n",
            "Xを->研究する計算機科学の一分野を指す語 | Yの->推論問題解決などの知的行動を代わって行わせる技術または | 研究分野とも\n",
            "Xを->研究する計算機科学の一分野を指す語 | Yや->推論問題解決などの知的行動を代わって行わせる技術または | 研究分野とも\n",
            "Xを->研究する計算機科学の一分野を指す語 | Y->問題解決などの知的行動を代わって行わせる技術または | 研究分野とも\n",
            "Xを->研究する計算機科学の一分野を指す語 | Yなどの->知的行動を代わって行わせる技術または | 研究分野とも\n",
            "Xを->研究する計算機科学の一分野を指す語 | Yを->代わって行わせる技術または | 研究分野とも\n",
            "Xを->研究する計算機科学の一分野を指す語 | Yに->代わって行わせる技術または | 研究分野とも\n",
            "Xを->研究する計算機科学の一分野を指す語 | Yに->行わせる技術または | 研究分野とも\n",
            "Xを->研究する計算機科学の一分野を指す語 | Yまたは-> | 研究分野とも\n",
            "Xを->研究する計算機科学の一分野を指す語 | Y->コンピュータによる情報処理システムの実現に関する | 研究分野とも\n",
            "Xを->研究する計算機科学の一分野を指す語 | Yによる->情報処理システムの実現に関する | 研究分野とも\n",
            "Xを->研究する計算機科学の一分野を指す語 | Yな->情報処理システムの実現に関する | 研究分野とも\n",
            "Xを->研究する計算機科学の一分野を指す語 | Yの->実現に関する | 研究分野とも\n",
            "Xを->研究する計算機科学の一分野を指す語 | Yや->実現に関する | 研究分野とも\n",
            "Xを->研究する計算機科学の一分野を指す語 | Yに関する-> | 研究分野とも\n",
            "Xを -> 研究する計算機科学（）の一分野」を指す語。 -> Yとも\n",
            "Xする ->  -> Y\n",
            "Xする -> 計算機科学（）の -> Yを\n",
            "Xする -> 計算機科学（）の一分野」を指す -> Y\n",
            "Xする->計算機科学の一分野を指す語 | Yの->推論問題解決などの知的行動を代わって行わせる技術または | 研究分野とも\n",
            "Xする->計算機科学の一分野を指す語 | Yや->推論問題解決などの知的行動を代わって行わせる技術または | 研究分野とも\n",
            "Xする->計算機科学の一分野を指す語 | Y->問題解決などの知的行動を代わって行わせる技術または | 研究分野とも\n",
            "Xする->計算機科学の一分野を指す語 | Yなどの->知的行動を代わって行わせる技術または | 研究分野とも\n",
            "Xする->計算機科学の一分野を指す語 | Yを->代わって行わせる技術または | 研究分野とも\n",
            "Xする->計算機科学の一分野を指す語 | Yに->代わって行わせる技術または | 研究分野とも\n",
            "Xする->計算機科学の一分野を指す語 | Yに->行わせる技術または | 研究分野とも\n",
            "Xする->計算機科学の一分野を指す語 | Yまたは-> | 研究分野とも\n",
            "Xする->計算機科学の一分野を指す語 | Y->コンピュータによる情報処理システムの実現に関する | 研究分野とも\n",
            "Xする->計算機科学の一分野を指す語 | Yによる->情報処理システムの実現に関する | 研究分野とも\n",
            "Xする->計算機科学の一分野を指す語 | Yな->情報処理システムの実現に関する | 研究分野とも\n",
            "Xする->計算機科学の一分野を指す語 | Yの->実現に関する | 研究分野とも\n",
            "Xする->計算機科学の一分野を指す語 | Yや->実現に関する | 研究分野とも\n",
            "Xする->計算機科学の一分野を指す語 | Yに関する-> | 研究分野とも\n",
            "Xする -> 計算機科学（）の一分野」を指す語。 -> Yとも\n",
            "X -> （）の -> Yを\n",
            "X -> （）の一分野」を指す -> Y\n",
            "X->の一分野を指す語 | Yの->推論問題解決などの知的行動を代わって行わせる技術または | 研究分野とも\n",
            "X->の一分野を指す語 | Yや->推論問題解決などの知的行動を代わって行わせる技術または | 研究分野とも\n",
            "X->の一分野を指す語 | Y->問題解決などの知的行動を代わって行わせる技術または | 研究分野とも\n",
            "X->の一分野を指す語 | Yなどの->知的行動を代わって行わせる技術または | 研究分野とも\n",
            "X->の一分野を指す語 | Yを->代わって行わせる技術または | 研究分野とも\n",
            "X->の一分野を指す語 | Yに->代わって行わせる技術または | 研究分野とも\n",
            "X->の一分野を指す語 | Yに->行わせる技術または | 研究分野とも\n",
            "X->の一分野を指す語 | Yまたは-> | 研究分野とも\n",
            "X->の一分野を指す語 | Y->コンピュータによる情報処理システムの実現に関する | 研究分野とも\n",
            "X->の一分野を指す語 | Yによる->情報処理システムの実現に関する | 研究分野とも\n",
            "X->の一分野を指す語 | Yな->情報処理システムの実現に関する | 研究分野とも\n",
            "X->の一分野を指す語 | Yの->実現に関する | 研究分野とも\n",
            "X->の一分野を指す語 | Yや->実現に関する | 研究分野とも\n",
            "X->の一分野を指す語 | Yに関する-> | 研究分野とも\n",
            "X -> （）の一分野」を指す語。 -> Yとも\n",
            "Xを -> 指す -> Y\n",
            "Xを->指す語 | Yの->推論問題解決などの知的行動を代わって行わせる技術または | 研究分野とも\n",
            "Xを->指す語 | Yや->推論問題解決などの知的行動を代わって行わせる技術または | 研究分野とも\n",
            "Xを->指す語 | Y->問題解決などの知的行動を代わって行わせる技術または | 研究分野とも\n",
            "Xを->指す語 | Yなどの->知的行動を代わって行わせる技術または | 研究分野とも\n",
            "Xを->指す語 | Yを->代わって行わせる技術または | 研究分野とも\n",
            "Xを->指す語 | Yに->代わって行わせる技術または | 研究分野とも\n",
            "Xを->指す語 | Yに->行わせる技術または | 研究分野とも\n",
            "Xを->指す語 | Yまたは-> | 研究分野とも\n",
            "Xを->指す語 | Y->コンピュータによる情報処理システムの実現に関する | 研究分野とも\n",
            "Xを->指す語 | Yによる->情報処理システムの実現に関する | 研究分野とも\n",
            "Xを->指す語 | Yな->情報処理システムの実現に関する | 研究分野とも\n",
            "Xを->指す語 | Yの->実現に関する | 研究分野とも\n",
            "Xを->指す語 | Yや->実現に関する | 研究分野とも\n",
            "Xを->指す語 | Yに関する-> | 研究分野とも\n",
            "Xを -> 指す語。 -> Yとも\n",
            "X-> | Yの->推論問題解決などの知的行動を代わって行わせる技術または | 研究分野とも\n",
            "X-> | Yや->推論問題解決などの知的行動を代わって行わせる技術または | 研究分野とも\n",
            "X-> | Y->問題解決などの知的行動を代わって行わせる技術または | 研究分野とも\n",
            "X-> | Yなどの->知的行動を代わって行わせる技術または | 研究分野とも\n",
            "X-> | Yを->代わって行わせる技術または | 研究分野とも\n",
            "X-> | Yに->代わって行わせる技術または | 研究分野とも\n",
            "X-> | Yに->行わせる技術または | 研究分野とも\n",
            "X-> | Yまたは-> | 研究分野とも\n",
            "X-> | Y->コンピュータによる情報処理システムの実現に関する | 研究分野とも\n",
            "X-> | Yによる->情報処理システムの実現に関する | 研究分野とも\n",
            "X-> | Yな->情報処理システムの実現に関する | 研究分野とも\n",
            "X-> | Yの->実現に関する | 研究分野とも\n",
            "X-> | Yや->実現に関する | 研究分野とも\n",
            "X-> | Yに関する-> | 研究分野とも\n",
            "X ->  -> Yとも\n",
            "Xの-> | Yや-> | 推論\n",
            "Xの ->  -> Y\n",
            "Xの -> 推論、 -> Yなどの\n",
            "Xの -> 推論、問題解決などの -> Yを\n",
            "Xの->推論問題解決などの知的行動を | Yに-> | 代わって\n",
            "Xの->推論問題解決などの知的行動を代わって | Yに-> | 行わせる\n",
            "Xの -> 推論、問題解決などの知的行動を代わって行わせる -> Yまたは\n",
            "Xの->推論問題解決などの知的行動を代わって行わせる技術または | Y->コンピュータによる情報処理システムの実現に関する | 研究分野とも\n",
            "Xの->推論問題解決などの知的行動を代わって行わせる技術または | Yによる->情報処理システムの実現に関する | 研究分野とも\n",
            "Xの->推論問題解決などの知的行動を代わって行わせる技術または | Yな->情報処理システムの実現に関する | 研究分野とも\n",
            "Xの->推論問題解決などの知的行動を代わって行わせる技術または | Yの->実現に関する | 研究分野とも\n",
            "Xの->推論問題解決などの知的行動を代わって行わせる技術または | Yや->実現に関する | 研究分野とも\n",
            "Xの->推論問題解決などの知的行動を代わって行わせる技術または | Yに関する-> | 研究分野とも\n",
            "Xの -> 推論、問題解決などの知的行動を代わって行わせる技術」、または、 -> Yとも\n",
            "Xや ->  -> Y\n",
            "Xや -> 推論、 -> Yなどの\n",
            "Xや -> 推論、問題解決などの -> Yを\n",
            "Xや->推論問題解決などの知的行動を | Yに-> | 代わって\n",
            "Xや->推論問題解決などの知的行動を代わって | Yに-> | 行わせる\n",
            "Xや -> 推論、問題解決などの知的行動を代わって行わせる -> Yまたは\n",
            "Xや->推論問題解決などの知的行動を代わって行わせる技術または | Y->コンピュータによる情報処理システムの実現に関する | 研究分野とも\n",
            "Xや->推論問題解決などの知的行動を代わって行わせる技術または | Yによる->情報処理システムの実現に関する | 研究分野とも\n",
            "Xや->推論問題解決などの知的行動を代わって行わせる技術または | Yな->情報処理システムの実現に関する | 研究分野とも\n",
            "Xや->推論問題解決などの知的行動を代わって行わせる技術または | Yの->実現に関する | 研究分野とも\n",
            "Xや->推論問題解決などの知的行動を代わって行わせる技術または | Yや->実現に関する | 研究分野とも\n",
            "Xや->推論問題解決などの知的行動を代わって行わせる技術または | Yに関する-> | 研究分野とも\n",
            "Xや -> 推論、問題解決などの知的行動を代わって行わせる技術」、または、 -> Yとも\n",
            "X ->  -> Yなどの\n",
            "X -> 問題解決などの -> Yを\n",
            "X->問題解決などの知的行動を | Yに-> | 代わって\n",
            "X->問題解決などの知的行動を代わって | Yに-> | 行わせる\n",
            "X -> 問題解決などの知的行動を代わって行わせる -> Yまたは\n",
            "X->問題解決などの知的行動を代わって行わせる技術または | Y->コンピュータによる情報処理システムの実現に関する | 研究分野とも\n",
            "X->問題解決などの知的行動を代わって行わせる技術または | Yによる->情報処理システムの実現に関する | 研究分野とも\n",
            "X->問題解決などの知的行動を代わって行わせる技術または | Yな->情報処理システムの実現に関する | 研究分野とも\n",
            "X->問題解決などの知的行動を代わって行わせる技術または | Yの->実現に関する | 研究分野とも\n",
            "X->問題解決などの知的行動を代わって行わせる技術または | Yや->実現に関する | 研究分野とも\n",
            "X->問題解決などの知的行動を代わって行わせる技術または | Yに関する-> | 研究分野とも\n",
            "X -> 問題解決などの知的行動を代わって行わせる技術」、または、 -> Yとも\n",
            "Xなどの ->  -> Yを\n",
            "Xなどの->知的行動を | Yに-> | 代わって\n",
            "Xなどの->知的行動を代わって | Yに-> | 行わせる\n",
            "Xなどの -> 知的行動を代わって行わせる -> Yまたは\n",
            "Xなどの->知的行動を代わって行わせる技術または | Y->コンピュータによる情報処理システムの実現に関する | 研究分野とも\n",
            "Xなどの->知的行動を代わって行わせる技術または | Yによる->情報処理システムの実現に関する | 研究分野とも\n",
            "Xなどの->知的行動を代わって行わせる技術または | Yな->情報処理システムの実現に関する | 研究分野とも\n",
            "Xなどの->知的行動を代わって行わせる技術または | Yの->実現に関する | 研究分野とも\n",
            "Xなどの->知的行動を代わって行わせる技術または | Yや->実現に関する | 研究分野とも\n",
            "Xなどの->知的行動を代わって行わせる技術または | Yに関する-> | 研究分野とも\n",
            "Xなどの -> 知的行動を代わって行わせる技術」、または、 -> Yとも\n",
            "Xを-> | Yに-> | 代わって\n",
            "Xを->代わって | Yに-> | 行わせる\n",
            "Xを -> 代わって行わせる -> Yまたは\n",
            "Xを->代わって行わせる技術または | Y->コンピュータによる情報処理システムの実現に関する | 研究分野とも\n",
            "Xを->代わって行わせる技術または | Yによる->情報処理システムの実現に関する | 研究分野とも\n",
            "Xを->代わって行わせる技術または | Yな->情報処理システムの実現に関する | 研究分野とも\n",
            "Xを->代わって行わせる技術または | Yの->実現に関する | 研究分野とも\n",
            "Xを->代わって行わせる技術または | Yや->実現に関する | 研究分野とも\n",
            "Xを->代わって行わせる技術または | Yに関する-> | 研究分野とも\n",
            "Xを -> 代わって行わせる技術」、または、 -> Yとも\n",
            "Xに->代わって | Yに-> | 行わせる\n",
            "Xに -> 代わって行わせる -> Yまたは\n",
            "Xに->代わって行わせる技術または | Y->コンピュータによる情報処理システムの実現に関する | 研究分野とも\n",
            "Xに->代わって行わせる技術または | Yによる->情報処理システムの実現に関する | 研究分野とも\n",
            "Xに->代わって行わせる技術または | Yな->情報処理システムの実現に関する | 研究分野とも\n",
            "Xに->代わって行わせる技術または | Yの->実現に関する | 研究分野とも\n",
            "Xに->代わって行わせる技術または | Yや->実現に関する | 研究分野とも\n",
            "Xに->代わって行わせる技術または | Yに関する-> | 研究分野とも\n",
            "Xに -> 代わって行わせる技術」、または、 -> Yとも\n",
            "Xに -> 行わせる -> Yまたは\n",
            "Xに->行わせる技術または | Y->コンピュータによる情報処理システムの実現に関する | 研究分野とも\n",
            "Xに->行わせる技術または | Yによる->情報処理システムの実現に関する | 研究分野とも\n",
            "Xに->行わせる技術または | Yな->情報処理システムの実現に関する | 研究分野とも\n",
            "Xに->行わせる技術または | Yの->実現に関する | 研究分野とも\n",
            "Xに->行わせる技術または | Yや->実現に関する | 研究分野とも\n",
            "Xに->行わせる技術または | Yに関する-> | 研究分野とも\n",
            "Xに -> 行わせる技術」、または、 -> Yとも\n",
            "Xまたは-> | Y->コンピュータによる情報処理システムの実現に関する | 研究分野とも\n",
            "Xまたは-> | Yによる->情報処理システムの実現に関する | 研究分野とも\n",
            "Xまたは-> | Yな->情報処理システムの実現に関する | 研究分野とも\n",
            "Xまたは-> | Yの->実現に関する | 研究分野とも\n",
            "Xまたは-> | Yや->実現に関する | 研究分野とも\n",
            "Xまたは-> | Yに関する-> | 研究分野とも\n",
            "Xまたは ->  -> Yとも\n",
            "X ->  -> Yによる\n",
            "X->コンピュータによる | Yな-> | 情報処理システムの\n",
            "X -> （コンピュータ）による -> Yの\n",
            "X->コンピュータによる情報処理システムの | Yや-> | 実現に関する\n",
            "X -> （コンピュータ）による情報処理システムの -> Yに関する\n",
            "X -> （コンピュータ）による情報処理システムの実現に関する -> Yとも\n",
            "Xによる-> | Yな-> | 情報処理システムの\n",
            "Xによる ->  -> Yの\n",
            "Xによる->情報処理システムの | Yや-> | 実現に関する\n",
            "Xによる -> 情報処理システムの -> Yに関する\n",
            "Xによる -> 情報処理システムの実現に関する -> Yとも\n",
            "Xな ->  -> Yの\n",
            "Xな->情報処理システムの | Yや-> | 実現に関する\n",
            "Xな -> 情報処理システムの -> Yに関する\n",
            "Xな -> 情報処理システムの実現に関する -> Yとも\n",
            "Xの-> | Yや-> | 実現に関する\n",
            "Xの ->  -> Yに関する\n",
            "Xの -> 実現に関する -> Yとも\n",
            "Xや ->  -> Yに関する\n",
            "Xや -> 実現に関する -> Yとも\n",
            "Xに関する ->  -> Yとも\n"
          ]
        }
      ]
    }
  ]
}