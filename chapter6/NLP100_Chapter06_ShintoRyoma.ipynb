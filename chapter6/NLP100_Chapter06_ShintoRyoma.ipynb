{
  "nbformat": 4,
  "nbformat_minor": 0,
  "metadata": {
    "colab": {
      "provenance": [],
      "collapsed_sections": [
        "95HZha7nj8UT",
        "01nleDbdomvh",
        "wFgNrhD5opn3"
      ]
    },
    "kernelspec": {
      "name": "python3",
      "display_name": "Python 3"
    },
    "language_info": {
      "name": "python"
    }
  },
  "cells": [
    {
      "cell_type": "markdown",
      "source": [
        "# 第6章 機械学習"
      ],
      "metadata": {
        "id": "2RIy7ip5jrjy"
      }
    },
    {
      "cell_type": "markdown",
      "source": [
        "本章では，Fabio Gasparetti氏が公開しているNews Aggregator Data Setを用い，ニュース記事の見出しを「ビジネス」「科学技術」「エンターテイメント」「健康」のカテゴリに分類するタスク（カテゴリ分類）に取り組む．"
      ],
      "metadata": {
        "id": "Nzzhfp8wjxEQ"
      }
    },
    {
      "cell_type": "markdown",
      "source": [
        "# 50. データの入手・整形"
      ],
      "metadata": {
        "id": "95HZha7nj8UT"
      }
    },
    {
      "cell_type": "markdown",
      "source": [
        "News Aggregator Data Setをダウンロードし、以下の要領で学習データ（train.txt），検証データ（valid.txt），評価データ（test.txt）を作成せよ．\n",
        "\n",
        "\n",
        "1.   ダウンロードしたzipファイルを解凍し，readme.txtの説明を読む．\n",
        "2.   情報源（publisher）が”Reuters”, “Huffington Post”, “Businessweek”, “Contactmusic.com”, “Daily Mail”の事例（記事）のみを抽出する．\n",
        "3. 抽出された事例をランダムに並び替える．\n",
        "4. 抽出された事例の80%を学習データ，残りの10%ずつを検証データと評価データに分割し，それぞれtrain.txt，valid.txt，test.txtというファイル名で保存する．ファイルには，１行に１事例を書き出すこととし，カテゴリ名と記事見出しのタブ区切り形式とせよ（このファイルは後に問題70で再利用する）．\n",
        "\n",
        "学習データと評価データを作成したら，各カテゴリの事例数を確認せよ．"
      ],
      "metadata": {
        "id": "C60TiydomplV"
      }
    },
    {
      "cell_type": "code",
      "source": [
        "!wget https://archive.ics.uci.edu/ml/machine-learning-databases/00359/NewsAggregatorDataset.zip\n",
        "!unzip NewsAggregatorDataset.zip"
      ],
      "metadata": {
        "colab": {
          "base_uri": "https://localhost:8080/"
        },
        "id": "Lj8S5eBMkEJm",
        "outputId": "769f5f53-1dcf-4a2f-d233-84b85a5d9266"
      },
      "execution_count": 26,
      "outputs": [
        {
          "metadata": {
            "tags": null
          },
          "name": "stdout",
          "output_type": "stream",
          "text": [
            "--2022-12-23 03:25:28--  https://archive.ics.uci.edu/ml/machine-learning-databases/00359/NewsAggregatorDataset.zip\n",
            "Resolving archive.ics.uci.edu (archive.ics.uci.edu)... 128.195.10.252\n",
            "Connecting to archive.ics.uci.edu (archive.ics.uci.edu)|128.195.10.252|:443... connected.\n",
            "HTTP request sent, awaiting response... 200 OK\n",
            "Length: 29224203 (28M) [application/x-httpd-php]\n",
            "Saving to: ‘NewsAggregatorDataset.zip.1’\n",
            "\n",
            "NewsAggregatorDatas 100%[===================>]  27.87M  23.8MB/s    in 1.2s    \n",
            "\n",
            "2022-12-23 03:25:29 (23.8 MB/s) - ‘NewsAggregatorDataset.zip.1’ saved [29224203/29224203]\n",
            "\n",
            "Archive:  NewsAggregatorDataset.zip\n",
            "replace 2pageSessions.csv? [y]es, [n]o, [A]ll, [N]one, [r]ename: "
          ]
        }
      ]
    },
    {
      "cell_type": "markdown",
      "source": [
        "# 【readme】"
      ],
      "metadata": {
        "id": "01nleDbdomvh"
      }
    },
    {
      "cell_type": "markdown",
      "source": [
        "SUMMARY: Dataset of references (urls) to news web pages\n",
        "\n",
        "DESCRIPTION: Dataset of references to news web pages collected from an online aggregator in the period from March 10 to August 10 of 2014. The resources are grouped into clusters that represent pages discussing the same news story. The dataset includes also references to web pages that point (has a link to) one of the news page in the collection.\n",
        "\n",
        "TAGS: web pages, news, aggregator, classification, clustering\n",
        "\n",
        "LICENSE: Public domain - Due to restrictions on content and use of the news sources, the corpus is limited to web references (urls) to web pages and does not include any text content. The references have been retrieved from the news aggregator through traditional web browsers. \n",
        "\n",
        "FILE ENCODING: UTF-8\n",
        "\n",
        "FORMAT: Tab delimited CSV files. \n",
        "\n",
        "DATA SHAPE AND STATS: 422937 news pages and divided up into:\n",
        "\n",
        "152746 \tnews of business category\n",
        "108465 \tnews of science and technology category\n",
        "115920 \tnews of business category\n",
        " 45615 \tnews of health category\n",
        "\n",
        "2076 clusters of similar news for entertainment category\n",
        "1789 clusters of similar news for science and technology category\n",
        "2019 clusters of similar news for business category\n",
        "1347 clusters of similar news for health category\n",
        "\n",
        "References to web pages containing a link to one news included in the collection are also included. They are represented as pairs of urls corresponding to 2-page browsing sessions. The collection includes 15516 2-page browsing sessions covering 946 distinct clusters divided up into:\n",
        "\n",
        "6091 2-page sessions for business category\n",
        "9425 2-page sessions for entertainment category\n",
        "\n",
        " \n",
        "\n",
        "**CONTENT**\n",
        "\n",
        "FILENAME #1: newsCorpora.csv (102.297.000 bytes)\n",
        "DESCRIPTION: News pages\n",
        "FORMAT: ID \\t TITLE \\t URL \\t PUBLISHER \\t CATEGORY \\t STORY \\t HOSTNAME \\t TIMESTAMP\n",
        "\n",
        "where:\n",
        "ID\t\tNumeric ID\n",
        "TITLE\t\tNews title \n",
        "URL\t\tUrl\n",
        "PUBLISHER\tPublisher name\n",
        "CATEGORY\tNews category (b = business, t = science and technology, e = entertainment, m = health)\n",
        "STORY\t\tAlphanumeric ID of the cluster that includes news about the same story\n",
        "HOSTNAME\tUrl hostname\n",
        "TIMESTAMP \tApproximate time the news was published, as the number of milliseconds since the epoch 00:00:00 GMT, January 1, 1970\n",
        "\n",
        "\n",
        "FILENAME #2: 2pageSessions.csv (3.049.986 bytes)\n",
        "DESCRIPTION: 2-page sessions\n",
        "FORMAT: STORY \\t HOSTNAME \\t CATEGORY \\t URL\n",
        "\n",
        "where:\n",
        "STORY\t\tAlphanumeric ID of the cluster that includes news about the same story\n",
        "HOSTNAME\tUrl hostname\n",
        "CATEGORY\tNews category (b = business, t = science and technology, e = entertainment, m = health)\n",
        "URL\t\tTwo space-delimited urls representing a browsing session\n"
      ],
      "metadata": {
        "id": "XeHlMEKimdMb"
      }
    },
    {
      "cell_type": "markdown",
      "source": [
        "# プログラム"
      ],
      "metadata": {
        "id": "wFgNrhD5opn3"
      }
    },
    {
      "cell_type": "code",
      "source": [
        "# 行数の確認\n",
        "!wc -l ./newsCorpora.csv\n",
        "\n",
        "# 先頭10行の確認\n",
        "!head -10 ./newsCorpora.csv\n",
        "\n",
        "# 読込時のエラー回避のためダブルクォーテーションをシングルクォーテーションに置換\n",
        "!sed -e 's/\"/'\\''/g' ./newsCorpora.csv > ./newsCorpora_re.csv"
      ],
      "metadata": {
        "colab": {
          "base_uri": "https://localhost:8080/"
        },
        "id": "Y1znX4oCkJ9n",
        "outputId": "712c9b20-4d2b-4d7b-d1a2-41de8afa00cb"
      },
      "execution_count": 27,
      "outputs": [
        {
          "output_type": "stream",
          "name": "stdout",
          "text": [
            "422937 ./newsCorpora.csv\n",
            "1\tFed official says weak data caused by weather, should not slow taper\thttp://www.latimes.com/business/money/la-fi-mo-federal-reserve-plosser-stimulus-economy-20140310,0,1312750.story\\?track=rss\tLos Angeles Times\tb\tddUyU0VZz0BRneMioxUPQVP6sIxvM\twww.latimes.com\t1394470370698\n",
            "2\tFed's Charles Plosser sees high bar for change in pace of tapering\thttp://www.livemint.com/Politics/H2EvwJSK2VE6OF7iK1g3PP/Feds-Charles-Plosser-sees-high-bar-for-change-in-pace-of-ta.html\tLivemint\tb\tddUyU0VZz0BRneMioxUPQVP6sIxvM\twww.livemint.com\t1394470371207\n",
            "3\tUS open: Stocks fall after Fed official hints at accelerated tapering\thttp://www.ifamagazine.com/news/us-open-stocks-fall-after-fed-official-hints-at-accelerated-tapering-294436\tIFA Magazine\tb\tddUyU0VZz0BRneMioxUPQVP6sIxvM\twww.ifamagazine.com\t1394470371550\n",
            "4\tFed risks falling 'behind the curve', Charles Plosser says\thttp://www.ifamagazine.com/news/fed-risks-falling-behind-the-curve-charles-plosser-says-294430\tIFA Magazine\tb\tddUyU0VZz0BRneMioxUPQVP6sIxvM\twww.ifamagazine.com\t1394470371793\n",
            "5\tFed's Plosser: Nasty Weather Has Curbed Job Growth\thttp://www.moneynews.com/Economy/federal-reserve-charles-plosser-weather-job-growth/2014/03/10/id/557011\tMoneynews\tb\tddUyU0VZz0BRneMioxUPQVP6sIxvM\twww.moneynews.com\t1394470372027\n",
            "6\tPlosser: Fed May Have to Accelerate Tapering Pace\thttp://www.nasdaq.com/article/plosser-fed-may-have-to-accelerate-tapering-pace-20140310-00371\tNASDAQ\tb\tddUyU0VZz0BRneMioxUPQVP6sIxvM\twww.nasdaq.com\t1394470372212\n",
            "7\tFed's Plosser: Taper pace may be too slow\thttp://www.marketwatch.com/story/feds-plosser-taper-pace-may-be-too-slow-2014-03-10\\?reflink=MW_news_stmp\tMarketWatch\tb\tddUyU0VZz0BRneMioxUPQVP6sIxvM\twww.marketwatch.com\t1394470372405\n",
            "8\tFed's Plosser expects US unemployment to fall to 6.2% by the end of 2014\thttp://www.fxstreet.com/news/forex-news/article.aspx\\?storyid=23285020-b1b5-47ed-a8c4-96124bb91a39\tFXstreet.com\tb\tddUyU0VZz0BRneMioxUPQVP6sIxvM\twww.fxstreet.com\t1394470372615\n",
            "9\tUS jobs growth last month hit by weather:Fed President Charles Plosser\thttp://economictimes.indiatimes.com/news/international/business/us-jobs-growth-last-month-hit-by-weatherfed-president-charles-plosser/articleshow/31788000.cms\tEconomic Times\tb\tddUyU0VZz0BRneMioxUPQVP6sIxvM\teconomictimes.indiatimes.com\t1394470372792\n",
            "10\tECB unlikely to end sterilisation of SMP purchases - traders\thttp://www.iii.co.uk/news-opinion/reuters/news/152615\tInteractive Investor\tb\tdPhGU51DcrolUIMxbRm0InaHGA2XM\twww.iii.co.uk\t1394470501265\n"
          ]
        }
      ]
    },
    {
      "cell_type": "markdown",
      "source": [
        "続いて、pandasのデータフレームで読み込み、問題文の指示に従いデータを作成していきます。 データの分割にはscikit-learnのtrain_test_splitを利用しています。その際stratifyオプションを利用すると、指定したカラムの構成比が分割後の各データで等しくなるように分割されます。ここでは、分類の目的変数であるCATEGORYを指定し、データごとに偏りが生じないようにしています。"
      ],
      "metadata": {
        "id": "6rRetFk1p3YV"
      }
    },
    {
      "cell_type": "code",
      "source": [
        "import pandas as pd\n",
        "from sklearn.model_selection import train_test_split\n",
        "\n",
        "# データの読込\n",
        "df = pd.read_csv('./newsCorpora_re.csv', header=None, sep='\\t', names=['ID', 'TITLE', 'URL', 'PUBLISHER', 'CATEGORY', 'STORY', 'HOSTNAME', 'TIMESTAMP'])\n",
        "\n",
        "# データの抽出\n",
        "df = df.loc[df['PUBLISHER'].isin(['Reuters', 'Huffington Post', 'Businessweek', 'Contactmusic.com', 'Daily Mail']), ['TITLE', 'CATEGORY']]\n",
        "\n",
        "# データの分割(学習(train)、検証(valid)、評価(test))\n",
        "train, valid_test = train_test_split(df, test_size=0.2, shuffle=True, random_state=123, stratify=df['CATEGORY'])\n",
        "valid, test = train_test_split(valid_test, test_size=0.5, shuffle=True, random_state=123, stratify=valid_test['CATEGORY'])\n",
        "\n",
        "# データの保存\n",
        "train.to_csv('./train.txt', sep='\\t', index=False)\n",
        "valid.to_csv('./valid.txt', sep='\\t', index=False)\n",
        "test.to_csv('./test.txt', sep='\\t', index=False)\n",
        "\n",
        "# 事例数の確認\n",
        "print('【学習データ】')\n",
        "print(train['CATEGORY'].value_counts())\n",
        "print('【検証データ】')\n",
        "print(valid['CATEGORY'].value_counts())\n",
        "print('【評価データ】')\n",
        "print(test['CATEGORY'].value_counts())"
      ],
      "metadata": {
        "colab": {
          "base_uri": "https://localhost:8080/"
        },
        "id": "NjV00xGekUEE",
        "outputId": "e47da972-13c4-4bfc-89f0-674402eac670"
      },
      "execution_count": 28,
      "outputs": [
        {
          "output_type": "stream",
          "name": "stdout",
          "text": [
            "【学習データ】\n",
            "b    4501\n",
            "e    4235\n",
            "t    1220\n",
            "m     728\n",
            "Name: CATEGORY, dtype: int64\n",
            "【検証データ】\n",
            "b    563\n",
            "e    529\n",
            "t    153\n",
            "m     91\n",
            "Name: CATEGORY, dtype: int64\n",
            "【評価データ】\n",
            "b    563\n",
            "e    530\n",
            "t    152\n",
            "m     91\n",
            "Name: CATEGORY, dtype: int64\n"
          ]
        }
      ]
    },
    {
      "cell_type": "markdown",
      "source": [
        "【解説】\n",
        "\n",
        "pandas は、プログラミング言語 Python において、データ解析を支援する機能を提供するライブラリである。 特に、数表および 時系列 データを操作するための データ構造 と演算を提供する 。\n",
        "\n",
        "scikit-learn（サイキット・ラーン）はPython用の機械学習ライブラリです。\n",
        "\n",
        "【プログラム解説】\n",
        "\n",
        "**pd.read_csv:**\n",
        "\n",
        "csv形式のファイルをカラム(列)ラベルがついた状態でPandasのDataFrameへと読み取る関数。\n",
        "\n",
        "**loc:**\n",
        "\n",
        "行や列の名前で要素へアクセスする\n",
        "\n",
        "**train_test_split**\n",
        "\n",
        "NumPy配列ndarrayやリストなどを二分割できる。機械学習においてデータを訓練用（学習用）とテスト用に分割してホールドアウト検証を行う際に用いる。"
      ],
      "metadata": {
        "id": "57BDJjCXpwPM"
      }
    },
    {
      "cell_type": "markdown",
      "source": [
        "# 51. 特徴量抽出"
      ],
      "metadata": {
        "id": "UL4XQ5NCn1hv"
      }
    },
    {
      "cell_type": "markdown",
      "source": [
        "学習データ，検証データ，評価データから特徴量を抽出し，それぞれtrain.feature.txt，valid.feature.txt，test.feature.txtというファイル名で保存せよ． なお，カテゴリ分類に有用そうな特徴量は各自で自由に設計せよ．記事の見出しを単語列に変換したものが最低限のベースラインとなるであろう．"
      ],
      "metadata": {
        "id": "PFLgq8Eln4D0"
      }
    },
    {
      "cell_type": "markdown",
      "source": [
        "**【方針】**\n",
        "\n",
        "今回は、記事の見出しをスペースで分割した単語群を対象にTF-IDFを算出し、その値を特徴量として利用することにします。また、1単語(uni-gram)だけでなく連続する2単語(bi-gram)についてもTF-IDFを計算します。 なお、上記を計算するにあたり、テキストの前処理として、①記号をスペースに置換、②アルファベットの小文字化、③数字列を0に置換、の3つの処理を行っています。\n"
      ],
      "metadata": {
        "id": "OiIwNU9OqqU-"
      }
    },
    {
      "cell_type": "markdown",
      "source": [
        "**tf**\n",
        "\n",
        "Term Frequencyで，単語の出現頻度です．文書djにおける単語wiのtfは\n",
        "\n",
        "> tf(wi,dj) = wiの出現数/ djの単語数\n",
        "\n",
        "です．文書群が決まっているとき，tfは文書と単語を指定して初めて計算できます．\n",
        "\n",
        "「文書中により高頻度で出現する単語ほど，その文書にとって重要だ」という考えです．\n",
        "\n",
        "**idf**\n",
        "\n",
        "Inverse Document Frequencyで，逆文書頻度です．idfの計算方法は，+1するなどのケアによって複数存在しますが，TfidfVectorizerで使われているものを紹介します．文書群における単語wiのidfは\n",
        "\n",
        "> idf(wi) = (log文書数+1)/(wiが出現する文書数+1) +1\n",
        "\n",
        "\n",
        "です．文書群が決まっているとき，idfは単語さえ決めれば計算できます．\n",
        "\n",
        "「特定の文書に出現する単語ほど，ある話題に特化した意味のある単語である」という考えです．\n",
        "\n",
        "**tf-idf**\n",
        "\n",
        "tf-idfは，上記2つの値の積で表されます．"
      ],
      "metadata": {
        "id": "7gtas1avx6xg"
      }
    },
    {
      "cell_type": "code",
      "source": [
        "import string\n",
        "import re\n",
        "\n",
        "def preprocessing(text):\n",
        "  table = str.maketrans(string.punctuation, ' '*len(string.punctuation)) #.translateで使える変換テーブルを作成\n",
        "  text = text.translate(table)  # 記号をスペースに置換\n",
        "  text = text.lower()  # 小文字化\n",
        "  text = re.sub('[0-9]+', '0', text)  # 数字列を0に置換\n",
        "\n",
        "  return text"
      ],
      "metadata": {
        "id": "LLD2rEX2n5Il"
      },
      "execution_count": 29,
      "outputs": []
    },
    {
      "cell_type": "code",
      "source": [
        "# データの再結合\n",
        "df = pd.concat([train, valid, test], axis=0)\n",
        "df.reset_index(drop=True, inplace=True)  # indexを振りなおす\n",
        "\n",
        "# 前処理の実施\n",
        "df['TITLE'] = df['TITLE'].map(lambda x: preprocessing(x))\n",
        "\n",
        "print(df.head())"
      ],
      "metadata": {
        "colab": {
          "base_uri": "https://localhost:8080/"
        },
        "id": "8eEJq5nIn8X3",
        "outputId": "b3c4df9d-f4dd-4e05-b9b8-874ce4dbf212"
      },
      "execution_count": 30,
      "outputs": [
        {
          "output_type": "stream",
          "name": "stdout",
          "text": [
            "                                               TITLE CATEGORY\n",
            "0  refile update 0 european car sales up for sixt...        b\n",
            "1  amazon plans to fight ftc over mobile app purc...        t\n",
            "2  kids still get codeine in emergency rooms desp...        m\n",
            "3  what on earth happened between solange and jay...        e\n",
            "4  nato missile defense is flight tested over hawaii        b\n"
          ]
        }
      ]
    },
    {
      "cell_type": "code",
      "source": [
        "from sklearn.feature_extraction.text import TfidfVectorizer\n",
        "\n",
        "# データの分割\n",
        "train_valid = df[:len(train) + len(valid)]\n",
        "test = df[len(train) + len(valid):]\n",
        "\n",
        "# TfidfVectorizer\n",
        "vec_tfidf = TfidfVectorizer(min_df=10, ngram_range=(1, 2))  # ngram_rangeでTF-IDFを計算する単語の長さを指定\n",
        "\n",
        "# ベクトル化\n",
        "X_train_valid = vec_tfidf.fit_transform(train_valid['TITLE'])  # testの情報は使わない\n",
        "X_test = vec_tfidf.transform(test['TITLE'])\n",
        "\n",
        "# ベクトルをデータフレームに変換\n",
        "X_train_valid = pd.DataFrame(X_train_valid.toarray(), columns=vec_tfidf.get_feature_names())\n",
        "X_test = pd.DataFrame(X_test.toarray(), columns=vec_tfidf.get_feature_names())\n",
        "\n",
        "# データの分割\n",
        "X_train = X_train_valid[:len(train)]\n",
        "X_valid = X_train_valid[len(train):]\n",
        "\n",
        "# データの保存\n",
        "X_train.to_csv('./X_train.txt', sep='\\t', index=False)\n",
        "X_valid.to_csv('./X_valid.txt', sep='\\t', index=False)\n",
        "X_test.to_csv('./X_test.txt', sep='\\t', index=False)\n",
        "\n",
        "print(X_train.head())"
      ],
      "metadata": {
        "colab": {
          "base_uri": "https://localhost:8080/"
        },
        "id": "IRcAfgyhoCt7",
        "outputId": "6bc56d81-0b36-435e-907e-975292fba191"
      },
      "execution_count": 31,
      "outputs": [
        {
          "output_type": "stream",
          "name": "stderr",
          "text": [
            "/usr/local/lib/python3.8/dist-packages/sklearn/utils/deprecation.py:87: FutureWarning: Function get_feature_names is deprecated; get_feature_names is deprecated in 1.0 and will be removed in 1.2. Please use get_feature_names_out instead.\n",
            "  warnings.warn(msg, category=FutureWarning)\n"
          ]
        },
        {
          "output_type": "stream",
          "name": "stdout",
          "text": [
            "    0m  0million  0nd   0s  0st  0th  0th birthday   aa  aaliyah  abbvie  ...  \\\n",
            "0  0.0       0.0  0.0  0.0  0.0  0.0           0.0  0.0      0.0     0.0  ...   \n",
            "1  0.0       0.0  0.0  0.0  0.0  0.0           0.0  0.0      0.0     0.0  ...   \n",
            "2  0.0       0.0  0.0  0.0  0.0  0.0           0.0  0.0      0.0     0.0  ...   \n",
            "3  0.0       0.0  0.0  0.0  0.0  0.0           0.0  0.0      0.0     0.0  ...   \n",
            "4  0.0       0.0  0.0  0.0  0.0  0.0           0.0  0.0      0.0     0.0  ...   \n",
            "\n",
            "   young  your  your mother   yr  yr high  yuan  zac  zac efron  zendaya  zone  \n",
            "0    0.0   0.0          0.0  0.0      0.0   0.0  0.0        0.0      0.0   0.0  \n",
            "1    0.0   0.0          0.0  0.0      0.0   0.0  0.0        0.0      0.0   0.0  \n",
            "2    0.0   0.0          0.0  0.0      0.0   0.0  0.0        0.0      0.0   0.0  \n",
            "3    0.0   0.0          0.0  0.0      0.0   0.0  0.0        0.0      0.0   0.0  \n",
            "4    0.0   0.0          0.0  0.0      0.0   0.0  0.0        0.0      0.0   0.0  \n",
            "\n",
            "[5 rows x 2815 columns]\n"
          ]
        }
      ]
    },
    {
      "cell_type": "markdown",
      "source": [
        "【プログラム解説】\n",
        "\n",
        "**.concat**\n",
        "\n",
        "DataFrameを結合する関数。axisは列や行方向のどちらに結合するかを決める。axis=1→列方向。"
      ],
      "metadata": {
        "id": "hmiyGRMWwgIM"
      }
    },
    {
      "cell_type": "markdown",
      "source": [
        "# 52. 学習"
      ],
      "metadata": {
        "id": "mc0Ro292oHEE"
      }
    },
    {
      "cell_type": "markdown",
      "source": [
        "51で構築した学習データを用いて，ロジスティック回帰モデルを学習せよ．"
      ],
      "metadata": {
        "id": "_Okd3d2YoOy2"
      }
    },
    {
      "cell_type": "markdown",
      "source": [
        "**ロジスティック回帰分析**\n",
        "\n",
        "いくつかの要因（説明変数）から「2値の結果（目的変数）」が起こる確率を説明・予測することができる統計手法です。\n",
        "\n",
        "2値とは、試験の合格／不合格のように答えが2つしかない値のことを言います。\n",
        "\n",
        "たとえば、1日の勉強時間・部活動の有無・1日のスマホ利用時間のそれぞれの要因(説明変数)が、大学入試の合否結果(目的変数)にどのような影響を及ぼしているかを調べ、ある学生の合格率を予測する、など。"
      ],
      "metadata": {
        "id": "cMAUgC6ozdJC"
      }
    },
    {
      "cell_type": "markdown",
      "source": [
        "引き続きscikit-learnを利用して、ロジスティック回帰モデルを学習します。"
      ],
      "metadata": {
        "id": "RJSmEc3hoRaP"
      }
    },
    {
      "cell_type": "code",
      "source": [
        "from sklearn.linear_model import LogisticRegression\n",
        "\n",
        "# モデルの学習\n",
        "lg = LogisticRegression(random_state=123, max_iter=10000) #学習結果をlgに代入\n",
        "lg.fit(X_train, train['CATEGORY'])"
      ],
      "metadata": {
        "id": "LkTxQHMcoYXs"
      },
      "execution_count": null,
      "outputs": []
    },
    {
      "cell_type": "markdown",
      "source": [
        "【プログラム解説】\n",
        "\n",
        "**.fit**\n",
        "\n",
        "渡されたデータの最大値、最小値、平均、標準偏差、傾き...などの統計を取得して、内部メモリに保存する。"
      ],
      "metadata": {
        "id": "GVfFpejWz_H0"
      }
    },
    {
      "cell_type": "markdown",
      "source": [
        "# 53. 予測"
      ],
      "metadata": {
        "id": "hL6sR38sqA1C"
      }
    },
    {
      "cell_type": "markdown",
      "source": [
        "52で学習したロジスティック回帰モデルを用い，与えられた記事見出しからカテゴリとその予測確率を計算するプログラムを実装せよ．"
      ],
      "metadata": {
        "id": "F_rD-91FW9ce"
      }
    },
    {
      "cell_type": "markdown",
      "source": [
        "51の「テキスト前処理からTF-IDFによるベクトル化までを経たデータセット」を引数とする関数を定義します。"
      ],
      "metadata": {
        "id": "9LMLELi7XQUf"
      }
    },
    {
      "cell_type": "code",
      "source": [
        "import numpy as np\n",
        "\n",
        "def score_lg(lg, X):\n",
        "  return [np.max(lg.predict_proba(X), axis=1), lg.predict(X)]"
      ],
      "metadata": {
        "id": "jwXkzEx4XTGQ"
      },
      "execution_count": null,
      "outputs": []
    },
    {
      "cell_type": "markdown",
      "source": [
        "【プログラム解説】\n",
        "\n",
        "np.max:最大値を取り出す。axis=0,axis=1はそれぞれ列ごと、行ごとの最大値をとる。\n",
        "\n",
        "predict_proba：説明変数の値から各クラスに属する確率を予測\n",
        "\n",
        "predoct：分類を行う"
      ],
      "metadata": {
        "id": "SshBZ6drbbkP"
      }
    },
    {
      "cell_type": "code",
      "source": [
        "train_pred = score_lg(lg, X_train)\n",
        "test_pred = score_lg(lg, X_test)\n",
        "\n",
        "print(train_pred)"
      ],
      "metadata": {
        "colab": {
          "base_uri": "https://localhost:8080/"
        },
        "id": "-N9EKhZpXahL",
        "outputId": "ef715033-e136-4143-c379-9a59eaaa4044"
      },
      "execution_count": 34,
      "outputs": [
        {
          "output_type": "stream",
          "name": "stdout",
          "text": [
            "[array([0.84027948, 0.67904336, 0.55638881, ..., 0.86051   , 0.61359296,\n",
            "       0.90828249]), array(['b', 't', 'm', ..., 'b', 'm', 'e'], dtype=object)]\n"
          ]
        }
      ]
    },
    {
      "cell_type": "markdown",
      "source": [
        "# 54. 正解率の計測"
      ],
      "metadata": {
        "id": "UCX6VuL8aTLL"
      }
    },
    {
      "cell_type": "markdown",
      "source": [
        "52で学習したロジスティック回帰モデルの正解率を，学習データおよび評価データ上で計測せよ．"
      ],
      "metadata": {
        "id": "eP8T6EzgaULx"
      }
    },
    {
      "cell_type": "markdown",
      "source": [
        "正解率の計算にはscikit-learnのaccuracy_scoreを利用します。"
      ],
      "metadata": {
        "id": "xEH58v-haYY0"
      }
    },
    {
      "cell_type": "markdown",
      "source": [
        "【プログラム解説】\n",
        "\n",
        "**accuracy_score**\n",
        "\n",
        "The accuracy_score method is used to calculate the accuracy of either the faction or count of correct prediction in Python Scikit learn."
      ],
      "metadata": {
        "id": "XsADi4ok3e1u"
      }
    },
    {
      "cell_type": "code",
      "source": [
        "from sklearn.metrics import accuracy_score\n",
        "\n",
        "train_accuracy = accuracy_score(train['CATEGORY'], train_pred[1])\n",
        "test_accuracy = accuracy_score(test['CATEGORY'], test_pred[1])\n",
        "print(f'正解率（学習データ）：{train_accuracy:.3f}')\n",
        "print(f'正解率（評価データ）：{test_accuracy:.3f}')"
      ],
      "metadata": {
        "id": "NDjxH61CaWAe"
      },
      "execution_count": null,
      "outputs": []
    },
    {
      "cell_type": "markdown",
      "source": [
        "# 55.混同行列の作成"
      ],
      "metadata": {
        "id": "lgsDzW3zah57"
      }
    },
    {
      "cell_type": "markdown",
      "source": [
        "52で学習したロジスティック回帰モデルの混同行列（confusion matrix）を，学習データおよび評価データ上で作成せよ．"
      ],
      "metadata": {
        "id": "xZacILwYalhG"
      }
    },
    {
      "cell_type": "markdown",
      "source": [
        "混同行列もscikit-learnを用いて計算します。 さらに、算出した混同行列をseabornを用いて可視化します。"
      ],
      "metadata": {
        "id": "xeuxj1LzaoLR"
      }
    },
    {
      "cell_type": "markdown",
      "source": [
        "**混同行列（confusion matrix）とは**\n",
        "\n",
        "混同行列（confusion matrix）はクラス分類問題の結果を「実際のクラス」と「予測したクラス」を軸にしてまとめたもの。\n",
        "\n",
        "二値分類（2クラス分類）においては実際のクラスと予測したクラスの組み合わせによって、結果を以下の4種類に分けることができる。\n",
        "\n",
        ">真陽性（TP: True Positive）: 実際のクラスが陽性で予測も陽性（正解）\n",
        "\n",
        ">真陰性（TN: True Negative）: 実際のクラスが陰性で予測も陰性（正解）\n",
        "\n",
        ">偽陽性（FP: False Positive）: 実際のクラスは陰性で予測が陽性（不正解）\n",
        "\n",
        ">偽陰性（FN: False Negative）: 実際のクラスは陽性で予測が陰性（不正解）\n",
        "\n",
        "これを行列にしたものが混同行列。"
      ],
      "metadata": {
        "id": "1MCpbMHR4baq"
      }
    },
    {
      "cell_type": "markdown",
      "source": [
        "**ヒートマップ**\n",
        "\n",
        "ヒートマップは、2次元データ（行列）の個々の値を色や濃淡として表現した可視化グラフの一種。"
      ],
      "metadata": {
        "id": "UE8ZPx4w40kb"
      }
    },
    {
      "cell_type": "code",
      "source": [
        "from sklearn.metrics import confusion_matrix\n",
        "import seaborn as sns\n",
        "import matplotlib.pyplot as plt\n",
        "\n",
        "# 学習データ\n",
        "train_cm = confusion_matrix(train['CATEGORY'], train_pred[1])\n",
        "print(train_cm)\n",
        "sns.heatmap(train_cm, annot=True, cmap='Blues')\n",
        "plt.show()"
      ],
      "metadata": {
        "id": "aXiF5Luqasa3"
      },
      "execution_count": null,
      "outputs": []
    },
    {
      "cell_type": "code",
      "source": [
        "# 評価データ\n",
        "test_cm = confusion_matrix(test['CATEGORY'], test_pred[1])\n",
        "print(test_cm)\n",
        "sns.heatmap(test_cm, annot=True, cmap='Blues')\n",
        "plt.show()"
      ],
      "metadata": {
        "id": "nUmvaz_gaval"
      },
      "execution_count": null,
      "outputs": []
    },
    {
      "cell_type": "markdown",
      "source": [
        "# 56. 適合率，再現率，F1スコアの計測"
      ],
      "metadata": {
        "id": "Uf56RhDqutIK"
      }
    },
    {
      "cell_type": "markdown",
      "source": [
        "52で学習したロジスティック回帰モデルの適合率，再現率，F1スコアを，評価データ上で計測せよ．カテゴリごとに適合率，再現率，F1スコアを求め，カテゴリごとの性能をマイクロ平均（micro-average）とマクロ平均（macro-average）で統合せよ．"
      ],
      "metadata": {
        "id": "xEo3EEB5uvX5"
      }
    },
    {
      "cell_type": "markdown",
      "source": [
        "**適合率**\n",
        ":「陽性と予測したもののうち、実際に陽性であるものの割合」を表す指標。\n",
        "\n",
        "**再現率**\n",
        ":「実際に陽性であるもののうち、正しく陽性と予測できたものの割合」\n",
        "\n",
        "**F1スコア**\n",
        "：対照的な特徴を持つ適合率と再現率の調和平均。対照的な両者の特徴をバランスよく含んでいる指標。\n",
        "\n",
        "**マクロ平均法**\n",
        "：各クラス毎に評価指標（適合率・再現率など）を計算した後、平均を取る方法を指します。\n",
        "\n",
        "**マイクロ平均法**\n",
        "：各クラス毎のTP、TN、FP、FNの値を算出した段階で集計し、評価指標（適合率・再現率など）を算出する方法です。"
      ],
      "metadata": {
        "id": "ocvkenkSyKKH"
      }
    },
    {
      "cell_type": "code",
      "source": [
        "from sklearn.metrics import precision_score, recall_score, f1_score\n",
        "\n",
        "def calculate_scores(y_true, y_pred):\n",
        "  # 適合率\n",
        "  precision = precision_score(test['CATEGORY'], test_pred[1], average=None, labels=['b', 'e', 't', 'm'])  # Noneを指定するとクラスごとの精度をndarrayで返す\n",
        "  precision = np.append(precision, precision_score(y_true, y_pred, average='micro'))  # 末尾にマイクロ平均を追加\n",
        "  precision = np.append(precision, precision_score(y_true, y_pred, average='macro'))  # 末尾にマクロ平均を追加\n",
        "\n",
        "  # 再現率\n",
        "  recall = recall_score(test['CATEGORY'], test_pred[1], average=None, labels=['b', 'e', 't', 'm'])\n",
        "  recall = np.append(recall, recall_score(y_true, y_pred, average='micro'))\n",
        "  recall = np.append(recall, recall_score(y_true, y_pred, average='macro'))\n",
        "\n",
        "  # F1スコア\n",
        "  f1 = f1_score(test['CATEGORY'], test_pred[1], average=None, labels=['b', 'e', 't', 'm'])\n",
        "  f1 = np.append(f1, f1_score(y_true, y_pred, average='micro'))\n",
        "  f1 = np.append(f1, f1_score(y_true, y_pred, average='macro'))\n",
        "\n",
        "  # 結果を結合してデータフレーム化\n",
        "  scores = pd.DataFrame({'適合率': precision, '再現率': recall, 'F1スコア': f1}, index=['b', 'e', 't', 'm', 'マイクロ平均', 'マクロ平均'])\n",
        "\n",
        "  return scores"
      ],
      "metadata": {
        "id": "rav_pdWquyTl"
      },
      "execution_count": null,
      "outputs": []
    },
    {
      "cell_type": "code",
      "source": [
        "print(calculate_scores(test['CATEGORY'], test_pred[1]))"
      ],
      "metadata": {
        "colab": {
          "base_uri": "https://localhost:8080/"
        },
        "id": "zEyZEUBfvE0K",
        "outputId": "3e2058ca-4b18-4896-eb7b-ac06adf26872"
      },
      "execution_count": 39,
      "outputs": [
        {
          "output_type": "stream",
          "name": "stdout",
          "text": [
            "             適合率       再現率     F1スコア\n",
            "b       0.896435  0.937833  0.916667\n",
            "e       0.877551  0.973585  0.923077\n",
            "t       0.844660  0.572368  0.682353\n",
            "m       0.928571  0.571429  0.707483\n",
            "マイクロ平均  0.885479  0.885479  0.885479\n",
            "マクロ平均   0.886804  0.763804  0.807395\n"
          ]
        }
      ]
    },
    {
      "cell_type": "markdown",
      "source": [
        "# 57. 特徴量の重みの確認"
      ],
      "metadata": {
        "id": "8D-BTvK-vGrc"
      }
    },
    {
      "cell_type": "markdown",
      "source": [
        "52で学習したロジスティック回帰モデルの中で，重みの高い特徴量トップ10と，重みの低い特徴量トップ10を確認せよ．"
      ],
      "metadata": {
        "id": "cZ4Xo3TLvKtJ"
      }
    },
    {
      "cell_type": "markdown",
      "source": [
        "学習した各特徴量の重みは、クラスごとにcoef_に格納されています。"
      ],
      "metadata": {
        "id": "F_1UUZ0SvLYU"
      }
    },
    {
      "cell_type": "markdown",
      "source": [
        "**np.argsort**\n",
        "\n",
        "配列の要素をソートした時のインダイス（インデックスの複数形）を小さい順で返す関数。細かい部分はnp.sort関数と同じですが、配列をソートするのではなくインダイスを作成する点が異なります。"
      ],
      "metadata": {
        "id": "Qac-sQXX6TnP"
      }
    },
    {
      "cell_type": "code",
      "source": [
        "features = X_train.columns.values\n",
        "index = [i for i in range(1, 11)]\n",
        "for c, coef in zip(lg.classes_, lg.coef_): #カテゴリと重みを同時に取得\n",
        "  print(f'【カテゴリ】{c}')\n",
        "  best10 = pd.DataFrame(features[np.argsort(coef)[::-1][:10]], columns=['重要度上位'], index=index).T #転置\n",
        "  worst10 = pd.DataFrame(features[np.argsort(coef)[:10]], columns=['重要度下位'], index=index).T\n",
        "  display(pd.concat([best10, worst10], axis=0))\n",
        "  print('\\n')"
      ],
      "metadata": {
        "colab": {
          "base_uri": "https://localhost:8080/",
          "height": 614
        },
        "id": "Z-kqlfayvRXz",
        "outputId": "52dc7e91-fdd9-458d-8588-27ef84447d31"
      },
      "execution_count": 40,
      "outputs": [
        {
          "output_type": "stream",
          "name": "stdout",
          "text": [
            "【カテゴリ】b\n"
          ]
        },
        {
          "output_type": "display_data",
          "data": {
            "text/plain": [
              "          1      2      3    4       5     6          7       8       9   \\\n",
              "重要度上位   bank    fed  china  ecb  stocks  euro  obamacare     oil  yellen   \n",
              "重要度下位  video  ebola    the  her     and   she      apple  google    star   \n",
              "\n",
              "              10  \n",
              "重要度上位     dollar  \n",
              "重要度下位  microsoft  "
            ],
            "text/html": [
              "\n",
              "  <div id=\"df-fc4eb42e-6520-4991-93c5-d5d4860ae8b9\">\n",
              "    <div class=\"colab-df-container\">\n",
              "      <div>\n",
              "<style scoped>\n",
              "    .dataframe tbody tr th:only-of-type {\n",
              "        vertical-align: middle;\n",
              "    }\n",
              "\n",
              "    .dataframe tbody tr th {\n",
              "        vertical-align: top;\n",
              "    }\n",
              "\n",
              "    .dataframe thead th {\n",
              "        text-align: right;\n",
              "    }\n",
              "</style>\n",
              "<table border=\"1\" class=\"dataframe\">\n",
              "  <thead>\n",
              "    <tr style=\"text-align: right;\">\n",
              "      <th></th>\n",
              "      <th>1</th>\n",
              "      <th>2</th>\n",
              "      <th>3</th>\n",
              "      <th>4</th>\n",
              "      <th>5</th>\n",
              "      <th>6</th>\n",
              "      <th>7</th>\n",
              "      <th>8</th>\n",
              "      <th>9</th>\n",
              "      <th>10</th>\n",
              "    </tr>\n",
              "  </thead>\n",
              "  <tbody>\n",
              "    <tr>\n",
              "      <th>重要度上位</th>\n",
              "      <td>bank</td>\n",
              "      <td>fed</td>\n",
              "      <td>china</td>\n",
              "      <td>ecb</td>\n",
              "      <td>stocks</td>\n",
              "      <td>euro</td>\n",
              "      <td>obamacare</td>\n",
              "      <td>oil</td>\n",
              "      <td>yellen</td>\n",
              "      <td>dollar</td>\n",
              "    </tr>\n",
              "    <tr>\n",
              "      <th>重要度下位</th>\n",
              "      <td>video</td>\n",
              "      <td>ebola</td>\n",
              "      <td>the</td>\n",
              "      <td>her</td>\n",
              "      <td>and</td>\n",
              "      <td>she</td>\n",
              "      <td>apple</td>\n",
              "      <td>google</td>\n",
              "      <td>star</td>\n",
              "      <td>microsoft</td>\n",
              "    </tr>\n",
              "  </tbody>\n",
              "</table>\n",
              "</div>\n",
              "      <button class=\"colab-df-convert\" onclick=\"convertToInteractive('df-fc4eb42e-6520-4991-93c5-d5d4860ae8b9')\"\n",
              "              title=\"Convert this dataframe to an interactive table.\"\n",
              "              style=\"display:none;\">\n",
              "        \n",
              "  <svg xmlns=\"http://www.w3.org/2000/svg\" height=\"24px\"viewBox=\"0 0 24 24\"\n",
              "       width=\"24px\">\n",
              "    <path d=\"M0 0h24v24H0V0z\" fill=\"none\"/>\n",
              "    <path d=\"M18.56 5.44l.94 2.06.94-2.06 2.06-.94-2.06-.94-.94-2.06-.94 2.06-2.06.94zm-11 1L8.5 8.5l.94-2.06 2.06-.94-2.06-.94L8.5 2.5l-.94 2.06-2.06.94zm10 10l.94 2.06.94-2.06 2.06-.94-2.06-.94-.94-2.06-.94 2.06-2.06.94z\"/><path d=\"M17.41 7.96l-1.37-1.37c-.4-.4-.92-.59-1.43-.59-.52 0-1.04.2-1.43.59L10.3 9.45l-7.72 7.72c-.78.78-.78 2.05 0 2.83L4 21.41c.39.39.9.59 1.41.59.51 0 1.02-.2 1.41-.59l7.78-7.78 2.81-2.81c.8-.78.8-2.07 0-2.86zM5.41 20L4 18.59l7.72-7.72 1.47 1.35L5.41 20z\"/>\n",
              "  </svg>\n",
              "      </button>\n",
              "      \n",
              "  <style>\n",
              "    .colab-df-container {\n",
              "      display:flex;\n",
              "      flex-wrap:wrap;\n",
              "      gap: 12px;\n",
              "    }\n",
              "\n",
              "    .colab-df-convert {\n",
              "      background-color: #E8F0FE;\n",
              "      border: none;\n",
              "      border-radius: 50%;\n",
              "      cursor: pointer;\n",
              "      display: none;\n",
              "      fill: #1967D2;\n",
              "      height: 32px;\n",
              "      padding: 0 0 0 0;\n",
              "      width: 32px;\n",
              "    }\n",
              "\n",
              "    .colab-df-convert:hover {\n",
              "      background-color: #E2EBFA;\n",
              "      box-shadow: 0px 1px 2px rgba(60, 64, 67, 0.3), 0px 1px 3px 1px rgba(60, 64, 67, 0.15);\n",
              "      fill: #174EA6;\n",
              "    }\n",
              "\n",
              "    [theme=dark] .colab-df-convert {\n",
              "      background-color: #3B4455;\n",
              "      fill: #D2E3FC;\n",
              "    }\n",
              "\n",
              "    [theme=dark] .colab-df-convert:hover {\n",
              "      background-color: #434B5C;\n",
              "      box-shadow: 0px 1px 3px 1px rgba(0, 0, 0, 0.15);\n",
              "      filter: drop-shadow(0px 1px 2px rgba(0, 0, 0, 0.3));\n",
              "      fill: #FFFFFF;\n",
              "    }\n",
              "  </style>\n",
              "\n",
              "      <script>\n",
              "        const buttonEl =\n",
              "          document.querySelector('#df-fc4eb42e-6520-4991-93c5-d5d4860ae8b9 button.colab-df-convert');\n",
              "        buttonEl.style.display =\n",
              "          google.colab.kernel.accessAllowed ? 'block' : 'none';\n",
              "\n",
              "        async function convertToInteractive(key) {\n",
              "          const element = document.querySelector('#df-fc4eb42e-6520-4991-93c5-d5d4860ae8b9');\n",
              "          const dataTable =\n",
              "            await google.colab.kernel.invokeFunction('convertToInteractive',\n",
              "                                                     [key], {});\n",
              "          if (!dataTable) return;\n",
              "\n",
              "          const docLinkHtml = 'Like what you see? Visit the ' +\n",
              "            '<a target=\"_blank\" href=https://colab.research.google.com/notebooks/data_table.ipynb>data table notebook</a>'\n",
              "            + ' to learn more about interactive tables.';\n",
              "          element.innerHTML = '';\n",
              "          dataTable['output_type'] = 'display_data';\n",
              "          await google.colab.output.renderOutput(dataTable, element);\n",
              "          const docLink = document.createElement('div');\n",
              "          docLink.innerHTML = docLinkHtml;\n",
              "          element.appendChild(docLink);\n",
              "        }\n",
              "      </script>\n",
              "    </div>\n",
              "  </div>\n",
              "  "
            ]
          },
          "metadata": {}
        },
        {
          "output_type": "stream",
          "name": "stdout",
          "text": [
            "\n",
            "\n",
            "【カテゴリ】e\n"
          ]
        },
        {
          "output_type": "display_data",
          "data": {
            "text/plain": [
              "               1       2       3      4      5     6     7         8   \\\n",
              "重要度上位  kardashian   chris     her  movie   star  film  paul        he   \n",
              "重要度下位          us  update  google  study  china    gm   ceo  facebook   \n",
              "\n",
              "            9     10  \n",
              "重要度上位  wedding   she  \n",
              "重要度下位    apple  says  "
            ],
            "text/html": [
              "\n",
              "  <div id=\"df-636ad395-a40c-4fe4-97f3-668af7196cea\">\n",
              "    <div class=\"colab-df-container\">\n",
              "      <div>\n",
              "<style scoped>\n",
              "    .dataframe tbody tr th:only-of-type {\n",
              "        vertical-align: middle;\n",
              "    }\n",
              "\n",
              "    .dataframe tbody tr th {\n",
              "        vertical-align: top;\n",
              "    }\n",
              "\n",
              "    .dataframe thead th {\n",
              "        text-align: right;\n",
              "    }\n",
              "</style>\n",
              "<table border=\"1\" class=\"dataframe\">\n",
              "  <thead>\n",
              "    <tr style=\"text-align: right;\">\n",
              "      <th></th>\n",
              "      <th>1</th>\n",
              "      <th>2</th>\n",
              "      <th>3</th>\n",
              "      <th>4</th>\n",
              "      <th>5</th>\n",
              "      <th>6</th>\n",
              "      <th>7</th>\n",
              "      <th>8</th>\n",
              "      <th>9</th>\n",
              "      <th>10</th>\n",
              "    </tr>\n",
              "  </thead>\n",
              "  <tbody>\n",
              "    <tr>\n",
              "      <th>重要度上位</th>\n",
              "      <td>kardashian</td>\n",
              "      <td>chris</td>\n",
              "      <td>her</td>\n",
              "      <td>movie</td>\n",
              "      <td>star</td>\n",
              "      <td>film</td>\n",
              "      <td>paul</td>\n",
              "      <td>he</td>\n",
              "      <td>wedding</td>\n",
              "      <td>she</td>\n",
              "    </tr>\n",
              "    <tr>\n",
              "      <th>重要度下位</th>\n",
              "      <td>us</td>\n",
              "      <td>update</td>\n",
              "      <td>google</td>\n",
              "      <td>study</td>\n",
              "      <td>china</td>\n",
              "      <td>gm</td>\n",
              "      <td>ceo</td>\n",
              "      <td>facebook</td>\n",
              "      <td>apple</td>\n",
              "      <td>says</td>\n",
              "    </tr>\n",
              "  </tbody>\n",
              "</table>\n",
              "</div>\n",
              "      <button class=\"colab-df-convert\" onclick=\"convertToInteractive('df-636ad395-a40c-4fe4-97f3-668af7196cea')\"\n",
              "              title=\"Convert this dataframe to an interactive table.\"\n",
              "              style=\"display:none;\">\n",
              "        \n",
              "  <svg xmlns=\"http://www.w3.org/2000/svg\" height=\"24px\"viewBox=\"0 0 24 24\"\n",
              "       width=\"24px\">\n",
              "    <path d=\"M0 0h24v24H0V0z\" fill=\"none\"/>\n",
              "    <path d=\"M18.56 5.44l.94 2.06.94-2.06 2.06-.94-2.06-.94-.94-2.06-.94 2.06-2.06.94zm-11 1L8.5 8.5l.94-2.06 2.06-.94-2.06-.94L8.5 2.5l-.94 2.06-2.06.94zm10 10l.94 2.06.94-2.06 2.06-.94-2.06-.94-.94-2.06-.94 2.06-2.06.94z\"/><path d=\"M17.41 7.96l-1.37-1.37c-.4-.4-.92-.59-1.43-.59-.52 0-1.04.2-1.43.59L10.3 9.45l-7.72 7.72c-.78.78-.78 2.05 0 2.83L4 21.41c.39.39.9.59 1.41.59.51 0 1.02-.2 1.41-.59l7.78-7.78 2.81-2.81c.8-.78.8-2.07 0-2.86zM5.41 20L4 18.59l7.72-7.72 1.47 1.35L5.41 20z\"/>\n",
              "  </svg>\n",
              "      </button>\n",
              "      \n",
              "  <style>\n",
              "    .colab-df-container {\n",
              "      display:flex;\n",
              "      flex-wrap:wrap;\n",
              "      gap: 12px;\n",
              "    }\n",
              "\n",
              "    .colab-df-convert {\n",
              "      background-color: #E8F0FE;\n",
              "      border: none;\n",
              "      border-radius: 50%;\n",
              "      cursor: pointer;\n",
              "      display: none;\n",
              "      fill: #1967D2;\n",
              "      height: 32px;\n",
              "      padding: 0 0 0 0;\n",
              "      width: 32px;\n",
              "    }\n",
              "\n",
              "    .colab-df-convert:hover {\n",
              "      background-color: #E2EBFA;\n",
              "      box-shadow: 0px 1px 2px rgba(60, 64, 67, 0.3), 0px 1px 3px 1px rgba(60, 64, 67, 0.15);\n",
              "      fill: #174EA6;\n",
              "    }\n",
              "\n",
              "    [theme=dark] .colab-df-convert {\n",
              "      background-color: #3B4455;\n",
              "      fill: #D2E3FC;\n",
              "    }\n",
              "\n",
              "    [theme=dark] .colab-df-convert:hover {\n",
              "      background-color: #434B5C;\n",
              "      box-shadow: 0px 1px 3px 1px rgba(0, 0, 0, 0.15);\n",
              "      filter: drop-shadow(0px 1px 2px rgba(0, 0, 0, 0.3));\n",
              "      fill: #FFFFFF;\n",
              "    }\n",
              "  </style>\n",
              "\n",
              "      <script>\n",
              "        const buttonEl =\n",
              "          document.querySelector('#df-636ad395-a40c-4fe4-97f3-668af7196cea button.colab-df-convert');\n",
              "        buttonEl.style.display =\n",
              "          google.colab.kernel.accessAllowed ? 'block' : 'none';\n",
              "\n",
              "        async function convertToInteractive(key) {\n",
              "          const element = document.querySelector('#df-636ad395-a40c-4fe4-97f3-668af7196cea');\n",
              "          const dataTable =\n",
              "            await google.colab.kernel.invokeFunction('convertToInteractive',\n",
              "                                                     [key], {});\n",
              "          if (!dataTable) return;\n",
              "\n",
              "          const docLinkHtml = 'Like what you see? Visit the ' +\n",
              "            '<a target=\"_blank\" href=https://colab.research.google.com/notebooks/data_table.ipynb>data table notebook</a>'\n",
              "            + ' to learn more about interactive tables.';\n",
              "          element.innerHTML = '';\n",
              "          dataTable['output_type'] = 'display_data';\n",
              "          await google.colab.output.renderOutput(dataTable, element);\n",
              "          const docLink = document.createElement('div');\n",
              "          docLink.innerHTML = docLinkHtml;\n",
              "          element.appendChild(docLink);\n",
              "        }\n",
              "      </script>\n",
              "    </div>\n",
              "  </div>\n",
              "  "
            ]
          },
          "metadata": {}
        },
        {
          "output_type": "stream",
          "name": "stdout",
          "text": [
            "\n",
            "\n",
            "【カテゴリ】m\n"
          ]
        },
        {
          "output_type": "display_data",
          "data": {
            "text/plain": [
              "             1      2       3      4     5     6       7      8        9   \\\n",
              "重要度上位     ebola  study  cancer   drug  mers   fda   cases    cdc    could   \n",
              "重要度下位  facebook     gm     ceo  apple  bank  deal  google  sales  climate   \n",
              "\n",
              "               10  \n",
              "重要度上位  cigarettes  \n",
              "重要度下位     twitter  "
            ],
            "text/html": [
              "\n",
              "  <div id=\"df-9bd42ca8-9bf4-4007-8353-ba89236a8a08\">\n",
              "    <div class=\"colab-df-container\">\n",
              "      <div>\n",
              "<style scoped>\n",
              "    .dataframe tbody tr th:only-of-type {\n",
              "        vertical-align: middle;\n",
              "    }\n",
              "\n",
              "    .dataframe tbody tr th {\n",
              "        vertical-align: top;\n",
              "    }\n",
              "\n",
              "    .dataframe thead th {\n",
              "        text-align: right;\n",
              "    }\n",
              "</style>\n",
              "<table border=\"1\" class=\"dataframe\">\n",
              "  <thead>\n",
              "    <tr style=\"text-align: right;\">\n",
              "      <th></th>\n",
              "      <th>1</th>\n",
              "      <th>2</th>\n",
              "      <th>3</th>\n",
              "      <th>4</th>\n",
              "      <th>5</th>\n",
              "      <th>6</th>\n",
              "      <th>7</th>\n",
              "      <th>8</th>\n",
              "      <th>9</th>\n",
              "      <th>10</th>\n",
              "    </tr>\n",
              "  </thead>\n",
              "  <tbody>\n",
              "    <tr>\n",
              "      <th>重要度上位</th>\n",
              "      <td>ebola</td>\n",
              "      <td>study</td>\n",
              "      <td>cancer</td>\n",
              "      <td>drug</td>\n",
              "      <td>mers</td>\n",
              "      <td>fda</td>\n",
              "      <td>cases</td>\n",
              "      <td>cdc</td>\n",
              "      <td>could</td>\n",
              "      <td>cigarettes</td>\n",
              "    </tr>\n",
              "    <tr>\n",
              "      <th>重要度下位</th>\n",
              "      <td>facebook</td>\n",
              "      <td>gm</td>\n",
              "      <td>ceo</td>\n",
              "      <td>apple</td>\n",
              "      <td>bank</td>\n",
              "      <td>deal</td>\n",
              "      <td>google</td>\n",
              "      <td>sales</td>\n",
              "      <td>climate</td>\n",
              "      <td>twitter</td>\n",
              "    </tr>\n",
              "  </tbody>\n",
              "</table>\n",
              "</div>\n",
              "      <button class=\"colab-df-convert\" onclick=\"convertToInteractive('df-9bd42ca8-9bf4-4007-8353-ba89236a8a08')\"\n",
              "              title=\"Convert this dataframe to an interactive table.\"\n",
              "              style=\"display:none;\">\n",
              "        \n",
              "  <svg xmlns=\"http://www.w3.org/2000/svg\" height=\"24px\"viewBox=\"0 0 24 24\"\n",
              "       width=\"24px\">\n",
              "    <path d=\"M0 0h24v24H0V0z\" fill=\"none\"/>\n",
              "    <path d=\"M18.56 5.44l.94 2.06.94-2.06 2.06-.94-2.06-.94-.94-2.06-.94 2.06-2.06.94zm-11 1L8.5 8.5l.94-2.06 2.06-.94-2.06-.94L8.5 2.5l-.94 2.06-2.06.94zm10 10l.94 2.06.94-2.06 2.06-.94-2.06-.94-.94-2.06-.94 2.06-2.06.94z\"/><path d=\"M17.41 7.96l-1.37-1.37c-.4-.4-.92-.59-1.43-.59-.52 0-1.04.2-1.43.59L10.3 9.45l-7.72 7.72c-.78.78-.78 2.05 0 2.83L4 21.41c.39.39.9.59 1.41.59.51 0 1.02-.2 1.41-.59l7.78-7.78 2.81-2.81c.8-.78.8-2.07 0-2.86zM5.41 20L4 18.59l7.72-7.72 1.47 1.35L5.41 20z\"/>\n",
              "  </svg>\n",
              "      </button>\n",
              "      \n",
              "  <style>\n",
              "    .colab-df-container {\n",
              "      display:flex;\n",
              "      flex-wrap:wrap;\n",
              "      gap: 12px;\n",
              "    }\n",
              "\n",
              "    .colab-df-convert {\n",
              "      background-color: #E8F0FE;\n",
              "      border: none;\n",
              "      border-radius: 50%;\n",
              "      cursor: pointer;\n",
              "      display: none;\n",
              "      fill: #1967D2;\n",
              "      height: 32px;\n",
              "      padding: 0 0 0 0;\n",
              "      width: 32px;\n",
              "    }\n",
              "\n",
              "    .colab-df-convert:hover {\n",
              "      background-color: #E2EBFA;\n",
              "      box-shadow: 0px 1px 2px rgba(60, 64, 67, 0.3), 0px 1px 3px 1px rgba(60, 64, 67, 0.15);\n",
              "      fill: #174EA6;\n",
              "    }\n",
              "\n",
              "    [theme=dark] .colab-df-convert {\n",
              "      background-color: #3B4455;\n",
              "      fill: #D2E3FC;\n",
              "    }\n",
              "\n",
              "    [theme=dark] .colab-df-convert:hover {\n",
              "      background-color: #434B5C;\n",
              "      box-shadow: 0px 1px 3px 1px rgba(0, 0, 0, 0.15);\n",
              "      filter: drop-shadow(0px 1px 2px rgba(0, 0, 0, 0.3));\n",
              "      fill: #FFFFFF;\n",
              "    }\n",
              "  </style>\n",
              "\n",
              "      <script>\n",
              "        const buttonEl =\n",
              "          document.querySelector('#df-9bd42ca8-9bf4-4007-8353-ba89236a8a08 button.colab-df-convert');\n",
              "        buttonEl.style.display =\n",
              "          google.colab.kernel.accessAllowed ? 'block' : 'none';\n",
              "\n",
              "        async function convertToInteractive(key) {\n",
              "          const element = document.querySelector('#df-9bd42ca8-9bf4-4007-8353-ba89236a8a08');\n",
              "          const dataTable =\n",
              "            await google.colab.kernel.invokeFunction('convertToInteractive',\n",
              "                                                     [key], {});\n",
              "          if (!dataTable) return;\n",
              "\n",
              "          const docLinkHtml = 'Like what you see? Visit the ' +\n",
              "            '<a target=\"_blank\" href=https://colab.research.google.com/notebooks/data_table.ipynb>data table notebook</a>'\n",
              "            + ' to learn more about interactive tables.';\n",
              "          element.innerHTML = '';\n",
              "          dataTable['output_type'] = 'display_data';\n",
              "          await google.colab.output.renderOutput(dataTable, element);\n",
              "          const docLink = document.createElement('div');\n",
              "          docLink.innerHTML = docLinkHtml;\n",
              "          element.appendChild(docLink);\n",
              "        }\n",
              "      </script>\n",
              "    </div>\n",
              "  </div>\n",
              "  "
            ]
          },
          "metadata": {}
        },
        {
          "output_type": "stream",
          "name": "stdout",
          "text": [
            "\n",
            "\n",
            "【カテゴリ】t\n"
          ]
        },
        {
          "output_type": "display_data",
          "data": {
            "text/plain": [
              "           1         2      3          4        5         6       7        8   \\\n",
              "重要度上位  google  facebook  apple  microsoft  climate        gm    nasa    tesla   \n",
              "重要度下位  stocks       fed    her    percent     drug  american  cancer  ukraine   \n",
              "\n",
              "            9           10  \n",
              "重要度上位  comcast  heartbleed  \n",
              "重要度下位    still      shares  "
            ],
            "text/html": [
              "\n",
              "  <div id=\"df-6282374e-cc6a-4547-b312-245e51078e78\">\n",
              "    <div class=\"colab-df-container\">\n",
              "      <div>\n",
              "<style scoped>\n",
              "    .dataframe tbody tr th:only-of-type {\n",
              "        vertical-align: middle;\n",
              "    }\n",
              "\n",
              "    .dataframe tbody tr th {\n",
              "        vertical-align: top;\n",
              "    }\n",
              "\n",
              "    .dataframe thead th {\n",
              "        text-align: right;\n",
              "    }\n",
              "</style>\n",
              "<table border=\"1\" class=\"dataframe\">\n",
              "  <thead>\n",
              "    <tr style=\"text-align: right;\">\n",
              "      <th></th>\n",
              "      <th>1</th>\n",
              "      <th>2</th>\n",
              "      <th>3</th>\n",
              "      <th>4</th>\n",
              "      <th>5</th>\n",
              "      <th>6</th>\n",
              "      <th>7</th>\n",
              "      <th>8</th>\n",
              "      <th>9</th>\n",
              "      <th>10</th>\n",
              "    </tr>\n",
              "  </thead>\n",
              "  <tbody>\n",
              "    <tr>\n",
              "      <th>重要度上位</th>\n",
              "      <td>google</td>\n",
              "      <td>facebook</td>\n",
              "      <td>apple</td>\n",
              "      <td>microsoft</td>\n",
              "      <td>climate</td>\n",
              "      <td>gm</td>\n",
              "      <td>nasa</td>\n",
              "      <td>tesla</td>\n",
              "      <td>comcast</td>\n",
              "      <td>heartbleed</td>\n",
              "    </tr>\n",
              "    <tr>\n",
              "      <th>重要度下位</th>\n",
              "      <td>stocks</td>\n",
              "      <td>fed</td>\n",
              "      <td>her</td>\n",
              "      <td>percent</td>\n",
              "      <td>drug</td>\n",
              "      <td>american</td>\n",
              "      <td>cancer</td>\n",
              "      <td>ukraine</td>\n",
              "      <td>still</td>\n",
              "      <td>shares</td>\n",
              "    </tr>\n",
              "  </tbody>\n",
              "</table>\n",
              "</div>\n",
              "      <button class=\"colab-df-convert\" onclick=\"convertToInteractive('df-6282374e-cc6a-4547-b312-245e51078e78')\"\n",
              "              title=\"Convert this dataframe to an interactive table.\"\n",
              "              style=\"display:none;\">\n",
              "        \n",
              "  <svg xmlns=\"http://www.w3.org/2000/svg\" height=\"24px\"viewBox=\"0 0 24 24\"\n",
              "       width=\"24px\">\n",
              "    <path d=\"M0 0h24v24H0V0z\" fill=\"none\"/>\n",
              "    <path d=\"M18.56 5.44l.94 2.06.94-2.06 2.06-.94-2.06-.94-.94-2.06-.94 2.06-2.06.94zm-11 1L8.5 8.5l.94-2.06 2.06-.94-2.06-.94L8.5 2.5l-.94 2.06-2.06.94zm10 10l.94 2.06.94-2.06 2.06-.94-2.06-.94-.94-2.06-.94 2.06-2.06.94z\"/><path d=\"M17.41 7.96l-1.37-1.37c-.4-.4-.92-.59-1.43-.59-.52 0-1.04.2-1.43.59L10.3 9.45l-7.72 7.72c-.78.78-.78 2.05 0 2.83L4 21.41c.39.39.9.59 1.41.59.51 0 1.02-.2 1.41-.59l7.78-7.78 2.81-2.81c.8-.78.8-2.07 0-2.86zM5.41 20L4 18.59l7.72-7.72 1.47 1.35L5.41 20z\"/>\n",
              "  </svg>\n",
              "      </button>\n",
              "      \n",
              "  <style>\n",
              "    .colab-df-container {\n",
              "      display:flex;\n",
              "      flex-wrap:wrap;\n",
              "      gap: 12px;\n",
              "    }\n",
              "\n",
              "    .colab-df-convert {\n",
              "      background-color: #E8F0FE;\n",
              "      border: none;\n",
              "      border-radius: 50%;\n",
              "      cursor: pointer;\n",
              "      display: none;\n",
              "      fill: #1967D2;\n",
              "      height: 32px;\n",
              "      padding: 0 0 0 0;\n",
              "      width: 32px;\n",
              "    }\n",
              "\n",
              "    .colab-df-convert:hover {\n",
              "      background-color: #E2EBFA;\n",
              "      box-shadow: 0px 1px 2px rgba(60, 64, 67, 0.3), 0px 1px 3px 1px rgba(60, 64, 67, 0.15);\n",
              "      fill: #174EA6;\n",
              "    }\n",
              "\n",
              "    [theme=dark] .colab-df-convert {\n",
              "      background-color: #3B4455;\n",
              "      fill: #D2E3FC;\n",
              "    }\n",
              "\n",
              "    [theme=dark] .colab-df-convert:hover {\n",
              "      background-color: #434B5C;\n",
              "      box-shadow: 0px 1px 3px 1px rgba(0, 0, 0, 0.15);\n",
              "      filter: drop-shadow(0px 1px 2px rgba(0, 0, 0, 0.3));\n",
              "      fill: #FFFFFF;\n",
              "    }\n",
              "  </style>\n",
              "\n",
              "      <script>\n",
              "        const buttonEl =\n",
              "          document.querySelector('#df-6282374e-cc6a-4547-b312-245e51078e78 button.colab-df-convert');\n",
              "        buttonEl.style.display =\n",
              "          google.colab.kernel.accessAllowed ? 'block' : 'none';\n",
              "\n",
              "        async function convertToInteractive(key) {\n",
              "          const element = document.querySelector('#df-6282374e-cc6a-4547-b312-245e51078e78');\n",
              "          const dataTable =\n",
              "            await google.colab.kernel.invokeFunction('convertToInteractive',\n",
              "                                                     [key], {});\n",
              "          if (!dataTable) return;\n",
              "\n",
              "          const docLinkHtml = 'Like what you see? Visit the ' +\n",
              "            '<a target=\"_blank\" href=https://colab.research.google.com/notebooks/data_table.ipynb>data table notebook</a>'\n",
              "            + ' to learn more about interactive tables.';\n",
              "          element.innerHTML = '';\n",
              "          dataTable['output_type'] = 'display_data';\n",
              "          await google.colab.output.renderOutput(dataTable, element);\n",
              "          const docLink = document.createElement('div');\n",
              "          docLink.innerHTML = docLinkHtml;\n",
              "          element.appendChild(docLink);\n",
              "        }\n",
              "      </script>\n",
              "    </div>\n",
              "  </div>\n",
              "  "
            ]
          },
          "metadata": {}
        },
        {
          "output_type": "stream",
          "name": "stdout",
          "text": [
            "\n",
            "\n"
          ]
        }
      ]
    },
    {
      "cell_type": "markdown",
      "source": [
        "# 58. 正則化パラメータの変更"
      ],
      "metadata": {
        "id": "a4wqMhOtvVH4"
      }
    },
    {
      "cell_type": "markdown",
      "source": [
        "ロジスティック回帰モデルを学習するとき，正則化パラメータを調整することで，学習時の過学習（overfitting）の度合いを制御できる．異なる正則化パラメータでロジスティック回帰モデルを学習し，学習データ，検証データ，および評価データ上の正解率を求めよ．実験の結果は，正則化パラメータを横軸，正解率を縦軸としたグラフにまとめよ．"
      ],
      "metadata": {
        "id": "JJIwYObwvWTk"
      }
    },
    {
      "cell_type": "markdown",
      "source": [
        "**過学習**\n",
        "\n",
        "学習の際に訓練データに過度に対応してしまい、新たな未知のデータに対する予測がうまくできなくなった状態のこと\n",
        "\n",
        "主な要因\n",
        "\n",
        "> （１）重みの値が大きいこと\n",
        "\n",
        ">（２）ニューロンの数が多いこと（=重みパラメータの数が多いこと）\n",
        "\n",
        ">（３）訓練データが少ないこと\n",
        "\n",
        "**正則化**\n",
        "\n",
        "「（１）重みの値が大きいこと」の問題を解決するためには、機械学習で使用する重みを小さい値に保てば良い。その「重みを小さい値に保つ方法」が正則化です。\n",
        "\n",
        "正式には『機械学習で過学習に陥るのを防ぐために、損失関数に特定の項を足す手法のこと』。\n",
        "\n",
        "機械学習では、「損失関数が最小値を取るように重みの値を決定する」ため、損失関数に新たに項が足されれば、その項自体も小さい値を取るように調整され、それが結果的に重みを小さい値に保つことへ繋がるというわけです。"
      ],
      "metadata": {
        "id": "abt78yYl9FWz"
      }
    },
    {
      "cell_type": "markdown",
      "source": [
        "**numpy.lonspace(l, u, n, base)** \n",
        "\n",
        "下限 l、上限 u、、底 base、および入力パラメーターとして n を返す値の数を取り、数値の n 数を返します"
      ],
      "metadata": {
        "id": "BUuBxjITAM9P"
      }
    },
    {
      "cell_type": "code",
      "source": [
        "from tqdm import tqdm #進捗率を表示\n",
        "\n",
        "result = []\n",
        "for C in tqdm(np.logspace(-5, 4, 10, base=10)):\n",
        "  # モデルの学習\n",
        "  lg = LogisticRegression(random_state=123, max_iter=10000, C=C) #Cが正則化パラ\n",
        "  lg.fit(X_train, train['CATEGORY'])\n",
        "\n",
        "  # 予測値の取得\n",
        "  train_pred = score_lg(lg, X_train)\n",
        "  valid_pred = score_lg(lg, X_valid)\n",
        "  test_pred = score_lg(lg, X_test)\n",
        "\n",
        "  # 正解率の算出\n",
        "  train_accuracy = accuracy_score(train['CATEGORY'], train_pred[1])\n",
        "  valid_accuracy = accuracy_score(valid['CATEGORY'], valid_pred[1])\n",
        "  test_accuracy = accuracy_score(test['CATEGORY'], test_pred[1])\n",
        "\n",
        "  # 結果の格納\n",
        "  result.append([C, train_accuracy, valid_accuracy, test_accuracy])"
      ],
      "metadata": {
        "colab": {
          "base_uri": "https://localhost:8080/"
        },
        "id": "f23txAL8vcod",
        "outputId": "b92b2cf7-e54a-419a-8436-bc2966e101e8"
      },
      "execution_count": 41,
      "outputs": [
        {
          "output_type": "stream",
          "name": "stderr",
          "text": [
            "100%|██████████| 10/10 [07:57<00:00, 47.77s/it] \n"
          ]
        }
      ]
    },
    {
      "cell_type": "code",
      "source": [
        "# 視覚化\n",
        "result = np.array(result).T\n",
        "plt.plot(result[0], result[1], label='train')\n",
        "plt.plot(result[0], result[2], label='valid')\n",
        "plt.plot(result[0], result[3], label='test')\n",
        "plt.ylim(0, 1.1)\n",
        "plt.ylabel('Accuracy')\n",
        "plt.xscale ('log')\n",
        "plt.xlabel('C')\n",
        "plt.legend()\n",
        "plt.show()"
      ],
      "metadata": {
        "id": "eR2crt2VvfLL"
      },
      "execution_count": null,
      "outputs": []
    },
    {
      "cell_type": "markdown",
      "source": [
        "正則化が強すぎる(Cが小さい)と学習が進まず精度が低く、正則化が弱すぎる(Cが大きい)と過学習してしまい、学習用と評価用の精度の差が開いています。 この結果から、適切なCを選ぶことが重要であることが分かります。"
      ],
      "metadata": {
        "id": "Mh4lwD_avjA7"
      }
    },
    {
      "cell_type": "markdown",
      "source": [
        "【解説】\n",
        "\n",
        "このCはモデルが学習する識別境界線が教師データの分類間違いに対してどのくらい厳しくするのかという指標になります。\n",
        "\n",
        "Cの値が大きいほどモデルは教師データを完全に分類できるような識別線を学習するようになります。\n",
        "しかし教師データに対して過剰なほどの学習を行うために過学習に陥り、訓練データ以外のデータに予測を行うと正解率が下がる場合が多くなります。\n",
        "\n",
        "Cの値を小さくすると教師データの分類の誤りに寛容になります。\n",
        "分類間違いを許容することで外れ値データに境界線が左右されにくくなりより一般化された境界線を得やすくなります。\n",
        "ただし、外れ値の少ないデータでは境界線がうまく識別できていないものになってしまう場合もあります。\n",
        "また、極端に小さくてもうまく境界線が識別できません。"
      ],
      "metadata": {
        "id": "ntq8hOgU_v4H"
      }
    },
    {
      "cell_type": "markdown",
      "source": [
        "# 59. ハイパーパラメータの探索"
      ],
      "metadata": {
        "id": "n664r26xp3_9"
      }
    },
    {
      "cell_type": "markdown",
      "source": [
        "学習アルゴリズムや学習パラメータを変えながら，カテゴリ分類モデルを学習せよ．検証データ上の正解率が最も高くなる学習アルゴリズム・パラメータを求めよ．また，その学習アルゴリズム・パラメータを用いたときの評価データ上の正解率を求めよ．"
      ],
      "metadata": {
        "id": "77F1zsE2p_YZ"
      }
    },
    {
      "cell_type": "markdown",
      "source": [
        "ここでは、正則化の強さを指定するC、および、L1正則化とL2正則化のバランスを指定するl1_ratioを対象にパラメータ探索を行います。 また、最適化にはoptunaを用いています。"
      ],
      "metadata": {
        "id": "bY48PO9xqAGH"
      }
    },
    {
      "cell_type": "markdown",
      "source": [
        "**'l1'**: L1正則化各特徴量の重みを絶対値和で制約する手法\n",
        "\n",
        "**'l2'**: L2正則化各特徴量の重みを二乗和で制約する手法"
      ],
      "metadata": {
        "id": "XlJgxgRoEGdE"
      }
    },
    {
      "cell_type": "code",
      "source": [
        "!pip install optuna"
      ],
      "metadata": {
        "id": "6JoKkY_8qCKJ"
      },
      "execution_count": null,
      "outputs": []
    },
    {
      "cell_type": "code",
      "source": [
        "import optuna\n",
        "\n",
        "# 最適化対象を関数で指定\n",
        "def objective_lg(trial):\n",
        "  # チューニング対象パラメータのセット\n",
        "  l1_ratio = trial.suggest_uniform('l1_ratio', 0, 1)\n",
        "  C = trial.suggest_loguniform('C', 1e-4, 1e4)\n",
        "\n",
        "  # モデルの学習\n",
        "  lg = LogisticRegression(random_state=123, \n",
        "                          max_iter=10000, \n",
        "                          penalty='elasticnet', \n",
        "                          solver='saga', \n",
        "                          l1_ratio=l1_ratio, \n",
        "                          C=C)\n",
        "  lg.fit(X_train, train['CATEGORY'])\n",
        "\n",
        "  # 予測値の取得\n",
        "  valid_pred = score_lg(lg, X_valid)\n",
        "\n",
        "  # 正解率の算出\n",
        "  valid_accuracy = accuracy_score(valid['CATEGORY'], valid_pred[1])    \n",
        "\n",
        "  return valid_accuracy "
      ],
      "metadata": {
        "id": "UCAnCgtJqKGA"
      },
      "execution_count": null,
      "outputs": []
    },
    {
      "cell_type": "markdown",
      "source": [
        "【プログラム解説】\n",
        "\n",
        "**.suggest_uniform**\n",
        "\n",
        "指定された範囲内で一様分布に従って、指定されたハイパーパラメータの値をサンプリングする。\n",
        "\n",
        ".**suggest_loguniform**\n",
        "\n",
        "対数空間で一様分布に従って、指定されたハイパーパラメータの値をサンプリングするために使用される。"
      ],
      "metadata": {
        "id": "dWdKHDY6CrFO"
      }
    },
    {
      "cell_type": "code",
      "source": [
        "# 最適化\n",
        "study = optuna.create_study(direction='maximize')\n",
        "study.optimize(objective_lg, timeout=3600)\n",
        "\n",
        "# 結果の表示\n",
        "print('Best trial:')\n",
        "trial = study.best_trial\n",
        "print('  Value: {:.3f}'.format(trial.value))\n",
        "print('  Params: ')\n",
        "for key, value in trial.params.items():\n",
        "  print('    {}: {}'.format(key, value))"
      ],
      "metadata": {
        "id": "XCChO2qSqNKj"
      },
      "execution_count": null,
      "outputs": []
    },
    {
      "cell_type": "markdown",
      "source": [
        "探索したパラメータで再度モデルを学習し、正解率を確認します。"
      ],
      "metadata": {
        "id": "TQ6zF9RUqSN7"
      }
    },
    {
      "cell_type": "code",
      "source": [
        "# パラメータの設定\n",
        "l1_ratio = trial.params['l1_ratio']\n",
        "C = trial.params['C']\n",
        "\n",
        "# モデルの学習\n",
        "lg = LogisticRegression(random_state=123, \n",
        "                        max_iter=10000, \n",
        "                        penalty='elasticnet', \n",
        "                        solver='saga', \n",
        "                        l1_ratio=l1_ratio, \n",
        "                        C=C)\n",
        "lg.fit(X_train, train['CATEGORY'])\n",
        "\n",
        "# 予測値の取得\n",
        "train_pred = score_lg(lg, X_train)\n",
        "valid_pred = score_lg(lg, X_valid)\n",
        "test_pred = score_lg(lg, X_test)\n",
        "\n",
        "# 正解率の算出\n",
        "train_accuracy = accuracy_score(train['CATEGORY'], train_pred[1]) \n",
        "valid_accuracy = accuracy_score(valid['CATEGORY'], valid_pred[1]) \n",
        "test_accuracy = accuracy_score(test['CATEGORY'], test_pred[1]) \n",
        "\n",
        "print(f'正解率（学習データ）：{train_accuracy:.3f}')\n",
        "print(f'正解率（検証データ）：{valid_accuracy:.3f}')\n",
        "print(f'正解率（評価データ）：{test_accuracy:.3f}')"
      ],
      "metadata": {
        "colab": {
          "base_uri": "https://localhost:8080/"
        },
        "id": "FARiODKzqVH_",
        "outputId": "72ed344e-a692-4069-b032-2cdcc9fb1028"
      },
      "execution_count": 46,
      "outputs": [
        {
          "metadata": {
            "tags": null
          },
          "name": "stdout",
          "output_type": "stream",
          "text": [
            "正解率（学習データ）：0.969\n",
            "正解率（検証データ）：0.890\n",
            "正解率（評価データ）：0.893\n"
          ]
        }
      ]
    }
  ]
}