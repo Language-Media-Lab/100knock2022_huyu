{
  "nbformat": 4,
  "nbformat_minor": 0,
  "metadata": {
    "colab": {
      "provenance": []
    },
    "kernelspec": {
      "name": "python3",
      "display_name": "Python 3"
    },
    "language_info": {
      "name": "python"
    }
  },
  "cells": [
    {
      "cell_type": "markdown",
      "source": [
        "# **第6章: 機械学習**\n",
        "本章では，Fabio Gasparetti氏が公開しているNews Aggregator Data Setを用い，ニュース記事の見出しを「ビジネス」「科学技術」「エンターテイメント」「健康」のカテゴリに分類するタスク（カテゴリ分類）に取り組む．"
      ],
      "metadata": {
        "id": "0YQCcgHQ5TQY"
      }
    },
    {
      "cell_type": "markdown",
      "source": [
        "# 50. データの入手・整形\n",
        "News Aggregator Data Setをダウンロードし、以下の要領で学習データ（train.txt），検証データ（valid.txt），評価データ（test.txt）を作成せよ．\n",
        "1.   ダウンロードしたzipファイルを解凍し，readme.txtの説明を読む．\n",
        "2.   情報源（publisher）が”Reuters”, “Huffington Post”, “Businessweek”, “Contactmusic.com”, “Daily Mail”の事例（記事）のみを抽出する．\n",
        "3.   抽出された事例をランダムに並び替える．\n",
        "4.   抽出された事例の80%を学習データ，残りの10%ずつを検証データと評価データに分割し，それぞれtrain.txt，valid.txt，test.txtというファイル名で保存する．ファイルには，１行に１事例を書き出すこととし，カテゴリ名と記事見出しのタブ区切り形式とせよ（このファイルは後に問題70で再利用する）．\n",
        "\n",
        "学習データと評価データを作成したら，各カテゴリの事例数を確認せよ．"
      ],
      "metadata": {
        "id": "GL4T3fwo5-96"
      }
    },
    {
      "cell_type": "code",
      "source": [
        "#News Aggregator Data Set のインストールと解凍\n",
        "!wget https://archive.ics.uci.edu/ml/machine-learning-databases/00359/NewsAggregatorDataset.zip\n",
        "!unzip ./NewsAggregatorDataset.zip"
      ],
      "metadata": {
        "colab": {
          "base_uri": "https://localhost:8080/"
        },
        "id": "Q3dH3lYa-y7Q",
        "outputId": "33db98be-271f-4d3b-8c09-f83be36c6f11"
      },
      "execution_count": 1,
      "outputs": [
        {
          "output_type": "stream",
          "name": "stdout",
          "text": [
            "--2022-12-23 03:14:35--  https://archive.ics.uci.edu/ml/machine-learning-databases/00359/NewsAggregatorDataset.zip\n",
            "Resolving archive.ics.uci.edu (archive.ics.uci.edu)... 128.195.10.252\n",
            "Connecting to archive.ics.uci.edu (archive.ics.uci.edu)|128.195.10.252|:443... connected.\n",
            "HTTP request sent, awaiting response... 200 OK\n",
            "Length: 29224203 (28M) [application/x-httpd-php]\n",
            "Saving to: ‘NewsAggregatorDataset.zip’\n",
            "\n",
            "NewsAggregatorDatas 100%[===================>]  27.87M  35.2MB/s    in 0.8s    \n",
            "\n",
            "2022-12-23 03:14:36 (35.2 MB/s) - ‘NewsAggregatorDataset.zip’ saved [29224203/29224203]\n",
            "\n",
            "Archive:  ./NewsAggregatorDataset.zip\n",
            "  inflating: 2pageSessions.csv       \n",
            "   creating: __MACOSX/\n",
            "  inflating: __MACOSX/._2pageSessions.csv  \n",
            "  inflating: newsCorpora.csv         \n",
            "  inflating: __MACOSX/._newsCorpora.csv  \n",
            "  inflating: readme.txt              \n",
            "  inflating: __MACOSX/._readme.txt   \n"
          ]
        }
      ]
    },
    {
      "cell_type": "markdown",
      "source": [
        "・Pandasはデータ解析を容易にする機能を提供するpythonのデータ解析ライブラリ．\n",
        ">  Pandasを使うメリット\n",
        "1. 多種の型のデータを一つのデータフレームで扱えること\\\n",
        "NumPyの配列（np.array）はすべての要素が同じ型でなければならない．\n",
        "よって、csvファイルの読み書きなどでは、NumPyは非常に不便なライブラリである．\n",
        "その点、Pandasのデータフレームは異なる型のデータを入れることが出来る。\n",
        "Pandasのデータフレームに格納することで、データの前処理が容易にできる。\n",
        "2.データ加工や解析の関数が多いこと\n",
        "\n",
        "\n",
        "・scikit-learnでデータを訓練用とテスト用に分割する\n",
        "train_test_split\n",
        ">  scikit-learnのtrain_test_split()関数を使うと、NumPy配列ndarrayやリストなどを二分割できる。機械学習においてデータを訓練用（学習用）とテスト用に分割してホールドアウト検証を行う際に用いる。\\\n",
        "引数test_size, train_sizeで割合，または個数を指定可能．デフォルトはtest_size=0.25\\\n",
        "引数shuffleでは要素をシャッフルするかを指定可能．"
      ],
      "metadata": {
        "id": "xV-H02qLgMhE"
      }
    },
    {
      "cell_type": "code",
      "source": [
        "import pandas as pd\n",
        "from sklearn.model_selection import train_test_split\n",
        "\n",
        "#データの読み込み\n",
        "df = pd.read_csv('newsCorpora.csv', sep = '\\t', header = None, names = ['ID', 'TITLE', 'URL', 'PUBLISHER', 'CATEGORY', 'STORY', 'HOSTNAME', 'TIMESTAMP'])\n",
        "\n",
        "#データの抽出\n",
        "df = df.loc[df['PUBLISHER'].isin(['Reuters', 'Huffington Post', 'Businessweek', 'Contactmusic.com', 'Daily Mail']), ['TITLE', 'CATEGORY']]\n",
        "\n",
        "#データの分割(学習，検証，評価データが80％，10％，10％になるように)\n",
        "train, valid_test = train_test_split(df, test_size=0.2, shuffle=True)\n",
        "valid, test = train_test_split(valid_test, test_size=0.5, shuffle=True)\n",
        "\n",
        "#ファイルに保存\n",
        "train.to_csv('train.txt', sep='\\t', index=False, header=None)\n",
        "valid.to_csv('valid.txt', sep='\\t', index=False, header=None)\n",
        "test.to_csv('test.txt', sep='\\t', index=False, header=None)\n",
        "\n",
        "# 事例数の確認\n",
        "print('【学習データ】')\n",
        "print(train['CATEGORY'].value_counts())\n",
        "print('【検証データ】')\n",
        "print(valid['CATEGORY'].value_counts())\n",
        "print('【評価データ】')\n",
        "print(test['CATEGORY'].value_counts())"
      ],
      "metadata": {
        "colab": {
          "base_uri": "https://localhost:8080/"
        },
        "id": "ldEpeUU4_EEK",
        "outputId": "7f9f809e-8215-46eb-de80-bb1f17967be1"
      },
      "execution_count": 2,
      "outputs": [
        {
          "output_type": "stream",
          "name": "stdout",
          "text": [
            "【学習データ】\n",
            "b    4500\n",
            "e    4232\n",
            "t    1223\n",
            "m     717\n",
            "Name: CATEGORY, dtype: int64\n",
            "【検証データ】\n",
            "b    590\n",
            "e    499\n",
            "t    145\n",
            "m    100\n",
            "Name: CATEGORY, dtype: int64\n",
            "【評価データ】\n",
            "e    548\n",
            "b    537\n",
            "t    156\n",
            "m     93\n",
            "Name: CATEGORY, dtype: int64\n"
          ]
        }
      ]
    },
    {
      "cell_type": "markdown",
      "source": [
        "# 51. 特徴量抽出\n",
        "学習データ，検証データ，評価データから特徴量を抽出し，それぞれtrain.feature.txt，valid.feature.txt，test.feature.txtというファイル名で保存せよ． なお，カテゴリ分類に有用そうな特徴量は各自で自由に設計せよ．記事の見出しを単語列に変換したものが最低限のベースラインとなるであろう．"
      ],
      "metadata": {
        "id": "1lolCUav6klF"
      }
    },
    {
      "cell_type": "markdown",
      "source": [
        "記事の見出しをスペースで分割した単語群を対象にTF-IDFを算出し、その値を特徴量として利用する.\n"
      ],
      "metadata": {
        "id": "tyXjmq-L0BCK"
      }
    },
    {
      "cell_type": "code",
      "source": [
        "import string\n",
        "import re\n",
        "from sklearn.feature_extraction.text import TfidfVectorizer\n",
        "from sklearn.model_selection import train_test_split\n",
        "\n",
        "#前処理\n",
        "def preprocessing(text):\n",
        "    text = ''.join([i for i in text if not i in string.punctuation])    #記号を除去\n",
        "    text = text.lower() #小文字化\n",
        "    text = re.sub('[0-9]+', '', text)   #数字列を除去\n",
        "    return text\n",
        "\n",
        "#データの連結，前処理を行う\n",
        "df = pd.concat([train, valid, test], axis=0)\n",
        "df['TITLE'] = df['TITLE'].map(lambda x:preprocessing(x)) #各要素に関数を適用\n",
        "\n",
        "#単語ベクトル化，Dataframeに変換\n",
        "vec_tfidf = TfidfVectorizer()\n",
        "data = vec_tfidf.fit_transform(df['TITLE'])\n",
        "data = pd.DataFrame(data.toarray(), columns=vec_tfidf.get_feature_names())\n",
        "\n",
        "#dataを3分割する\n",
        "split_point_1 = int(len(data)//3)\n",
        "split_point_2 = int(split_point_1*2)\n",
        "\n",
        "#学習，検証，評価データ\n",
        "x_train = data[:split_point_1]\n",
        "x_valid = data[split_point_1:split_point_2]\n",
        "x_test = data[split_point_2:]\n",
        "\n",
        "#学習、検証、評価ラベル\n",
        "y_data = df[\"CATEGORY\"]\n",
        "y_train = y_data[:split_point_1]\n",
        "y_valid = y_data[split_point_1:split_point_2]\n",
        "y_test = y_data[split_point_2:]\n",
        "\n",
        "# 特徴量をファイルに保存する\n",
        "x_train.to_csv('train.feature.txt', sep='\\t', index=False)\n",
        "x_valid.to_csv('valid.feature.txt', sep='\\t', index=False)\n",
        "x_test.to_csv('test.feature.txt', sep='\\t', index=False)"
      ],
      "metadata": {
        "colab": {
          "base_uri": "https://localhost:8080/"
        },
        "id": "8JTATGnCkaAj",
        "outputId": "33da52b6-f917-43ed-96bd-1404e7c5212e"
      },
      "execution_count": 3,
      "outputs": [
        {
          "output_type": "stream",
          "name": "stderr",
          "text": [
            "/usr/local/lib/python3.8/dist-packages/sklearn/utils/deprecation.py:87: FutureWarning: Function get_feature_names is deprecated; get_feature_names is deprecated in 1.0 and will be removed in 1.2. Please use get_feature_names_out instead.\n",
            "  warnings.warn(msg, category=FutureWarning)\n"
          ]
        }
      ]
    },
    {
      "cell_type": "code",
      "source": [
        "print(x_train.head())"
      ],
      "metadata": {
        "colab": {
          "base_uri": "https://localhost:8080/"
        },
        "id": "L6k-AkzeAE9H",
        "outputId": "f5748a21-ebbf-4ae5-c081-64011621b707"
      },
      "execution_count": 4,
      "outputs": [
        {
          "output_type": "stream",
          "name": "stdout",
          "text": [
            "    aa  aaa  aaliyah  aaliyahs  aaron  aatha  abandon  abandoned  abandoning  \\\n",
            "0  0.0  0.0      0.0       0.0    0.0    0.0      0.0        0.0         0.0   \n",
            "1  0.0  0.0      0.0       0.0    0.0    0.0      0.0        0.0         0.0   \n",
            "2  0.0  0.0      0.0       0.0    0.0    0.0      0.0        0.0         0.0   \n",
            "3  0.0  0.0      0.0       0.0    0.0    0.0      0.0        0.0         0.0   \n",
            "4  0.0  0.0      0.0       0.0    0.0    0.0      0.0        0.0         0.0   \n",
            "\n",
            "   abating  ...  zone  zooey  zoosk   zs  zuckerberg  zynga  œfck  œlousyâ  \\\n",
            "0      0.0  ...   0.0    0.0    0.0  0.0         0.0    0.0   0.0      0.0   \n",
            "1      0.0  ...   0.0    0.0    0.0  0.0         0.0    0.0   0.0      0.0   \n",
            "2      0.0  ...   0.0    0.0    0.0  0.0         0.0    0.0   0.0      0.0   \n",
            "3      0.0  ...   0.0    0.0    0.0  0.0         0.0    0.0   0.0      0.0   \n",
            "4      0.0  ...   0.0    0.0    0.0  0.0         0.0    0.0   0.0      0.0   \n",
            "\n",
            "   œpiece  œwaist  \n",
            "0     0.0     0.0  \n",
            "1     0.0     0.0  \n",
            "2     0.0     0.0  \n",
            "3     0.0     0.0  \n",
            "4     0.0     0.0  \n",
            "\n",
            "[5 rows x 15280 columns]\n"
          ]
        }
      ]
    },
    {
      "cell_type": "markdown",
      "source": [
        "# 52. 学習\n",
        "51で構築した学習データを用いて，ロジスティック回帰モデルを学習せよ．"
      ],
      "metadata": {
        "id": "EJ4KZRrP7JaS"
      }
    },
    {
      "cell_type": "code",
      "source": [
        "from sklearn.linear_model import LogisticRegression\n",
        "\n",
        "model = LogisticRegression()    #ロジスティック会期モデルを実装\n",
        "model.fit(x_train, y_train)     #第一引数に学習データ,第二引数にラベルを指定"
      ],
      "metadata": {
        "colab": {
          "base_uri": "https://localhost:8080/"
        },
        "id": "GvId_5A9Ahkl",
        "outputId": "30d2d4dc-81ed-4ce7-b2a2-f90247079305"
      },
      "execution_count": 5,
      "outputs": [
        {
          "output_type": "execute_result",
          "data": {
            "text/plain": [
              "LogisticRegression()"
            ]
          },
          "metadata": {},
          "execution_count": 5
        }
      ]
    },
    {
      "cell_type": "markdown",
      "source": [
        "# 53. 予測\n",
        "52で学習したロジスティック回帰モデルを用い，与えられた記事見出しからカテゴリとその予測確率を計算するプログラムを実装せよ．"
      ],
      "metadata": {
        "id": "vTQVWMM17NF_"
      }
    },
    {
      "cell_type": "code",
      "source": [
        "print(f\"カテゴリ順：{model.classes_}\\n\")\n",
        "\n",
        "Y_pred = model.predict(x_valid)     #.predict()メソッドでカテゴリを予測\n",
        "print(f\"各記事のカテゴリ（ラベル）：{y_valid.values}\")\n",
        "print(f\"各記事のカテゴリ予測：{Y_pred}\\n\")\n",
        "\n",
        "Y_pred = model.predict_proba(x_valid)       #.predict_proba()メソッドでカテゴリの予測確率を求める\n",
        "print(f\"カテゴリの予測確率：\\n{Y_pred}\")"
      ],
      "metadata": {
        "colab": {
          "base_uri": "https://localhost:8080/"
        },
        "id": "YL4atArOBxpt",
        "outputId": "baa015bb-e3b5-4fc1-cd89-01a6d8892bce"
      },
      "execution_count": 6,
      "outputs": [
        {
          "output_type": "stream",
          "name": "stdout",
          "text": [
            "カテゴリ順：['b' 'e' 'm' 't']\n",
            "\n",
            "各記事のカテゴリ（ラベル）：['t' 't' 'b' ... 't' 'e' 'b']\n",
            "各記事のカテゴリ予測：['e' 't' 'b' ... 't' 'e' 'b']\n",
            "\n",
            "カテゴリの予測確率：\n",
            "[[0.23145864 0.39155575 0.09501574 0.28196987]\n",
            " [0.20498939 0.29052224 0.06674403 0.43774434]\n",
            " [0.64465367 0.0783857  0.06370762 0.213253  ]\n",
            " ...\n",
            " [0.19435782 0.18977544 0.06642136 0.54944539]\n",
            " [0.23247203 0.59947021 0.0627216  0.10533616]\n",
            " [0.72326705 0.13453099 0.06966323 0.07253873]]\n"
          ]
        }
      ]
    },
    {
      "cell_type": "markdown",
      "source": [
        "# 54. 正解率の計測\n",
        "52で学習したロジスティック回帰モデルの正解率を，学習データおよび評価データ上で計測せよ．"
      ],
      "metadata": {
        "id": "4wfwO6237Sov"
      }
    },
    {
      "cell_type": "code",
      "source": [
        "from sklearn.metrics import accuracy_score\n",
        "\n",
        "#学習、評価データを予測\n",
        "Y_pred_train = model.predict(x_train)\n",
        "Y_pred_test = model.predict(x_test)     \n",
        "\n",
        "#学習、評価データの正解率を求める（accuracy_score()を用いる）\n",
        "print(f\"train_accuracy：{accuracy_score(y_train, Y_pred_train)}\")\n",
        "print(f\"test_accuracy：{accuracy_score(y_test, Y_pred_test)}\")"
      ],
      "metadata": {
        "colab": {
          "base_uri": "https://localhost:8080/"
        },
        "id": "38h3MgEDCMHP",
        "outputId": "05607260-1637-415d-f6dc-a0763dfa12ce"
      },
      "execution_count": 7,
      "outputs": [
        {
          "output_type": "stream",
          "name": "stdout",
          "text": [
            "train_accuracy：0.9239766081871345\n",
            "test_accuracy：0.8264388489208633\n"
          ]
        }
      ]
    },
    {
      "cell_type": "markdown",
      "source": [
        "# 55. 混同行列の作成\n",
        "52で学習したロジスティック回帰モデルの混同行列（confusion matrix）を，学習データおよび評価データ上で作成せよ．"
      ],
      "metadata": {
        "id": "4hFLwwky7Xe8"
      }
    },
    {
      "cell_type": "markdown",
      "source": [
        "混同行列（confusion matrix）はクラス分類問題の結果を「実際のクラス」と「予測したクラス」を軸にしてまとめたもの。\\\n",
        "第一引数に実際のクラス（正解クラス）、第二引数に予測したクラスのリストや配列を指定する。\\\n",
        "二値分類（2クラス分類）においては実際のクラスと予測したクラスの組み合わせによって、結果を以下の4種類に分けることができる。\n",
        "\n",
        ">  真陽性（TP: True Positive）: 実際のクラスが陽性で予測も陽性（正解）\\\n",
        "真陰性（TN: True Negative）: 実際のクラスが陰性で予測も陰性（正解）\\\n",
        "偽陽性（FP: False Positive）: 実際のクラスは陰性で予測が陽性（不正解）\\\n",
        "偽陰性（FN: False Negative）: 実際のクラスは陽性で予測が陰性（不正解）\n",
        "\n",
        "これを行列にしたものが混同行列\n",
        "\n",
        "                     Predicted\n",
        "                     Negative  Positive\n",
        "    Actual Negative     TN        FP\n",
        "           Positive     FN        TP"
      ],
      "metadata": {
        "id": "lRhwTfF81O3H"
      }
    },
    {
      "cell_type": "code",
      "source": [
        "from sklearn.metrics import confusion_matrix\n",
        "\n",
        "print(f\"学習データの混同行列：\\n{confusion_matrix(y_train, Y_pred_train)}\\n\")\n",
        "print(f\"評価データの混同行列：\\n{confusion_matrix(y_test, Y_pred_test)}\")"
      ],
      "metadata": {
        "colab": {
          "base_uri": "https://localhost:8080/"
        },
        "id": "SUzcG4yNCs6V",
        "outputId": "14c934fa-1643-4300-9b6d-6b4aac047b6f"
      },
      "execution_count": 8,
      "outputs": [
        {
          "output_type": "stream",
          "name": "stdout",
          "text": [
            "学習データの混同行列：\n",
            "[[1842   19    0    7]\n",
            " [  10 1747    0    0]\n",
            " [  59   86  158    1]\n",
            " [  85   71    0  361]]\n",
            "\n",
            "評価データの混同行列：\n",
            "[[1737  111    1   12]\n",
            " [  51 1704    0    5]\n",
            " [ 118  123   71    4]\n",
            " [ 194  153    0  164]]\n"
          ]
        }
      ]
    },
    {
      "cell_type": "markdown",
      "source": [
        "# 56. 適合率，再現率，F1スコアの計測\n",
        "52で学習したロジスティック回帰モデルの適合率，再現率，F1スコアを，評価データ上で計測せよ．カテゴリごとに適合率，再現率，F1スコアを求め，カテゴリごとの性能をマイクロ平均（micro-average）とマクロ平均（macro-average）で統合せよ．"
      ],
      "metadata": {
        "id": "r7ar8aD67anU"
      }
    },
    {
      "cell_type": "code",
      "source": [
        "from sklearn.metrics import precision_score, recall_score, f1_score\n",
        "\n",
        "def metrics(y_data, y_pred, ave=None):\n",
        "  precision_sco = precision_score(y_data, y_pred, average=ave)\n",
        "  recall_sco = recall_score(y_data, y_pred, average=ave)\n",
        "  f1_sco = f1_score(y_data, y_pred, average=ave)\n",
        "  form = \"適合率：{}\\n再現率：{}\\nF１：{}\\n\".format(precision_sco, recall_sco, f1_sco)\n",
        "  return form\n",
        "\n",
        "print(f\"【カテゴリ順】{model.classes_}\\n\\n{metrics(y_test, Y_pred_test)}\")\n",
        "print(\"【マクロ平均】\\n\", metrics(y_test, Y_pred_test, \"macro\"))\n",
        "print(\"【マイクロ平均】\\n\", metrics(y_test, Y_pred_test, \"micro\"))"
      ],
      "metadata": {
        "colab": {
          "base_uri": "https://localhost:8080/"
        },
        "id": "-7iv9KCyEKIv",
        "outputId": "8e1f5ddf-56cd-45a3-8dbf-d8ac94c49059"
      },
      "execution_count": 9,
      "outputs": [
        {
          "output_type": "stream",
          "name": "stdout",
          "text": [
            "【カテゴリ順】['b' 'e' 'm' 't']\n",
            "\n",
            "適合率：[0.82714286 0.81492109 0.98611111 0.88648649]\n",
            "再現率：[0.93336916 0.96818182 0.22468354 0.32093933]\n",
            "F１：[0.87705125 0.88496494 0.36597938 0.47126437]\n",
            "\n",
            "【マクロ平均】\n",
            " 適合率：0.8786653862819573\n",
            "再現率：0.6117934633727811\n",
            "F１：0.6498149857785398\n",
            "\n",
            "【マイクロ平均】\n",
            " 適合率：0.8264388489208633\n",
            "再現率：0.8264388489208633\n",
            "F１：0.8264388489208633\n",
            "\n"
          ]
        }
      ]
    },
    {
      "cell_type": "markdown",
      "source": [
        "# 57. 特徴量の重みの確認\n",
        "52で学習したロジスティック回帰モデルの中で，重みの高い特徴量トップ10と，重みの低い特徴量トップ10を確認せよ．"
      ],
      "metadata": {
        "id": "F0b9TBt47oT0"
      }
    },
    {
      "cell_type": "code",
      "source": [
        "import numpy as np\n",
        "\n",
        "features = x_train.columns.values\n",
        "for c, coef in zip(model.classes_, model.coef_):\n",
        "  top_10 = pd.DataFrame(features[np.argsort(-coef)[:10]], columns=[f\"重みの高い特徴量トップ10（クラス名：{c}）\"], index=[i for i in range(1, 11)])\n",
        "  worst_10 = pd.DataFrame(features[np.argsort(coef)[:10]], columns=[f\"重みの低い特徴量トップ10（クラス名：{c}）\"], index=[i for i in range(1, 11)])\n",
        "  print( top_10, \"\\n\"),\n",
        "  print(worst_10, \"\\n\", \"-\"*70)"
      ],
      "metadata": {
        "colab": {
          "base_uri": "https://localhost:8080/"
        },
        "id": "kZg2g4TIEPnq",
        "outputId": "aed80dfc-0eb4-45d2-ef5a-eb0489c4ed4b"
      },
      "execution_count": 10,
      "outputs": [
        {
          "output_type": "stream",
          "name": "stdout",
          "text": [
            "   重みの高い特徴量トップ10（クラス名：b）\n",
            "1                  china\n",
            "2                 update\n",
            "3                    ecb\n",
            "4                   bank\n",
            "5                     us\n",
            "6                    fed\n",
            "7                   euro\n",
            "8                    buy\n",
            "9                 shares\n",
            "10                   oil \n",
            "\n",
            "   重みの低い特徴量トップ10（クラス名：b）\n",
            "1                    the\n",
            "2                    and\n",
            "3                    her\n",
            "4             kardashian\n",
            "5               facebook\n",
            "6                   star\n",
            "7                    fda\n",
            "8                  ebola\n",
            "9                     tv\n",
            "10                  have \n",
            " ----------------------------------------------------------------------\n",
            "   重みの高い特徴量トップ10（クラス名：e）\n",
            "1             kardashian\n",
            "2                    her\n",
            "3                  chris\n",
            "4                    kim\n",
            "5                    she\n",
            "6                  cyrus\n",
            "7                  miley\n",
            "8                     he\n",
            "9                   film\n",
            "10                  star \n",
            "\n",
            "   重みの低い特徴量トップ10（クラス名：e）\n",
            "1                 update\n",
            "2                     us\n",
            "3                   says\n",
            "4                 google\n",
            "5                billion\n",
            "6                climate\n",
            "7                  china\n",
            "8                     gm\n",
            "9                     to\n",
            "10                 apple \n",
            " ----------------------------------------------------------------------\n",
            "   重みの高い特徴量トップ10（クラス名：m）\n",
            "1                    fda\n",
            "2                 cancer\n",
            "3                  ebola\n",
            "4                  study\n",
            "5                   drug\n",
            "6                 health\n",
            "7                   mers\n",
            "8                  heart\n",
            "9                    are\n",
            "10                 virus \n",
            "\n",
            "   重みの低い特徴量トップ10（クラス名：m）\n",
            "1                  china\n",
            "2                     gm\n",
            "3                   deal\n",
            "4                    day\n",
            "5                climate\n",
            "6                    ceo\n",
            "7                     on\n",
            "8             kardashian\n",
            "9                  sales\n",
            "10                    he \n",
            " ----------------------------------------------------------------------\n",
            "   重みの高い特徴量トップ10（クラス名：t）\n",
            "1                 google\n",
            "2                climate\n",
            "3               facebook\n",
            "4                  apple\n",
            "5                     gm\n",
            "6              microsoft\n",
            "7                    fcc\n",
            "8                  space\n",
            "9               internet\n",
            "10            neutrality \n",
            "\n",
            "   重みの低い特徴量トップ10（クラス名：t）\n",
            "1                  after\n",
            "2                    her\n",
            "3                 shares\n",
            "4                     at\n",
            "5                 stocks\n",
            "6                   york\n",
            "7                    but\n",
            "8             kardashian\n",
            "9                   bank\n",
            "10                   ecb \n",
            " ----------------------------------------------------------------------\n"
          ]
        }
      ]
    },
    {
      "cell_type": "markdown",
      "source": [
        "# 58. 正則化パラメータの変更\n",
        "ロジスティック回帰モデルを学習するとき，正則化パラメータを調整することで，学習時の過学習（overfitting）の度合いを制御できる．異なる正則化パラメータでロジスティック回帰モデルを学習し，学習データ，検証データ，および評価データ上の正解率を求めよ．実験の結果は，正則化パラメータを横軸，正解率を縦軸としたグラフにまとめよ．"
      ],
      "metadata": {
        "id": "FWeVYuoh7zjd"
      }
    },
    {
      "cell_type": "code",
      "source": [
        "from sklearn.linear_model import LogisticRegression\n",
        "from sklearn.metrics import accuracy_score\n",
        "import matplotlib.pyplot as plt\n",
        "\n",
        "#モデル構築、学習（関数）\n",
        "def LR_model_fit(x_data, y_data, c):\n",
        "  model = LogisticRegression(C=c)\n",
        "  model.fit(x_data, y_data) \n",
        "  return model\n",
        "\n",
        "#学習済みモデルを用いて予測する（関数）\n",
        "def LR_pred(x_data, y_data, model):\n",
        "  Y_pred_data = model.predict(x_data)\n",
        "  accuracy = accuracy_score(Y_pred_data, y_data)\n",
        "  return accuracy\n",
        "\n",
        "train_acc = []\n",
        "valid_acc = []\n",
        "test_acc = []\n",
        "\n",
        "#正則化パラメータ\n",
        "c_list = np.linspace(0.001, 0.1, 5)\n",
        "\n",
        "for c in c_list:\n",
        "  model = LR_model_fit(x_train, y_train, c)\n",
        "  pre_train = LR_pred(x_train, y_train, model)\n",
        "  pre_valid = LR_pred(x_valid, y_valid, model)\n",
        "  pre_test = LR_pred(x_test, y_test, model)\n",
        "\n",
        "  train_acc.append(pre_train)\n",
        "  valid_acc.append(pre_valid)\n",
        "  test_acc.append(pre_test)\n",
        "\n",
        "  print(f\"【正則化パラメータ：{c}】\\n\")\n",
        "  print(f\"train_accuracy：{pre_train}\")\n",
        "  print(f\"valid_accuracy：{pre_valid}\")\n",
        "  print(f\"test_accuracy：{pre_test}\\n\")\n",
        "\n",
        "#可視化\n",
        "plt.plot(c_list, train_acc, label=\"train\", marker=\"o\")\n",
        "plt.plot(c_list, valid_acc, label=\"valid\", marker=\"o\")\n",
        "plt.plot(c_list, test_acc, label=\"test\", marker=\"o\")\n",
        "\n",
        "plt.legend()\n",
        "plt.grid(True)\n",
        "plt.xlabel(\"Regularization\")\n",
        "plt.ylabel(\"Accuracy\")\n",
        "plt.show()"
      ],
      "metadata": {
        "colab": {
          "base_uri": "https://localhost:8080/",
          "height": 823
        },
        "id": "lE4jRcFIEliC",
        "outputId": "baecec63-2731-40a7-b6f5-98b0f84919fb"
      },
      "execution_count": 11,
      "outputs": [
        {
          "output_type": "stream",
          "name": "stdout",
          "text": [
            "【正則化パラメータ：0.001】\n",
            "\n",
            "train_accuracy：0.42015294646873597\n",
            "valid_accuracy：0.4269005847953216\n",
            "test_accuracy：0.41839028776978415\n",
            "\n",
            "【正則化パラメータ：0.025750000000000002】\n",
            "\n",
            "train_accuracy：0.7690058479532164\n",
            "valid_accuracy：0.7552856500224921\n",
            "test_accuracy：0.7430305755395683\n",
            "\n",
            "【正則化パラメータ：0.0505】\n",
            "\n",
            "train_accuracy：0.7777777777777778\n",
            "valid_accuracy：0.7678812415654521\n",
            "test_accuracy：0.7565197841726619\n",
            "\n",
            "【正則化パラメータ：0.07525000000000001】\n",
            "\n",
            "train_accuracy：0.7813765182186235\n",
            "valid_accuracy：0.7705802968960864\n",
            "test_accuracy：0.7607913669064749\n",
            "\n",
            "【正則化パラメータ：0.1】\n",
            "\n",
            "train_accuracy：0.7838506522717049\n",
            "valid_accuracy：0.7705802968960864\n",
            "test_accuracy：0.7621402877697842\n",
            "\n"
          ]
        },
        {
          "output_type": "display_data",
          "data": {
            "text/plain": [
              "<Figure size 432x288 with 1 Axes>"
            ],
            "image/png": "[encoded data removed]"
          },
          "metadata": {
            "needs_background": "light"
          }
        }
      ]
    },
    {
      "cell_type": "markdown",
      "source": [
        "# 59. ハイパーパラメータの探索\n",
        "学習アルゴリズムや学習パラメータを変えながら，カテゴリ分類モデルを学習せよ．検証データ上の正解率が最も高くなる学習アルゴリズム・パラメータを求めよ．また，その学習アルゴリズム・パラメータを用いたときの評価データ上の正解率を求めよ．"
      ],
      "metadata": {
        "id": "cTGlQ_pF73yw"
      }
    },
    {
      "cell_type": "code",
      "source": [
        "from sklearn.model_selection import GridSearchCV\n",
        "\n",
        "params = {\"C\": [0.001, 0.005, 10]}\n",
        "\n",
        "# グリッドサーチを行う\n",
        "gs_model = GridSearchCV(LogisticRegression(max_iter=1500),params, cv=5, verbose=1)\n",
        "gs_model.fit(x_train, y_train)\n",
        "\n",
        "#最適なモデルを取得する\n",
        "best_gs_model = gs_model.best_estimator_\n",
        "print(\"\\ntrain_score: {:.2%}\".format(best_gs_model.score(x_train, y_train)))\n",
        "print(\"valid_score: {:.2%}\".format(best_gs_model.score(x_valid, y_valid)))\n",
        "print(\"test_score: {:.2%}\".format(best_gs_model.score(x_test, y_test)))"
      ],
      "metadata": {
        "colab": {
          "base_uri": "https://localhost:8080/"
        },
        "id": "yucBVgMIEnu0",
        "outputId": "f65fff37-8222-4a8d-9586-08b5024a8c4d"
      },
      "execution_count": 12,
      "outputs": [
        {
          "output_type": "stream",
          "name": "stdout",
          "text": [
            "Fitting 5 folds for each of 3 candidates, totalling 15 fits\n",
            "\n",
            "train_score: 99.96%\n",
            "valid_score: 87.70%\n",
            "test_score: 87.41%\n"
          ]
        }
      ]
    }
  ]
}