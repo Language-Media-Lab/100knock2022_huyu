{
  "nbformat": 4,
  "nbformat_minor": 0,
  "metadata": {
    "colab": {
      "provenance": []
    },
    "kernelspec": {
      "name": "python3",
      "display_name": "Python 3"
    },
    "language_info": {
      "name": "python"
    }
  },
  "cells": [
    {
      "cell_type": "markdown",
      "source": [
        "# **第6章: 機械学習**"
      ],
      "metadata": {
        "id": "_9o06YF2tv7p"
      }
    },
    {
      "cell_type": "markdown",
      "source": [
        "本章では，Fabio Gasparetti氏が公開している[News Aggregator Data Set](https://archive.ics.uci.edu/ml/datasets/News+Aggregator)を用い，ニュース記事の見出しを「ビジネス」「科学技術」「エンターテイメント」「健康」のカテゴリに分類するタスク（カテゴリ分類）に取り組む．"
      ],
      "metadata": {
        "id": "NG5ckaMzt2wz"
      }
    },
    {
      "cell_type": "markdown",
      "source": [
        "### **50. データの入手・整形**"
      ],
      "metadata": {
        "id": "e6FNJRO-t9dO"
      }
    },
    {
      "cell_type": "markdown",
      "source": [
        "[News Aggregator Data Set](https://archive.ics.uci.edu/ml/datasets/News+Aggregator)をダウンロードし、以下の要領で学習データ（train.txt），検証データ（valid.txt），評価データ（test.txt）を作成せよ．\n",
        "\n",
        "\n",
        "\n",
        "1.   ダウンロードしたzipファイルを解凍し，readme.txtの説明を読む．\n",
        "2.   情報源（publisher）が”Reuters”, “Huffington Post”, “Businessweek”, “Contactmusic.com”, “Daily Mail”の事例（記事）のみを抽出する．\n",
        "\n",
        "1.   抽出された事例をランダムに並び替える．\n",
        "2.   抽出された事例の80%を学習データ，残りの10%ずつを検証データと評価データに分割し，それぞれtrain.txt，valid.txt，test.txtというファイル名で保存する．ファイルには，１行に１事例を書き出すこととし，カテゴリ名と記事見出しのタブ区切り形式とせよ（このファイルは後に問題70で再利用する）．\n",
        "\n",
        "学習データと評価データを作成したら，各カテゴリの事例数を確認せよ．"
      ],
      "metadata": {
        "id": "CaZZaBfduAYF"
      }
    },
    {
      "cell_type": "code",
      "source": [
        "#ファイルのダウンロード、解凍\n",
        "!wget https://archive.ics.uci.edu/ml/machine-learning-databases/00359/NewsAggregatorDataset.zip\n",
        "!unzip ./NewsAggregatorDataset.zip"
      ],
      "metadata": {
        "colab": {
          "base_uri": "https://localhost:8080/"
        },
        "id": "3c6Nmz6ryUsv",
        "outputId": "f73a5d37-083c-4d74-a0c1-de0e0f28365d"
      },
      "execution_count": null,
      "outputs": [
        {
          "output_type": "stream",
          "name": "stdout",
          "text": [
            "--2022-12-22 07:43:25--  https://archive.ics.uci.edu/ml/machine-learning-databases/00359/NewsAggregatorDataset.zip\n",
            "Resolving archive.ics.uci.edu (archive.ics.uci.edu)... 128.195.10.252\n",
            "Connecting to archive.ics.uci.edu (archive.ics.uci.edu)|128.195.10.252|:443... connected.\n",
            "HTTP request sent, awaiting response... 200 OK\n",
            "Length: 29224203 (28M) [application/x-httpd-php]\n",
            "Saving to: ‘NewsAggregatorDataset.zip’\n",
            "\n",
            "NewsAggregatorDatas 100%[===================>]  27.87M  26.4MB/s    in 1.1s    \n",
            "\n",
            "2022-12-22 07:43:27 (26.4 MB/s) - ‘NewsAggregatorDataset.zip’ saved [29224203/29224203]\n",
            "\n",
            "Archive:  ./NewsAggregatorDataset.zip\n",
            "  inflating: 2pageSessions.csv       \n",
            "   creating: __MACOSX/\n",
            "  inflating: __MACOSX/._2pageSessions.csv  \n",
            "  inflating: newsCorpora.csv         \n",
            "  inflating: __MACOSX/._newsCorpora.csv  \n",
            "  inflating: readme.txt              \n",
            "  inflating: __MACOSX/._readme.txt   \n"
          ]
        }
      ]
    },
    {
      "cell_type": "code",
      "source": [
        "import pandas as pd\n",
        "from sklearn.model_selection import train_test_split\n",
        "\n",
        "#ファイルを読み込む\n",
        "df = pd.read_csv(\"newsCorpora.csv\", sep=\"\\t\", header=None,\n",
        "                 names=[\"ID\", \"TITLE\", \"URL\", \"PUBLISHER\", \"CATEGORY\", \"STORY\", \"HOSTNAME\", \"TIMESTAMP\"])\n",
        "\n",
        "#各カラムのデータ数、欠損値、オブジェクトを確認する\n",
        "df.info()\n",
        "\n",
        "#情報源（publisher）が”Reuters”, “Huffington Post”, “Businessweek”, “Contactmusic.com”, “Daily Mail”の事例（記事）のみを抽出する\n",
        "df = df[df[\"PUBLISHER\"].isin([\"Reuters\", \"Huffington Post\", \"Businessweek\", \"Contactmusic.com\", \"Daily Mail\"])]\n",
        "df = df[[\"TITLE\", \"CATEGORY\"]]\n",
        "\n",
        "#学習、検証、評価データに分割する\n",
        "train_full, test = train_test_split(df, test_size=0.1, shuffle=True)\n",
        "train, valid = train_test_split(train_full, test_size=0.1, shuffle=True)\n",
        "\n",
        "#学習、検証、評価データをファイルに保存する\n",
        "train.to_csv(\"train.txt\", sep=\"\\t\", index=False, header=None)\n",
        "valid.to_csv(\"valid.txt\", sep=\"\\t\", index=False, header=None)\n",
        "test.to_csv(\"test.txt\", sep=\"\\t\", index=False, header=None)\n",
        "\n",
        "print(\"\\n【CATEGORYの事例数】\")\n",
        "print(\"train\\n\", \"-\"*50,\"\\n\", train[\"CATEGORY\"].value_counts())\n",
        "print()\n",
        "print(\"valid\\n\", \"-\"*50,\"\\n\", valid[\"CATEGORY\"].value_counts())\n",
        "print()\n",
        "print(\"test\\n\", \"-\"*50,\"\\n\", test[\"CATEGORY\"].value_counts())"
      ],
      "metadata": {
        "colab": {
          "base_uri": "https://localhost:8080/"
        },
        "id": "ufiwGdKpyZ4f",
        "outputId": "9203871a-898e-4400-d0d0-2922fed7711f"
      },
      "execution_count": null,
      "outputs": [
        {
          "output_type": "stream",
          "name": "stdout",
          "text": [
            "<class 'pandas.core.frame.DataFrame'>\n",
            "RangeIndex: 422419 entries, 0 to 422418\n",
            "Data columns (total 8 columns):\n",
            " #   Column     Non-Null Count   Dtype \n",
            "---  ------     --------------   ----- \n",
            " 0   ID         422419 non-null  int64 \n",
            " 1   TITLE      422419 non-null  object\n",
            " 2   URL        422419 non-null  object\n",
            " 3   PUBLISHER  422417 non-null  object\n",
            " 4   CATEGORY   422419 non-null  object\n",
            " 5   STORY      422419 non-null  object\n",
            " 6   HOSTNAME   422419 non-null  object\n",
            " 7   TIMESTAMP  422419 non-null  int64 \n",
            "dtypes: int64(2), object(6)\n",
            "memory usage: 25.8+ MB\n",
            "\n",
            "【CATEGORYの事例数】\n",
            "train\n",
            " -------------------------------------------------- \n",
            " b    4558\n",
            "e    4296\n",
            "t    1223\n",
            "m     728\n",
            "Name: CATEGORY, dtype: int64\n",
            "\n",
            "valid\n",
            " -------------------------------------------------- \n",
            " b    507\n",
            "e    474\n",
            "t    127\n",
            "m     93\n",
            "Name: CATEGORY, dtype: int64\n",
            "\n",
            "test\n",
            " -------------------------------------------------- \n",
            " b    562\n",
            "e    509\n",
            "t    174\n",
            "m     89\n",
            "Name: CATEGORY, dtype: int64\n"
          ]
        }
      ]
    },
    {
      "cell_type": "markdown",
      "source": [
        "### **51. 特徴量抽出**"
      ],
      "metadata": {
        "id": "7DKFvPa3ugsy"
      }
    },
    {
      "cell_type": "markdown",
      "source": [
        "学習データ，検証データ，評価データから特徴量を抽出し，それぞれtrain.feature.txt，valid.feature.txt，test.feature.txtというファイル名で保存せよ． なお，カテゴリ分類に有用そうな特徴量は各自で自由に設計せよ．記事の見出しを単語列に変換したものが最低限のベースラインとなるであろう．"
      ],
      "metadata": {
        "id": "HictuMsFunkK"
      }
    },
    {
      "cell_type": "code",
      "source": [
        "import string\n",
        "import re\n",
        "from sklearn.feature_extraction.text import TfidfVectorizer\n",
        "from sklearn.model_selection import train_test_split\n",
        "\n",
        "#前処理（関数）\n",
        "def preprocessing(text):\n",
        "  text = \"\".join([i for i in text if i not in string.punctuation])\n",
        "  text = text.lower()\n",
        "  text = re.sub(\"[0-9]+\", \"\", text)\n",
        "  return text\n",
        "\n",
        "#データの連結、前処理を行う\n",
        "df = pd.concat([train, valid, test], axis=0)\n",
        "df[\"TITLE\"] = df[\"TITLE\"].map(lambda x: preprocessing(x))\n",
        "\n",
        "# 単語ベクトル化、DataFrameに変換する\n",
        "vec_tfidf = TfidfVectorizer()\n",
        "data = vec_tfidf.fit_transform(df[\"TITLE\"])\n",
        "data = pd.DataFrame(data.toarray(), columns=vec_tfidf.get_feature_names())\n",
        "\n",
        "# dataを3分割する（ラベルも同時に分割させるため、train_test_splitは使用しない）\n",
        "split_point_1 = int(len(data) // 3)\n",
        "split_point_2 = int(split_point_1 * 2)\n",
        "\n",
        "#学習、検証、評価データ\n",
        "x_train = data[:split_point_1]\n",
        "x_valid = data[split_point_1:split_point_2]\n",
        "x_test = data[split_point_2:]\n",
        "\n",
        "#学習、検証、評価ラベル\n",
        "y_data = df[\"CATEGORY\"]\n",
        "y_train = y_data[:split_point_1]\n",
        "y_valid = y_data[split_point_1:split_point_2]\n",
        "y_test = y_data[split_point_2:]\n",
        "\n",
        "\n",
        "# 特徴量をファイルに保存する\n",
        "x_train.to_csv('train.feature.txt', sep='\\t', index=False)\n",
        "x_valid.to_csv('valid.feature.txt', sep='\\t', index=False)\n",
        "x_test.to_csv('test.feature.txt', sep='\\t', index=False)"
      ],
      "metadata": {
        "colab": {
          "base_uri": "https://localhost:8080/"
        },
        "id": "76uFzIgzy05i",
        "outputId": "1214f587-9e96-40f0-aa91-fac1af1909f6"
      },
      "execution_count": null,
      "outputs": [
        {
          "output_type": "stream",
          "name": "stderr",
          "text": [
            "/usr/local/lib/python3.8/dist-packages/sklearn/utils/deprecation.py:87: FutureWarning: Function get_feature_names is deprecated; get_feature_names is deprecated in 1.0 and will be removed in 1.2. Please use get_feature_names_out instead.\n",
            "  warnings.warn(msg, category=FutureWarning)\n"
          ]
        }
      ]
    },
    {
      "cell_type": "markdown",
      "source": [
        "### **52. 学習**"
      ],
      "metadata": {
        "id": "NKPAkMVHuqSR"
      }
    },
    {
      "cell_type": "markdown",
      "source": [
        "51で構築した学習データを用いて，ロジスティック回帰モデルを学習せよ．\n",
        "\n"
      ],
      "metadata": {
        "id": "XnKohakZvcRP"
      }
    },
    {
      "cell_type": "code",
      "source": [
        "from sklearn.linear_model import LogisticRegression\n",
        "\n",
        "model = LogisticRegression()\n",
        "model.fit(x_train, y_train)"
      ],
      "metadata": {
        "colab": {
          "base_uri": "https://localhost:8080/"
        },
        "id": "vcVASro_znTA",
        "outputId": "f1a07836-a075-4782-a1f6-24a9c5b76c0b"
      },
      "execution_count": null,
      "outputs": [
        {
          "output_type": "execute_result",
          "data": {
            "text/plain": [
              "LogisticRegression()"
            ]
          },
          "metadata": {},
          "execution_count": 4
        }
      ]
    },
    {
      "cell_type": "markdown",
      "source": [
        "### **53. 予測**"
      ],
      "metadata": {
        "id": "077MnZwyveIE"
      }
    },
    {
      "cell_type": "markdown",
      "source": [
        "52で学習したロジスティック回帰モデルを用い，与えられた記事見出しからカテゴリとその予測確率を計算するプログラムを実装せよ．\n",
        "\n"
      ],
      "metadata": {
        "id": "VFmkl-7Yvg6L"
      }
    },
    {
      "cell_type": "code",
      "source": [
        "print(f\"カテゴリ順：{model.classes_}\\n\")\n",
        "\n",
        "Y_pred = model.predict(x_valid)\n",
        "print(f\"各記事のカテゴリ（ラベル）：{y_valid.values}\")\n",
        "print(f\"各記事のカテゴリ予測：{Y_pred}\\n\")\n",
        "\n",
        "Y_pred = model.predict_proba(x_valid)\n",
        "print(f\"カテゴリの予測確率：\\n{Y_pred}\")"
      ],
      "metadata": {
        "colab": {
          "base_uri": "https://localhost:8080/"
        },
        "id": "YvR-VTaVz3m8",
        "outputId": "2e51a11c-5806-473d-ccf2-a5670ec671e8"
      },
      "execution_count": null,
      "outputs": [
        {
          "output_type": "stream",
          "name": "stdout",
          "text": [
            "カテゴリ順：['b' 'e' 'm' 't']\n",
            "\n",
            "各記事のカテゴリ（ラベル）：['e' 'b' 'b' ... 'b' 'b' 'e']\n",
            "各記事のカテゴリ予測：['e' 'e' 'b' ... 'b' 'b' 'e']\n",
            "\n",
            "カテゴリの予測確率：\n",
            "[[0.22032916 0.65338683 0.05658664 0.06969737]\n",
            " [0.3348031  0.53359423 0.0536991  0.07790357]\n",
            " [0.60546317 0.08692622 0.0537283  0.25388231]\n",
            " ...\n",
            " [0.67138052 0.20411088 0.04925028 0.07525832]\n",
            " [0.83508653 0.04852853 0.0308403  0.08554464]\n",
            " [0.19597896 0.65678776 0.04674937 0.10048391]]\n"
          ]
        }
      ]
    },
    {
      "cell_type": "markdown",
      "source": [
        "### **54. 正解率の計測**"
      ],
      "metadata": {
        "id": "DX_du2y5vixL"
      }
    },
    {
      "cell_type": "markdown",
      "source": [
        "52で学習したロジスティック回帰モデルの正解率を，学習データおよび評価データ上で計測せよ．\n",
        "\n"
      ],
      "metadata": {
        "id": "vFFabc8HvlGM"
      }
    },
    {
      "cell_type": "code",
      "source": [
        "from sklearn.metrics import accuracy_score\n",
        "\n",
        "Y_pred_train = model.predict(x_train)\n",
        "Y_pred_test = model.predict(x_test)\n",
        "\n",
        "print(f\"train_accuracy：{accuracy_score(y_train, Y_pred_train)}\")\n",
        "print(f\"test_accuracy：{accuracy_score(y_test, Y_pred_test)}\")"
      ],
      "metadata": {
        "colab": {
          "base_uri": "https://localhost:8080/"
        },
        "id": "krTcCrdZz8e4",
        "outputId": "24c14749-a713-4a73-b102-5ffa5af09248"
      },
      "execution_count": null,
      "outputs": [
        {
          "output_type": "stream",
          "name": "stdout",
          "text": [
            "train_accuracy：0.9248762932973459\n",
            "test_accuracy：0.8289118705035972\n"
          ]
        }
      ]
    },
    {
      "cell_type": "markdown",
      "source": [
        "### **55. 混同行列の作成**"
      ],
      "metadata": {
        "id": "Ki2XUIDRvmqm"
      }
    },
    {
      "cell_type": "markdown",
      "source": [
        "52で学習したロジスティック回帰モデルの混同行列（confusion matrix）を，学習データおよび評価データ上で作成せよ．"
      ],
      "metadata": {
        "id": "Q5C5bY7Avo2P"
      }
    },
    {
      "cell_type": "code",
      "source": [
        "from sklearn.metrics import confusion_matrix\n",
        "\n",
        "print(f\"学習データの混同行列：\\n{confusion_matrix(y_train, Y_pred_train)}\\n\")\n",
        "print(f\"評価データの混同行列：\\n{confusion_matrix(y_test, Y_pred_test)}\")"
      ],
      "metadata": {
        "colab": {
          "base_uri": "https://localhost:8080/"
        },
        "id": "1ONTC-oCz_iV",
        "outputId": "7e8d1bc9-18fb-403d-d77d-fee5794a6216"
      },
      "execution_count": null,
      "outputs": [
        {
          "output_type": "stream",
          "name": "stdout",
          "text": [
            "学習データの混同行列：\n",
            "[[1885   16    0    3]\n",
            " [   6 1724    0    1]\n",
            " [  64   73  152    1]\n",
            " [  99   71    0  351]]\n",
            "\n",
            "評価データの混同行列：\n",
            "[[1754  109    1    8]\n",
            " [  52 1701    1    0]\n",
            " [ 110  126   73    0]\n",
            " [ 188  165    1  159]]\n"
          ]
        }
      ]
    },
    {
      "cell_type": "markdown",
      "source": [
        "### **56. 適合率，再現率，F1スコアの計測**"
      ],
      "metadata": {
        "id": "IY6hpp5tvq-z"
      }
    },
    {
      "cell_type": "markdown",
      "source": [
        "52で学習したロジスティック回帰モデルの適合率，再現率，F1スコアを，評価データ上で計測せよ．カテゴリごとに適合率，再現率，F1スコアを求め，カテゴリごとの性能をマイクロ平均（micro-average）とマクロ平均（macro-average）で統合せよ．\n",
        "\n"
      ],
      "metadata": {
        "id": "7zSRA442vt_O"
      }
    },
    {
      "cell_type": "code",
      "source": [
        "from sklearn.metrics import precision_score, recall_score, f1_score\n",
        "\n",
        "def metrics(y_data, y_pred, ave=None):\n",
        "  precision_sco = precision_score(y_data, y_pred, average=ave)\n",
        "  recall_sco = recall_score(y_data, y_pred, average=ave)\n",
        "  f1_sco = f1_score(y_data, y_pred, average=ave)\n",
        "  form = \"適合率：{}\\n再現率：{}\\nF１：{}\\n\".format(precision_sco, recall_sco, f1_sco)\n",
        "  return form\n",
        "\n",
        "print(f\"【カテゴリ順】{model.classes_}\\n\\n{metrics(y_test, Y_pred_test)}\")\n",
        "print(\"【マクロ平均】\\n\", metrics(y_test, Y_pred_test, \"macro\"))\n",
        "print(\"【マイクロ平均】\\n\", metrics(y_test, Y_pred_test, \"micro\"))"
      ],
      "metadata": {
        "colab": {
          "base_uri": "https://localhost:8080/"
        },
        "id": "NwEnkieM0Ez1",
        "outputId": "2a717c1b-89af-4095-901f-14cc27a4d199"
      },
      "execution_count": null,
      "outputs": [
        {
          "output_type": "stream",
          "name": "stdout",
          "text": [
            "【カテゴリ順】['b' 'e' 'm' 't']\n",
            "\n",
            "適合率：[0.83365019 0.80961447 0.96052632 0.95209581]\n",
            "再現率：[0.93696581 0.96978335 0.23624595 0.30994152]\n",
            "F１：[0.88229376 0.88249027 0.37922078 0.46764706]\n",
            "\n",
            "【マクロ平均】\n",
            " 適合率：0.8889716958967772\n",
            "再現率：0.6132341598659298\n",
            "F１：0.6529129682483256\n",
            "\n",
            "【マイクロ平均】\n",
            " 適合率：0.8289118705035972\n",
            "再現率：0.8289118705035972\n",
            "F１：0.8289118705035972\n",
            "\n"
          ]
        }
      ]
    },
    {
      "cell_type": "markdown",
      "source": [
        "### **57. 特徴量の重みの確認**"
      ],
      "metadata": {
        "id": "LVaSifkdvwML"
      }
    },
    {
      "cell_type": "markdown",
      "source": [
        "52で学習したロジスティック回帰モデルの中で，重みの高い特徴量トップ10と，重みの低い特徴量トップ10を確認せよ．\n"
      ],
      "metadata": {
        "id": "X-KEGjCcvzED"
      }
    },
    {
      "cell_type": "code",
      "source": [
        "import numpy as np\n",
        "\n",
        "features = x_train.columns.values\n",
        "for c, coef in zip(model.classes_, model.coef_):\n",
        "  top_10 = pd.DataFrame(features[np.argsort(-coef)[:10]], columns=[f\"重みの高い特徴量トップ10（クラス名：{c}）\"], index=[i for i in range(1, 11)])\n",
        "  worst_10 = pd.DataFrame(features[np.argsort(coef)[:10]], columns=[f\"重みの低い特徴量トップ10（クラス名：{c}）\"], index=[i for i in range(1, 11)])\n",
        "  print( top_10, \"\\n\"),\n",
        "  print(worst_10, \"\\n\", \"-\"*70)"
      ],
      "metadata": {
        "colab": {
          "base_uri": "https://localhost:8080/"
        },
        "id": "2XlywNe00JcF",
        "outputId": "c19dc7db-1920-432d-fc2b-f89928ea2d8e"
      },
      "execution_count": null,
      "outputs": [
        {
          "output_type": "stream",
          "name": "stdout",
          "text": [
            "   重みの高い特徴量トップ10（クラス名：b）\n",
            "1                  china\n",
            "2                   bank\n",
            "3                     us\n",
            "4                    fed\n",
            "5                 update\n",
            "6                   euro\n",
            "7                    ecb\n",
            "8                 profit\n",
            "9                billion\n",
            "10               ukraine \n",
            "\n",
            "   重みの低い特徴量トップ10（クラス名：b）\n",
            "1                    the\n",
            "2                    and\n",
            "3                    her\n",
            "4                  ebola\n",
            "5                  study\n",
            "6                  apple\n",
            "7                   star\n",
            "8                 google\n",
            "9               facebook\n",
            "10            kardashian \n",
            " ----------------------------------------------------------------------\n",
            "   重みの高い特徴量トップ10（クラス名：e）\n",
            "1             kardashian\n",
            "2                    her\n",
            "3                    kim\n",
            "4                    the\n",
            "5                  cyrus\n",
            "6                   star\n",
            "7                  miley\n",
            "8                  chris\n",
            "9                    and\n",
            "10                    he \n",
            "\n",
            "   重みの低い特徴量トップ10（クラス名：e）\n",
            "1                     us\n",
            "2                 update\n",
            "3                   says\n",
            "4                  china\n",
            "5                billion\n",
            "6                 google\n",
            "7                    ceo\n",
            "8                  could\n",
            "9                   data\n",
            "10                 sales \n",
            " ----------------------------------------------------------------------\n",
            "   重みの高い特徴量トップ10（クラス名：m）\n",
            "1                  ebola\n",
            "2                  study\n",
            "3                   mers\n",
            "4                   drug\n",
            "5                 cancer\n",
            "6                    fda\n",
            "7                  could\n",
            "8                  virus\n",
            "9                 health\n",
            "10                 heart \n",
            "\n",
            "   重みの低い特徴量トップ10（クラス名：m）\n",
            "1                  sales\n",
            "2                   deal\n",
            "3                  china\n",
            "4                     gm\n",
            "5                   just\n",
            "6                  apple\n",
            "7                   bank\n",
            "8                    bln\n",
            "9                 profit\n",
            "10                   fed \n",
            " ----------------------------------------------------------------------\n",
            "   重みの高い特徴量トップ10（クラス名：t）\n",
            "1                 google\n",
            "2                  apple\n",
            "3               facebook\n",
            "4              microsoft\n",
            "5                    fcc\n",
            "6                     gm\n",
            "7                climate\n",
            "8                  tesla\n",
            "9                   nasa\n",
            "10            neutrality \n",
            "\n",
            "   重みの低い特徴量トップ10（クラス名：t）\n",
            "1                    but\n",
            "2                     at\n",
            "3                 stocks\n",
            "4                 people\n",
            "5                   drug\n",
            "6                    fed\n",
            "7                  ebola\n",
            "8             kardashian\n",
            "9                    her\n",
            "10                   kim \n",
            " ----------------------------------------------------------------------\n"
          ]
        }
      ]
    },
    {
      "cell_type": "markdown",
      "source": [
        "### **58. 正則化パラメータの変更**"
      ],
      "metadata": {
        "id": "WnVB0JiXv3Du"
      }
    },
    {
      "cell_type": "markdown",
      "source": [
        "ロジスティック回帰モデルを学習するとき，正則化パラメータを調整することで，学習時の過学習（overfitting）の度合いを制御できる．異なる正則化パラメータでロジスティック回帰モデルを学習し，学習データ，検証データ，および評価データ上の正解率を求めよ．実験の結果は，正則化パラメータを横軸，正解率を縦軸としたグラフにまとめよ．\n",
        "\n"
      ],
      "metadata": {
        "id": "n2eE2DvWv6BA"
      }
    },
    {
      "cell_type": "code",
      "source": [
        "from sklearn.linear_model import LogisticRegression\n",
        "from sklearn.metrics import accuracy_score\n",
        "import matplotlib.pyplot as plt\n",
        "\n",
        "#モデル構築、学習（関数）\n",
        "def LR_model_fit(x_data, y_data, c):\n",
        "  model = LogisticRegression(C=c)\n",
        "  model.fit(x_data, y_data) \n",
        "  return model\n",
        "\n",
        "#学習済みモデルを用いて予測する（関数）\n",
        "def LR_pred(x_data, y_data, model):\n",
        "  Y_pred_data = model.predict(x_data)\n",
        "  accuracy = accuracy_score(Y_pred_data, y_data)\n",
        "  return accuracy\n",
        "\n",
        "train_acc = []\n",
        "valid_acc = []\n",
        "test_acc = []\n",
        "\n",
        "#正則化パラメータ\n",
        "c_list = np.linspace(0.001, 0.1, 5)\n",
        "\n",
        "for c in c_list:\n",
        "  model = LR_model_fit(x_train, y_train, c)\n",
        "  pre_train = LR_pred(x_train, y_train, model)\n",
        "  pre_valid = LR_pred(x_valid, y_valid, model)\n",
        "  pre_test = LR_pred(x_test, y_test, model)\n",
        "\n",
        "  train_acc.append(pre_train)\n",
        "  valid_acc.append(pre_valid)\n",
        "  test_acc.append(pre_test)\n",
        "\n",
        "  print(f\"【正則化パラメータ：{c}】\\n\")\n",
        "  print(f\"train_accuracy：{pre_train}\")\n",
        "  print(f\"valid_accuracy：{pre_valid}\")\n",
        "  print(f\"test_accuracy：{pre_test}\\n\")\n",
        "\n",
        "#可視化\n",
        "plt.plot(c_list, train_acc, label=\"train\", marker=\"o\")\n",
        "plt.plot(c_list, valid_acc, label=\"valid\", marker=\"o\")\n",
        "plt.plot(c_list, test_acc, label=\"test\", marker=\"o\")\n",
        "\n",
        "plt.legend()\n",
        "plt.grid(True)\n",
        "plt.xlabel(\"Regularization\")\n",
        "plt.ylabel(\"Accuracy\")\n",
        "plt.show()"
      ],
      "metadata": {
        "colab": {
          "base_uri": "https://localhost:8080/",
          "height": 818
        },
        "id": "W66T5-NA0NGp",
        "outputId": "51dbd0ec-1cbb-4dfb-d220-48992852f927"
      },
      "execution_count": null,
      "outputs": [
        {
          "output_type": "stream",
          "name": "stdout",
          "text": [
            "【正則化パラメータ：0.001】\n",
            "\n",
            "train_accuracy：0.42825011246063877\n",
            "valid_accuracy：0.41632928475033737\n",
            "test_accuracy：0.420863309352518\n",
            "\n",
            "【正則化パラメータ：0.025750000000000002】\n",
            "\n",
            "train_accuracy：0.7530364372469636\n",
            "valid_accuracy：0.7235717498875394\n",
            "test_accuracy：0.7149280575539568\n",
            "\n",
            "【正則化パラメータ：0.0505】\n",
            "\n",
            "train_accuracy：0.7777777777777778\n",
            "valid_accuracy：0.7521367521367521\n",
            "test_accuracy：0.7511241007194245\n",
            "\n",
            "【正則化パラメータ：0.07525000000000001】\n",
            "\n",
            "train_accuracy：0.7811515969410706\n",
            "valid_accuracy：0.7613585245164193\n",
            "test_accuracy：0.758318345323741\n",
            "\n",
            "【正則化パラメータ：0.1】\n",
            "\n",
            "train_accuracy：0.7838506522717049\n",
            "valid_accuracy：0.7647323436797121\n",
            "test_accuracy：0.7610161870503597\n",
            "\n"
          ]
        },
        {
          "output_type": "display_data",
          "data": {
            "text/plain": [
              "<Figure size 432x288 with 1 Axes>"
            ],
            "image/png": "[encoded data removed]"
          },
          "metadata": {
            "needs_background": "light"
          }
        }
      ]
    },
    {
      "cell_type": "markdown",
      "source": [
        "### **59. ハイパーパラメータの探索**"
      ],
      "metadata": {
        "id": "8camWhk8v76W"
      }
    },
    {
      "cell_type": "markdown",
      "source": [
        "学習アルゴリズムや学習パラメータを変えながら，カテゴリ分類モデルを学習せよ．検証データ上の正解率が最も高くなる学習アルゴリズム・パラメータを求めよ．また，その学習アルゴリズム・パラメータを用いたときの評価データ上の正解率を求めよ．\n",
        "\n"
      ],
      "metadata": {
        "id": "UsMdaSdZv-Ev"
      }
    },
    {
      "cell_type": "code",
      "source": [
        "from sklearn.model_selection import GridSearchCV\n",
        "\n",
        "params = {\"C\": [0.001, 0.005, 10]}\n",
        "\n",
        "# グリッドサーチを行う\n",
        "gs_model = GridSearchCV(LogisticRegression(max_iter=1500),params, cv=5, verbose=1)\n",
        "gs_model.fit(x_train, y_train)\n",
        "\n",
        "#最適なモデルを取得する\n",
        "best_gs_model = gs_model.best_estimator_\n",
        "print(\"\\ntrain_score: {:.2%}\".format(best_gs_model.score(x_train, y_train)))\n",
        "print(\"valid_score: {:.2%}\".format(best_gs_model.score(x_valid, y_valid)))\n",
        "print(\"test_score: {:.2%}\".format(best_gs_model.score(x_test, y_test)))"
      ],
      "metadata": {
        "colab": {
          "base_uri": "https://localhost:8080/"
        },
        "id": "tqsEoN4H0iaR",
        "outputId": "2ea100fc-55d8-430f-9e2d-554843c8eeeb"
      },
      "execution_count": null,
      "outputs": [
        {
          "output_type": "stream",
          "name": "stdout",
          "text": [
            "Fitting 5 folds for each of 3 candidates, totalling 15 fits\n",
            "\n",
            "train_score: 99.93%\n",
            "valid_score: 87.45%\n",
            "test_score: 87.28%\n"
          ]
        }
      ]
    }
  ]
}